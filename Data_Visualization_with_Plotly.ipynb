{
 "cells": [
  {
   "cell_type": "markdown",
   "id": "38dc17c8",
   "metadata": {},
   "source": [
    "# Data Visualization with Plotly"
   ]
  },
  {
   "cell_type": "markdown",
   "id": "afe334a0",
   "metadata": {},
   "source": [
    "based on data visualization by DataCamp"
   ]
  },
  {
   "cell_type": "code",
   "execution_count": 23,
   "id": "f089c6f1",
   "metadata": {},
   "outputs": [],
   "source": [
    "import plotly.express as px\n"
   ]
  },
  {
   "cell_type": "markdown",
   "id": "bf34a4f2",
   "metadata": {},
   "source": [
    "## Histograms:"
   ]
  },
  {
   "cell_type": "markdown",
   "id": "88bf2ea7",
   "metadata": {},
   "source": [
    "Loading data:"
   ]
  },
  {
   "cell_type": "code",
   "execution_count": 5,
   "id": "5bfc878f",
   "metadata": {},
   "outputs": [
    {
     "name": "stdout",
     "output_type": "stream",
     "text": [
      "[7.48, 12.52, 17.78, 11.98, 7.49, 5.36, 6.99, 13.58, 14.34, 8.99, 6.62, 12.01, 18.0, 15.98, 10.62, 6.0, 10.58, 6.99, 4.31, 4.14, 10.26, 4.07, 14.4, 8.48, 8.49, 14.16, 26.0, 15.49, 4.79, 9.59, 11.6, 7.57, 13.99, 11.4, 10.35, 7.74, 13.79, 9.58, 13.09, 13.29, 19.42, 9.42, 10.34, 17.99, 14.8, 5.06, 8.55, 8.37, 14.89, 5.98]\n"
     ]
    }
   ],
   "source": [
    "# Specify the data\n",
    "prices_2021 = [7.48, 12.52, 17.78, 11.98, 7.49, 5.36, 6.99, 13.58, 14.34, 8.99, 6.62, 12.01, 18.0, 15.98, 10.62, 6.0, 10.58, 6.99, 4.31, 4.14, 10.26, 4.07, 14.4, 8.48, 8.49, 14.16, 26.0, 15.49, 4.79, 9.59, 11.6, 7.57, 13.99, 11.4, 10.35, 7.74, 13.79, 9.58, 13.09, 13.29, 19.42, 9.42, 10.34, 17.99, 14.8, 5.06, 8.55, 8.37, 14.89, 5.98]\n",
    "\n",
    "\n",
    "print(prices_2021)"
   ]
  },
  {
   "cell_type": "code",
   "execution_count": 15,
   "id": "35bbe76a",
   "metadata": {},
   "outputs": [
    {
     "data": {
      "application/vnd.plotly.v1+json": {
       "config": {
        "plotlyServerURL": "https://plot.ly"
       },
       "data": [
        {
         "alignmentgroup": "True",
         "bingroup": "x",
         "hovertemplate": "variable=0<br>value=%{x}<br>count=%{y}<extra></extra>",
         "legendgroup": "0",
         "marker": {
          "color": "#636efa",
          "pattern": {
           "shape": ""
          }
         },
         "name": "0",
         "offsetgroup": "0",
         "orientation": "v",
         "showlegend": true,
         "type": "histogram",
         "x": [
          7.48,
          12.52,
          17.78,
          11.98,
          7.49,
          5.36,
          6.99,
          13.58,
          14.34,
          8.99,
          6.62,
          12.01,
          18,
          15.98,
          10.62,
          6,
          10.58,
          6.99,
          4.31,
          4.14,
          10.26,
          4.07,
          14.4,
          8.48,
          8.49,
          14.16,
          26,
          15.49,
          4.79,
          9.59,
          11.6,
          7.57,
          13.99,
          11.4,
          10.35,
          7.74,
          13.79,
          9.58,
          13.09,
          13.29,
          19.42,
          9.42,
          10.34,
          17.99,
          14.8,
          5.06,
          8.55,
          8.37,
          14.89,
          5.98
         ],
         "xaxis": "x",
         "yaxis": "y"
        }
       ],
       "layout": {
        "barmode": "relative",
        "legend": {
         "title": {
          "text": "variable"
         },
         "tracegroupgap": 0
        },
        "margin": {
         "t": 60
        },
        "template": {
         "data": {
          "bar": [
           {
            "error_x": {
             "color": "#2a3f5f"
            },
            "error_y": {
             "color": "#2a3f5f"
            },
            "marker": {
             "line": {
              "color": "#E5ECF6",
              "width": 0.5
             },
             "pattern": {
              "fillmode": "overlay",
              "size": 10,
              "solidity": 0.2
             }
            },
            "type": "bar"
           }
          ],
          "barpolar": [
           {
            "marker": {
             "line": {
              "color": "#E5ECF6",
              "width": 0.5
             },
             "pattern": {
              "fillmode": "overlay",
              "size": 10,
              "solidity": 0.2
             }
            },
            "type": "barpolar"
           }
          ],
          "carpet": [
           {
            "aaxis": {
             "endlinecolor": "#2a3f5f",
             "gridcolor": "white",
             "linecolor": "white",
             "minorgridcolor": "white",
             "startlinecolor": "#2a3f5f"
            },
            "baxis": {
             "endlinecolor": "#2a3f5f",
             "gridcolor": "white",
             "linecolor": "white",
             "minorgridcolor": "white",
             "startlinecolor": "#2a3f5f"
            },
            "type": "carpet"
           }
          ],
          "choropleth": [
           {
            "colorbar": {
             "outlinewidth": 0,
             "ticks": ""
            },
            "type": "choropleth"
           }
          ],
          "contour": [
           {
            "colorbar": {
             "outlinewidth": 0,
             "ticks": ""
            },
            "colorscale": [
             [
              0,
              "#0d0887"
             ],
             [
              0.1111111111111111,
              "#46039f"
             ],
             [
              0.2222222222222222,
              "#7201a8"
             ],
             [
              0.3333333333333333,
              "#9c179e"
             ],
             [
              0.4444444444444444,
              "#bd3786"
             ],
             [
              0.5555555555555556,
              "#d8576b"
             ],
             [
              0.6666666666666666,
              "#ed7953"
             ],
             [
              0.7777777777777778,
              "#fb9f3a"
             ],
             [
              0.8888888888888888,
              "#fdca26"
             ],
             [
              1,
              "#f0f921"
             ]
            ],
            "type": "contour"
           }
          ],
          "contourcarpet": [
           {
            "colorbar": {
             "outlinewidth": 0,
             "ticks": ""
            },
            "type": "contourcarpet"
           }
          ],
          "heatmap": [
           {
            "colorbar": {
             "outlinewidth": 0,
             "ticks": ""
            },
            "colorscale": [
             [
              0,
              "#0d0887"
             ],
             [
              0.1111111111111111,
              "#46039f"
             ],
             [
              0.2222222222222222,
              "#7201a8"
             ],
             [
              0.3333333333333333,
              "#9c179e"
             ],
             [
              0.4444444444444444,
              "#bd3786"
             ],
             [
              0.5555555555555556,
              "#d8576b"
             ],
             [
              0.6666666666666666,
              "#ed7953"
             ],
             [
              0.7777777777777778,
              "#fb9f3a"
             ],
             [
              0.8888888888888888,
              "#fdca26"
             ],
             [
              1,
              "#f0f921"
             ]
            ],
            "type": "heatmap"
           }
          ],
          "heatmapgl": [
           {
            "colorbar": {
             "outlinewidth": 0,
             "ticks": ""
            },
            "colorscale": [
             [
              0,
              "#0d0887"
             ],
             [
              0.1111111111111111,
              "#46039f"
             ],
             [
              0.2222222222222222,
              "#7201a8"
             ],
             [
              0.3333333333333333,
              "#9c179e"
             ],
             [
              0.4444444444444444,
              "#bd3786"
             ],
             [
              0.5555555555555556,
              "#d8576b"
             ],
             [
              0.6666666666666666,
              "#ed7953"
             ],
             [
              0.7777777777777778,
              "#fb9f3a"
             ],
             [
              0.8888888888888888,
              "#fdca26"
             ],
             [
              1,
              "#f0f921"
             ]
            ],
            "type": "heatmapgl"
           }
          ],
          "histogram": [
           {
            "marker": {
             "pattern": {
              "fillmode": "overlay",
              "size": 10,
              "solidity": 0.2
             }
            },
            "type": "histogram"
           }
          ],
          "histogram2d": [
           {
            "colorbar": {
             "outlinewidth": 0,
             "ticks": ""
            },
            "colorscale": [
             [
              0,
              "#0d0887"
             ],
             [
              0.1111111111111111,
              "#46039f"
             ],
             [
              0.2222222222222222,
              "#7201a8"
             ],
             [
              0.3333333333333333,
              "#9c179e"
             ],
             [
              0.4444444444444444,
              "#bd3786"
             ],
             [
              0.5555555555555556,
              "#d8576b"
             ],
             [
              0.6666666666666666,
              "#ed7953"
             ],
             [
              0.7777777777777778,
              "#fb9f3a"
             ],
             [
              0.8888888888888888,
              "#fdca26"
             ],
             [
              1,
              "#f0f921"
             ]
            ],
            "type": "histogram2d"
           }
          ],
          "histogram2dcontour": [
           {
            "colorbar": {
             "outlinewidth": 0,
             "ticks": ""
            },
            "colorscale": [
             [
              0,
              "#0d0887"
             ],
             [
              0.1111111111111111,
              "#46039f"
             ],
             [
              0.2222222222222222,
              "#7201a8"
             ],
             [
              0.3333333333333333,
              "#9c179e"
             ],
             [
              0.4444444444444444,
              "#bd3786"
             ],
             [
              0.5555555555555556,
              "#d8576b"
             ],
             [
              0.6666666666666666,
              "#ed7953"
             ],
             [
              0.7777777777777778,
              "#fb9f3a"
             ],
             [
              0.8888888888888888,
              "#fdca26"
             ],
             [
              1,
              "#f0f921"
             ]
            ],
            "type": "histogram2dcontour"
           }
          ],
          "mesh3d": [
           {
            "colorbar": {
             "outlinewidth": 0,
             "ticks": ""
            },
            "type": "mesh3d"
           }
          ],
          "parcoords": [
           {
            "line": {
             "colorbar": {
              "outlinewidth": 0,
              "ticks": ""
             }
            },
            "type": "parcoords"
           }
          ],
          "pie": [
           {
            "automargin": true,
            "type": "pie"
           }
          ],
          "scatter": [
           {
            "fillpattern": {
             "fillmode": "overlay",
             "size": 10,
             "solidity": 0.2
            },
            "type": "scatter"
           }
          ],
          "scatter3d": [
           {
            "line": {
             "colorbar": {
              "outlinewidth": 0,
              "ticks": ""
             }
            },
            "marker": {
             "colorbar": {
              "outlinewidth": 0,
              "ticks": ""
             }
            },
            "type": "scatter3d"
           }
          ],
          "scattercarpet": [
           {
            "marker": {
             "colorbar": {
              "outlinewidth": 0,
              "ticks": ""
             }
            },
            "type": "scattercarpet"
           }
          ],
          "scattergeo": [
           {
            "marker": {
             "colorbar": {
              "outlinewidth": 0,
              "ticks": ""
             }
            },
            "type": "scattergeo"
           }
          ],
          "scattergl": [
           {
            "marker": {
             "colorbar": {
              "outlinewidth": 0,
              "ticks": ""
             }
            },
            "type": "scattergl"
           }
          ],
          "scattermapbox": [
           {
            "marker": {
             "colorbar": {
              "outlinewidth": 0,
              "ticks": ""
             }
            },
            "type": "scattermapbox"
           }
          ],
          "scatterpolar": [
           {
            "marker": {
             "colorbar": {
              "outlinewidth": 0,
              "ticks": ""
             }
            },
            "type": "scatterpolar"
           }
          ],
          "scatterpolargl": [
           {
            "marker": {
             "colorbar": {
              "outlinewidth": 0,
              "ticks": ""
             }
            },
            "type": "scatterpolargl"
           }
          ],
          "scatterternary": [
           {
            "marker": {
             "colorbar": {
              "outlinewidth": 0,
              "ticks": ""
             }
            },
            "type": "scatterternary"
           }
          ],
          "surface": [
           {
            "colorbar": {
             "outlinewidth": 0,
             "ticks": ""
            },
            "colorscale": [
             [
              0,
              "#0d0887"
             ],
             [
              0.1111111111111111,
              "#46039f"
             ],
             [
              0.2222222222222222,
              "#7201a8"
             ],
             [
              0.3333333333333333,
              "#9c179e"
             ],
             [
              0.4444444444444444,
              "#bd3786"
             ],
             [
              0.5555555555555556,
              "#d8576b"
             ],
             [
              0.6666666666666666,
              "#ed7953"
             ],
             [
              0.7777777777777778,
              "#fb9f3a"
             ],
             [
              0.8888888888888888,
              "#fdca26"
             ],
             [
              1,
              "#f0f921"
             ]
            ],
            "type": "surface"
           }
          ],
          "table": [
           {
            "cells": {
             "fill": {
              "color": "#EBF0F8"
             },
             "line": {
              "color": "white"
             }
            },
            "header": {
             "fill": {
              "color": "#C8D4E3"
             },
             "line": {
              "color": "white"
             }
            },
            "type": "table"
           }
          ]
         },
         "layout": {
          "annotationdefaults": {
           "arrowcolor": "#2a3f5f",
           "arrowhead": 0,
           "arrowwidth": 1
          },
          "autotypenumbers": "strict",
          "coloraxis": {
           "colorbar": {
            "outlinewidth": 0,
            "ticks": ""
           }
          },
          "colorscale": {
           "diverging": [
            [
             0,
             "#8e0152"
            ],
            [
             0.1,
             "#c51b7d"
            ],
            [
             0.2,
             "#de77ae"
            ],
            [
             0.3,
             "#f1b6da"
            ],
            [
             0.4,
             "#fde0ef"
            ],
            [
             0.5,
             "#f7f7f7"
            ],
            [
             0.6,
             "#e6f5d0"
            ],
            [
             0.7,
             "#b8e186"
            ],
            [
             0.8,
             "#7fbc41"
            ],
            [
             0.9,
             "#4d9221"
            ],
            [
             1,
             "#276419"
            ]
           ],
           "sequential": [
            [
             0,
             "#0d0887"
            ],
            [
             0.1111111111111111,
             "#46039f"
            ],
            [
             0.2222222222222222,
             "#7201a8"
            ],
            [
             0.3333333333333333,
             "#9c179e"
            ],
            [
             0.4444444444444444,
             "#bd3786"
            ],
            [
             0.5555555555555556,
             "#d8576b"
            ],
            [
             0.6666666666666666,
             "#ed7953"
            ],
            [
             0.7777777777777778,
             "#fb9f3a"
            ],
            [
             0.8888888888888888,
             "#fdca26"
            ],
            [
             1,
             "#f0f921"
            ]
           ],
           "sequentialminus": [
            [
             0,
             "#0d0887"
            ],
            [
             0.1111111111111111,
             "#46039f"
            ],
            [
             0.2222222222222222,
             "#7201a8"
            ],
            [
             0.3333333333333333,
             "#9c179e"
            ],
            [
             0.4444444444444444,
             "#bd3786"
            ],
            [
             0.5555555555555556,
             "#d8576b"
            ],
            [
             0.6666666666666666,
             "#ed7953"
            ],
            [
             0.7777777777777778,
             "#fb9f3a"
            ],
            [
             0.8888888888888888,
             "#fdca26"
            ],
            [
             1,
             "#f0f921"
            ]
           ]
          },
          "colorway": [
           "#636efa",
           "#EF553B",
           "#00cc96",
           "#ab63fa",
           "#FFA15A",
           "#19d3f3",
           "#FF6692",
           "#B6E880",
           "#FF97FF",
           "#FECB52"
          ],
          "font": {
           "color": "#2a3f5f"
          },
          "geo": {
           "bgcolor": "white",
           "lakecolor": "white",
           "landcolor": "#E5ECF6",
           "showlakes": true,
           "showland": true,
           "subunitcolor": "white"
          },
          "hoverlabel": {
           "align": "left"
          },
          "hovermode": "closest",
          "mapbox": {
           "style": "light"
          },
          "paper_bgcolor": "white",
          "plot_bgcolor": "#E5ECF6",
          "polar": {
           "angularaxis": {
            "gridcolor": "white",
            "linecolor": "white",
            "ticks": ""
           },
           "bgcolor": "#E5ECF6",
           "radialaxis": {
            "gridcolor": "white",
            "linecolor": "white",
            "ticks": ""
           }
          },
          "scene": {
           "xaxis": {
            "backgroundcolor": "#E5ECF6",
            "gridcolor": "white",
            "gridwidth": 2,
            "linecolor": "white",
            "showbackground": true,
            "ticks": "",
            "zerolinecolor": "white"
           },
           "yaxis": {
            "backgroundcolor": "#E5ECF6",
            "gridcolor": "white",
            "gridwidth": 2,
            "linecolor": "white",
            "showbackground": true,
            "ticks": "",
            "zerolinecolor": "white"
           },
           "zaxis": {
            "backgroundcolor": "#E5ECF6",
            "gridcolor": "white",
            "gridwidth": 2,
            "linecolor": "white",
            "showbackground": true,
            "ticks": "",
            "zerolinecolor": "white"
           }
          },
          "shapedefaults": {
           "line": {
            "color": "#2a3f5f"
           }
          },
          "ternary": {
           "aaxis": {
            "gridcolor": "white",
            "linecolor": "white",
            "ticks": ""
           },
           "baxis": {
            "gridcolor": "white",
            "linecolor": "white",
            "ticks": ""
           },
           "bgcolor": "#E5ECF6",
           "caxis": {
            "gridcolor": "white",
            "linecolor": "white",
            "ticks": ""
           }
          },
          "title": {
           "x": 0.05
          },
          "xaxis": {
           "automargin": true,
           "gridcolor": "white",
           "linecolor": "white",
           "ticks": "",
           "title": {
            "standoff": 15
           },
           "zerolinecolor": "white",
           "zerolinewidth": 2
          },
          "yaxis": {
           "automargin": true,
           "gridcolor": "white",
           "linecolor": "white",
           "ticks": "",
           "title": {
            "standoff": 15
           },
           "zerolinecolor": "white",
           "zerolinewidth": 2
          }
         }
        },
        "xaxis": {
         "anchor": "y",
         "domain": [
          0,
          1
         ],
         "title": {
          "text": "value"
         }
        },
        "yaxis": {
         "anchor": "x",
         "domain": [
          0,
          1
         ],
         "title": {
          "text": "count"
         }
        }
       }
      },
      "text/html": [
       "<div>                            <div id=\"84f5650a-3056-438d-88f5-41773593a1c7\" class=\"plotly-graph-div\" style=\"height:525px; width:100%;\"></div>            <script type=\"text/javascript\">                require([\"plotly\"], function(Plotly) {                    window.PLOTLYENV=window.PLOTLYENV || {};                                    if (document.getElementById(\"84f5650a-3056-438d-88f5-41773593a1c7\")) {                    Plotly.newPlot(                        \"84f5650a-3056-438d-88f5-41773593a1c7\",                        [{\"alignmentgroup\":\"True\",\"bingroup\":\"x\",\"hovertemplate\":\"variable=0<br>value=%{x}<br>count=%{y}<extra></extra>\",\"legendgroup\":\"0\",\"marker\":{\"color\":\"#636efa\",\"pattern\":{\"shape\":\"\"}},\"name\":\"0\",\"offsetgroup\":\"0\",\"orientation\":\"v\",\"showlegend\":true,\"x\":[7.48,12.52,17.78,11.98,7.49,5.36,6.99,13.58,14.34,8.99,6.62,12.01,18.0,15.98,10.62,6.0,10.58,6.99,4.31,4.14,10.26,4.07,14.4,8.48,8.49,14.16,26.0,15.49,4.79,9.59,11.6,7.57,13.99,11.4,10.35,7.74,13.79,9.58,13.09,13.29,19.42,9.42,10.34,17.99,14.8,5.06,8.55,8.37,14.89,5.98],\"xaxis\":\"x\",\"yaxis\":\"y\",\"type\":\"histogram\"}],                        {\"template\":{\"data\":{\"histogram2dcontour\":[{\"type\":\"histogram2dcontour\",\"colorbar\":{\"outlinewidth\":0,\"ticks\":\"\"},\"colorscale\":[[0.0,\"#0d0887\"],[0.1111111111111111,\"#46039f\"],[0.2222222222222222,\"#7201a8\"],[0.3333333333333333,\"#9c179e\"],[0.4444444444444444,\"#bd3786\"],[0.5555555555555556,\"#d8576b\"],[0.6666666666666666,\"#ed7953\"],[0.7777777777777778,\"#fb9f3a\"],[0.8888888888888888,\"#fdca26\"],[1.0,\"#f0f921\"]]}],\"choropleth\":[{\"type\":\"choropleth\",\"colorbar\":{\"outlinewidth\":0,\"ticks\":\"\"}}],\"histogram2d\":[{\"type\":\"histogram2d\",\"colorbar\":{\"outlinewidth\":0,\"ticks\":\"\"},\"colorscale\":[[0.0,\"#0d0887\"],[0.1111111111111111,\"#46039f\"],[0.2222222222222222,\"#7201a8\"],[0.3333333333333333,\"#9c179e\"],[0.4444444444444444,\"#bd3786\"],[0.5555555555555556,\"#d8576b\"],[0.6666666666666666,\"#ed7953\"],[0.7777777777777778,\"#fb9f3a\"],[0.8888888888888888,\"#fdca26\"],[1.0,\"#f0f921\"]]}],\"heatmap\":[{\"type\":\"heatmap\",\"colorbar\":{\"outlinewidth\":0,\"ticks\":\"\"},\"colorscale\":[[0.0,\"#0d0887\"],[0.1111111111111111,\"#46039f\"],[0.2222222222222222,\"#7201a8\"],[0.3333333333333333,\"#9c179e\"],[0.4444444444444444,\"#bd3786\"],[0.5555555555555556,\"#d8576b\"],[0.6666666666666666,\"#ed7953\"],[0.7777777777777778,\"#fb9f3a\"],[0.8888888888888888,\"#fdca26\"],[1.0,\"#f0f921\"]]}],\"heatmapgl\":[{\"type\":\"heatmapgl\",\"colorbar\":{\"outlinewidth\":0,\"ticks\":\"\"},\"colorscale\":[[0.0,\"#0d0887\"],[0.1111111111111111,\"#46039f\"],[0.2222222222222222,\"#7201a8\"],[0.3333333333333333,\"#9c179e\"],[0.4444444444444444,\"#bd3786\"],[0.5555555555555556,\"#d8576b\"],[0.6666666666666666,\"#ed7953\"],[0.7777777777777778,\"#fb9f3a\"],[0.8888888888888888,\"#fdca26\"],[1.0,\"#f0f921\"]]}],\"contourcarpet\":[{\"type\":\"contourcarpet\",\"colorbar\":{\"outlinewidth\":0,\"ticks\":\"\"}}],\"contour\":[{\"type\":\"contour\",\"colorbar\":{\"outlinewidth\":0,\"ticks\":\"\"},\"colorscale\":[[0.0,\"#0d0887\"],[0.1111111111111111,\"#46039f\"],[0.2222222222222222,\"#7201a8\"],[0.3333333333333333,\"#9c179e\"],[0.4444444444444444,\"#bd3786\"],[0.5555555555555556,\"#d8576b\"],[0.6666666666666666,\"#ed7953\"],[0.7777777777777778,\"#fb9f3a\"],[0.8888888888888888,\"#fdca26\"],[1.0,\"#f0f921\"]]}],\"surface\":[{\"type\":\"surface\",\"colorbar\":{\"outlinewidth\":0,\"ticks\":\"\"},\"colorscale\":[[0.0,\"#0d0887\"],[0.1111111111111111,\"#46039f\"],[0.2222222222222222,\"#7201a8\"],[0.3333333333333333,\"#9c179e\"],[0.4444444444444444,\"#bd3786\"],[0.5555555555555556,\"#d8576b\"],[0.6666666666666666,\"#ed7953\"],[0.7777777777777778,\"#fb9f3a\"],[0.8888888888888888,\"#fdca26\"],[1.0,\"#f0f921\"]]}],\"mesh3d\":[{\"type\":\"mesh3d\",\"colorbar\":{\"outlinewidth\":0,\"ticks\":\"\"}}],\"scatter\":[{\"fillpattern\":{\"fillmode\":\"overlay\",\"size\":10,\"solidity\":0.2},\"type\":\"scatter\"}],\"parcoords\":[{\"type\":\"parcoords\",\"line\":{\"colorbar\":{\"outlinewidth\":0,\"ticks\":\"\"}}}],\"scatterpolargl\":[{\"type\":\"scatterpolargl\",\"marker\":{\"colorbar\":{\"outlinewidth\":0,\"ticks\":\"\"}}}],\"bar\":[{\"error_x\":{\"color\":\"#2a3f5f\"},\"error_y\":{\"color\":\"#2a3f5f\"},\"marker\":{\"line\":{\"color\":\"#E5ECF6\",\"width\":0.5},\"pattern\":{\"fillmode\":\"overlay\",\"size\":10,\"solidity\":0.2}},\"type\":\"bar\"}],\"scattergeo\":[{\"type\":\"scattergeo\",\"marker\":{\"colorbar\":{\"outlinewidth\":0,\"ticks\":\"\"}}}],\"scatterpolar\":[{\"type\":\"scatterpolar\",\"marker\":{\"colorbar\":{\"outlinewidth\":0,\"ticks\":\"\"}}}],\"histogram\":[{\"marker\":{\"pattern\":{\"fillmode\":\"overlay\",\"size\":10,\"solidity\":0.2}},\"type\":\"histogram\"}],\"scattergl\":[{\"type\":\"scattergl\",\"marker\":{\"colorbar\":{\"outlinewidth\":0,\"ticks\":\"\"}}}],\"scatter3d\":[{\"type\":\"scatter3d\",\"line\":{\"colorbar\":{\"outlinewidth\":0,\"ticks\":\"\"}},\"marker\":{\"colorbar\":{\"outlinewidth\":0,\"ticks\":\"\"}}}],\"scattermapbox\":[{\"type\":\"scattermapbox\",\"marker\":{\"colorbar\":{\"outlinewidth\":0,\"ticks\":\"\"}}}],\"scatterternary\":[{\"type\":\"scatterternary\",\"marker\":{\"colorbar\":{\"outlinewidth\":0,\"ticks\":\"\"}}}],\"scattercarpet\":[{\"type\":\"scattercarpet\",\"marker\":{\"colorbar\":{\"outlinewidth\":0,\"ticks\":\"\"}}}],\"carpet\":[{\"aaxis\":{\"endlinecolor\":\"#2a3f5f\",\"gridcolor\":\"white\",\"linecolor\":\"white\",\"minorgridcolor\":\"white\",\"startlinecolor\":\"#2a3f5f\"},\"baxis\":{\"endlinecolor\":\"#2a3f5f\",\"gridcolor\":\"white\",\"linecolor\":\"white\",\"minorgridcolor\":\"white\",\"startlinecolor\":\"#2a3f5f\"},\"type\":\"carpet\"}],\"table\":[{\"cells\":{\"fill\":{\"color\":\"#EBF0F8\"},\"line\":{\"color\":\"white\"}},\"header\":{\"fill\":{\"color\":\"#C8D4E3\"},\"line\":{\"color\":\"white\"}},\"type\":\"table\"}],\"barpolar\":[{\"marker\":{\"line\":{\"color\":\"#E5ECF6\",\"width\":0.5},\"pattern\":{\"fillmode\":\"overlay\",\"size\":10,\"solidity\":0.2}},\"type\":\"barpolar\"}],\"pie\":[{\"automargin\":true,\"type\":\"pie\"}]},\"layout\":{\"autotypenumbers\":\"strict\",\"colorway\":[\"#636efa\",\"#EF553B\",\"#00cc96\",\"#ab63fa\",\"#FFA15A\",\"#19d3f3\",\"#FF6692\",\"#B6E880\",\"#FF97FF\",\"#FECB52\"],\"font\":{\"color\":\"#2a3f5f\"},\"hovermode\":\"closest\",\"hoverlabel\":{\"align\":\"left\"},\"paper_bgcolor\":\"white\",\"plot_bgcolor\":\"#E5ECF6\",\"polar\":{\"bgcolor\":\"#E5ECF6\",\"angularaxis\":{\"gridcolor\":\"white\",\"linecolor\":\"white\",\"ticks\":\"\"},\"radialaxis\":{\"gridcolor\":\"white\",\"linecolor\":\"white\",\"ticks\":\"\"}},\"ternary\":{\"bgcolor\":\"#E5ECF6\",\"aaxis\":{\"gridcolor\":\"white\",\"linecolor\":\"white\",\"ticks\":\"\"},\"baxis\":{\"gridcolor\":\"white\",\"linecolor\":\"white\",\"ticks\":\"\"},\"caxis\":{\"gridcolor\":\"white\",\"linecolor\":\"white\",\"ticks\":\"\"}},\"coloraxis\":{\"colorbar\":{\"outlinewidth\":0,\"ticks\":\"\"}},\"colorscale\":{\"sequential\":[[0.0,\"#0d0887\"],[0.1111111111111111,\"#46039f\"],[0.2222222222222222,\"#7201a8\"],[0.3333333333333333,\"#9c179e\"],[0.4444444444444444,\"#bd3786\"],[0.5555555555555556,\"#d8576b\"],[0.6666666666666666,\"#ed7953\"],[0.7777777777777778,\"#fb9f3a\"],[0.8888888888888888,\"#fdca26\"],[1.0,\"#f0f921\"]],\"sequentialminus\":[[0.0,\"#0d0887\"],[0.1111111111111111,\"#46039f\"],[0.2222222222222222,\"#7201a8\"],[0.3333333333333333,\"#9c179e\"],[0.4444444444444444,\"#bd3786\"],[0.5555555555555556,\"#d8576b\"],[0.6666666666666666,\"#ed7953\"],[0.7777777777777778,\"#fb9f3a\"],[0.8888888888888888,\"#fdca26\"],[1.0,\"#f0f921\"]],\"diverging\":[[0,\"#8e0152\"],[0.1,\"#c51b7d\"],[0.2,\"#de77ae\"],[0.3,\"#f1b6da\"],[0.4,\"#fde0ef\"],[0.5,\"#f7f7f7\"],[0.6,\"#e6f5d0\"],[0.7,\"#b8e186\"],[0.8,\"#7fbc41\"],[0.9,\"#4d9221\"],[1,\"#276419\"]]},\"xaxis\":{\"gridcolor\":\"white\",\"linecolor\":\"white\",\"ticks\":\"\",\"title\":{\"standoff\":15},\"zerolinecolor\":\"white\",\"automargin\":true,\"zerolinewidth\":2},\"yaxis\":{\"gridcolor\":\"white\",\"linecolor\":\"white\",\"ticks\":\"\",\"title\":{\"standoff\":15},\"zerolinecolor\":\"white\",\"automargin\":true,\"zerolinewidth\":2},\"scene\":{\"xaxis\":{\"backgroundcolor\":\"#E5ECF6\",\"gridcolor\":\"white\",\"linecolor\":\"white\",\"showbackground\":true,\"ticks\":\"\",\"zerolinecolor\":\"white\",\"gridwidth\":2},\"yaxis\":{\"backgroundcolor\":\"#E5ECF6\",\"gridcolor\":\"white\",\"linecolor\":\"white\",\"showbackground\":true,\"ticks\":\"\",\"zerolinecolor\":\"white\",\"gridwidth\":2},\"zaxis\":{\"backgroundcolor\":\"#E5ECF6\",\"gridcolor\":\"white\",\"linecolor\":\"white\",\"showbackground\":true,\"ticks\":\"\",\"zerolinecolor\":\"white\",\"gridwidth\":2}},\"shapedefaults\":{\"line\":{\"color\":\"#2a3f5f\"}},\"annotationdefaults\":{\"arrowcolor\":\"#2a3f5f\",\"arrowhead\":0,\"arrowwidth\":1},\"geo\":{\"bgcolor\":\"white\",\"landcolor\":\"#E5ECF6\",\"subunitcolor\":\"white\",\"showland\":true,\"showlakes\":true,\"lakecolor\":\"white\"},\"title\":{\"x\":0.05},\"mapbox\":{\"style\":\"light\"}}},\"xaxis\":{\"anchor\":\"y\",\"domain\":[0.0,1.0],\"title\":{\"text\":\"value\"}},\"yaxis\":{\"anchor\":\"x\",\"domain\":[0.0,1.0],\"title\":{\"text\":\"count\"}},\"legend\":{\"title\":{\"text\":\"variable\"},\"tracegroupgap\":0},\"margin\":{\"t\":60},\"barmode\":\"relative\"},                        {\"responsive\": true}                    ).then(function(){\n",
       "                            \n",
       "var gd = document.getElementById('84f5650a-3056-438d-88f5-41773593a1c7');\n",
       "var x = new MutationObserver(function (mutations, observer) {{\n",
       "        var display = window.getComputedStyle(gd).display;\n",
       "        if (!display || display === 'none') {{\n",
       "            console.log([gd, 'removed!']);\n",
       "            Plotly.purge(gd);\n",
       "            observer.disconnect();\n",
       "        }}\n",
       "}});\n",
       "\n",
       "// Listen for the removal of the full notebook cells\n",
       "var notebookContainer = gd.closest('#notebook-container');\n",
       "if (notebookContainer) {{\n",
       "    x.observe(notebookContainer, {childList: true});\n",
       "}}\n",
       "\n",
       "// Listen for the clearing of the current output cell\n",
       "var outputEl = gd.closest('.output');\n",
       "if (outputEl) {{\n",
       "    x.observe(outputEl, {childList: true});\n",
       "}}\n",
       "\n",
       "                        })                };                });            </script>        </div>"
      ]
     },
     "metadata": {},
     "output_type": "display_data"
    }
   ],
   "source": [
    "fig = px.histogram(prices_2021)\n",
    "fig.show()"
   ]
  },
  {
   "cell_type": "markdown",
   "id": "8f7dbdec",
   "metadata": {},
   "source": [
    "## Bar Graphics"
   ]
  },
  {
   "cell_type": "code",
   "execution_count": 14,
   "id": "f633cc6f",
   "metadata": {},
   "outputs": [
    {
     "data": {
      "application/vnd.plotly.v1+json": {
       "config": {
        "plotlyServerURL": "https://plot.ly"
       },
       "data": [
        {
         "alignmentgroup": "True",
         "hovertemplate": "x=%{x}<br>y=%{y}<extra></extra>",
         "legendgroup": "",
         "marker": {
          "color": "#636efa",
          "pattern": {
           "shape": ""
          }
         },
         "name": "",
         "offsetgroup": "",
         "orientation": "v",
         "showlegend": false,
         "textposition": "auto",
         "type": "bar",
         "x": [
          "fiction",
          "Non fiction"
         ],
         "xaxis": "x",
         "y": [
          10.6,
          14.5
         ],
         "yaxis": "y"
        }
       ],
       "layout": {
        "barmode": "relative",
        "legend": {
         "tracegroupgap": 0
        },
        "margin": {
         "t": 60
        },
        "template": {
         "data": {
          "bar": [
           {
            "error_x": {
             "color": "#2a3f5f"
            },
            "error_y": {
             "color": "#2a3f5f"
            },
            "marker": {
             "line": {
              "color": "#E5ECF6",
              "width": 0.5
             },
             "pattern": {
              "fillmode": "overlay",
              "size": 10,
              "solidity": 0.2
             }
            },
            "type": "bar"
           }
          ],
          "barpolar": [
           {
            "marker": {
             "line": {
              "color": "#E5ECF6",
              "width": 0.5
             },
             "pattern": {
              "fillmode": "overlay",
              "size": 10,
              "solidity": 0.2
             }
            },
            "type": "barpolar"
           }
          ],
          "carpet": [
           {
            "aaxis": {
             "endlinecolor": "#2a3f5f",
             "gridcolor": "white",
             "linecolor": "white",
             "minorgridcolor": "white",
             "startlinecolor": "#2a3f5f"
            },
            "baxis": {
             "endlinecolor": "#2a3f5f",
             "gridcolor": "white",
             "linecolor": "white",
             "minorgridcolor": "white",
             "startlinecolor": "#2a3f5f"
            },
            "type": "carpet"
           }
          ],
          "choropleth": [
           {
            "colorbar": {
             "outlinewidth": 0,
             "ticks": ""
            },
            "type": "choropleth"
           }
          ],
          "contour": [
           {
            "colorbar": {
             "outlinewidth": 0,
             "ticks": ""
            },
            "colorscale": [
             [
              0,
              "#0d0887"
             ],
             [
              0.1111111111111111,
              "#46039f"
             ],
             [
              0.2222222222222222,
              "#7201a8"
             ],
             [
              0.3333333333333333,
              "#9c179e"
             ],
             [
              0.4444444444444444,
              "#bd3786"
             ],
             [
              0.5555555555555556,
              "#d8576b"
             ],
             [
              0.6666666666666666,
              "#ed7953"
             ],
             [
              0.7777777777777778,
              "#fb9f3a"
             ],
             [
              0.8888888888888888,
              "#fdca26"
             ],
             [
              1,
              "#f0f921"
             ]
            ],
            "type": "contour"
           }
          ],
          "contourcarpet": [
           {
            "colorbar": {
             "outlinewidth": 0,
             "ticks": ""
            },
            "type": "contourcarpet"
           }
          ],
          "heatmap": [
           {
            "colorbar": {
             "outlinewidth": 0,
             "ticks": ""
            },
            "colorscale": [
             [
              0,
              "#0d0887"
             ],
             [
              0.1111111111111111,
              "#46039f"
             ],
             [
              0.2222222222222222,
              "#7201a8"
             ],
             [
              0.3333333333333333,
              "#9c179e"
             ],
             [
              0.4444444444444444,
              "#bd3786"
             ],
             [
              0.5555555555555556,
              "#d8576b"
             ],
             [
              0.6666666666666666,
              "#ed7953"
             ],
             [
              0.7777777777777778,
              "#fb9f3a"
             ],
             [
              0.8888888888888888,
              "#fdca26"
             ],
             [
              1,
              "#f0f921"
             ]
            ],
            "type": "heatmap"
           }
          ],
          "heatmapgl": [
           {
            "colorbar": {
             "outlinewidth": 0,
             "ticks": ""
            },
            "colorscale": [
             [
              0,
              "#0d0887"
             ],
             [
              0.1111111111111111,
              "#46039f"
             ],
             [
              0.2222222222222222,
              "#7201a8"
             ],
             [
              0.3333333333333333,
              "#9c179e"
             ],
             [
              0.4444444444444444,
              "#bd3786"
             ],
             [
              0.5555555555555556,
              "#d8576b"
             ],
             [
              0.6666666666666666,
              "#ed7953"
             ],
             [
              0.7777777777777778,
              "#fb9f3a"
             ],
             [
              0.8888888888888888,
              "#fdca26"
             ],
             [
              1,
              "#f0f921"
             ]
            ],
            "type": "heatmapgl"
           }
          ],
          "histogram": [
           {
            "marker": {
             "pattern": {
              "fillmode": "overlay",
              "size": 10,
              "solidity": 0.2
             }
            },
            "type": "histogram"
           }
          ],
          "histogram2d": [
           {
            "colorbar": {
             "outlinewidth": 0,
             "ticks": ""
            },
            "colorscale": [
             [
              0,
              "#0d0887"
             ],
             [
              0.1111111111111111,
              "#46039f"
             ],
             [
              0.2222222222222222,
              "#7201a8"
             ],
             [
              0.3333333333333333,
              "#9c179e"
             ],
             [
              0.4444444444444444,
              "#bd3786"
             ],
             [
              0.5555555555555556,
              "#d8576b"
             ],
             [
              0.6666666666666666,
              "#ed7953"
             ],
             [
              0.7777777777777778,
              "#fb9f3a"
             ],
             [
              0.8888888888888888,
              "#fdca26"
             ],
             [
              1,
              "#f0f921"
             ]
            ],
            "type": "histogram2d"
           }
          ],
          "histogram2dcontour": [
           {
            "colorbar": {
             "outlinewidth": 0,
             "ticks": ""
            },
            "colorscale": [
             [
              0,
              "#0d0887"
             ],
             [
              0.1111111111111111,
              "#46039f"
             ],
             [
              0.2222222222222222,
              "#7201a8"
             ],
             [
              0.3333333333333333,
              "#9c179e"
             ],
             [
              0.4444444444444444,
              "#bd3786"
             ],
             [
              0.5555555555555556,
              "#d8576b"
             ],
             [
              0.6666666666666666,
              "#ed7953"
             ],
             [
              0.7777777777777778,
              "#fb9f3a"
             ],
             [
              0.8888888888888888,
              "#fdca26"
             ],
             [
              1,
              "#f0f921"
             ]
            ],
            "type": "histogram2dcontour"
           }
          ],
          "mesh3d": [
           {
            "colorbar": {
             "outlinewidth": 0,
             "ticks": ""
            },
            "type": "mesh3d"
           }
          ],
          "parcoords": [
           {
            "line": {
             "colorbar": {
              "outlinewidth": 0,
              "ticks": ""
             }
            },
            "type": "parcoords"
           }
          ],
          "pie": [
           {
            "automargin": true,
            "type": "pie"
           }
          ],
          "scatter": [
           {
            "fillpattern": {
             "fillmode": "overlay",
             "size": 10,
             "solidity": 0.2
            },
            "type": "scatter"
           }
          ],
          "scatter3d": [
           {
            "line": {
             "colorbar": {
              "outlinewidth": 0,
              "ticks": ""
             }
            },
            "marker": {
             "colorbar": {
              "outlinewidth": 0,
              "ticks": ""
             }
            },
            "type": "scatter3d"
           }
          ],
          "scattercarpet": [
           {
            "marker": {
             "colorbar": {
              "outlinewidth": 0,
              "ticks": ""
             }
            },
            "type": "scattercarpet"
           }
          ],
          "scattergeo": [
           {
            "marker": {
             "colorbar": {
              "outlinewidth": 0,
              "ticks": ""
             }
            },
            "type": "scattergeo"
           }
          ],
          "scattergl": [
           {
            "marker": {
             "colorbar": {
              "outlinewidth": 0,
              "ticks": ""
             }
            },
            "type": "scattergl"
           }
          ],
          "scattermapbox": [
           {
            "marker": {
             "colorbar": {
              "outlinewidth": 0,
              "ticks": ""
             }
            },
            "type": "scattermapbox"
           }
          ],
          "scatterpolar": [
           {
            "marker": {
             "colorbar": {
              "outlinewidth": 0,
              "ticks": ""
             }
            },
            "type": "scatterpolar"
           }
          ],
          "scatterpolargl": [
           {
            "marker": {
             "colorbar": {
              "outlinewidth": 0,
              "ticks": ""
             }
            },
            "type": "scatterpolargl"
           }
          ],
          "scatterternary": [
           {
            "marker": {
             "colorbar": {
              "outlinewidth": 0,
              "ticks": ""
             }
            },
            "type": "scatterternary"
           }
          ],
          "surface": [
           {
            "colorbar": {
             "outlinewidth": 0,
             "ticks": ""
            },
            "colorscale": [
             [
              0,
              "#0d0887"
             ],
             [
              0.1111111111111111,
              "#46039f"
             ],
             [
              0.2222222222222222,
              "#7201a8"
             ],
             [
              0.3333333333333333,
              "#9c179e"
             ],
             [
              0.4444444444444444,
              "#bd3786"
             ],
             [
              0.5555555555555556,
              "#d8576b"
             ],
             [
              0.6666666666666666,
              "#ed7953"
             ],
             [
              0.7777777777777778,
              "#fb9f3a"
             ],
             [
              0.8888888888888888,
              "#fdca26"
             ],
             [
              1,
              "#f0f921"
             ]
            ],
            "type": "surface"
           }
          ],
          "table": [
           {
            "cells": {
             "fill": {
              "color": "#EBF0F8"
             },
             "line": {
              "color": "white"
             }
            },
            "header": {
             "fill": {
              "color": "#C8D4E3"
             },
             "line": {
              "color": "white"
             }
            },
            "type": "table"
           }
          ]
         },
         "layout": {
          "annotationdefaults": {
           "arrowcolor": "#2a3f5f",
           "arrowhead": 0,
           "arrowwidth": 1
          },
          "autotypenumbers": "strict",
          "coloraxis": {
           "colorbar": {
            "outlinewidth": 0,
            "ticks": ""
           }
          },
          "colorscale": {
           "diverging": [
            [
             0,
             "#8e0152"
            ],
            [
             0.1,
             "#c51b7d"
            ],
            [
             0.2,
             "#de77ae"
            ],
            [
             0.3,
             "#f1b6da"
            ],
            [
             0.4,
             "#fde0ef"
            ],
            [
             0.5,
             "#f7f7f7"
            ],
            [
             0.6,
             "#e6f5d0"
            ],
            [
             0.7,
             "#b8e186"
            ],
            [
             0.8,
             "#7fbc41"
            ],
            [
             0.9,
             "#4d9221"
            ],
            [
             1,
             "#276419"
            ]
           ],
           "sequential": [
            [
             0,
             "#0d0887"
            ],
            [
             0.1111111111111111,
             "#46039f"
            ],
            [
             0.2222222222222222,
             "#7201a8"
            ],
            [
             0.3333333333333333,
             "#9c179e"
            ],
            [
             0.4444444444444444,
             "#bd3786"
            ],
            [
             0.5555555555555556,
             "#d8576b"
            ],
            [
             0.6666666666666666,
             "#ed7953"
            ],
            [
             0.7777777777777778,
             "#fb9f3a"
            ],
            [
             0.8888888888888888,
             "#fdca26"
            ],
            [
             1,
             "#f0f921"
            ]
           ],
           "sequentialminus": [
            [
             0,
             "#0d0887"
            ],
            [
             0.1111111111111111,
             "#46039f"
            ],
            [
             0.2222222222222222,
             "#7201a8"
            ],
            [
             0.3333333333333333,
             "#9c179e"
            ],
            [
             0.4444444444444444,
             "#bd3786"
            ],
            [
             0.5555555555555556,
             "#d8576b"
            ],
            [
             0.6666666666666666,
             "#ed7953"
            ],
            [
             0.7777777777777778,
             "#fb9f3a"
            ],
            [
             0.8888888888888888,
             "#fdca26"
            ],
            [
             1,
             "#f0f921"
            ]
           ]
          },
          "colorway": [
           "#636efa",
           "#EF553B",
           "#00cc96",
           "#ab63fa",
           "#FFA15A",
           "#19d3f3",
           "#FF6692",
           "#B6E880",
           "#FF97FF",
           "#FECB52"
          ],
          "font": {
           "color": "#2a3f5f"
          },
          "geo": {
           "bgcolor": "white",
           "lakecolor": "white",
           "landcolor": "#E5ECF6",
           "showlakes": true,
           "showland": true,
           "subunitcolor": "white"
          },
          "hoverlabel": {
           "align": "left"
          },
          "hovermode": "closest",
          "mapbox": {
           "style": "light"
          },
          "paper_bgcolor": "white",
          "plot_bgcolor": "#E5ECF6",
          "polar": {
           "angularaxis": {
            "gridcolor": "white",
            "linecolor": "white",
            "ticks": ""
           },
           "bgcolor": "#E5ECF6",
           "radialaxis": {
            "gridcolor": "white",
            "linecolor": "white",
            "ticks": ""
           }
          },
          "scene": {
           "xaxis": {
            "backgroundcolor": "#E5ECF6",
            "gridcolor": "white",
            "gridwidth": 2,
            "linecolor": "white",
            "showbackground": true,
            "ticks": "",
            "zerolinecolor": "white"
           },
           "yaxis": {
            "backgroundcolor": "#E5ECF6",
            "gridcolor": "white",
            "gridwidth": 2,
            "linecolor": "white",
            "showbackground": true,
            "ticks": "",
            "zerolinecolor": "white"
           },
           "zaxis": {
            "backgroundcolor": "#E5ECF6",
            "gridcolor": "white",
            "gridwidth": 2,
            "linecolor": "white",
            "showbackground": true,
            "ticks": "",
            "zerolinecolor": "white"
           }
          },
          "shapedefaults": {
           "line": {
            "color": "#2a3f5f"
           }
          },
          "ternary": {
           "aaxis": {
            "gridcolor": "white",
            "linecolor": "white",
            "ticks": ""
           },
           "baxis": {
            "gridcolor": "white",
            "linecolor": "white",
            "ticks": ""
           },
           "bgcolor": "#E5ECF6",
           "caxis": {
            "gridcolor": "white",
            "linecolor": "white",
            "ticks": ""
           }
          },
          "title": {
           "x": 0.05
          },
          "xaxis": {
           "automargin": true,
           "gridcolor": "white",
           "linecolor": "white",
           "ticks": "",
           "title": {
            "standoff": 15
           },
           "zerolinecolor": "white",
           "zerolinewidth": 2
          },
          "yaxis": {
           "automargin": true,
           "gridcolor": "white",
           "linecolor": "white",
           "ticks": "",
           "title": {
            "standoff": 15
           },
           "zerolinecolor": "white",
           "zerolinewidth": 2
          }
         }
        },
        "xaxis": {
         "anchor": "y",
         "domain": [
          0,
          1
         ],
         "title": {
          "text": "x"
         }
        },
        "yaxis": {
         "anchor": "x",
         "domain": [
          0,
          1
         ],
         "title": {
          "text": "y"
         }
        }
       }
      },
      "text/html": [
       "<div>                            <div id=\"efe36ea0-9a1b-4f86-8cb6-bedd33e550b4\" class=\"plotly-graph-div\" style=\"height:525px; width:100%;\"></div>            <script type=\"text/javascript\">                require([\"plotly\"], function(Plotly) {                    window.PLOTLYENV=window.PLOTLYENV || {};                                    if (document.getElementById(\"efe36ea0-9a1b-4f86-8cb6-bedd33e550b4\")) {                    Plotly.newPlot(                        \"efe36ea0-9a1b-4f86-8cb6-bedd33e550b4\",                        [{\"alignmentgroup\":\"True\",\"hovertemplate\":\"x=%{x}<br>y=%{y}<extra></extra>\",\"legendgroup\":\"\",\"marker\":{\"color\":\"#636efa\",\"pattern\":{\"shape\":\"\"}},\"name\":\"\",\"offsetgroup\":\"\",\"orientation\":\"v\",\"showlegend\":false,\"textposition\":\"auto\",\"x\":[\"fiction\",\"Non fiction\"],\"xaxis\":\"x\",\"y\":[10.6,14.5],\"yaxis\":\"y\",\"type\":\"bar\"}],                        {\"template\":{\"data\":{\"histogram2dcontour\":[{\"type\":\"histogram2dcontour\",\"colorbar\":{\"outlinewidth\":0,\"ticks\":\"\"},\"colorscale\":[[0.0,\"#0d0887\"],[0.1111111111111111,\"#46039f\"],[0.2222222222222222,\"#7201a8\"],[0.3333333333333333,\"#9c179e\"],[0.4444444444444444,\"#bd3786\"],[0.5555555555555556,\"#d8576b\"],[0.6666666666666666,\"#ed7953\"],[0.7777777777777778,\"#fb9f3a\"],[0.8888888888888888,\"#fdca26\"],[1.0,\"#f0f921\"]]}],\"choropleth\":[{\"type\":\"choropleth\",\"colorbar\":{\"outlinewidth\":0,\"ticks\":\"\"}}],\"histogram2d\":[{\"type\":\"histogram2d\",\"colorbar\":{\"outlinewidth\":0,\"ticks\":\"\"},\"colorscale\":[[0.0,\"#0d0887\"],[0.1111111111111111,\"#46039f\"],[0.2222222222222222,\"#7201a8\"],[0.3333333333333333,\"#9c179e\"],[0.4444444444444444,\"#bd3786\"],[0.5555555555555556,\"#d8576b\"],[0.6666666666666666,\"#ed7953\"],[0.7777777777777778,\"#fb9f3a\"],[0.8888888888888888,\"#fdca26\"],[1.0,\"#f0f921\"]]}],\"heatmap\":[{\"type\":\"heatmap\",\"colorbar\":{\"outlinewidth\":0,\"ticks\":\"\"},\"colorscale\":[[0.0,\"#0d0887\"],[0.1111111111111111,\"#46039f\"],[0.2222222222222222,\"#7201a8\"],[0.3333333333333333,\"#9c179e\"],[0.4444444444444444,\"#bd3786\"],[0.5555555555555556,\"#d8576b\"],[0.6666666666666666,\"#ed7953\"],[0.7777777777777778,\"#fb9f3a\"],[0.8888888888888888,\"#fdca26\"],[1.0,\"#f0f921\"]]}],\"heatmapgl\":[{\"type\":\"heatmapgl\",\"colorbar\":{\"outlinewidth\":0,\"ticks\":\"\"},\"colorscale\":[[0.0,\"#0d0887\"],[0.1111111111111111,\"#46039f\"],[0.2222222222222222,\"#7201a8\"],[0.3333333333333333,\"#9c179e\"],[0.4444444444444444,\"#bd3786\"],[0.5555555555555556,\"#d8576b\"],[0.6666666666666666,\"#ed7953\"],[0.7777777777777778,\"#fb9f3a\"],[0.8888888888888888,\"#fdca26\"],[1.0,\"#f0f921\"]]}],\"contourcarpet\":[{\"type\":\"contourcarpet\",\"colorbar\":{\"outlinewidth\":0,\"ticks\":\"\"}}],\"contour\":[{\"type\":\"contour\",\"colorbar\":{\"outlinewidth\":0,\"ticks\":\"\"},\"colorscale\":[[0.0,\"#0d0887\"],[0.1111111111111111,\"#46039f\"],[0.2222222222222222,\"#7201a8\"],[0.3333333333333333,\"#9c179e\"],[0.4444444444444444,\"#bd3786\"],[0.5555555555555556,\"#d8576b\"],[0.6666666666666666,\"#ed7953\"],[0.7777777777777778,\"#fb9f3a\"],[0.8888888888888888,\"#fdca26\"],[1.0,\"#f0f921\"]]}],\"surface\":[{\"type\":\"surface\",\"colorbar\":{\"outlinewidth\":0,\"ticks\":\"\"},\"colorscale\":[[0.0,\"#0d0887\"],[0.1111111111111111,\"#46039f\"],[0.2222222222222222,\"#7201a8\"],[0.3333333333333333,\"#9c179e\"],[0.4444444444444444,\"#bd3786\"],[0.5555555555555556,\"#d8576b\"],[0.6666666666666666,\"#ed7953\"],[0.7777777777777778,\"#fb9f3a\"],[0.8888888888888888,\"#fdca26\"],[1.0,\"#f0f921\"]]}],\"mesh3d\":[{\"type\":\"mesh3d\",\"colorbar\":{\"outlinewidth\":0,\"ticks\":\"\"}}],\"scatter\":[{\"fillpattern\":{\"fillmode\":\"overlay\",\"size\":10,\"solidity\":0.2},\"type\":\"scatter\"}],\"parcoords\":[{\"type\":\"parcoords\",\"line\":{\"colorbar\":{\"outlinewidth\":0,\"ticks\":\"\"}}}],\"scatterpolargl\":[{\"type\":\"scatterpolargl\",\"marker\":{\"colorbar\":{\"outlinewidth\":0,\"ticks\":\"\"}}}],\"bar\":[{\"error_x\":{\"color\":\"#2a3f5f\"},\"error_y\":{\"color\":\"#2a3f5f\"},\"marker\":{\"line\":{\"color\":\"#E5ECF6\",\"width\":0.5},\"pattern\":{\"fillmode\":\"overlay\",\"size\":10,\"solidity\":0.2}},\"type\":\"bar\"}],\"scattergeo\":[{\"type\":\"scattergeo\",\"marker\":{\"colorbar\":{\"outlinewidth\":0,\"ticks\":\"\"}}}],\"scatterpolar\":[{\"type\":\"scatterpolar\",\"marker\":{\"colorbar\":{\"outlinewidth\":0,\"ticks\":\"\"}}}],\"histogram\":[{\"marker\":{\"pattern\":{\"fillmode\":\"overlay\",\"size\":10,\"solidity\":0.2}},\"type\":\"histogram\"}],\"scattergl\":[{\"type\":\"scattergl\",\"marker\":{\"colorbar\":{\"outlinewidth\":0,\"ticks\":\"\"}}}],\"scatter3d\":[{\"type\":\"scatter3d\",\"line\":{\"colorbar\":{\"outlinewidth\":0,\"ticks\":\"\"}},\"marker\":{\"colorbar\":{\"outlinewidth\":0,\"ticks\":\"\"}}}],\"scattermapbox\":[{\"type\":\"scattermapbox\",\"marker\":{\"colorbar\":{\"outlinewidth\":0,\"ticks\":\"\"}}}],\"scatterternary\":[{\"type\":\"scatterternary\",\"marker\":{\"colorbar\":{\"outlinewidth\":0,\"ticks\":\"\"}}}],\"scattercarpet\":[{\"type\":\"scattercarpet\",\"marker\":{\"colorbar\":{\"outlinewidth\":0,\"ticks\":\"\"}}}],\"carpet\":[{\"aaxis\":{\"endlinecolor\":\"#2a3f5f\",\"gridcolor\":\"white\",\"linecolor\":\"white\",\"minorgridcolor\":\"white\",\"startlinecolor\":\"#2a3f5f\"},\"baxis\":{\"endlinecolor\":\"#2a3f5f\",\"gridcolor\":\"white\",\"linecolor\":\"white\",\"minorgridcolor\":\"white\",\"startlinecolor\":\"#2a3f5f\"},\"type\":\"carpet\"}],\"table\":[{\"cells\":{\"fill\":{\"color\":\"#EBF0F8\"},\"line\":{\"color\":\"white\"}},\"header\":{\"fill\":{\"color\":\"#C8D4E3\"},\"line\":{\"color\":\"white\"}},\"type\":\"table\"}],\"barpolar\":[{\"marker\":{\"line\":{\"color\":\"#E5ECF6\",\"width\":0.5},\"pattern\":{\"fillmode\":\"overlay\",\"size\":10,\"solidity\":0.2}},\"type\":\"barpolar\"}],\"pie\":[{\"automargin\":true,\"type\":\"pie\"}]},\"layout\":{\"autotypenumbers\":\"strict\",\"colorway\":[\"#636efa\",\"#EF553B\",\"#00cc96\",\"#ab63fa\",\"#FFA15A\",\"#19d3f3\",\"#FF6692\",\"#B6E880\",\"#FF97FF\",\"#FECB52\"],\"font\":{\"color\":\"#2a3f5f\"},\"hovermode\":\"closest\",\"hoverlabel\":{\"align\":\"left\"},\"paper_bgcolor\":\"white\",\"plot_bgcolor\":\"#E5ECF6\",\"polar\":{\"bgcolor\":\"#E5ECF6\",\"angularaxis\":{\"gridcolor\":\"white\",\"linecolor\":\"white\",\"ticks\":\"\"},\"radialaxis\":{\"gridcolor\":\"white\",\"linecolor\":\"white\",\"ticks\":\"\"}},\"ternary\":{\"bgcolor\":\"#E5ECF6\",\"aaxis\":{\"gridcolor\":\"white\",\"linecolor\":\"white\",\"ticks\":\"\"},\"baxis\":{\"gridcolor\":\"white\",\"linecolor\":\"white\",\"ticks\":\"\"},\"caxis\":{\"gridcolor\":\"white\",\"linecolor\":\"white\",\"ticks\":\"\"}},\"coloraxis\":{\"colorbar\":{\"outlinewidth\":0,\"ticks\":\"\"}},\"colorscale\":{\"sequential\":[[0.0,\"#0d0887\"],[0.1111111111111111,\"#46039f\"],[0.2222222222222222,\"#7201a8\"],[0.3333333333333333,\"#9c179e\"],[0.4444444444444444,\"#bd3786\"],[0.5555555555555556,\"#d8576b\"],[0.6666666666666666,\"#ed7953\"],[0.7777777777777778,\"#fb9f3a\"],[0.8888888888888888,\"#fdca26\"],[1.0,\"#f0f921\"]],\"sequentialminus\":[[0.0,\"#0d0887\"],[0.1111111111111111,\"#46039f\"],[0.2222222222222222,\"#7201a8\"],[0.3333333333333333,\"#9c179e\"],[0.4444444444444444,\"#bd3786\"],[0.5555555555555556,\"#d8576b\"],[0.6666666666666666,\"#ed7953\"],[0.7777777777777778,\"#fb9f3a\"],[0.8888888888888888,\"#fdca26\"],[1.0,\"#f0f921\"]],\"diverging\":[[0,\"#8e0152\"],[0.1,\"#c51b7d\"],[0.2,\"#de77ae\"],[0.3,\"#f1b6da\"],[0.4,\"#fde0ef\"],[0.5,\"#f7f7f7\"],[0.6,\"#e6f5d0\"],[0.7,\"#b8e186\"],[0.8,\"#7fbc41\"],[0.9,\"#4d9221\"],[1,\"#276419\"]]},\"xaxis\":{\"gridcolor\":\"white\",\"linecolor\":\"white\",\"ticks\":\"\",\"title\":{\"standoff\":15},\"zerolinecolor\":\"white\",\"automargin\":true,\"zerolinewidth\":2},\"yaxis\":{\"gridcolor\":\"white\",\"linecolor\":\"white\",\"ticks\":\"\",\"title\":{\"standoff\":15},\"zerolinecolor\":\"white\",\"automargin\":true,\"zerolinewidth\":2},\"scene\":{\"xaxis\":{\"backgroundcolor\":\"#E5ECF6\",\"gridcolor\":\"white\",\"linecolor\":\"white\",\"showbackground\":true,\"ticks\":\"\",\"zerolinecolor\":\"white\",\"gridwidth\":2},\"yaxis\":{\"backgroundcolor\":\"#E5ECF6\",\"gridcolor\":\"white\",\"linecolor\":\"white\",\"showbackground\":true,\"ticks\":\"\",\"zerolinecolor\":\"white\",\"gridwidth\":2},\"zaxis\":{\"backgroundcolor\":\"#E5ECF6\",\"gridcolor\":\"white\",\"linecolor\":\"white\",\"showbackground\":true,\"ticks\":\"\",\"zerolinecolor\":\"white\",\"gridwidth\":2}},\"shapedefaults\":{\"line\":{\"color\":\"#2a3f5f\"}},\"annotationdefaults\":{\"arrowcolor\":\"#2a3f5f\",\"arrowhead\":0,\"arrowwidth\":1},\"geo\":{\"bgcolor\":\"white\",\"landcolor\":\"#E5ECF6\",\"subunitcolor\":\"white\",\"showland\":true,\"showlakes\":true,\"lakecolor\":\"white\"},\"title\":{\"x\":0.05},\"mapbox\":{\"style\":\"light\"}}},\"xaxis\":{\"anchor\":\"y\",\"domain\":[0.0,1.0],\"title\":{\"text\":\"x\"}},\"yaxis\":{\"anchor\":\"x\",\"domain\":[0.0,1.0],\"title\":{\"text\":\"y\"}},\"legend\":{\"tracegroupgap\":0},\"margin\":{\"t\":60},\"barmode\":\"relative\"},                        {\"responsive\": true}                    ).then(function(){\n",
       "                            \n",
       "var gd = document.getElementById('efe36ea0-9a1b-4f86-8cb6-bedd33e550b4');\n",
       "var x = new MutationObserver(function (mutations, observer) {{\n",
       "        var display = window.getComputedStyle(gd).display;\n",
       "        if (!display || display === 'none') {{\n",
       "            console.log([gd, 'removed!']);\n",
       "            Plotly.purge(gd);\n",
       "            observer.disconnect();\n",
       "        }}\n",
       "}});\n",
       "\n",
       "// Listen for the removal of the full notebook cells\n",
       "var notebookContainer = gd.closest('#notebook-container');\n",
       "if (notebookContainer) {{\n",
       "    x.observe(notebookContainer, {childList: true});\n",
       "}}\n",
       "\n",
       "// Listen for the clearing of the current output cell\n",
       "var outputEl = gd.closest('.output');\n",
       "if (outputEl) {{\n",
       "    x.observe(outputEl, {childList: true});\n",
       "}}\n",
       "\n",
       "                        })                };                });            </script>        </div>"
      ]
     },
     "metadata": {},
     "output_type": "display_data"
    }
   ],
   "source": [
    "genres = ['fiction', 'Non fiction']\n",
    "average_prices = [10.6, 14.5]\n",
    "fig = px.bar(x=genres, y=average_prices)\n",
    "fig.show()"
   ]
  },
  {
   "cell_type": "markdown",
   "id": "28bb782d",
   "metadata": {},
   "source": [
    "### Line Charts:"
   ]
  },
  {
   "cell_type": "code",
   "execution_count": 21,
   "id": "a49a7a1a",
   "metadata": {},
   "outputs": [],
   "source": [
    "years = [2009, 2010, 2011, 2012, 2013, 2014, 2015, 2016, 2017, 2018, 2019, 2020, 2021]\n",
    "total_reviews = [235506, 273981, 405041, 654546, 654907, 792997, 711669, 709800, 644420, 696521, 794917, 1790733, 2818117]"
   ]
  },
  {
   "cell_type": "code",
   "execution_count": 22,
   "id": "24cba218",
   "metadata": {},
   "outputs": [
    {
     "data": {
      "application/vnd.plotly.v1+json": {
       "config": {
        "plotlyServerURL": "https://plot.ly"
       },
       "data": [
        {
         "hovertemplate": "x=%{x}<br>y=%{y}<extra></extra>",
         "legendgroup": "",
         "line": {
          "color": "#636efa",
          "dash": "solid"
         },
         "marker": {
          "symbol": "circle"
         },
         "mode": "lines",
         "name": "",
         "orientation": "v",
         "showlegend": false,
         "type": "scatter",
         "x": [
          2009,
          2010,
          2011,
          2012,
          2013,
          2014,
          2015,
          2016,
          2017,
          2018,
          2019,
          2020,
          2021
         ],
         "xaxis": "x",
         "y": [
          235506,
          273981,
          405041,
          654546,
          654907,
          792997,
          711669,
          709800,
          644420,
          696521,
          794917,
          1790733,
          2818117
         ],
         "yaxis": "y"
        }
       ],
       "layout": {
        "legend": {
         "tracegroupgap": 0
        },
        "margin": {
         "t": 60
        },
        "template": {
         "data": {
          "bar": [
           {
            "error_x": {
             "color": "#2a3f5f"
            },
            "error_y": {
             "color": "#2a3f5f"
            },
            "marker": {
             "line": {
              "color": "#E5ECF6",
              "width": 0.5
             },
             "pattern": {
              "fillmode": "overlay",
              "size": 10,
              "solidity": 0.2
             }
            },
            "type": "bar"
           }
          ],
          "barpolar": [
           {
            "marker": {
             "line": {
              "color": "#E5ECF6",
              "width": 0.5
             },
             "pattern": {
              "fillmode": "overlay",
              "size": 10,
              "solidity": 0.2
             }
            },
            "type": "barpolar"
           }
          ],
          "carpet": [
           {
            "aaxis": {
             "endlinecolor": "#2a3f5f",
             "gridcolor": "white",
             "linecolor": "white",
             "minorgridcolor": "white",
             "startlinecolor": "#2a3f5f"
            },
            "baxis": {
             "endlinecolor": "#2a3f5f",
             "gridcolor": "white",
             "linecolor": "white",
             "minorgridcolor": "white",
             "startlinecolor": "#2a3f5f"
            },
            "type": "carpet"
           }
          ],
          "choropleth": [
           {
            "colorbar": {
             "outlinewidth": 0,
             "ticks": ""
            },
            "type": "choropleth"
           }
          ],
          "contour": [
           {
            "colorbar": {
             "outlinewidth": 0,
             "ticks": ""
            },
            "colorscale": [
             [
              0,
              "#0d0887"
             ],
             [
              0.1111111111111111,
              "#46039f"
             ],
             [
              0.2222222222222222,
              "#7201a8"
             ],
             [
              0.3333333333333333,
              "#9c179e"
             ],
             [
              0.4444444444444444,
              "#bd3786"
             ],
             [
              0.5555555555555556,
              "#d8576b"
             ],
             [
              0.6666666666666666,
              "#ed7953"
             ],
             [
              0.7777777777777778,
              "#fb9f3a"
             ],
             [
              0.8888888888888888,
              "#fdca26"
             ],
             [
              1,
              "#f0f921"
             ]
            ],
            "type": "contour"
           }
          ],
          "contourcarpet": [
           {
            "colorbar": {
             "outlinewidth": 0,
             "ticks": ""
            },
            "type": "contourcarpet"
           }
          ],
          "heatmap": [
           {
            "colorbar": {
             "outlinewidth": 0,
             "ticks": ""
            },
            "colorscale": [
             [
              0,
              "#0d0887"
             ],
             [
              0.1111111111111111,
              "#46039f"
             ],
             [
              0.2222222222222222,
              "#7201a8"
             ],
             [
              0.3333333333333333,
              "#9c179e"
             ],
             [
              0.4444444444444444,
              "#bd3786"
             ],
             [
              0.5555555555555556,
              "#d8576b"
             ],
             [
              0.6666666666666666,
              "#ed7953"
             ],
             [
              0.7777777777777778,
              "#fb9f3a"
             ],
             [
              0.8888888888888888,
              "#fdca26"
             ],
             [
              1,
              "#f0f921"
             ]
            ],
            "type": "heatmap"
           }
          ],
          "heatmapgl": [
           {
            "colorbar": {
             "outlinewidth": 0,
             "ticks": ""
            },
            "colorscale": [
             [
              0,
              "#0d0887"
             ],
             [
              0.1111111111111111,
              "#46039f"
             ],
             [
              0.2222222222222222,
              "#7201a8"
             ],
             [
              0.3333333333333333,
              "#9c179e"
             ],
             [
              0.4444444444444444,
              "#bd3786"
             ],
             [
              0.5555555555555556,
              "#d8576b"
             ],
             [
              0.6666666666666666,
              "#ed7953"
             ],
             [
              0.7777777777777778,
              "#fb9f3a"
             ],
             [
              0.8888888888888888,
              "#fdca26"
             ],
             [
              1,
              "#f0f921"
             ]
            ],
            "type": "heatmapgl"
           }
          ],
          "histogram": [
           {
            "marker": {
             "pattern": {
              "fillmode": "overlay",
              "size": 10,
              "solidity": 0.2
             }
            },
            "type": "histogram"
           }
          ],
          "histogram2d": [
           {
            "colorbar": {
             "outlinewidth": 0,
             "ticks": ""
            },
            "colorscale": [
             [
              0,
              "#0d0887"
             ],
             [
              0.1111111111111111,
              "#46039f"
             ],
             [
              0.2222222222222222,
              "#7201a8"
             ],
             [
              0.3333333333333333,
              "#9c179e"
             ],
             [
              0.4444444444444444,
              "#bd3786"
             ],
             [
              0.5555555555555556,
              "#d8576b"
             ],
             [
              0.6666666666666666,
              "#ed7953"
             ],
             [
              0.7777777777777778,
              "#fb9f3a"
             ],
             [
              0.8888888888888888,
              "#fdca26"
             ],
             [
              1,
              "#f0f921"
             ]
            ],
            "type": "histogram2d"
           }
          ],
          "histogram2dcontour": [
           {
            "colorbar": {
             "outlinewidth": 0,
             "ticks": ""
            },
            "colorscale": [
             [
              0,
              "#0d0887"
             ],
             [
              0.1111111111111111,
              "#46039f"
             ],
             [
              0.2222222222222222,
              "#7201a8"
             ],
             [
              0.3333333333333333,
              "#9c179e"
             ],
             [
              0.4444444444444444,
              "#bd3786"
             ],
             [
              0.5555555555555556,
              "#d8576b"
             ],
             [
              0.6666666666666666,
              "#ed7953"
             ],
             [
              0.7777777777777778,
              "#fb9f3a"
             ],
             [
              0.8888888888888888,
              "#fdca26"
             ],
             [
              1,
              "#f0f921"
             ]
            ],
            "type": "histogram2dcontour"
           }
          ],
          "mesh3d": [
           {
            "colorbar": {
             "outlinewidth": 0,
             "ticks": ""
            },
            "type": "mesh3d"
           }
          ],
          "parcoords": [
           {
            "line": {
             "colorbar": {
              "outlinewidth": 0,
              "ticks": ""
             }
            },
            "type": "parcoords"
           }
          ],
          "pie": [
           {
            "automargin": true,
            "type": "pie"
           }
          ],
          "scatter": [
           {
            "fillpattern": {
             "fillmode": "overlay",
             "size": 10,
             "solidity": 0.2
            },
            "type": "scatter"
           }
          ],
          "scatter3d": [
           {
            "line": {
             "colorbar": {
              "outlinewidth": 0,
              "ticks": ""
             }
            },
            "marker": {
             "colorbar": {
              "outlinewidth": 0,
              "ticks": ""
             }
            },
            "type": "scatter3d"
           }
          ],
          "scattercarpet": [
           {
            "marker": {
             "colorbar": {
              "outlinewidth": 0,
              "ticks": ""
             }
            },
            "type": "scattercarpet"
           }
          ],
          "scattergeo": [
           {
            "marker": {
             "colorbar": {
              "outlinewidth": 0,
              "ticks": ""
             }
            },
            "type": "scattergeo"
           }
          ],
          "scattergl": [
           {
            "marker": {
             "colorbar": {
              "outlinewidth": 0,
              "ticks": ""
             }
            },
            "type": "scattergl"
           }
          ],
          "scattermapbox": [
           {
            "marker": {
             "colorbar": {
              "outlinewidth": 0,
              "ticks": ""
             }
            },
            "type": "scattermapbox"
           }
          ],
          "scatterpolar": [
           {
            "marker": {
             "colorbar": {
              "outlinewidth": 0,
              "ticks": ""
             }
            },
            "type": "scatterpolar"
           }
          ],
          "scatterpolargl": [
           {
            "marker": {
             "colorbar": {
              "outlinewidth": 0,
              "ticks": ""
             }
            },
            "type": "scatterpolargl"
           }
          ],
          "scatterternary": [
           {
            "marker": {
             "colorbar": {
              "outlinewidth": 0,
              "ticks": ""
             }
            },
            "type": "scatterternary"
           }
          ],
          "surface": [
           {
            "colorbar": {
             "outlinewidth": 0,
             "ticks": ""
            },
            "colorscale": [
             [
              0,
              "#0d0887"
             ],
             [
              0.1111111111111111,
              "#46039f"
             ],
             [
              0.2222222222222222,
              "#7201a8"
             ],
             [
              0.3333333333333333,
              "#9c179e"
             ],
             [
              0.4444444444444444,
              "#bd3786"
             ],
             [
              0.5555555555555556,
              "#d8576b"
             ],
             [
              0.6666666666666666,
              "#ed7953"
             ],
             [
              0.7777777777777778,
              "#fb9f3a"
             ],
             [
              0.8888888888888888,
              "#fdca26"
             ],
             [
              1,
              "#f0f921"
             ]
            ],
            "type": "surface"
           }
          ],
          "table": [
           {
            "cells": {
             "fill": {
              "color": "#EBF0F8"
             },
             "line": {
              "color": "white"
             }
            },
            "header": {
             "fill": {
              "color": "#C8D4E3"
             },
             "line": {
              "color": "white"
             }
            },
            "type": "table"
           }
          ]
         },
         "layout": {
          "annotationdefaults": {
           "arrowcolor": "#2a3f5f",
           "arrowhead": 0,
           "arrowwidth": 1
          },
          "autotypenumbers": "strict",
          "coloraxis": {
           "colorbar": {
            "outlinewidth": 0,
            "ticks": ""
           }
          },
          "colorscale": {
           "diverging": [
            [
             0,
             "#8e0152"
            ],
            [
             0.1,
             "#c51b7d"
            ],
            [
             0.2,
             "#de77ae"
            ],
            [
             0.3,
             "#f1b6da"
            ],
            [
             0.4,
             "#fde0ef"
            ],
            [
             0.5,
             "#f7f7f7"
            ],
            [
             0.6,
             "#e6f5d0"
            ],
            [
             0.7,
             "#b8e186"
            ],
            [
             0.8,
             "#7fbc41"
            ],
            [
             0.9,
             "#4d9221"
            ],
            [
             1,
             "#276419"
            ]
           ],
           "sequential": [
            [
             0,
             "#0d0887"
            ],
            [
             0.1111111111111111,
             "#46039f"
            ],
            [
             0.2222222222222222,
             "#7201a8"
            ],
            [
             0.3333333333333333,
             "#9c179e"
            ],
            [
             0.4444444444444444,
             "#bd3786"
            ],
            [
             0.5555555555555556,
             "#d8576b"
            ],
            [
             0.6666666666666666,
             "#ed7953"
            ],
            [
             0.7777777777777778,
             "#fb9f3a"
            ],
            [
             0.8888888888888888,
             "#fdca26"
            ],
            [
             1,
             "#f0f921"
            ]
           ],
           "sequentialminus": [
            [
             0,
             "#0d0887"
            ],
            [
             0.1111111111111111,
             "#46039f"
            ],
            [
             0.2222222222222222,
             "#7201a8"
            ],
            [
             0.3333333333333333,
             "#9c179e"
            ],
            [
             0.4444444444444444,
             "#bd3786"
            ],
            [
             0.5555555555555556,
             "#d8576b"
            ],
            [
             0.6666666666666666,
             "#ed7953"
            ],
            [
             0.7777777777777778,
             "#fb9f3a"
            ],
            [
             0.8888888888888888,
             "#fdca26"
            ],
            [
             1,
             "#f0f921"
            ]
           ]
          },
          "colorway": [
           "#636efa",
           "#EF553B",
           "#00cc96",
           "#ab63fa",
           "#FFA15A",
           "#19d3f3",
           "#FF6692",
           "#B6E880",
           "#FF97FF",
           "#FECB52"
          ],
          "font": {
           "color": "#2a3f5f"
          },
          "geo": {
           "bgcolor": "white",
           "lakecolor": "white",
           "landcolor": "#E5ECF6",
           "showlakes": true,
           "showland": true,
           "subunitcolor": "white"
          },
          "hoverlabel": {
           "align": "left"
          },
          "hovermode": "closest",
          "mapbox": {
           "style": "light"
          },
          "paper_bgcolor": "white",
          "plot_bgcolor": "#E5ECF6",
          "polar": {
           "angularaxis": {
            "gridcolor": "white",
            "linecolor": "white",
            "ticks": ""
           },
           "bgcolor": "#E5ECF6",
           "radialaxis": {
            "gridcolor": "white",
            "linecolor": "white",
            "ticks": ""
           }
          },
          "scene": {
           "xaxis": {
            "backgroundcolor": "#E5ECF6",
            "gridcolor": "white",
            "gridwidth": 2,
            "linecolor": "white",
            "showbackground": true,
            "ticks": "",
            "zerolinecolor": "white"
           },
           "yaxis": {
            "backgroundcolor": "#E5ECF6",
            "gridcolor": "white",
            "gridwidth": 2,
            "linecolor": "white",
            "showbackground": true,
            "ticks": "",
            "zerolinecolor": "white"
           },
           "zaxis": {
            "backgroundcolor": "#E5ECF6",
            "gridcolor": "white",
            "gridwidth": 2,
            "linecolor": "white",
            "showbackground": true,
            "ticks": "",
            "zerolinecolor": "white"
           }
          },
          "shapedefaults": {
           "line": {
            "color": "#2a3f5f"
           }
          },
          "ternary": {
           "aaxis": {
            "gridcolor": "white",
            "linecolor": "white",
            "ticks": ""
           },
           "baxis": {
            "gridcolor": "white",
            "linecolor": "white",
            "ticks": ""
           },
           "bgcolor": "#E5ECF6",
           "caxis": {
            "gridcolor": "white",
            "linecolor": "white",
            "ticks": ""
           }
          },
          "title": {
           "x": 0.05
          },
          "xaxis": {
           "automargin": true,
           "gridcolor": "white",
           "linecolor": "white",
           "ticks": "",
           "title": {
            "standoff": 15
           },
           "zerolinecolor": "white",
           "zerolinewidth": 2
          },
          "yaxis": {
           "automargin": true,
           "gridcolor": "white",
           "linecolor": "white",
           "ticks": "",
           "title": {
            "standoff": 15
           },
           "zerolinecolor": "white",
           "zerolinewidth": 2
          }
         }
        },
        "xaxis": {
         "anchor": "y",
         "domain": [
          0,
          1
         ],
         "title": {
          "text": "x"
         }
        },
        "yaxis": {
         "anchor": "x",
         "domain": [
          0,
          1
         ],
         "title": {
          "text": "y"
         }
        }
       }
      },
      "text/html": [
       "<div>                            <div id=\"50bd1941-c1e1-4bd2-8c0e-836c2da913c1\" class=\"plotly-graph-div\" style=\"height:525px; width:100%;\"></div>            <script type=\"text/javascript\">                require([\"plotly\"], function(Plotly) {                    window.PLOTLYENV=window.PLOTLYENV || {};                                    if (document.getElementById(\"50bd1941-c1e1-4bd2-8c0e-836c2da913c1\")) {                    Plotly.newPlot(                        \"50bd1941-c1e1-4bd2-8c0e-836c2da913c1\",                        [{\"hovertemplate\":\"x=%{x}<br>y=%{y}<extra></extra>\",\"legendgroup\":\"\",\"line\":{\"color\":\"#636efa\",\"dash\":\"solid\"},\"marker\":{\"symbol\":\"circle\"},\"mode\":\"lines\",\"name\":\"\",\"orientation\":\"v\",\"showlegend\":false,\"x\":[2009,2010,2011,2012,2013,2014,2015,2016,2017,2018,2019,2020,2021],\"xaxis\":\"x\",\"y\":[235506,273981,405041,654546,654907,792997,711669,709800,644420,696521,794917,1790733,2818117],\"yaxis\":\"y\",\"type\":\"scatter\"}],                        {\"template\":{\"data\":{\"histogram2dcontour\":[{\"type\":\"histogram2dcontour\",\"colorbar\":{\"outlinewidth\":0,\"ticks\":\"\"},\"colorscale\":[[0.0,\"#0d0887\"],[0.1111111111111111,\"#46039f\"],[0.2222222222222222,\"#7201a8\"],[0.3333333333333333,\"#9c179e\"],[0.4444444444444444,\"#bd3786\"],[0.5555555555555556,\"#d8576b\"],[0.6666666666666666,\"#ed7953\"],[0.7777777777777778,\"#fb9f3a\"],[0.8888888888888888,\"#fdca26\"],[1.0,\"#f0f921\"]]}],\"choropleth\":[{\"type\":\"choropleth\",\"colorbar\":{\"outlinewidth\":0,\"ticks\":\"\"}}],\"histogram2d\":[{\"type\":\"histogram2d\",\"colorbar\":{\"outlinewidth\":0,\"ticks\":\"\"},\"colorscale\":[[0.0,\"#0d0887\"],[0.1111111111111111,\"#46039f\"],[0.2222222222222222,\"#7201a8\"],[0.3333333333333333,\"#9c179e\"],[0.4444444444444444,\"#bd3786\"],[0.5555555555555556,\"#d8576b\"],[0.6666666666666666,\"#ed7953\"],[0.7777777777777778,\"#fb9f3a\"],[0.8888888888888888,\"#fdca26\"],[1.0,\"#f0f921\"]]}],\"heatmap\":[{\"type\":\"heatmap\",\"colorbar\":{\"outlinewidth\":0,\"ticks\":\"\"},\"colorscale\":[[0.0,\"#0d0887\"],[0.1111111111111111,\"#46039f\"],[0.2222222222222222,\"#7201a8\"],[0.3333333333333333,\"#9c179e\"],[0.4444444444444444,\"#bd3786\"],[0.5555555555555556,\"#d8576b\"],[0.6666666666666666,\"#ed7953\"],[0.7777777777777778,\"#fb9f3a\"],[0.8888888888888888,\"#fdca26\"],[1.0,\"#f0f921\"]]}],\"heatmapgl\":[{\"type\":\"heatmapgl\",\"colorbar\":{\"outlinewidth\":0,\"ticks\":\"\"},\"colorscale\":[[0.0,\"#0d0887\"],[0.1111111111111111,\"#46039f\"],[0.2222222222222222,\"#7201a8\"],[0.3333333333333333,\"#9c179e\"],[0.4444444444444444,\"#bd3786\"],[0.5555555555555556,\"#d8576b\"],[0.6666666666666666,\"#ed7953\"],[0.7777777777777778,\"#fb9f3a\"],[0.8888888888888888,\"#fdca26\"],[1.0,\"#f0f921\"]]}],\"contourcarpet\":[{\"type\":\"contourcarpet\",\"colorbar\":{\"outlinewidth\":0,\"ticks\":\"\"}}],\"contour\":[{\"type\":\"contour\",\"colorbar\":{\"outlinewidth\":0,\"ticks\":\"\"},\"colorscale\":[[0.0,\"#0d0887\"],[0.1111111111111111,\"#46039f\"],[0.2222222222222222,\"#7201a8\"],[0.3333333333333333,\"#9c179e\"],[0.4444444444444444,\"#bd3786\"],[0.5555555555555556,\"#d8576b\"],[0.6666666666666666,\"#ed7953\"],[0.7777777777777778,\"#fb9f3a\"],[0.8888888888888888,\"#fdca26\"],[1.0,\"#f0f921\"]]}],\"surface\":[{\"type\":\"surface\",\"colorbar\":{\"outlinewidth\":0,\"ticks\":\"\"},\"colorscale\":[[0.0,\"#0d0887\"],[0.1111111111111111,\"#46039f\"],[0.2222222222222222,\"#7201a8\"],[0.3333333333333333,\"#9c179e\"],[0.4444444444444444,\"#bd3786\"],[0.5555555555555556,\"#d8576b\"],[0.6666666666666666,\"#ed7953\"],[0.7777777777777778,\"#fb9f3a\"],[0.8888888888888888,\"#fdca26\"],[1.0,\"#f0f921\"]]}],\"mesh3d\":[{\"type\":\"mesh3d\",\"colorbar\":{\"outlinewidth\":0,\"ticks\":\"\"}}],\"scatter\":[{\"fillpattern\":{\"fillmode\":\"overlay\",\"size\":10,\"solidity\":0.2},\"type\":\"scatter\"}],\"parcoords\":[{\"type\":\"parcoords\",\"line\":{\"colorbar\":{\"outlinewidth\":0,\"ticks\":\"\"}}}],\"scatterpolargl\":[{\"type\":\"scatterpolargl\",\"marker\":{\"colorbar\":{\"outlinewidth\":0,\"ticks\":\"\"}}}],\"bar\":[{\"error_x\":{\"color\":\"#2a3f5f\"},\"error_y\":{\"color\":\"#2a3f5f\"},\"marker\":{\"line\":{\"color\":\"#E5ECF6\",\"width\":0.5},\"pattern\":{\"fillmode\":\"overlay\",\"size\":10,\"solidity\":0.2}},\"type\":\"bar\"}],\"scattergeo\":[{\"type\":\"scattergeo\",\"marker\":{\"colorbar\":{\"outlinewidth\":0,\"ticks\":\"\"}}}],\"scatterpolar\":[{\"type\":\"scatterpolar\",\"marker\":{\"colorbar\":{\"outlinewidth\":0,\"ticks\":\"\"}}}],\"histogram\":[{\"marker\":{\"pattern\":{\"fillmode\":\"overlay\",\"size\":10,\"solidity\":0.2}},\"type\":\"histogram\"}],\"scattergl\":[{\"type\":\"scattergl\",\"marker\":{\"colorbar\":{\"outlinewidth\":0,\"ticks\":\"\"}}}],\"scatter3d\":[{\"type\":\"scatter3d\",\"line\":{\"colorbar\":{\"outlinewidth\":0,\"ticks\":\"\"}},\"marker\":{\"colorbar\":{\"outlinewidth\":0,\"ticks\":\"\"}}}],\"scattermapbox\":[{\"type\":\"scattermapbox\",\"marker\":{\"colorbar\":{\"outlinewidth\":0,\"ticks\":\"\"}}}],\"scatterternary\":[{\"type\":\"scatterternary\",\"marker\":{\"colorbar\":{\"outlinewidth\":0,\"ticks\":\"\"}}}],\"scattercarpet\":[{\"type\":\"scattercarpet\",\"marker\":{\"colorbar\":{\"outlinewidth\":0,\"ticks\":\"\"}}}],\"carpet\":[{\"aaxis\":{\"endlinecolor\":\"#2a3f5f\",\"gridcolor\":\"white\",\"linecolor\":\"white\",\"minorgridcolor\":\"white\",\"startlinecolor\":\"#2a3f5f\"},\"baxis\":{\"endlinecolor\":\"#2a3f5f\",\"gridcolor\":\"white\",\"linecolor\":\"white\",\"minorgridcolor\":\"white\",\"startlinecolor\":\"#2a3f5f\"},\"type\":\"carpet\"}],\"table\":[{\"cells\":{\"fill\":{\"color\":\"#EBF0F8\"},\"line\":{\"color\":\"white\"}},\"header\":{\"fill\":{\"color\":\"#C8D4E3\"},\"line\":{\"color\":\"white\"}},\"type\":\"table\"}],\"barpolar\":[{\"marker\":{\"line\":{\"color\":\"#E5ECF6\",\"width\":0.5},\"pattern\":{\"fillmode\":\"overlay\",\"size\":10,\"solidity\":0.2}},\"type\":\"barpolar\"}],\"pie\":[{\"automargin\":true,\"type\":\"pie\"}]},\"layout\":{\"autotypenumbers\":\"strict\",\"colorway\":[\"#636efa\",\"#EF553B\",\"#00cc96\",\"#ab63fa\",\"#FFA15A\",\"#19d3f3\",\"#FF6692\",\"#B6E880\",\"#FF97FF\",\"#FECB52\"],\"font\":{\"color\":\"#2a3f5f\"},\"hovermode\":\"closest\",\"hoverlabel\":{\"align\":\"left\"},\"paper_bgcolor\":\"white\",\"plot_bgcolor\":\"#E5ECF6\",\"polar\":{\"bgcolor\":\"#E5ECF6\",\"angularaxis\":{\"gridcolor\":\"white\",\"linecolor\":\"white\",\"ticks\":\"\"},\"radialaxis\":{\"gridcolor\":\"white\",\"linecolor\":\"white\",\"ticks\":\"\"}},\"ternary\":{\"bgcolor\":\"#E5ECF6\",\"aaxis\":{\"gridcolor\":\"white\",\"linecolor\":\"white\",\"ticks\":\"\"},\"baxis\":{\"gridcolor\":\"white\",\"linecolor\":\"white\",\"ticks\":\"\"},\"caxis\":{\"gridcolor\":\"white\",\"linecolor\":\"white\",\"ticks\":\"\"}},\"coloraxis\":{\"colorbar\":{\"outlinewidth\":0,\"ticks\":\"\"}},\"colorscale\":{\"sequential\":[[0.0,\"#0d0887\"],[0.1111111111111111,\"#46039f\"],[0.2222222222222222,\"#7201a8\"],[0.3333333333333333,\"#9c179e\"],[0.4444444444444444,\"#bd3786\"],[0.5555555555555556,\"#d8576b\"],[0.6666666666666666,\"#ed7953\"],[0.7777777777777778,\"#fb9f3a\"],[0.8888888888888888,\"#fdca26\"],[1.0,\"#f0f921\"]],\"sequentialminus\":[[0.0,\"#0d0887\"],[0.1111111111111111,\"#46039f\"],[0.2222222222222222,\"#7201a8\"],[0.3333333333333333,\"#9c179e\"],[0.4444444444444444,\"#bd3786\"],[0.5555555555555556,\"#d8576b\"],[0.6666666666666666,\"#ed7953\"],[0.7777777777777778,\"#fb9f3a\"],[0.8888888888888888,\"#fdca26\"],[1.0,\"#f0f921\"]],\"diverging\":[[0,\"#8e0152\"],[0.1,\"#c51b7d\"],[0.2,\"#de77ae\"],[0.3,\"#f1b6da\"],[0.4,\"#fde0ef\"],[0.5,\"#f7f7f7\"],[0.6,\"#e6f5d0\"],[0.7,\"#b8e186\"],[0.8,\"#7fbc41\"],[0.9,\"#4d9221\"],[1,\"#276419\"]]},\"xaxis\":{\"gridcolor\":\"white\",\"linecolor\":\"white\",\"ticks\":\"\",\"title\":{\"standoff\":15},\"zerolinecolor\":\"white\",\"automargin\":true,\"zerolinewidth\":2},\"yaxis\":{\"gridcolor\":\"white\",\"linecolor\":\"white\",\"ticks\":\"\",\"title\":{\"standoff\":15},\"zerolinecolor\":\"white\",\"automargin\":true,\"zerolinewidth\":2},\"scene\":{\"xaxis\":{\"backgroundcolor\":\"#E5ECF6\",\"gridcolor\":\"white\",\"linecolor\":\"white\",\"showbackground\":true,\"ticks\":\"\",\"zerolinecolor\":\"white\",\"gridwidth\":2},\"yaxis\":{\"backgroundcolor\":\"#E5ECF6\",\"gridcolor\":\"white\",\"linecolor\":\"white\",\"showbackground\":true,\"ticks\":\"\",\"zerolinecolor\":\"white\",\"gridwidth\":2},\"zaxis\":{\"backgroundcolor\":\"#E5ECF6\",\"gridcolor\":\"white\",\"linecolor\":\"white\",\"showbackground\":true,\"ticks\":\"\",\"zerolinecolor\":\"white\",\"gridwidth\":2}},\"shapedefaults\":{\"line\":{\"color\":\"#2a3f5f\"}},\"annotationdefaults\":{\"arrowcolor\":\"#2a3f5f\",\"arrowhead\":0,\"arrowwidth\":1},\"geo\":{\"bgcolor\":\"white\",\"landcolor\":\"#E5ECF6\",\"subunitcolor\":\"white\",\"showland\":true,\"showlakes\":true,\"lakecolor\":\"white\"},\"title\":{\"x\":0.05},\"mapbox\":{\"style\":\"light\"}}},\"xaxis\":{\"anchor\":\"y\",\"domain\":[0.0,1.0],\"title\":{\"text\":\"x\"}},\"yaxis\":{\"anchor\":\"x\",\"domain\":[0.0,1.0],\"title\":{\"text\":\"y\"}},\"legend\":{\"tracegroupgap\":0},\"margin\":{\"t\":60}},                        {\"responsive\": true}                    ).then(function(){\n",
       "                            \n",
       "var gd = document.getElementById('50bd1941-c1e1-4bd2-8c0e-836c2da913c1');\n",
       "var x = new MutationObserver(function (mutations, observer) {{\n",
       "        var display = window.getComputedStyle(gd).display;\n",
       "        if (!display || display === 'none') {{\n",
       "            console.log([gd, 'removed!']);\n",
       "            Plotly.purge(gd);\n",
       "            observer.disconnect();\n",
       "        }}\n",
       "}});\n",
       "\n",
       "// Listen for the removal of the full notebook cells\n",
       "var notebookContainer = gd.closest('#notebook-container');\n",
       "if (notebookContainer) {{\n",
       "    x.observe(notebookContainer, {childList: true});\n",
       "}}\n",
       "\n",
       "// Listen for the clearing of the current output cell\n",
       "var outputEl = gd.closest('.output');\n",
       "if (outputEl) {{\n",
       "    x.observe(outputEl, {childList: true});\n",
       "}}\n",
       "\n",
       "                        })                };                });            </script>        </div>"
      ]
     },
     "metadata": {},
     "output_type": "display_data"
    }
   ],
   "source": [
    "fig = px.line(x=years,y=total_reviews)\n",
    "fig.show()"
   ]
  },
  {
   "cell_type": "markdown",
   "id": "2004f161",
   "metadata": {},
   "source": [
    "## Scatter Plots"
   ]
  },
  {
   "cell_type": "code",
   "execution_count": null,
   "id": "35559ca6",
   "metadata": {},
   "outputs": [],
   "source": []
  },
  {
   "cell_type": "code",
   "execution_count": 28,
   "id": "6d63670f",
   "metadata": {},
   "outputs": [
    {
     "data": {
      "text/html": [
       "<div>\n",
       "<style scoped>\n",
       "    .dataframe tbody tr th:only-of-type {\n",
       "        vertical-align: middle;\n",
       "    }\n",
       "\n",
       "    .dataframe tbody tr th {\n",
       "        vertical-align: top;\n",
       "    }\n",
       "\n",
       "    .dataframe thead th {\n",
       "        text-align: right;\n",
       "    }\n",
       "</style>\n",
       "<table border=\"1\" class=\"dataframe\">\n",
       "  <thead>\n",
       "    <tr style=\"text-align: right;\">\n",
       "      <th></th>\n",
       "      <th>Name</th>\n",
       "      <th>Author</th>\n",
       "      <th>User Rating</th>\n",
       "      <th>Reviews</th>\n",
       "      <th>Price</th>\n",
       "      <th>Price_r</th>\n",
       "      <th>Year</th>\n",
       "      <th>Genre</th>\n",
       "    </tr>\n",
       "  </thead>\n",
       "  <tbody>\n",
       "    <tr>\n",
       "      <th>0</th>\n",
       "      <td>10-Day Green Smoothie Cleanse</td>\n",
       "      <td>JJ Smith</td>\n",
       "      <td>4.7</td>\n",
       "      <td>17350.0</td>\n",
       "      <td>8.00</td>\n",
       "      <td>$8</td>\n",
       "      <td>2016</td>\n",
       "      <td>Non Fiction</td>\n",
       "    </tr>\n",
       "    <tr>\n",
       "      <th>1</th>\n",
       "      <td>11/22/63: A Novel</td>\n",
       "      <td>Stephen King</td>\n",
       "      <td>4.6</td>\n",
       "      <td>2052.0</td>\n",
       "      <td>22.00</td>\n",
       "      <td>$22</td>\n",
       "      <td>2011</td>\n",
       "      <td>Fiction</td>\n",
       "    </tr>\n",
       "    <tr>\n",
       "      <th>2</th>\n",
       "      <td>12 Rules for Life: An Antidote to Chaos</td>\n",
       "      <td>Jordan B. Peterson</td>\n",
       "      <td>4.7</td>\n",
       "      <td>18979.0</td>\n",
       "      <td>15.00</td>\n",
       "      <td>$15</td>\n",
       "      <td>2018</td>\n",
       "      <td>Non Fiction</td>\n",
       "    </tr>\n",
       "    <tr>\n",
       "      <th>3</th>\n",
       "      <td>1984</td>\n",
       "      <td>George Orwell</td>\n",
       "      <td>4.7</td>\n",
       "      <td>70425.0</td>\n",
       "      <td>7.48</td>\n",
       "      <td>$8</td>\n",
       "      <td>2021</td>\n",
       "      <td>Fiction</td>\n",
       "    </tr>\n",
       "    <tr>\n",
       "      <th>4</th>\n",
       "      <td>1984 (Signet Classics)</td>\n",
       "      <td>George Orwell</td>\n",
       "      <td>4.7</td>\n",
       "      <td>21424.0</td>\n",
       "      <td>6.00</td>\n",
       "      <td>$6</td>\n",
       "      <td>2017</td>\n",
       "      <td>Fiction</td>\n",
       "    </tr>\n",
       "    <tr>\n",
       "      <th>...</th>\n",
       "      <td>...</td>\n",
       "      <td>...</td>\n",
       "      <td>...</td>\n",
       "      <td>...</td>\n",
       "      <td>...</td>\n",
       "      <td>...</td>\n",
       "      <td>...</td>\n",
       "      <td>...</td>\n",
       "    </tr>\n",
       "    <tr>\n",
       "      <th>645</th>\n",
       "      <td>Wrecking Ball (Diary of a Wimpy Kid Book 14)</td>\n",
       "      <td>Jeff Kinney</td>\n",
       "      <td>4.9</td>\n",
       "      <td>9413.0</td>\n",
       "      <td>8.00</td>\n",
       "      <td>$8</td>\n",
       "      <td>2019</td>\n",
       "      <td>Fiction</td>\n",
       "    </tr>\n",
       "    <tr>\n",
       "      <th>646</th>\n",
       "      <td>You Are a Badass: How to Stop Doubting Your Gr...</td>\n",
       "      <td>Jen Sincero</td>\n",
       "      <td>4.7</td>\n",
       "      <td>14331.0</td>\n",
       "      <td>8.00</td>\n",
       "      <td>$8</td>\n",
       "      <td>2016</td>\n",
       "      <td>Non Fiction</td>\n",
       "    </tr>\n",
       "    <tr>\n",
       "      <th>647</th>\n",
       "      <td>You Are a Badass: How to Stop Doubting Your Gr...</td>\n",
       "      <td>Jen Sincero</td>\n",
       "      <td>4.7</td>\n",
       "      <td>14331.0</td>\n",
       "      <td>8.00</td>\n",
       "      <td>$8</td>\n",
       "      <td>2017</td>\n",
       "      <td>Non Fiction</td>\n",
       "    </tr>\n",
       "    <tr>\n",
       "      <th>648</th>\n",
       "      <td>You Are a Badass: How to Stop Doubting Your Gr...</td>\n",
       "      <td>Jen Sincero</td>\n",
       "      <td>4.7</td>\n",
       "      <td>14331.0</td>\n",
       "      <td>8.00</td>\n",
       "      <td>$8</td>\n",
       "      <td>2018</td>\n",
       "      <td>Non Fiction</td>\n",
       "    </tr>\n",
       "    <tr>\n",
       "      <th>649</th>\n",
       "      <td>You Are a Badass: How to Stop Doubting Your Gr...</td>\n",
       "      <td>Jen Sincero</td>\n",
       "      <td>4.7</td>\n",
       "      <td>14331.0</td>\n",
       "      <td>8.00</td>\n",
       "      <td>$8</td>\n",
       "      <td>2019</td>\n",
       "      <td>Non Fiction</td>\n",
       "    </tr>\n",
       "  </tbody>\n",
       "</table>\n",
       "<p>650 rows × 8 columns</p>\n",
       "</div>"
      ],
      "text/plain": [
       "                                                  Name              Author  \\\n",
       "0                        10-Day Green Smoothie Cleanse            JJ Smith   \n",
       "1                                    11/22/63: A Novel        Stephen King   \n",
       "2              12 Rules for Life: An Antidote to Chaos  Jordan B. Peterson   \n",
       "3                                                 1984       George Orwell   \n",
       "4                               1984 (Signet Classics)       George Orwell   \n",
       "..                                                 ...                 ...   \n",
       "645       Wrecking Ball (Diary of a Wimpy Kid Book 14)         Jeff Kinney   \n",
       "646  You Are a Badass: How to Stop Doubting Your Gr...         Jen Sincero   \n",
       "647  You Are a Badass: How to Stop Doubting Your Gr...         Jen Sincero   \n",
       "648  You Are a Badass: How to Stop Doubting Your Gr...         Jen Sincero   \n",
       "649  You Are a Badass: How to Stop Doubting Your Gr...         Jen Sincero   \n",
       "\n",
       "     User Rating  Reviews  Price Price_r  Year        Genre  \n",
       "0            4.7  17350.0   8.00      $8  2016  Non Fiction  \n",
       "1            4.6   2052.0  22.00     $22  2011      Fiction  \n",
       "2            4.7  18979.0  15.00     $15  2018  Non Fiction  \n",
       "3            4.7  70425.0   7.48      $8  2021      Fiction  \n",
       "4            4.7  21424.0   6.00      $6  2017      Fiction  \n",
       "..           ...      ...    ...     ...   ...          ...  \n",
       "645          4.9   9413.0   8.00      $8  2019      Fiction  \n",
       "646          4.7  14331.0   8.00      $8  2016  Non Fiction  \n",
       "647          4.7  14331.0   8.00      $8  2017  Non Fiction  \n",
       "648          4.7  14331.0   8.00      $8  2018  Non Fiction  \n",
       "649          4.7  14331.0   8.00      $8  2019  Non Fiction  \n",
       "\n",
       "[650 rows x 8 columns]"
      ]
     },
     "execution_count": 28,
     "metadata": {},
     "output_type": "execute_result"
    }
   ],
   "source": [
    "import pandas as pd \n",
    "\n",
    "books = pd.read_csv(\"data/amazon.csv\")\n",
    "books"
   ]
  },
  {
   "cell_type": "markdown",
   "id": "b3da3659",
   "metadata": {},
   "source": [
    "### Templates:\n",
    "\n",
    "- 'ggplot2' \n",
    "- 'seaborn'\n",
    "- 'simple_white'\n",
    "- 'plotly'\n",
    "- 'plotly_white'\n",
    "- 'plotly_dark'\n",
    "- 'presentation'\n",
    "- 'xgridoff'\n",
    "- 'ygridoff'\n",
    "- 'gridon'\n",
    "- 'none'"
   ]
  },
  {
   "cell_type": "code",
   "execution_count": null,
   "id": "f5b0abb8",
   "metadata": {},
   "outputs": [],
   "source": []
  },
  {
   "cell_type": "code",
   "execution_count": 53,
   "id": "efd73b5d",
   "metadata": {},
   "outputs": [
    {
     "data": {
      "application/vnd.plotly.v1+json": {
       "config": {
        "plotlyServerURL": "https://plot.ly"
       },
       "data": [
        {
         "hovertemplate": "Genre=Non Fiction<br>Price (USD)=%{x}<br># of Reviews=%{y}<extra></extra>",
         "legendgroup": "Non Fiction",
         "marker": {
          "color": "#F8766D",
          "symbol": "circle"
         },
         "mode": "markers",
         "name": "Non Fiction",
         "orientation": "v",
         "showlegend": true,
         "type": "scatter",
         "x": [
          8,
          15,
          12,
          3,
          2,
          23,
          32,
          17,
          4,
          6,
          6,
          8,
          13,
          12.52,
          9,
          5,
          9,
          17.78,
          12,
          11.98,
          14,
          5,
          11,
          24,
          21,
          11,
          11,
          10,
          15,
          13,
          13,
          18,
          8,
          8,
          6.99,
          4,
          18,
          28,
          19,
          14.34,
          16,
          14,
          14,
          14,
          4,
          5,
          8.99,
          10,
          13,
          17,
          15,
          105,
          105,
          5,
          6,
          5,
          16,
          1,
          14,
          9,
          9,
          15,
          15,
          11,
          9,
          2,
          6,
          4,
          4,
          4,
          4,
          4,
          9,
          9,
          20,
          16,
          14,
          12,
          12,
          12,
          11,
          6,
          6,
          14,
          14,
          14,
          14,
          10,
          18,
          15.98,
          7,
          54,
          11,
          9,
          4,
          10,
          10,
          14,
          14,
          22,
          13,
          11,
          11,
          11,
          11,
          11,
          10.58,
          16,
          5,
          15,
          15,
          17,
          17,
          7,
          9,
          6.99,
          21,
          13,
          13,
          12,
          8,
          8,
          8,
          8,
          8,
          8,
          17,
          12,
          25,
          10,
          10,
          6,
          5,
          6,
          8,
          4,
          4,
          4,
          4,
          4,
          4,
          4,
          4,
          13,
          21,
          6,
          15,
          18,
          15,
          13,
          17,
          16,
          20,
          11,
          27,
          8,
          8,
          8,
          6,
          10,
          10,
          10,
          21,
          15,
          4.07,
          16,
          11,
          9,
          14,
          22,
          13,
          13,
          9,
          20,
          20,
          5,
          5,
          14.16,
          10,
          10,
          10,
          26,
          46,
          46,
          46,
          46,
          46,
          46,
          46,
          46,
          46,
          46,
          20,
          7,
          9,
          9,
          15,
          15.49,
          20,
          20,
          4.79,
          6,
          6,
          9,
          9.59,
          11,
          16,
          6,
          17,
          20,
          20,
          17,
          17,
          17,
          17,
          17,
          17,
          17,
          17,
          17,
          18,
          13,
          20,
          20,
          22,
          21,
          11.6,
          28,
          28,
          28,
          28,
          28,
          8,
          8,
          8,
          8,
          8,
          8,
          7.57,
          12,
          24,
          24,
          24,
          24,
          16,
          16,
          16,
          9,
          17,
          14,
          12,
          8,
          11.4,
          53,
          15,
          10.35,
          12,
          12,
          21,
          6,
          6,
          0,
          11,
          15,
          6,
          6,
          6,
          6,
          6,
          9,
          6,
          7.74,
          6,
          6,
          6,
          6,
          6,
          6,
          13,
          9,
          9,
          7,
          7,
          9,
          13,
          13,
          11,
          11,
          11,
          11,
          13,
          5,
          12,
          40,
          40,
          40,
          40,
          40,
          36,
          17,
          14,
          21,
          18,
          17,
          21,
          19.42,
          14,
          12,
          10.34,
          19,
          17.99,
          15,
          15,
          15,
          14.8,
          9,
          9,
          10,
          10,
          7,
          5.06,
          16,
          16,
          16,
          16,
          15,
          19,
          19,
          23,
          11,
          11,
          23,
          23,
          23,
          23,
          12,
          17,
          21,
          15,
          16,
          16,
          16,
          13,
          16,
          11,
          4,
          9,
          15,
          14.89,
          18,
          17,
          9,
          6,
          6,
          14,
          10,
          12,
          18,
          11,
          8,
          8,
          8,
          8
         ],
         "xaxis": "x",
         "y": [
          17350,
          18979,
          7665,
          5983,
          460,
          83212,
          4149,
          5013,
          2313,
          2925,
          2951,
          2426,
          9198,
          33712,
          15921,
          798,
          9374,
          13893,
          29634,
          104159,
          491,
          5360,
          1909,
          1296,
          615,
          61133,
          61133,
          99498,
          11113,
          10070,
          10070,
          3729,
          471,
          26423,
          75520,
          10369,
          16244,
          2884,
          21967,
          40535,
          4761,
          1542,
          1542,
          1542,
          4022,
          3871,
          35003,
          1329,
          4642,
          2137,
          1651,
          6679,
          6679,
          7955,
          37,
          2134,
          2525,
          720,
          956,
          6346,
          6346,
          28729,
          28729,
          45351,
          5413,
          6042,
          13677,
          17323,
          17323,
          17323,
          17323,
          17323,
          1555,
          1215,
          408,
          4799,
          12879,
          7660,
          22288,
          22288,
          1365,
          1636,
          10141,
          3457,
          3457,
          3457,
          3457,
          5972,
          26740,
          58357,
          5476,
          5867,
          4148,
          3564,
          1930,
          15779,
          15779,
          15526,
          15526,
          3776,
          19555,
          25001,
          25001,
          25001,
          25001,
          25001,
          70752,
          5272,
          14128,
          3490,
          3490,
          2812,
          4896,
          9737,
          20485,
          31640,
          4571,
          7396,
          7396,
          7062,
          19576,
          19576,
          19576,
          19576,
          19576,
          19576,
          8393,
          11391,
          8634,
          9342,
          9342,
          10927,
          5235,
          8916,
          2507,
          3673,
          3673,
          3673,
          6990,
          6990,
          6990,
          6990,
          6990,
          6132,
          3014,
          7550,
          3828,
          2752,
          20153,
          1649,
          16515,
          9867,
          1386,
          10199,
          2926,
          17739,
          17739,
          17739,
          3113,
          5542,
          5542,
          5542,
          11769,
          45694,
          75486,
          5347,
          7866,
          5178,
          8093,
          3192,
          3163,
          3163,
          1831,
          10426,
          10426,
          10820,
          10820,
          20037,
          26462,
          13616,
          13616,
          27726,
          8580,
          8580,
          8580,
          8580,
          8580,
          8580,
          8580,
          8580,
          8580,
          8580,
          10009,
          10009,
          1985,
          1985,
          27788,
          90390,
          7802,
          7802,
          65184,
          23047,
          23047,
          9366,
          15104,
          1265,
          3923,
          2272,
          220,
          7827,
          7827,
          5069,
          5069,
          5069,
          5069,
          5069,
          5069,
          5069,
          5069,
          5069,
          1583,
          1907,
          637,
          637,
          2314,
          4587,
          49270,
          3477,
          3477,
          3477,
          3477,
          3477,
          25554,
          25554,
          25554,
          25554,
          25554,
          44174,
          68263,
          1680,
          9325,
          9325,
          9325,
          9325,
          4725,
          4725,
          4725,
          2580,
          3536,
          1789,
          12361,
          24327,
          53535,
          858,
          53549,
          106658,
          23358,
          23358,
          4633,
          13061,
          13061,
          2774,
          440,
          2023,
          3207,
          3207,
          3207,
          3207,
          3207,
          803,
          45368,
          48326,
          23308,
          23308,
          23308,
          23308,
          23308,
          23308,
          9289,
          9289,
          9289,
          7368,
          7368,
          4028,
          4247,
          4247,
          22641,
          22641,
          22641,
          22641,
          1655,
          7861,
          2744,
          1201,
          1201,
          1201,
          1201,
          1201,
          807,
          2663,
          3428,
          2876,
          3601,
          7058,
          10795,
          20153,
          1204,
          44608,
          51448,
          15424,
          25554,
          26490,
          26490,
          26490,
          77899,
          5487,
          3503,
          11550,
          9030,
          35965,
          52375,
          7508,
          7508,
          7508,
          6169,
          7034,
          11034,
          11034,
          1904,
          3319,
          3319,
          11128,
          11128,
          11128,
          11128,
          5977,
          94196,
          4360,
          438,
          29673,
          29673,
          29673,
          29673,
          29673,
          5956,
          6108,
          4585,
          41567,
          53024,
          5492,
          9292,
          3341,
          7497,
          7497,
          13779,
          31125,
          6669,
          17044,
          1302,
          14331,
          14331,
          14331,
          14331
         ],
         "yaxis": "y"
        },
        {
         "hovertemplate": "Genre=Fiction<br>Price (USD)=%{x}<br># of Reviews=%{y}<extra></extra>",
         "legendgroup": "Fiction",
         "marker": {
          "color": "#A3A500",
          "symbol": "circle"
         },
         "mode": "markers",
         "name": "Fiction",
         "orientation": "v",
         "showlegend": true,
         "type": "scatter",
         "x": [
          22,
          7.48,
          6,
          11,
          30,
          15,
          8,
          8,
          5,
          14,
          14,
          13,
          17,
          13,
          7.49,
          13,
          5,
          5,
          5,
          5.36,
          0,
          13.58,
          11,
          11,
          11,
          4,
          8,
          11,
          11,
          4,
          8,
          4,
          5,
          5,
          5,
          5,
          0,
          15,
          22,
          15,
          15,
          6,
          13,
          12,
          6,
          8,
          4,
          4,
          8,
          8,
          6,
          6,
          6.62,
          20,
          12.01,
          7,
          18,
          8,
          8,
          15,
          7,
          11,
          14,
          14,
          32,
          0,
          5,
          5,
          5,
          4,
          4,
          4,
          4,
          4,
          6,
          19,
          18,
          9,
          10,
          10,
          9,
          5,
          5,
          5,
          7,
          7,
          14,
          10.62,
          30,
          12,
          18,
          30,
          22,
          52,
          6,
          6,
          5,
          1,
          4.31,
          7,
          4,
          4,
          4,
          4.14,
          9,
          14,
          20,
          10.26,
          0,
          12,
          13,
          10,
          0,
          12,
          10,
          7,
          5,
          5,
          13,
          8,
          8,
          8,
          14.4,
          10,
          8,
          8,
          8,
          8,
          8,
          8,
          8,
          8,
          8.48,
          7,
          12,
          13,
          11,
          9,
          6,
          8.49,
          2,
          27,
          27,
          27,
          9,
          4,
          12,
          12,
          12,
          12,
          10,
          8,
          25,
          6,
          18,
          39,
          13.99,
          10,
          10,
          14,
          9,
          11,
          6,
          6,
          8,
          8,
          12,
          13,
          9,
          9,
          9,
          7,
          11,
          13,
          13,
          7,
          13,
          13.79,
          0,
          18,
          7,
          14,
          14,
          9,
          16,
          2,
          2,
          5,
          5,
          20,
          20,
          7,
          7,
          7,
          14,
          10,
          7,
          13,
          11,
          6,
          6,
          8,
          7,
          9.58,
          14,
          14,
          8,
          8,
          30,
          30,
          7,
          7,
          13.09,
          20,
          18,
          14,
          19,
          10,
          9,
          8,
          8,
          13.29,
          11,
          11,
          16,
          5,
          5,
          18,
          18,
          12,
          12,
          9.42,
          8,
          8,
          0,
          14,
          15,
          10,
          7,
          10,
          6,
          82,
          12,
          16,
          5,
          5,
          5,
          5,
          5,
          5,
          5,
          10,
          10,
          10,
          10,
          8.55,
          4,
          4,
          5,
          8.37,
          9,
          0,
          0,
          0,
          0,
          7,
          21,
          9,
          5,
          20,
          7,
          42,
          12,
          5.98,
          14,
          13,
          13,
          15,
          9,
          13,
          15,
          9,
          9,
          9,
          9,
          9,
          8
         ],
         "xaxis": "x",
         "y": [
          2052,
          70425,
          21424,
          12643,
          19735,
          19699,
          23848,
          23848,
          5153,
          36348,
          36348,
          6310,
          41716,
          12159,
          19470,
          9769,
          14344,
          14344,
          25321,
          45919,
          4505,
          4153,
          22614,
          22614,
          22614,
          20705,
          6143,
          4866,
          4866,
          1541,
          1924,
          2094,
          10922,
          10922,
          10922,
          10922,
          6812,
          3837,
          6540,
          27098,
          27098,
          17684,
          15845,
          3181,
          5062,
          4786,
          7235,
          7235,
          12619,
          9089,
          31045,
          5470,
          22196,
          5118,
          63421,
          5505,
          5505,
          10721,
          10721,
          4370,
          23631,
          20262,
          47265,
          47265,
          13964,
          3642,
          5594,
          5594,
          5594,
          14038,
          14038,
          14038,
          14038,
          14038,
          23356,
          14982,
          52777,
          9568,
          57271,
          57271,
          57271,
          8837,
          8837,
          8837,
          7038,
          7038,
          25624,
          22383,
          19622,
          23973,
          7758,
          3146,
          10052,
          13471,
          17538,
          29121,
          19988,
          24356,
          58200,
          1320,
          16643,
          16643,
          39063,
          68304,
          7153,
          29651,
          5299,
          141748,
          978,
          4748,
          11881,
          1467,
          1884,
          25706,
          43514,
          8491,
          18613,
          18613,
          64215,
          26741,
          26741,
          26741,
          60070,
          5680,
          21834,
          21834,
          21834,
          21834,
          21834,
          21834,
          21834,
          21834,
          41796,
          6169,
          4519,
          18904,
          21930,
          12643,
          12852,
          21271,
          548,
          16990,
          16990,
          16990,
          3503,
          4757,
          22536,
          22536,
          7150,
          3836,
          3619,
          45485,
          973,
          9382,
          23114,
          35799,
          91743,
          11813,
          11813,
          37173,
          11668,
          6600,
          23148,
          23148,
          8081,
          8081,
          9372,
          3523,
          8922,
          8922,
          8922,
          26047,
          1859,
          50482,
          50482,
          50482,
          50482,
          117146,
          5836,
          79446,
          79446,
          7747,
          7747,
          7251,
          7251,
          10559,
          10559,
          5249,
          5249,
          33844,
          33844,
          11616,
          11616,
          11616,
          13609,
          8587,
          29442,
          11098,
          9947,
          13871,
          13871,
          13871,
          13871,
          15399,
          6982,
          32122,
          32122,
          32122,
          16949,
          16949,
          4628,
          4628,
          107449,
          5396,
          6222,
          4506,
          8747,
          6247,
          39459,
          10101,
          5898,
          193482,
          49288,
          49288,
          3759,
          9784,
          9784,
          10191,
          14493,
          2186,
          2091,
          111053,
          19720,
          19720,
          2122,
          27536,
          61060,
          4290,
          6377,
          1463,
          3759,
          3801,
          3796,
          42235,
          19546,
          19546,
          19546,
          19546,
          19546,
          19546,
          19546,
          8842,
          8842,
          8842,
          8842,
          24189,
          30183,
          30183,
          51255,
          31272,
          7932,
          26234,
          26234,
          26234,
          26234,
          26234,
          2282,
          11676,
          2586,
          6740,
          25510,
          3829,
          8958,
          41127,
          1873,
          14705,
          8170,
          87841,
          120727,
          9967,
          10760,
          21625,
          21625,
          21625,
          21625,
          21625,
          9413
         ],
         "yaxis": "y"
        }
       ],
       "layout": {
        "legend": {
         "title": {
          "text": "Genre"
         },
         "tracegroupgap": 0
        },
        "template": {
         "data": {
          "bar": [
           {
            "error_x": {
             "color": "rgb(51,51,51)"
            },
            "error_y": {
             "color": "rgb(51,51,51)"
            },
            "marker": {
             "line": {
              "color": "rgb(237,237,237)",
              "width": 0.5
             },
             "pattern": {
              "fillmode": "overlay",
              "size": 10,
              "solidity": 0.2
             }
            },
            "type": "bar"
           }
          ],
          "barpolar": [
           {
            "marker": {
             "line": {
              "color": "rgb(237,237,237)",
              "width": 0.5
             },
             "pattern": {
              "fillmode": "overlay",
              "size": 10,
              "solidity": 0.2
             }
            },
            "type": "barpolar"
           }
          ],
          "carpet": [
           {
            "aaxis": {
             "endlinecolor": "rgb(51,51,51)",
             "gridcolor": "white",
             "linecolor": "white",
             "minorgridcolor": "white",
             "startlinecolor": "rgb(51,51,51)"
            },
            "baxis": {
             "endlinecolor": "rgb(51,51,51)",
             "gridcolor": "white",
             "linecolor": "white",
             "minorgridcolor": "white",
             "startlinecolor": "rgb(51,51,51)"
            },
            "type": "carpet"
           }
          ],
          "choropleth": [
           {
            "colorbar": {
             "outlinewidth": 0,
             "tickcolor": "rgb(237,237,237)",
             "ticklen": 6,
             "ticks": "inside"
            },
            "type": "choropleth"
           }
          ],
          "contour": [
           {
            "colorbar": {
             "outlinewidth": 0,
             "tickcolor": "rgb(237,237,237)",
             "ticklen": 6,
             "ticks": "inside"
            },
            "colorscale": [
             [
              0,
              "rgb(20,44,66)"
             ],
             [
              1,
              "rgb(90,179,244)"
             ]
            ],
            "type": "contour"
           }
          ],
          "contourcarpet": [
           {
            "colorbar": {
             "outlinewidth": 0,
             "tickcolor": "rgb(237,237,237)",
             "ticklen": 6,
             "ticks": "inside"
            },
            "type": "contourcarpet"
           }
          ],
          "heatmap": [
           {
            "colorbar": {
             "outlinewidth": 0,
             "tickcolor": "rgb(237,237,237)",
             "ticklen": 6,
             "ticks": "inside"
            },
            "colorscale": [
             [
              0,
              "rgb(20,44,66)"
             ],
             [
              1,
              "rgb(90,179,244)"
             ]
            ],
            "type": "heatmap"
           }
          ],
          "heatmapgl": [
           {
            "colorbar": {
             "outlinewidth": 0,
             "tickcolor": "rgb(237,237,237)",
             "ticklen": 6,
             "ticks": "inside"
            },
            "colorscale": [
             [
              0,
              "rgb(20,44,66)"
             ],
             [
              1,
              "rgb(90,179,244)"
             ]
            ],
            "type": "heatmapgl"
           }
          ],
          "histogram": [
           {
            "marker": {
             "pattern": {
              "fillmode": "overlay",
              "size": 10,
              "solidity": 0.2
             }
            },
            "type": "histogram"
           }
          ],
          "histogram2d": [
           {
            "colorbar": {
             "outlinewidth": 0,
             "tickcolor": "rgb(237,237,237)",
             "ticklen": 6,
             "ticks": "inside"
            },
            "colorscale": [
             [
              0,
              "rgb(20,44,66)"
             ],
             [
              1,
              "rgb(90,179,244)"
             ]
            ],
            "type": "histogram2d"
           }
          ],
          "histogram2dcontour": [
           {
            "colorbar": {
             "outlinewidth": 0,
             "tickcolor": "rgb(237,237,237)",
             "ticklen": 6,
             "ticks": "inside"
            },
            "colorscale": [
             [
              0,
              "rgb(20,44,66)"
             ],
             [
              1,
              "rgb(90,179,244)"
             ]
            ],
            "type": "histogram2dcontour"
           }
          ],
          "mesh3d": [
           {
            "colorbar": {
             "outlinewidth": 0,
             "tickcolor": "rgb(237,237,237)",
             "ticklen": 6,
             "ticks": "inside"
            },
            "type": "mesh3d"
           }
          ],
          "parcoords": [
           {
            "line": {
             "colorbar": {
              "outlinewidth": 0,
              "tickcolor": "rgb(237,237,237)",
              "ticklen": 6,
              "ticks": "inside"
             }
            },
            "type": "parcoords"
           }
          ],
          "pie": [
           {
            "automargin": true,
            "type": "pie"
           }
          ],
          "scatter": [
           {
            "fillpattern": {
             "fillmode": "overlay",
             "size": 10,
             "solidity": 0.2
            },
            "type": "scatter"
           }
          ],
          "scatter3d": [
           {
            "line": {
             "colorbar": {
              "outlinewidth": 0,
              "tickcolor": "rgb(237,237,237)",
              "ticklen": 6,
              "ticks": "inside"
             }
            },
            "marker": {
             "colorbar": {
              "outlinewidth": 0,
              "tickcolor": "rgb(237,237,237)",
              "ticklen": 6,
              "ticks": "inside"
             }
            },
            "type": "scatter3d"
           }
          ],
          "scattercarpet": [
           {
            "marker": {
             "colorbar": {
              "outlinewidth": 0,
              "tickcolor": "rgb(237,237,237)",
              "ticklen": 6,
              "ticks": "inside"
             }
            },
            "type": "scattercarpet"
           }
          ],
          "scattergeo": [
           {
            "marker": {
             "colorbar": {
              "outlinewidth": 0,
              "tickcolor": "rgb(237,237,237)",
              "ticklen": 6,
              "ticks": "inside"
             }
            },
            "type": "scattergeo"
           }
          ],
          "scattergl": [
           {
            "marker": {
             "colorbar": {
              "outlinewidth": 0,
              "tickcolor": "rgb(237,237,237)",
              "ticklen": 6,
              "ticks": "inside"
             }
            },
            "type": "scattergl"
           }
          ],
          "scattermapbox": [
           {
            "marker": {
             "colorbar": {
              "outlinewidth": 0,
              "tickcolor": "rgb(237,237,237)",
              "ticklen": 6,
              "ticks": "inside"
             }
            },
            "type": "scattermapbox"
           }
          ],
          "scatterpolar": [
           {
            "marker": {
             "colorbar": {
              "outlinewidth": 0,
              "tickcolor": "rgb(237,237,237)",
              "ticklen": 6,
              "ticks": "inside"
             }
            },
            "type": "scatterpolar"
           }
          ],
          "scatterpolargl": [
           {
            "marker": {
             "colorbar": {
              "outlinewidth": 0,
              "tickcolor": "rgb(237,237,237)",
              "ticklen": 6,
              "ticks": "inside"
             }
            },
            "type": "scatterpolargl"
           }
          ],
          "scatterternary": [
           {
            "marker": {
             "colorbar": {
              "outlinewidth": 0,
              "tickcolor": "rgb(237,237,237)",
              "ticklen": 6,
              "ticks": "inside"
             }
            },
            "type": "scatterternary"
           }
          ],
          "surface": [
           {
            "colorbar": {
             "outlinewidth": 0,
             "tickcolor": "rgb(237,237,237)",
             "ticklen": 6,
             "ticks": "inside"
            },
            "colorscale": [
             [
              0,
              "rgb(20,44,66)"
             ],
             [
              1,
              "rgb(90,179,244)"
             ]
            ],
            "type": "surface"
           }
          ],
          "table": [
           {
            "cells": {
             "fill": {
              "color": "rgb(237,237,237)"
             },
             "line": {
              "color": "white"
             }
            },
            "header": {
             "fill": {
              "color": "rgb(217,217,217)"
             },
             "line": {
              "color": "white"
             }
            },
            "type": "table"
           }
          ]
         },
         "layout": {
          "annotationdefaults": {
           "arrowhead": 0,
           "arrowwidth": 1
          },
          "autotypenumbers": "strict",
          "coloraxis": {
           "colorbar": {
            "outlinewidth": 0,
            "tickcolor": "rgb(237,237,237)",
            "ticklen": 6,
            "ticks": "inside"
           }
          },
          "colorscale": {
           "sequential": [
            [
             0,
             "rgb(20,44,66)"
            ],
            [
             1,
             "rgb(90,179,244)"
            ]
           ],
           "sequentialminus": [
            [
             0,
             "rgb(20,44,66)"
            ],
            [
             1,
             "rgb(90,179,244)"
            ]
           ]
          },
          "colorway": [
           "#F8766D",
           "#A3A500",
           "#00BF7D",
           "#00B0F6",
           "#E76BF3"
          ],
          "font": {
           "color": "rgb(51,51,51)"
          },
          "geo": {
           "bgcolor": "white",
           "lakecolor": "white",
           "landcolor": "rgb(237,237,237)",
           "showlakes": true,
           "showland": true,
           "subunitcolor": "white"
          },
          "hoverlabel": {
           "align": "left"
          },
          "hovermode": "closest",
          "paper_bgcolor": "white",
          "plot_bgcolor": "rgb(237,237,237)",
          "polar": {
           "angularaxis": {
            "gridcolor": "white",
            "linecolor": "white",
            "showgrid": true,
            "tickcolor": "rgb(51,51,51)",
            "ticks": "outside"
           },
           "bgcolor": "rgb(237,237,237)",
           "radialaxis": {
            "gridcolor": "white",
            "linecolor": "white",
            "showgrid": true,
            "tickcolor": "rgb(51,51,51)",
            "ticks": "outside"
           }
          },
          "scene": {
           "xaxis": {
            "backgroundcolor": "rgb(237,237,237)",
            "gridcolor": "white",
            "gridwidth": 2,
            "linecolor": "white",
            "showbackground": true,
            "showgrid": true,
            "tickcolor": "rgb(51,51,51)",
            "ticks": "outside",
            "zerolinecolor": "white"
           },
           "yaxis": {
            "backgroundcolor": "rgb(237,237,237)",
            "gridcolor": "white",
            "gridwidth": 2,
            "linecolor": "white",
            "showbackground": true,
            "showgrid": true,
            "tickcolor": "rgb(51,51,51)",
            "ticks": "outside",
            "zerolinecolor": "white"
           },
           "zaxis": {
            "backgroundcolor": "rgb(237,237,237)",
            "gridcolor": "white",
            "gridwidth": 2,
            "linecolor": "white",
            "showbackground": true,
            "showgrid": true,
            "tickcolor": "rgb(51,51,51)",
            "ticks": "outside",
            "zerolinecolor": "white"
           }
          },
          "shapedefaults": {
           "fillcolor": "black",
           "line": {
            "width": 0
           },
           "opacity": 0.3
          },
          "ternary": {
           "aaxis": {
            "gridcolor": "white",
            "linecolor": "white",
            "showgrid": true,
            "tickcolor": "rgb(51,51,51)",
            "ticks": "outside"
           },
           "baxis": {
            "gridcolor": "white",
            "linecolor": "white",
            "showgrid": true,
            "tickcolor": "rgb(51,51,51)",
            "ticks": "outside"
           },
           "bgcolor": "rgb(237,237,237)",
           "caxis": {
            "gridcolor": "white",
            "linecolor": "white",
            "showgrid": true,
            "tickcolor": "rgb(51,51,51)",
            "ticks": "outside"
           }
          },
          "xaxis": {
           "automargin": true,
           "gridcolor": "white",
           "linecolor": "white",
           "showgrid": true,
           "tickcolor": "rgb(51,51,51)",
           "ticks": "outside",
           "title": {
            "standoff": 15
           },
           "zerolinecolor": "white"
          },
          "yaxis": {
           "automargin": true,
           "gridcolor": "white",
           "linecolor": "white",
           "showgrid": true,
           "tickcolor": "rgb(51,51,51)",
           "ticks": "outside",
           "title": {
            "standoff": 15
           },
           "zerolinecolor": "white"
          }
         }
        },
        "title": {
         "text": "Number of Reviews by Book Price<br><sup>Amazon Bestseller List 2009 to Present</sup>"
        },
        "xaxis": {
         "anchor": "y",
         "domain": [
          0,
          1
         ],
         "title": {
          "text": "Price (USD)"
         }
        },
        "yaxis": {
         "anchor": "x",
         "domain": [
          0,
          1
         ],
         "title": {
          "text": "# of Reviews"
         }
        }
       }
      },
      "text/html": [
       "<div>                            <div id=\"f701870e-f150-49ae-beef-928b3927d7c9\" class=\"plotly-graph-div\" style=\"height:525px; width:100%;\"></div>            <script type=\"text/javascript\">                require([\"plotly\"], function(Plotly) {                    window.PLOTLYENV=window.PLOTLYENV || {};                                    if (document.getElementById(\"f701870e-f150-49ae-beef-928b3927d7c9\")) {                    Plotly.newPlot(                        \"f701870e-f150-49ae-beef-928b3927d7c9\",                        [{\"hovertemplate\":\"Genre=Non Fiction<br>Price (USD)=%{x}<br># of Reviews=%{y}<extra></extra>\",\"legendgroup\":\"Non Fiction\",\"marker\":{\"color\":\"#F8766D\",\"symbol\":\"circle\"},\"mode\":\"markers\",\"name\":\"Non Fiction\",\"orientation\":\"v\",\"showlegend\":true,\"x\":[8.0,15.0,12.0,3.0,2.0,23.0,32.0,17.0,4.0,6.0,6.0,8.0,13.0,12.52,9.0,5.0,9.0,17.78,12.0,11.98,14.0,5.0,11.0,24.0,21.0,11.0,11.0,10.0,15.0,13.0,13.0,18.0,8.0,8.0,6.99,4.0,18.0,28.0,19.0,14.34,16.0,14.0,14.0,14.0,4.0,5.0,8.99,10.0,13.0,17.0,15.0,105.0,105.0,5.0,6.0,5.0,16.0,1.0,14.0,9.0,9.0,15.0,15.0,11.0,9.0,2.0,6.0,4.0,4.0,4.0,4.0,4.0,9.0,9.0,20.0,16.0,14.0,12.0,12.0,12.0,11.0,6.0,6.0,14.0,14.0,14.0,14.0,10.0,18.0,15.98,7.0,54.0,11.0,9.0,4.0,10.0,10.0,14.0,14.0,22.0,13.0,11.0,11.0,11.0,11.0,11.0,10.58,16.0,5.0,15.0,15.0,17.0,17.0,7.0,9.0,6.99,21.0,13.0,13.0,12.0,8.0,8.0,8.0,8.0,8.0,8.0,17.0,12.0,25.0,10.0,10.0,6.0,5.0,6.0,8.0,4.0,4.0,4.0,4.0,4.0,4.0,4.0,4.0,13.0,21.0,6.0,15.0,18.0,15.0,13.0,17.0,16.0,20.0,11.0,27.0,8.0,8.0,8.0,6.0,10.0,10.0,10.0,21.0,15.0,4.07,16.0,11.0,9.0,14.0,22.0,13.0,13.0,9.0,20.0,20.0,5.0,5.0,14.16,10.0,10.0,10.0,26.0,46.0,46.0,46.0,46.0,46.0,46.0,46.0,46.0,46.0,46.0,20.0,7.0,9.0,9.0,15.0,15.49,20.0,20.0,4.79,6.0,6.0,9.0,9.59,11.0,16.0,6.0,17.0,20.0,20.0,17.0,17.0,17.0,17.0,17.0,17.0,17.0,17.0,17.0,18.0,13.0,20.0,20.0,22.0,21.0,11.6,28.0,28.0,28.0,28.0,28.0,8.0,8.0,8.0,8.0,8.0,8.0,7.57,12.0,24.0,24.0,24.0,24.0,16.0,16.0,16.0,9.0,17.0,14.0,12.0,8.0,11.4,53.0,15.0,10.35,12.0,12.0,21.0,6.0,6.0,0.0,11.0,15.0,6.0,6.0,6.0,6.0,6.0,9.0,6.0,7.74,6.0,6.0,6.0,6.0,6.0,6.0,13.0,9.0,9.0,7.0,7.0,9.0,13.0,13.0,11.0,11.0,11.0,11.0,13.0,5.0,12.0,40.0,40.0,40.0,40.0,40.0,36.0,17.0,14.0,21.0,18.0,17.0,21.0,19.42,14.0,12.0,10.34,19.0,17.99,15.0,15.0,15.0,14.8,9.0,9.0,10.0,10.0,7.0,5.06,16.0,16.0,16.0,16.0,15.0,19.0,19.0,23.0,11.0,11.0,23.0,23.0,23.0,23.0,12.0,17.0,21.0,15.0,16.0,16.0,16.0,13.0,16.0,11.0,4.0,9.0,15.0,14.89,18.0,17.0,9.0,6.0,6.0,14.0,10.0,12.0,18.0,11.0,8.0,8.0,8.0,8.0],\"xaxis\":\"x\",\"y\":[17350.0,18979.0,7665.0,5983.0,460.0,83212.0,4149.0,5013.0,2313.0,2925.0,2951.0,2426.0,9198.0,33712.0,15921.0,798.0,9374.0,13893.0,29634.0,104159.0,491.0,5360.0,1909.0,1296.0,615.0,61133.0,61133.0,99498.0,11113.0,10070.0,10070.0,3729.0,471.0,26423.0,75520.0,10369.0,16244.0,2884.0,21967.0,40535.0,4761.0,1542.0,1542.0,1542.0,4022.0,3871.0,35003.0,1329.0,4642.0,2137.0,1651.0,6679.0,6679.0,7955.0,37.0,2134.0,2525.0,720.0,956.0,6346.0,6346.0,28729.0,28729.0,45351.0,5413.0,6042.0,13677.0,17323.0,17323.0,17323.0,17323.0,17323.0,1555.0,1215.0,408.0,4799.0,12879.0,7660.0,22288.0,22288.0,1365.0,1636.0,10141.0,3457.0,3457.0,3457.0,3457.0,5972.0,26740.0,58357.0,5476.0,5867.0,4148.0,3564.0,1930.0,15779.0,15779.0,15526.0,15526.0,3776.0,19555.0,25001.0,25001.0,25001.0,25001.0,25001.0,70752.0,5272.0,14128.0,3490.0,3490.0,2812.0,4896.0,9737.0,20485.0,31640.0,4571.0,7396.0,7396.0,7062.0,19576.0,19576.0,19576.0,19576.0,19576.0,19576.0,8393.0,11391.0,8634.0,9342.0,9342.0,10927.0,5235.0,8916.0,2507.0,3673.0,3673.0,3673.0,6990.0,6990.0,6990.0,6990.0,6990.0,6132.0,3014.0,7550.0,3828.0,2752.0,20153.0,1649.0,16515.0,9867.0,1386.0,10199.0,2926.0,17739.0,17739.0,17739.0,3113.0,5542.0,5542.0,5542.0,11769.0,45694.0,75486.0,5347.0,7866.0,5178.0,8093.0,3192.0,3163.0,3163.0,1831.0,10426.0,10426.0,10820.0,10820.0,20037.0,26462.0,13616.0,13616.0,27726.0,8580.0,8580.0,8580.0,8580.0,8580.0,8580.0,8580.0,8580.0,8580.0,8580.0,10009.0,10009.0,1985.0,1985.0,27788.0,90390.0,7802.0,7802.0,65184.0,23047.0,23047.0,9366.0,15104.0,1265.0,3923.0,2272.0,220.0,7827.0,7827.0,5069.0,5069.0,5069.0,5069.0,5069.0,5069.0,5069.0,5069.0,5069.0,1583.0,1907.0,637.0,637.0,2314.0,4587.0,49270.0,3477.0,3477.0,3477.0,3477.0,3477.0,25554.0,25554.0,25554.0,25554.0,25554.0,44174.0,68263.0,1680.0,9325.0,9325.0,9325.0,9325.0,4725.0,4725.0,4725.0,2580.0,3536.0,1789.0,12361.0,24327.0,53535.0,858.0,53549.0,106658.0,23358.0,23358.0,4633.0,13061.0,13061.0,2774.0,440.0,2023.0,3207.0,3207.0,3207.0,3207.0,3207.0,803.0,45368.0,48326.0,23308.0,23308.0,23308.0,23308.0,23308.0,23308.0,9289.0,9289.0,9289.0,7368.0,7368.0,4028.0,4247.0,4247.0,22641.0,22641.0,22641.0,22641.0,1655.0,7861.0,2744.0,1201.0,1201.0,1201.0,1201.0,1201.0,807.0,2663.0,3428.0,2876.0,3601.0,7058.0,10795.0,20153.0,1204.0,44608.0,51448.0,15424.0,25554.0,26490.0,26490.0,26490.0,77899.0,5487.0,3503.0,11550.0,9030.0,35965.0,52375.0,7508.0,7508.0,7508.0,6169.0,7034.0,11034.0,11034.0,1904.0,3319.0,3319.0,11128.0,11128.0,11128.0,11128.0,5977.0,94196.0,4360.0,438.0,29673.0,29673.0,29673.0,29673.0,29673.0,5956.0,6108.0,4585.0,41567.0,53024.0,5492.0,9292.0,3341.0,7497.0,7497.0,13779.0,31125.0,6669.0,17044.0,1302.0,14331.0,14331.0,14331.0,14331.0],\"yaxis\":\"y\",\"type\":\"scatter\"},{\"hovertemplate\":\"Genre=Fiction<br>Price (USD)=%{x}<br># of Reviews=%{y}<extra></extra>\",\"legendgroup\":\"Fiction\",\"marker\":{\"color\":\"#A3A500\",\"symbol\":\"circle\"},\"mode\":\"markers\",\"name\":\"Fiction\",\"orientation\":\"v\",\"showlegend\":true,\"x\":[22.0,7.48,6.0,11.0,30.0,15.0,8.0,8.0,5.0,14.0,14.0,13.0,17.0,13.0,7.49,13.0,5.0,5.0,5.0,5.36,0.0,13.58,11.0,11.0,11.0,4.0,8.0,11.0,11.0,4.0,8.0,4.0,5.0,5.0,5.0,5.0,0.0,15.0,22.0,15.0,15.0,6.0,13.0,12.0,6.0,8.0,4.0,4.0,8.0,8.0,6.0,6.0,6.62,20.0,12.01,7.0,18.0,8.0,8.0,15.0,7.0,11.0,14.0,14.0,32.0,0.0,5.0,5.0,5.0,4.0,4.0,4.0,4.0,4.0,6.0,19.0,18.0,9.0,10.0,10.0,9.0,5.0,5.0,5.0,7.0,7.0,14.0,10.62,30.0,12.0,18.0,30.0,22.0,52.0,6.0,6.0,5.0,1.0,4.31,7.0,4.0,4.0,4.0,4.14,9.0,14.0,20.0,10.26,0.0,12.0,13.0,10.0,0.0,12.0,10.0,7.0,5.0,5.0,13.0,8.0,8.0,8.0,14.4,10.0,8.0,8.0,8.0,8.0,8.0,8.0,8.0,8.0,8.48,7.0,12.0,13.0,11.0,9.0,6.0,8.49,2.0,27.0,27.0,27.0,9.0,4.0,12.0,12.0,12.0,12.0,10.0,8.0,25.0,6.0,18.0,39.0,13.99,10.0,10.0,14.0,9.0,11.0,6.0,6.0,8.0,8.0,12.0,13.0,9.0,9.0,9.0,7.0,11.0,13.0,13.0,7.0,13.0,13.79,0.0,18.0,7.0,14.0,14.0,9.0,16.0,2.0,2.0,5.0,5.0,20.0,20.0,7.0,7.0,7.0,14.0,10.0,7.0,13.0,11.0,6.0,6.0,8.0,7.0,9.58,14.0,14.0,8.0,8.0,30.0,30.0,7.0,7.0,13.09,20.0,18.0,14.0,19.0,10.0,9.0,8.0,8.0,13.29,11.0,11.0,16.0,5.0,5.0,18.0,18.0,12.0,12.0,9.42,8.0,8.0,0.0,14.0,15.0,10.0,7.0,10.0,6.0,82.0,12.0,16.0,5.0,5.0,5.0,5.0,5.0,5.0,5.0,10.0,10.0,10.0,10.0,8.55,4.0,4.0,5.0,8.37,9.0,0.0,0.0,0.0,0.0,7.0,21.0,9.0,5.0,20.0,7.0,42.0,12.0,5.98,14.0,13.0,13.0,15.0,9.0,13.0,15.0,9.0,9.0,9.0,9.0,9.0,8.0],\"xaxis\":\"x\",\"y\":[2052.0,70425.0,21424.0,12643.0,19735.0,19699.0,23848.0,23848.0,5153.0,36348.0,36348.0,6310.0,41716.0,12159.0,19470.0,9769.0,14344.0,14344.0,25321.0,45919.0,4505.0,4153.0,22614.0,22614.0,22614.0,20705.0,6143.0,4866.0,4866.0,1541.0,1924.0,2094.0,10922.0,10922.0,10922.0,10922.0,6812.0,3837.0,6540.0,27098.0,27098.0,17684.0,15845.0,3181.0,5062.0,4786.0,7235.0,7235.0,12619.0,9089.0,31045.0,5470.0,22196.0,5118.0,63421.0,5505.0,5505.0,10721.0,10721.0,4370.0,23631.0,20262.0,47265.0,47265.0,13964.0,3642.0,5594.0,5594.0,5594.0,14038.0,14038.0,14038.0,14038.0,14038.0,23356.0,14982.0,52777.0,9568.0,57271.0,57271.0,57271.0,8837.0,8837.0,8837.0,7038.0,7038.0,25624.0,22383.0,19622.0,23973.0,7758.0,3146.0,10052.0,13471.0,17538.0,29121.0,19988.0,24356.0,58200.0,1320.0,16643.0,16643.0,39063.0,68304.0,7153.0,29651.0,5299.0,141748.0,978.0,4748.0,11881.0,1467.0,1884.0,25706.0,43514.0,8491.0,18613.0,18613.0,64215.0,26741.0,26741.0,26741.0,60070.0,5680.0,21834.0,21834.0,21834.0,21834.0,21834.0,21834.0,21834.0,21834.0,41796.0,6169.0,4519.0,18904.0,21930.0,12643.0,12852.0,21271.0,548.0,16990.0,16990.0,16990.0,3503.0,4757.0,22536.0,22536.0,7150.0,3836.0,3619.0,45485.0,973.0,9382.0,23114.0,35799.0,91743.0,11813.0,11813.0,37173.0,11668.0,6600.0,23148.0,23148.0,8081.0,8081.0,9372.0,3523.0,8922.0,8922.0,8922.0,26047.0,1859.0,50482.0,50482.0,50482.0,50482.0,117146.0,5836.0,79446.0,79446.0,7747.0,7747.0,7251.0,7251.0,10559.0,10559.0,5249.0,5249.0,33844.0,33844.0,11616.0,11616.0,11616.0,13609.0,8587.0,29442.0,11098.0,9947.0,13871.0,13871.0,13871.0,13871.0,15399.0,6982.0,32122.0,32122.0,32122.0,16949.0,16949.0,4628.0,4628.0,107449.0,5396.0,6222.0,4506.0,8747.0,6247.0,39459.0,10101.0,5898.0,193482.0,49288.0,49288.0,3759.0,9784.0,9784.0,10191.0,14493.0,2186.0,2091.0,111053.0,19720.0,19720.0,2122.0,27536.0,61060.0,4290.0,6377.0,1463.0,3759.0,3801.0,3796.0,42235.0,19546.0,19546.0,19546.0,19546.0,19546.0,19546.0,19546.0,8842.0,8842.0,8842.0,8842.0,24189.0,30183.0,30183.0,51255.0,31272.0,7932.0,26234.0,26234.0,26234.0,26234.0,26234.0,2282.0,11676.0,2586.0,6740.0,25510.0,3829.0,8958.0,41127.0,1873.0,14705.0,8170.0,87841.0,120727.0,9967.0,10760.0,21625.0,21625.0,21625.0,21625.0,21625.0,9413.0],\"yaxis\":\"y\",\"type\":\"scatter\"}],                        {\"template\":{\"data\":{\"barpolar\":[{\"marker\":{\"line\":{\"color\":\"rgb(237,237,237)\",\"width\":0.5},\"pattern\":{\"fillmode\":\"overlay\",\"size\":10,\"solidity\":0.2}},\"type\":\"barpolar\"}],\"bar\":[{\"error_x\":{\"color\":\"rgb(51,51,51)\"},\"error_y\":{\"color\":\"rgb(51,51,51)\"},\"marker\":{\"line\":{\"color\":\"rgb(237,237,237)\",\"width\":0.5},\"pattern\":{\"fillmode\":\"overlay\",\"size\":10,\"solidity\":0.2}},\"type\":\"bar\"}],\"carpet\":[{\"aaxis\":{\"endlinecolor\":\"rgb(51,51,51)\",\"gridcolor\":\"white\",\"linecolor\":\"white\",\"minorgridcolor\":\"white\",\"startlinecolor\":\"rgb(51,51,51)\"},\"baxis\":{\"endlinecolor\":\"rgb(51,51,51)\",\"gridcolor\":\"white\",\"linecolor\":\"white\",\"minorgridcolor\":\"white\",\"startlinecolor\":\"rgb(51,51,51)\"},\"type\":\"carpet\"}],\"choropleth\":[{\"colorbar\":{\"outlinewidth\":0,\"tickcolor\":\"rgb(237,237,237)\",\"ticklen\":6,\"ticks\":\"inside\"},\"type\":\"choropleth\"}],\"contourcarpet\":[{\"colorbar\":{\"outlinewidth\":0,\"tickcolor\":\"rgb(237,237,237)\",\"ticklen\":6,\"ticks\":\"inside\"},\"type\":\"contourcarpet\"}],\"contour\":[{\"colorbar\":{\"outlinewidth\":0,\"tickcolor\":\"rgb(237,237,237)\",\"ticklen\":6,\"ticks\":\"inside\"},\"colorscale\":[[0,\"rgb(20,44,66)\"],[1,\"rgb(90,179,244)\"]],\"type\":\"contour\"}],\"heatmapgl\":[{\"colorbar\":{\"outlinewidth\":0,\"tickcolor\":\"rgb(237,237,237)\",\"ticklen\":6,\"ticks\":\"inside\"},\"colorscale\":[[0,\"rgb(20,44,66)\"],[1,\"rgb(90,179,244)\"]],\"type\":\"heatmapgl\"}],\"heatmap\":[{\"colorbar\":{\"outlinewidth\":0,\"tickcolor\":\"rgb(237,237,237)\",\"ticklen\":6,\"ticks\":\"inside\"},\"colorscale\":[[0,\"rgb(20,44,66)\"],[1,\"rgb(90,179,244)\"]],\"type\":\"heatmap\"}],\"histogram2dcontour\":[{\"colorbar\":{\"outlinewidth\":0,\"tickcolor\":\"rgb(237,237,237)\",\"ticklen\":6,\"ticks\":\"inside\"},\"colorscale\":[[0,\"rgb(20,44,66)\"],[1,\"rgb(90,179,244)\"]],\"type\":\"histogram2dcontour\"}],\"histogram2d\":[{\"colorbar\":{\"outlinewidth\":0,\"tickcolor\":\"rgb(237,237,237)\",\"ticklen\":6,\"ticks\":\"inside\"},\"colorscale\":[[0,\"rgb(20,44,66)\"],[1,\"rgb(90,179,244)\"]],\"type\":\"histogram2d\"}],\"histogram\":[{\"marker\":{\"pattern\":{\"fillmode\":\"overlay\",\"size\":10,\"solidity\":0.2}},\"type\":\"histogram\"}],\"mesh3d\":[{\"colorbar\":{\"outlinewidth\":0,\"tickcolor\":\"rgb(237,237,237)\",\"ticklen\":6,\"ticks\":\"inside\"},\"type\":\"mesh3d\"}],\"parcoords\":[{\"line\":{\"colorbar\":{\"outlinewidth\":0,\"tickcolor\":\"rgb(237,237,237)\",\"ticklen\":6,\"ticks\":\"inside\"}},\"type\":\"parcoords\"}],\"pie\":[{\"automargin\":true,\"type\":\"pie\"}],\"scatter3d\":[{\"line\":{\"colorbar\":{\"outlinewidth\":0,\"tickcolor\":\"rgb(237,237,237)\",\"ticklen\":6,\"ticks\":\"inside\"}},\"marker\":{\"colorbar\":{\"outlinewidth\":0,\"tickcolor\":\"rgb(237,237,237)\",\"ticklen\":6,\"ticks\":\"inside\"}},\"type\":\"scatter3d\"}],\"scattercarpet\":[{\"marker\":{\"colorbar\":{\"outlinewidth\":0,\"tickcolor\":\"rgb(237,237,237)\",\"ticklen\":6,\"ticks\":\"inside\"}},\"type\":\"scattercarpet\"}],\"scattergeo\":[{\"marker\":{\"colorbar\":{\"outlinewidth\":0,\"tickcolor\":\"rgb(237,237,237)\",\"ticklen\":6,\"ticks\":\"inside\"}},\"type\":\"scattergeo\"}],\"scattergl\":[{\"marker\":{\"colorbar\":{\"outlinewidth\":0,\"tickcolor\":\"rgb(237,237,237)\",\"ticklen\":6,\"ticks\":\"inside\"}},\"type\":\"scattergl\"}],\"scattermapbox\":[{\"marker\":{\"colorbar\":{\"outlinewidth\":0,\"tickcolor\":\"rgb(237,237,237)\",\"ticklen\":6,\"ticks\":\"inside\"}},\"type\":\"scattermapbox\"}],\"scatterpolargl\":[{\"marker\":{\"colorbar\":{\"outlinewidth\":0,\"tickcolor\":\"rgb(237,237,237)\",\"ticklen\":6,\"ticks\":\"inside\"}},\"type\":\"scatterpolargl\"}],\"scatterpolar\":[{\"marker\":{\"colorbar\":{\"outlinewidth\":0,\"tickcolor\":\"rgb(237,237,237)\",\"ticklen\":6,\"ticks\":\"inside\"}},\"type\":\"scatterpolar\"}],\"scatter\":[{\"fillpattern\":{\"fillmode\":\"overlay\",\"size\":10,\"solidity\":0.2},\"type\":\"scatter\"}],\"scatterternary\":[{\"marker\":{\"colorbar\":{\"outlinewidth\":0,\"tickcolor\":\"rgb(237,237,237)\",\"ticklen\":6,\"ticks\":\"inside\"}},\"type\":\"scatterternary\"}],\"surface\":[{\"colorbar\":{\"outlinewidth\":0,\"tickcolor\":\"rgb(237,237,237)\",\"ticklen\":6,\"ticks\":\"inside\"},\"colorscale\":[[0,\"rgb(20,44,66)\"],[1,\"rgb(90,179,244)\"]],\"type\":\"surface\"}],\"table\":[{\"cells\":{\"fill\":{\"color\":\"rgb(237,237,237)\"},\"line\":{\"color\":\"white\"}},\"header\":{\"fill\":{\"color\":\"rgb(217,217,217)\"},\"line\":{\"color\":\"white\"}},\"type\":\"table\"}]},\"layout\":{\"annotationdefaults\":{\"arrowhead\":0,\"arrowwidth\":1},\"autotypenumbers\":\"strict\",\"coloraxis\":{\"colorbar\":{\"outlinewidth\":0,\"tickcolor\":\"rgb(237,237,237)\",\"ticklen\":6,\"ticks\":\"inside\"}},\"colorscale\":{\"sequential\":[[0,\"rgb(20,44,66)\"],[1,\"rgb(90,179,244)\"]],\"sequentialminus\":[[0,\"rgb(20,44,66)\"],[1,\"rgb(90,179,244)\"]]},\"colorway\":[\"#F8766D\",\"#A3A500\",\"#00BF7D\",\"#00B0F6\",\"#E76BF3\"],\"font\":{\"color\":\"rgb(51,51,51)\"},\"geo\":{\"bgcolor\":\"white\",\"lakecolor\":\"white\",\"landcolor\":\"rgb(237,237,237)\",\"showlakes\":true,\"showland\":true,\"subunitcolor\":\"white\"},\"hoverlabel\":{\"align\":\"left\"},\"hovermode\":\"closest\",\"paper_bgcolor\":\"white\",\"plot_bgcolor\":\"rgb(237,237,237)\",\"polar\":{\"angularaxis\":{\"gridcolor\":\"white\",\"linecolor\":\"white\",\"showgrid\":true,\"tickcolor\":\"rgb(51,51,51)\",\"ticks\":\"outside\"},\"bgcolor\":\"rgb(237,237,237)\",\"radialaxis\":{\"gridcolor\":\"white\",\"linecolor\":\"white\",\"showgrid\":true,\"tickcolor\":\"rgb(51,51,51)\",\"ticks\":\"outside\"}},\"scene\":{\"xaxis\":{\"backgroundcolor\":\"rgb(237,237,237)\",\"gridcolor\":\"white\",\"gridwidth\":2,\"linecolor\":\"white\",\"showbackground\":true,\"showgrid\":true,\"tickcolor\":\"rgb(51,51,51)\",\"ticks\":\"outside\",\"zerolinecolor\":\"white\"},\"yaxis\":{\"backgroundcolor\":\"rgb(237,237,237)\",\"gridcolor\":\"white\",\"gridwidth\":2,\"linecolor\":\"white\",\"showbackground\":true,\"showgrid\":true,\"tickcolor\":\"rgb(51,51,51)\",\"ticks\":\"outside\",\"zerolinecolor\":\"white\"},\"zaxis\":{\"backgroundcolor\":\"rgb(237,237,237)\",\"gridcolor\":\"white\",\"gridwidth\":2,\"linecolor\":\"white\",\"showbackground\":true,\"showgrid\":true,\"tickcolor\":\"rgb(51,51,51)\",\"ticks\":\"outside\",\"zerolinecolor\":\"white\"}},\"shapedefaults\":{\"fillcolor\":\"black\",\"line\":{\"width\":0},\"opacity\":0.3},\"ternary\":{\"aaxis\":{\"gridcolor\":\"white\",\"linecolor\":\"white\",\"showgrid\":true,\"tickcolor\":\"rgb(51,51,51)\",\"ticks\":\"outside\"},\"baxis\":{\"gridcolor\":\"white\",\"linecolor\":\"white\",\"showgrid\":true,\"tickcolor\":\"rgb(51,51,51)\",\"ticks\":\"outside\"},\"bgcolor\":\"rgb(237,237,237)\",\"caxis\":{\"gridcolor\":\"white\",\"linecolor\":\"white\",\"showgrid\":true,\"tickcolor\":\"rgb(51,51,51)\",\"ticks\":\"outside\"}},\"xaxis\":{\"automargin\":true,\"gridcolor\":\"white\",\"linecolor\":\"white\",\"showgrid\":true,\"tickcolor\":\"rgb(51,51,51)\",\"ticks\":\"outside\",\"title\":{\"standoff\":15},\"zerolinecolor\":\"white\"},\"yaxis\":{\"automargin\":true,\"gridcolor\":\"white\",\"linecolor\":\"white\",\"showgrid\":true,\"tickcolor\":\"rgb(51,51,51)\",\"ticks\":\"outside\",\"title\":{\"standoff\":15},\"zerolinecolor\":\"white\"}}},\"xaxis\":{\"anchor\":\"y\",\"domain\":[0.0,1.0],\"title\":{\"text\":\"Price (USD)\"}},\"yaxis\":{\"anchor\":\"x\",\"domain\":[0.0,1.0],\"title\":{\"text\":\"# of Reviews\"}},\"legend\":{\"title\":{\"text\":\"Genre\"},\"tracegroupgap\":0},\"title\":{\"text\":\"Number of Reviews by Book Price<br><sup>Amazon Bestseller List 2009 to Present</sup>\"}},                        {\"responsive\": true}                    ).then(function(){\n",
       "                            \n",
       "var gd = document.getElementById('f701870e-f150-49ae-beef-928b3927d7c9');\n",
       "var x = new MutationObserver(function (mutations, observer) {{\n",
       "        var display = window.getComputedStyle(gd).display;\n",
       "        if (!display || display === 'none') {{\n",
       "            console.log([gd, 'removed!']);\n",
       "            Plotly.purge(gd);\n",
       "            observer.disconnect();\n",
       "        }}\n",
       "}});\n",
       "\n",
       "// Listen for the removal of the full notebook cells\n",
       "var notebookContainer = gd.closest('#notebook-container');\n",
       "if (notebookContainer) {{\n",
       "    x.observe(notebookContainer, {childList: true});\n",
       "}}\n",
       "\n",
       "// Listen for the clearing of the current output cell\n",
       "var outputEl = gd.closest('.output');\n",
       "if (outputEl) {{\n",
       "    x.observe(outputEl, {childList: true});\n",
       "}}\n",
       "\n",
       "                        })                };                });            </script>        </div>"
      ]
     },
     "metadata": {},
     "output_type": "display_data"
    }
   ],
   "source": [
    "fig = px.scatter(books, \n",
    "                 x='Price',\n",
    "                 y='Reviews',\n",
    "                 title=\"Number of Reviews by Book Price<br><sup>Amazon Bestseller List 2009 to Present</sup>\",\n",
    "                 labels={'Reviews': '# of Reviews', 'Price': 'Price (USD)'},\n",
    "                 color='Genre',\n",
    "                 template='ggplot2'\n",
    "                )\n",
    "fig.show()"
   ]
  },
  {
   "cell_type": "code",
   "execution_count": 54,
   "id": "dd5279ce",
   "metadata": {},
   "outputs": [
    {
     "data": {
      "application/vnd.plotly.v1+json": {
       "config": {
        "plotlyServerURL": "https://plot.ly"
       },
       "data": [
        {
         "hovertemplate": "Genre=Non Fiction<br>Price (USD)=%{x}<br># of Reviews=%{y}<extra></extra>",
         "legendgroup": "Non Fiction",
         "marker": {
          "color": "rgb(76,114,176)",
          "symbol": "circle"
         },
         "mode": "markers",
         "name": "Non Fiction",
         "orientation": "v",
         "showlegend": true,
         "type": "scatter",
         "x": [
          8,
          15,
          12,
          3,
          2,
          23,
          32,
          17,
          4,
          6,
          6,
          8,
          13,
          12.52,
          9,
          5,
          9,
          17.78,
          12,
          11.98,
          14,
          5,
          11,
          24,
          21,
          11,
          11,
          10,
          15,
          13,
          13,
          18,
          8,
          8,
          6.99,
          4,
          18,
          28,
          19,
          14.34,
          16,
          14,
          14,
          14,
          4,
          5,
          8.99,
          10,
          13,
          17,
          15,
          105,
          105,
          5,
          6,
          5,
          16,
          1,
          14,
          9,
          9,
          15,
          15,
          11,
          9,
          2,
          6,
          4,
          4,
          4,
          4,
          4,
          9,
          9,
          20,
          16,
          14,
          12,
          12,
          12,
          11,
          6,
          6,
          14,
          14,
          14,
          14,
          10,
          18,
          15.98,
          7,
          54,
          11,
          9,
          4,
          10,
          10,
          14,
          14,
          22,
          13,
          11,
          11,
          11,
          11,
          11,
          10.58,
          16,
          5,
          15,
          15,
          17,
          17,
          7,
          9,
          6.99,
          21,
          13,
          13,
          12,
          8,
          8,
          8,
          8,
          8,
          8,
          17,
          12,
          25,
          10,
          10,
          6,
          5,
          6,
          8,
          4,
          4,
          4,
          4,
          4,
          4,
          4,
          4,
          13,
          21,
          6,
          15,
          18,
          15,
          13,
          17,
          16,
          20,
          11,
          27,
          8,
          8,
          8,
          6,
          10,
          10,
          10,
          21,
          15,
          4.07,
          16,
          11,
          9,
          14,
          22,
          13,
          13,
          9,
          20,
          20,
          5,
          5,
          14.16,
          10,
          10,
          10,
          26,
          46,
          46,
          46,
          46,
          46,
          46,
          46,
          46,
          46,
          46,
          20,
          7,
          9,
          9,
          15,
          15.49,
          20,
          20,
          4.79,
          6,
          6,
          9,
          9.59,
          11,
          16,
          6,
          17,
          20,
          20,
          17,
          17,
          17,
          17,
          17,
          17,
          17,
          17,
          17,
          18,
          13,
          20,
          20,
          22,
          21,
          11.6,
          28,
          28,
          28,
          28,
          28,
          8,
          8,
          8,
          8,
          8,
          8,
          7.57,
          12,
          24,
          24,
          24,
          24,
          16,
          16,
          16,
          9,
          17,
          14,
          12,
          8,
          11.4,
          53,
          15,
          10.35,
          12,
          12,
          21,
          6,
          6,
          0,
          11,
          15,
          6,
          6,
          6,
          6,
          6,
          9,
          6,
          7.74,
          6,
          6,
          6,
          6,
          6,
          6,
          13,
          9,
          9,
          7,
          7,
          9,
          13,
          13,
          11,
          11,
          11,
          11,
          13,
          5,
          12,
          40,
          40,
          40,
          40,
          40,
          36,
          17,
          14,
          21,
          18,
          17,
          21,
          19.42,
          14,
          12,
          10.34,
          19,
          17.99,
          15,
          15,
          15,
          14.8,
          9,
          9,
          10,
          10,
          7,
          5.06,
          16,
          16,
          16,
          16,
          15,
          19,
          19,
          23,
          11,
          11,
          23,
          23,
          23,
          23,
          12,
          17,
          21,
          15,
          16,
          16,
          16,
          13,
          16,
          11,
          4,
          9,
          15,
          14.89,
          18,
          17,
          9,
          6,
          6,
          14,
          10,
          12,
          18,
          11,
          8,
          8,
          8,
          8
         ],
         "xaxis": "x",
         "y": [
          17350,
          18979,
          7665,
          5983,
          460,
          83212,
          4149,
          5013,
          2313,
          2925,
          2951,
          2426,
          9198,
          33712,
          15921,
          798,
          9374,
          13893,
          29634,
          104159,
          491,
          5360,
          1909,
          1296,
          615,
          61133,
          61133,
          99498,
          11113,
          10070,
          10070,
          3729,
          471,
          26423,
          75520,
          10369,
          16244,
          2884,
          21967,
          40535,
          4761,
          1542,
          1542,
          1542,
          4022,
          3871,
          35003,
          1329,
          4642,
          2137,
          1651,
          6679,
          6679,
          7955,
          37,
          2134,
          2525,
          720,
          956,
          6346,
          6346,
          28729,
          28729,
          45351,
          5413,
          6042,
          13677,
          17323,
          17323,
          17323,
          17323,
          17323,
          1555,
          1215,
          408,
          4799,
          12879,
          7660,
          22288,
          22288,
          1365,
          1636,
          10141,
          3457,
          3457,
          3457,
          3457,
          5972,
          26740,
          58357,
          5476,
          5867,
          4148,
          3564,
          1930,
          15779,
          15779,
          15526,
          15526,
          3776,
          19555,
          25001,
          25001,
          25001,
          25001,
          25001,
          70752,
          5272,
          14128,
          3490,
          3490,
          2812,
          4896,
          9737,
          20485,
          31640,
          4571,
          7396,
          7396,
          7062,
          19576,
          19576,
          19576,
          19576,
          19576,
          19576,
          8393,
          11391,
          8634,
          9342,
          9342,
          10927,
          5235,
          8916,
          2507,
          3673,
          3673,
          3673,
          6990,
          6990,
          6990,
          6990,
          6990,
          6132,
          3014,
          7550,
          3828,
          2752,
          20153,
          1649,
          16515,
          9867,
          1386,
          10199,
          2926,
          17739,
          17739,
          17739,
          3113,
          5542,
          5542,
          5542,
          11769,
          45694,
          75486,
          5347,
          7866,
          5178,
          8093,
          3192,
          3163,
          3163,
          1831,
          10426,
          10426,
          10820,
          10820,
          20037,
          26462,
          13616,
          13616,
          27726,
          8580,
          8580,
          8580,
          8580,
          8580,
          8580,
          8580,
          8580,
          8580,
          8580,
          10009,
          10009,
          1985,
          1985,
          27788,
          90390,
          7802,
          7802,
          65184,
          23047,
          23047,
          9366,
          15104,
          1265,
          3923,
          2272,
          220,
          7827,
          7827,
          5069,
          5069,
          5069,
          5069,
          5069,
          5069,
          5069,
          5069,
          5069,
          1583,
          1907,
          637,
          637,
          2314,
          4587,
          49270,
          3477,
          3477,
          3477,
          3477,
          3477,
          25554,
          25554,
          25554,
          25554,
          25554,
          44174,
          68263,
          1680,
          9325,
          9325,
          9325,
          9325,
          4725,
          4725,
          4725,
          2580,
          3536,
          1789,
          12361,
          24327,
          53535,
          858,
          53549,
          106658,
          23358,
          23358,
          4633,
          13061,
          13061,
          2774,
          440,
          2023,
          3207,
          3207,
          3207,
          3207,
          3207,
          803,
          45368,
          48326,
          23308,
          23308,
          23308,
          23308,
          23308,
          23308,
          9289,
          9289,
          9289,
          7368,
          7368,
          4028,
          4247,
          4247,
          22641,
          22641,
          22641,
          22641,
          1655,
          7861,
          2744,
          1201,
          1201,
          1201,
          1201,
          1201,
          807,
          2663,
          3428,
          2876,
          3601,
          7058,
          10795,
          20153,
          1204,
          44608,
          51448,
          15424,
          25554,
          26490,
          26490,
          26490,
          77899,
          5487,
          3503,
          11550,
          9030,
          35965,
          52375,
          7508,
          7508,
          7508,
          6169,
          7034,
          11034,
          11034,
          1904,
          3319,
          3319,
          11128,
          11128,
          11128,
          11128,
          5977,
          94196,
          4360,
          438,
          29673,
          29673,
          29673,
          29673,
          29673,
          5956,
          6108,
          4585,
          41567,
          53024,
          5492,
          9292,
          3341,
          7497,
          7497,
          13779,
          31125,
          6669,
          17044,
          1302,
          14331,
          14331,
          14331,
          14331
         ],
         "yaxis": "y"
        },
        {
         "hovertemplate": "Genre=Fiction<br>Price (USD)=%{x}<br># of Reviews=%{y}<extra></extra>",
         "legendgroup": "Fiction",
         "marker": {
          "color": "rgb(221,132,82)",
          "symbol": "circle"
         },
         "mode": "markers",
         "name": "Fiction",
         "orientation": "v",
         "showlegend": true,
         "type": "scatter",
         "x": [
          22,
          7.48,
          6,
          11,
          30,
          15,
          8,
          8,
          5,
          14,
          14,
          13,
          17,
          13,
          7.49,
          13,
          5,
          5,
          5,
          5.36,
          0,
          13.58,
          11,
          11,
          11,
          4,
          8,
          11,
          11,
          4,
          8,
          4,
          5,
          5,
          5,
          5,
          0,
          15,
          22,
          15,
          15,
          6,
          13,
          12,
          6,
          8,
          4,
          4,
          8,
          8,
          6,
          6,
          6.62,
          20,
          12.01,
          7,
          18,
          8,
          8,
          15,
          7,
          11,
          14,
          14,
          32,
          0,
          5,
          5,
          5,
          4,
          4,
          4,
          4,
          4,
          6,
          19,
          18,
          9,
          10,
          10,
          9,
          5,
          5,
          5,
          7,
          7,
          14,
          10.62,
          30,
          12,
          18,
          30,
          22,
          52,
          6,
          6,
          5,
          1,
          4.31,
          7,
          4,
          4,
          4,
          4.14,
          9,
          14,
          20,
          10.26,
          0,
          12,
          13,
          10,
          0,
          12,
          10,
          7,
          5,
          5,
          13,
          8,
          8,
          8,
          14.4,
          10,
          8,
          8,
          8,
          8,
          8,
          8,
          8,
          8,
          8.48,
          7,
          12,
          13,
          11,
          9,
          6,
          8.49,
          2,
          27,
          27,
          27,
          9,
          4,
          12,
          12,
          12,
          12,
          10,
          8,
          25,
          6,
          18,
          39,
          13.99,
          10,
          10,
          14,
          9,
          11,
          6,
          6,
          8,
          8,
          12,
          13,
          9,
          9,
          9,
          7,
          11,
          13,
          13,
          7,
          13,
          13.79,
          0,
          18,
          7,
          14,
          14,
          9,
          16,
          2,
          2,
          5,
          5,
          20,
          20,
          7,
          7,
          7,
          14,
          10,
          7,
          13,
          11,
          6,
          6,
          8,
          7,
          9.58,
          14,
          14,
          8,
          8,
          30,
          30,
          7,
          7,
          13.09,
          20,
          18,
          14,
          19,
          10,
          9,
          8,
          8,
          13.29,
          11,
          11,
          16,
          5,
          5,
          18,
          18,
          12,
          12,
          9.42,
          8,
          8,
          0,
          14,
          15,
          10,
          7,
          10,
          6,
          82,
          12,
          16,
          5,
          5,
          5,
          5,
          5,
          5,
          5,
          10,
          10,
          10,
          10,
          8.55,
          4,
          4,
          5,
          8.37,
          9,
          0,
          0,
          0,
          0,
          7,
          21,
          9,
          5,
          20,
          7,
          42,
          12,
          5.98,
          14,
          13,
          13,
          15,
          9,
          13,
          15,
          9,
          9,
          9,
          9,
          9,
          8
         ],
         "xaxis": "x",
         "y": [
          2052,
          70425,
          21424,
          12643,
          19735,
          19699,
          23848,
          23848,
          5153,
          36348,
          36348,
          6310,
          41716,
          12159,
          19470,
          9769,
          14344,
          14344,
          25321,
          45919,
          4505,
          4153,
          22614,
          22614,
          22614,
          20705,
          6143,
          4866,
          4866,
          1541,
          1924,
          2094,
          10922,
          10922,
          10922,
          10922,
          6812,
          3837,
          6540,
          27098,
          27098,
          17684,
          15845,
          3181,
          5062,
          4786,
          7235,
          7235,
          12619,
          9089,
          31045,
          5470,
          22196,
          5118,
          63421,
          5505,
          5505,
          10721,
          10721,
          4370,
          23631,
          20262,
          47265,
          47265,
          13964,
          3642,
          5594,
          5594,
          5594,
          14038,
          14038,
          14038,
          14038,
          14038,
          23356,
          14982,
          52777,
          9568,
          57271,
          57271,
          57271,
          8837,
          8837,
          8837,
          7038,
          7038,
          25624,
          22383,
          19622,
          23973,
          7758,
          3146,
          10052,
          13471,
          17538,
          29121,
          19988,
          24356,
          58200,
          1320,
          16643,
          16643,
          39063,
          68304,
          7153,
          29651,
          5299,
          141748,
          978,
          4748,
          11881,
          1467,
          1884,
          25706,
          43514,
          8491,
          18613,
          18613,
          64215,
          26741,
          26741,
          26741,
          60070,
          5680,
          21834,
          21834,
          21834,
          21834,
          21834,
          21834,
          21834,
          21834,
          41796,
          6169,
          4519,
          18904,
          21930,
          12643,
          12852,
          21271,
          548,
          16990,
          16990,
          16990,
          3503,
          4757,
          22536,
          22536,
          7150,
          3836,
          3619,
          45485,
          973,
          9382,
          23114,
          35799,
          91743,
          11813,
          11813,
          37173,
          11668,
          6600,
          23148,
          23148,
          8081,
          8081,
          9372,
          3523,
          8922,
          8922,
          8922,
          26047,
          1859,
          50482,
          50482,
          50482,
          50482,
          117146,
          5836,
          79446,
          79446,
          7747,
          7747,
          7251,
          7251,
          10559,
          10559,
          5249,
          5249,
          33844,
          33844,
          11616,
          11616,
          11616,
          13609,
          8587,
          29442,
          11098,
          9947,
          13871,
          13871,
          13871,
          13871,
          15399,
          6982,
          32122,
          32122,
          32122,
          16949,
          16949,
          4628,
          4628,
          107449,
          5396,
          6222,
          4506,
          8747,
          6247,
          39459,
          10101,
          5898,
          193482,
          49288,
          49288,
          3759,
          9784,
          9784,
          10191,
          14493,
          2186,
          2091,
          111053,
          19720,
          19720,
          2122,
          27536,
          61060,
          4290,
          6377,
          1463,
          3759,
          3801,
          3796,
          42235,
          19546,
          19546,
          19546,
          19546,
          19546,
          19546,
          19546,
          8842,
          8842,
          8842,
          8842,
          24189,
          30183,
          30183,
          51255,
          31272,
          7932,
          26234,
          26234,
          26234,
          26234,
          26234,
          2282,
          11676,
          2586,
          6740,
          25510,
          3829,
          8958,
          41127,
          1873,
          14705,
          8170,
          87841,
          120727,
          9967,
          10760,
          21625,
          21625,
          21625,
          21625,
          21625,
          9413
         ],
         "yaxis": "y"
        }
       ],
       "layout": {
        "legend": {
         "title": {
          "text": "Genre"
         },
         "tracegroupgap": 0
        },
        "template": {
         "data": {
          "bar": [
           {
            "error_x": {
             "color": "rgb(36,36,36)"
            },
            "error_y": {
             "color": "rgb(36,36,36)"
            },
            "marker": {
             "line": {
              "color": "rgb(234,234,242)",
              "width": 0.5
             },
             "pattern": {
              "fillmode": "overlay",
              "size": 10,
              "solidity": 0.2
             }
            },
            "type": "bar"
           }
          ],
          "barpolar": [
           {
            "marker": {
             "line": {
              "color": "rgb(234,234,242)",
              "width": 0.5
             },
             "pattern": {
              "fillmode": "overlay",
              "size": 10,
              "solidity": 0.2
             }
            },
            "type": "barpolar"
           }
          ],
          "carpet": [
           {
            "aaxis": {
             "endlinecolor": "rgb(36,36,36)",
             "gridcolor": "white",
             "linecolor": "white",
             "minorgridcolor": "white",
             "startlinecolor": "rgb(36,36,36)"
            },
            "baxis": {
             "endlinecolor": "rgb(36,36,36)",
             "gridcolor": "white",
             "linecolor": "white",
             "minorgridcolor": "white",
             "startlinecolor": "rgb(36,36,36)"
            },
            "type": "carpet"
           }
          ],
          "choropleth": [
           {
            "colorbar": {
             "outlinewidth": 0,
             "tickcolor": "rgb(36,36,36)",
             "ticklen": 8,
             "ticks": "outside",
             "tickwidth": 2
            },
            "type": "choropleth"
           }
          ],
          "contour": [
           {
            "colorbar": {
             "outlinewidth": 0,
             "tickcolor": "rgb(36,36,36)",
             "ticklen": 8,
             "ticks": "outside",
             "tickwidth": 2
            },
            "colorscale": [
             [
              0,
              "rgb(2,4,25)"
             ],
             [
              0.06274509803921569,
              "rgb(24,15,41)"
             ],
             [
              0.12549019607843137,
              "rgb(47,23,57)"
             ],
             [
              0.18823529411764706,
              "rgb(71,28,72)"
             ],
             [
              0.25098039215686274,
              "rgb(97,30,82)"
             ],
             [
              0.3137254901960784,
              "rgb(123,30,89)"
             ],
             [
              0.3764705882352941,
              "rgb(150,27,91)"
             ],
             [
              0.4392156862745098,
              "rgb(177,22,88)"
             ],
             [
              0.5019607843137255,
              "rgb(203,26,79)"
             ],
             [
              0.5647058823529412,
              "rgb(223,47,67)"
             ],
             [
              0.6274509803921569,
              "rgb(236,76,61)"
             ],
             [
              0.6901960784313725,
              "rgb(242,107,73)"
             ],
             [
              0.7529411764705882,
              "rgb(244,135,95)"
             ],
             [
              0.8156862745098039,
              "rgb(245,162,122)"
             ],
             [
              0.8784313725490196,
              "rgb(246,188,153)"
             ],
             [
              0.9411764705882353,
              "rgb(247,212,187)"
             ],
             [
              1,
              "rgb(250,234,220)"
             ]
            ],
            "type": "contour"
           }
          ],
          "contourcarpet": [
           {
            "colorbar": {
             "outlinewidth": 0,
             "tickcolor": "rgb(36,36,36)",
             "ticklen": 8,
             "ticks": "outside",
             "tickwidth": 2
            },
            "type": "contourcarpet"
           }
          ],
          "heatmap": [
           {
            "colorbar": {
             "outlinewidth": 0,
             "tickcolor": "rgb(36,36,36)",
             "ticklen": 8,
             "ticks": "outside",
             "tickwidth": 2
            },
            "colorscale": [
             [
              0,
              "rgb(2,4,25)"
             ],
             [
              0.06274509803921569,
              "rgb(24,15,41)"
             ],
             [
              0.12549019607843137,
              "rgb(47,23,57)"
             ],
             [
              0.18823529411764706,
              "rgb(71,28,72)"
             ],
             [
              0.25098039215686274,
              "rgb(97,30,82)"
             ],
             [
              0.3137254901960784,
              "rgb(123,30,89)"
             ],
             [
              0.3764705882352941,
              "rgb(150,27,91)"
             ],
             [
              0.4392156862745098,
              "rgb(177,22,88)"
             ],
             [
              0.5019607843137255,
              "rgb(203,26,79)"
             ],
             [
              0.5647058823529412,
              "rgb(223,47,67)"
             ],
             [
              0.6274509803921569,
              "rgb(236,76,61)"
             ],
             [
              0.6901960784313725,
              "rgb(242,107,73)"
             ],
             [
              0.7529411764705882,
              "rgb(244,135,95)"
             ],
             [
              0.8156862745098039,
              "rgb(245,162,122)"
             ],
             [
              0.8784313725490196,
              "rgb(246,188,153)"
             ],
             [
              0.9411764705882353,
              "rgb(247,212,187)"
             ],
             [
              1,
              "rgb(250,234,220)"
             ]
            ],
            "type": "heatmap"
           }
          ],
          "heatmapgl": [
           {
            "colorbar": {
             "outlinewidth": 0,
             "tickcolor": "rgb(36,36,36)",
             "ticklen": 8,
             "ticks": "outside",
             "tickwidth": 2
            },
            "colorscale": [
             [
              0,
              "rgb(2,4,25)"
             ],
             [
              0.06274509803921569,
              "rgb(24,15,41)"
             ],
             [
              0.12549019607843137,
              "rgb(47,23,57)"
             ],
             [
              0.18823529411764706,
              "rgb(71,28,72)"
             ],
             [
              0.25098039215686274,
              "rgb(97,30,82)"
             ],
             [
              0.3137254901960784,
              "rgb(123,30,89)"
             ],
             [
              0.3764705882352941,
              "rgb(150,27,91)"
             ],
             [
              0.4392156862745098,
              "rgb(177,22,88)"
             ],
             [
              0.5019607843137255,
              "rgb(203,26,79)"
             ],
             [
              0.5647058823529412,
              "rgb(223,47,67)"
             ],
             [
              0.6274509803921569,
              "rgb(236,76,61)"
             ],
             [
              0.6901960784313725,
              "rgb(242,107,73)"
             ],
             [
              0.7529411764705882,
              "rgb(244,135,95)"
             ],
             [
              0.8156862745098039,
              "rgb(245,162,122)"
             ],
             [
              0.8784313725490196,
              "rgb(246,188,153)"
             ],
             [
              0.9411764705882353,
              "rgb(247,212,187)"
             ],
             [
              1,
              "rgb(250,234,220)"
             ]
            ],
            "type": "heatmapgl"
           }
          ],
          "histogram": [
           {
            "marker": {
             "pattern": {
              "fillmode": "overlay",
              "size": 10,
              "solidity": 0.2
             }
            },
            "type": "histogram"
           }
          ],
          "histogram2d": [
           {
            "colorbar": {
             "outlinewidth": 0,
             "tickcolor": "rgb(36,36,36)",
             "ticklen": 8,
             "ticks": "outside",
             "tickwidth": 2
            },
            "colorscale": [
             [
              0,
              "rgb(2,4,25)"
             ],
             [
              0.06274509803921569,
              "rgb(24,15,41)"
             ],
             [
              0.12549019607843137,
              "rgb(47,23,57)"
             ],
             [
              0.18823529411764706,
              "rgb(71,28,72)"
             ],
             [
              0.25098039215686274,
              "rgb(97,30,82)"
             ],
             [
              0.3137254901960784,
              "rgb(123,30,89)"
             ],
             [
              0.3764705882352941,
              "rgb(150,27,91)"
             ],
             [
              0.4392156862745098,
              "rgb(177,22,88)"
             ],
             [
              0.5019607843137255,
              "rgb(203,26,79)"
             ],
             [
              0.5647058823529412,
              "rgb(223,47,67)"
             ],
             [
              0.6274509803921569,
              "rgb(236,76,61)"
             ],
             [
              0.6901960784313725,
              "rgb(242,107,73)"
             ],
             [
              0.7529411764705882,
              "rgb(244,135,95)"
             ],
             [
              0.8156862745098039,
              "rgb(245,162,122)"
             ],
             [
              0.8784313725490196,
              "rgb(246,188,153)"
             ],
             [
              0.9411764705882353,
              "rgb(247,212,187)"
             ],
             [
              1,
              "rgb(250,234,220)"
             ]
            ],
            "type": "histogram2d"
           }
          ],
          "histogram2dcontour": [
           {
            "colorbar": {
             "outlinewidth": 0,
             "tickcolor": "rgb(36,36,36)",
             "ticklen": 8,
             "ticks": "outside",
             "tickwidth": 2
            },
            "colorscale": [
             [
              0,
              "rgb(2,4,25)"
             ],
             [
              0.06274509803921569,
              "rgb(24,15,41)"
             ],
             [
              0.12549019607843137,
              "rgb(47,23,57)"
             ],
             [
              0.18823529411764706,
              "rgb(71,28,72)"
             ],
             [
              0.25098039215686274,
              "rgb(97,30,82)"
             ],
             [
              0.3137254901960784,
              "rgb(123,30,89)"
             ],
             [
              0.3764705882352941,
              "rgb(150,27,91)"
             ],
             [
              0.4392156862745098,
              "rgb(177,22,88)"
             ],
             [
              0.5019607843137255,
              "rgb(203,26,79)"
             ],
             [
              0.5647058823529412,
              "rgb(223,47,67)"
             ],
             [
              0.6274509803921569,
              "rgb(236,76,61)"
             ],
             [
              0.6901960784313725,
              "rgb(242,107,73)"
             ],
             [
              0.7529411764705882,
              "rgb(244,135,95)"
             ],
             [
              0.8156862745098039,
              "rgb(245,162,122)"
             ],
             [
              0.8784313725490196,
              "rgb(246,188,153)"
             ],
             [
              0.9411764705882353,
              "rgb(247,212,187)"
             ],
             [
              1,
              "rgb(250,234,220)"
             ]
            ],
            "type": "histogram2dcontour"
           }
          ],
          "mesh3d": [
           {
            "colorbar": {
             "outlinewidth": 0,
             "tickcolor": "rgb(36,36,36)",
             "ticklen": 8,
             "ticks": "outside",
             "tickwidth": 2
            },
            "type": "mesh3d"
           }
          ],
          "parcoords": [
           {
            "line": {
             "colorbar": {
              "outlinewidth": 0,
              "tickcolor": "rgb(36,36,36)",
              "ticklen": 8,
              "ticks": "outside",
              "tickwidth": 2
             }
            },
            "type": "parcoords"
           }
          ],
          "pie": [
           {
            "automargin": true,
            "type": "pie"
           }
          ],
          "scatter": [
           {
            "fillpattern": {
             "fillmode": "overlay",
             "size": 10,
             "solidity": 0.2
            },
            "type": "scatter"
           }
          ],
          "scatter3d": [
           {
            "line": {
             "colorbar": {
              "outlinewidth": 0,
              "tickcolor": "rgb(36,36,36)",
              "ticklen": 8,
              "ticks": "outside",
              "tickwidth": 2
             }
            },
            "marker": {
             "colorbar": {
              "outlinewidth": 0,
              "tickcolor": "rgb(36,36,36)",
              "ticklen": 8,
              "ticks": "outside",
              "tickwidth": 2
             }
            },
            "type": "scatter3d"
           }
          ],
          "scattercarpet": [
           {
            "marker": {
             "colorbar": {
              "outlinewidth": 0,
              "tickcolor": "rgb(36,36,36)",
              "ticklen": 8,
              "ticks": "outside",
              "tickwidth": 2
             }
            },
            "type": "scattercarpet"
           }
          ],
          "scattergeo": [
           {
            "marker": {
             "colorbar": {
              "outlinewidth": 0,
              "tickcolor": "rgb(36,36,36)",
              "ticklen": 8,
              "ticks": "outside",
              "tickwidth": 2
             }
            },
            "type": "scattergeo"
           }
          ],
          "scattergl": [
           {
            "marker": {
             "colorbar": {
              "outlinewidth": 0,
              "tickcolor": "rgb(36,36,36)",
              "ticklen": 8,
              "ticks": "outside",
              "tickwidth": 2
             }
            },
            "type": "scattergl"
           }
          ],
          "scattermapbox": [
           {
            "marker": {
             "colorbar": {
              "outlinewidth": 0,
              "tickcolor": "rgb(36,36,36)",
              "ticklen": 8,
              "ticks": "outside",
              "tickwidth": 2
             }
            },
            "type": "scattermapbox"
           }
          ],
          "scatterpolar": [
           {
            "marker": {
             "colorbar": {
              "outlinewidth": 0,
              "tickcolor": "rgb(36,36,36)",
              "ticklen": 8,
              "ticks": "outside",
              "tickwidth": 2
             }
            },
            "type": "scatterpolar"
           }
          ],
          "scatterpolargl": [
           {
            "marker": {
             "colorbar": {
              "outlinewidth": 0,
              "tickcolor": "rgb(36,36,36)",
              "ticklen": 8,
              "ticks": "outside",
              "tickwidth": 2
             }
            },
            "type": "scatterpolargl"
           }
          ],
          "scatterternary": [
           {
            "marker": {
             "colorbar": {
              "outlinewidth": 0,
              "tickcolor": "rgb(36,36,36)",
              "ticklen": 8,
              "ticks": "outside",
              "tickwidth": 2
             }
            },
            "type": "scatterternary"
           }
          ],
          "surface": [
           {
            "colorbar": {
             "outlinewidth": 0,
             "tickcolor": "rgb(36,36,36)",
             "ticklen": 8,
             "ticks": "outside",
             "tickwidth": 2
            },
            "colorscale": [
             [
              0,
              "rgb(2,4,25)"
             ],
             [
              0.06274509803921569,
              "rgb(24,15,41)"
             ],
             [
              0.12549019607843137,
              "rgb(47,23,57)"
             ],
             [
              0.18823529411764706,
              "rgb(71,28,72)"
             ],
             [
              0.25098039215686274,
              "rgb(97,30,82)"
             ],
             [
              0.3137254901960784,
              "rgb(123,30,89)"
             ],
             [
              0.3764705882352941,
              "rgb(150,27,91)"
             ],
             [
              0.4392156862745098,
              "rgb(177,22,88)"
             ],
             [
              0.5019607843137255,
              "rgb(203,26,79)"
             ],
             [
              0.5647058823529412,
              "rgb(223,47,67)"
             ],
             [
              0.6274509803921569,
              "rgb(236,76,61)"
             ],
             [
              0.6901960784313725,
              "rgb(242,107,73)"
             ],
             [
              0.7529411764705882,
              "rgb(244,135,95)"
             ],
             [
              0.8156862745098039,
              "rgb(245,162,122)"
             ],
             [
              0.8784313725490196,
              "rgb(246,188,153)"
             ],
             [
              0.9411764705882353,
              "rgb(247,212,187)"
             ],
             [
              1,
              "rgb(250,234,220)"
             ]
            ],
            "type": "surface"
           }
          ],
          "table": [
           {
            "cells": {
             "fill": {
              "color": "rgb(231,231,240)"
             },
             "line": {
              "color": "white"
             }
            },
            "header": {
             "fill": {
              "color": "rgb(183,183,191)"
             },
             "line": {
              "color": "white"
             }
            },
            "type": "table"
           }
          ]
         },
         "layout": {
          "annotationdefaults": {
           "arrowcolor": "rgb(67,103,167)"
          },
          "autotypenumbers": "strict",
          "coloraxis": {
           "colorbar": {
            "outlinewidth": 0,
            "tickcolor": "rgb(36,36,36)",
            "ticklen": 8,
            "ticks": "outside",
            "tickwidth": 2
           }
          },
          "colorscale": {
           "sequential": [
            [
             0,
             "rgb(2,4,25)"
            ],
            [
             0.06274509803921569,
             "rgb(24,15,41)"
            ],
            [
             0.12549019607843137,
             "rgb(47,23,57)"
            ],
            [
             0.18823529411764706,
             "rgb(71,28,72)"
            ],
            [
             0.25098039215686274,
             "rgb(97,30,82)"
            ],
            [
             0.3137254901960784,
             "rgb(123,30,89)"
            ],
            [
             0.3764705882352941,
             "rgb(150,27,91)"
            ],
            [
             0.4392156862745098,
             "rgb(177,22,88)"
            ],
            [
             0.5019607843137255,
             "rgb(203,26,79)"
            ],
            [
             0.5647058823529412,
             "rgb(223,47,67)"
            ],
            [
             0.6274509803921569,
             "rgb(236,76,61)"
            ],
            [
             0.6901960784313725,
             "rgb(242,107,73)"
            ],
            [
             0.7529411764705882,
             "rgb(244,135,95)"
            ],
            [
             0.8156862745098039,
             "rgb(245,162,122)"
            ],
            [
             0.8784313725490196,
             "rgb(246,188,153)"
            ],
            [
             0.9411764705882353,
             "rgb(247,212,187)"
            ],
            [
             1,
             "rgb(250,234,220)"
            ]
           ],
           "sequentialminus": [
            [
             0,
             "rgb(2,4,25)"
            ],
            [
             0.06274509803921569,
             "rgb(24,15,41)"
            ],
            [
             0.12549019607843137,
             "rgb(47,23,57)"
            ],
            [
             0.18823529411764706,
             "rgb(71,28,72)"
            ],
            [
             0.25098039215686274,
             "rgb(97,30,82)"
            ],
            [
             0.3137254901960784,
             "rgb(123,30,89)"
            ],
            [
             0.3764705882352941,
             "rgb(150,27,91)"
            ],
            [
             0.4392156862745098,
             "rgb(177,22,88)"
            ],
            [
             0.5019607843137255,
             "rgb(203,26,79)"
            ],
            [
             0.5647058823529412,
             "rgb(223,47,67)"
            ],
            [
             0.6274509803921569,
             "rgb(236,76,61)"
            ],
            [
             0.6901960784313725,
             "rgb(242,107,73)"
            ],
            [
             0.7529411764705882,
             "rgb(244,135,95)"
            ],
            [
             0.8156862745098039,
             "rgb(245,162,122)"
            ],
            [
             0.8784313725490196,
             "rgb(246,188,153)"
            ],
            [
             0.9411764705882353,
             "rgb(247,212,187)"
            ],
            [
             1,
             "rgb(250,234,220)"
            ]
           ]
          },
          "colorway": [
           "rgb(76,114,176)",
           "rgb(221,132,82)",
           "rgb(85,168,104)",
           "rgb(196,78,82)",
           "rgb(129,114,179)",
           "rgb(147,120,96)",
           "rgb(218,139,195)",
           "rgb(140,140,140)",
           "rgb(204,185,116)",
           "rgb(100,181,205)"
          ],
          "font": {
           "color": "rgb(36,36,36)"
          },
          "geo": {
           "bgcolor": "white",
           "lakecolor": "white",
           "landcolor": "rgb(234,234,242)",
           "showlakes": true,
           "showland": true,
           "subunitcolor": "white"
          },
          "hoverlabel": {
           "align": "left"
          },
          "hovermode": "closest",
          "paper_bgcolor": "white",
          "plot_bgcolor": "rgb(234,234,242)",
          "polar": {
           "angularaxis": {
            "gridcolor": "white",
            "linecolor": "white",
            "showgrid": true,
            "ticks": ""
           },
           "bgcolor": "rgb(234,234,242)",
           "radialaxis": {
            "gridcolor": "white",
            "linecolor": "white",
            "showgrid": true,
            "ticks": ""
           }
          },
          "scene": {
           "xaxis": {
            "backgroundcolor": "rgb(234,234,242)",
            "gridcolor": "white",
            "gridwidth": 2,
            "linecolor": "white",
            "showbackground": true,
            "showgrid": true,
            "ticks": "",
            "zerolinecolor": "white"
           },
           "yaxis": {
            "backgroundcolor": "rgb(234,234,242)",
            "gridcolor": "white",
            "gridwidth": 2,
            "linecolor": "white",
            "showbackground": true,
            "showgrid": true,
            "ticks": "",
            "zerolinecolor": "white"
           },
           "zaxis": {
            "backgroundcolor": "rgb(234,234,242)",
            "gridcolor": "white",
            "gridwidth": 2,
            "linecolor": "white",
            "showbackground": true,
            "showgrid": true,
            "ticks": "",
            "zerolinecolor": "white"
           }
          },
          "shapedefaults": {
           "fillcolor": "rgb(67,103,167)",
           "line": {
            "width": 0
           },
           "opacity": 0.5
          },
          "ternary": {
           "aaxis": {
            "gridcolor": "white",
            "linecolor": "white",
            "showgrid": true,
            "ticks": ""
           },
           "baxis": {
            "gridcolor": "white",
            "linecolor": "white",
            "showgrid": true,
            "ticks": ""
           },
           "bgcolor": "rgb(234,234,242)",
           "caxis": {
            "gridcolor": "white",
            "linecolor": "white",
            "showgrid": true,
            "ticks": ""
           }
          },
          "xaxis": {
           "automargin": true,
           "gridcolor": "white",
           "linecolor": "white",
           "showgrid": true,
           "ticks": "",
           "title": {
            "standoff": 15
           },
           "zerolinecolor": "white"
          },
          "yaxis": {
           "automargin": true,
           "gridcolor": "white",
           "linecolor": "white",
           "showgrid": true,
           "ticks": "",
           "title": {
            "standoff": 15
           },
           "zerolinecolor": "white"
          }
         }
        },
        "title": {
         "text": "Number of Reviews by Book Price<br><sup>Amazon Bestseller List 2009 to Present</sup>"
        },
        "xaxis": {
         "anchor": "y",
         "domain": [
          0,
          1
         ],
         "title": {
          "text": "Price (USD)"
         }
        },
        "yaxis": {
         "anchor": "x",
         "domain": [
          0,
          1
         ],
         "title": {
          "text": "# of Reviews"
         }
        }
       }
      },
      "text/html": [
       "<div>                            <div id=\"a6beee6b-e71f-439c-8d75-39c09a716c3e\" class=\"plotly-graph-div\" style=\"height:525px; width:100%;\"></div>            <script type=\"text/javascript\">                require([\"plotly\"], function(Plotly) {                    window.PLOTLYENV=window.PLOTLYENV || {};                                    if (document.getElementById(\"a6beee6b-e71f-439c-8d75-39c09a716c3e\")) {                    Plotly.newPlot(                        \"a6beee6b-e71f-439c-8d75-39c09a716c3e\",                        [{\"hovertemplate\":\"Genre=Non Fiction<br>Price (USD)=%{x}<br># of Reviews=%{y}<extra></extra>\",\"legendgroup\":\"Non Fiction\",\"marker\":{\"color\":\"rgb(76,114,176)\",\"symbol\":\"circle\"},\"mode\":\"markers\",\"name\":\"Non Fiction\",\"orientation\":\"v\",\"showlegend\":true,\"x\":[8.0,15.0,12.0,3.0,2.0,23.0,32.0,17.0,4.0,6.0,6.0,8.0,13.0,12.52,9.0,5.0,9.0,17.78,12.0,11.98,14.0,5.0,11.0,24.0,21.0,11.0,11.0,10.0,15.0,13.0,13.0,18.0,8.0,8.0,6.99,4.0,18.0,28.0,19.0,14.34,16.0,14.0,14.0,14.0,4.0,5.0,8.99,10.0,13.0,17.0,15.0,105.0,105.0,5.0,6.0,5.0,16.0,1.0,14.0,9.0,9.0,15.0,15.0,11.0,9.0,2.0,6.0,4.0,4.0,4.0,4.0,4.0,9.0,9.0,20.0,16.0,14.0,12.0,12.0,12.0,11.0,6.0,6.0,14.0,14.0,14.0,14.0,10.0,18.0,15.98,7.0,54.0,11.0,9.0,4.0,10.0,10.0,14.0,14.0,22.0,13.0,11.0,11.0,11.0,11.0,11.0,10.58,16.0,5.0,15.0,15.0,17.0,17.0,7.0,9.0,6.99,21.0,13.0,13.0,12.0,8.0,8.0,8.0,8.0,8.0,8.0,17.0,12.0,25.0,10.0,10.0,6.0,5.0,6.0,8.0,4.0,4.0,4.0,4.0,4.0,4.0,4.0,4.0,13.0,21.0,6.0,15.0,18.0,15.0,13.0,17.0,16.0,20.0,11.0,27.0,8.0,8.0,8.0,6.0,10.0,10.0,10.0,21.0,15.0,4.07,16.0,11.0,9.0,14.0,22.0,13.0,13.0,9.0,20.0,20.0,5.0,5.0,14.16,10.0,10.0,10.0,26.0,46.0,46.0,46.0,46.0,46.0,46.0,46.0,46.0,46.0,46.0,20.0,7.0,9.0,9.0,15.0,15.49,20.0,20.0,4.79,6.0,6.0,9.0,9.59,11.0,16.0,6.0,17.0,20.0,20.0,17.0,17.0,17.0,17.0,17.0,17.0,17.0,17.0,17.0,18.0,13.0,20.0,20.0,22.0,21.0,11.6,28.0,28.0,28.0,28.0,28.0,8.0,8.0,8.0,8.0,8.0,8.0,7.57,12.0,24.0,24.0,24.0,24.0,16.0,16.0,16.0,9.0,17.0,14.0,12.0,8.0,11.4,53.0,15.0,10.35,12.0,12.0,21.0,6.0,6.0,0.0,11.0,15.0,6.0,6.0,6.0,6.0,6.0,9.0,6.0,7.74,6.0,6.0,6.0,6.0,6.0,6.0,13.0,9.0,9.0,7.0,7.0,9.0,13.0,13.0,11.0,11.0,11.0,11.0,13.0,5.0,12.0,40.0,40.0,40.0,40.0,40.0,36.0,17.0,14.0,21.0,18.0,17.0,21.0,19.42,14.0,12.0,10.34,19.0,17.99,15.0,15.0,15.0,14.8,9.0,9.0,10.0,10.0,7.0,5.06,16.0,16.0,16.0,16.0,15.0,19.0,19.0,23.0,11.0,11.0,23.0,23.0,23.0,23.0,12.0,17.0,21.0,15.0,16.0,16.0,16.0,13.0,16.0,11.0,4.0,9.0,15.0,14.89,18.0,17.0,9.0,6.0,6.0,14.0,10.0,12.0,18.0,11.0,8.0,8.0,8.0,8.0],\"xaxis\":\"x\",\"y\":[17350.0,18979.0,7665.0,5983.0,460.0,83212.0,4149.0,5013.0,2313.0,2925.0,2951.0,2426.0,9198.0,33712.0,15921.0,798.0,9374.0,13893.0,29634.0,104159.0,491.0,5360.0,1909.0,1296.0,615.0,61133.0,61133.0,99498.0,11113.0,10070.0,10070.0,3729.0,471.0,26423.0,75520.0,10369.0,16244.0,2884.0,21967.0,40535.0,4761.0,1542.0,1542.0,1542.0,4022.0,3871.0,35003.0,1329.0,4642.0,2137.0,1651.0,6679.0,6679.0,7955.0,37.0,2134.0,2525.0,720.0,956.0,6346.0,6346.0,28729.0,28729.0,45351.0,5413.0,6042.0,13677.0,17323.0,17323.0,17323.0,17323.0,17323.0,1555.0,1215.0,408.0,4799.0,12879.0,7660.0,22288.0,22288.0,1365.0,1636.0,10141.0,3457.0,3457.0,3457.0,3457.0,5972.0,26740.0,58357.0,5476.0,5867.0,4148.0,3564.0,1930.0,15779.0,15779.0,15526.0,15526.0,3776.0,19555.0,25001.0,25001.0,25001.0,25001.0,25001.0,70752.0,5272.0,14128.0,3490.0,3490.0,2812.0,4896.0,9737.0,20485.0,31640.0,4571.0,7396.0,7396.0,7062.0,19576.0,19576.0,19576.0,19576.0,19576.0,19576.0,8393.0,11391.0,8634.0,9342.0,9342.0,10927.0,5235.0,8916.0,2507.0,3673.0,3673.0,3673.0,6990.0,6990.0,6990.0,6990.0,6990.0,6132.0,3014.0,7550.0,3828.0,2752.0,20153.0,1649.0,16515.0,9867.0,1386.0,10199.0,2926.0,17739.0,17739.0,17739.0,3113.0,5542.0,5542.0,5542.0,11769.0,45694.0,75486.0,5347.0,7866.0,5178.0,8093.0,3192.0,3163.0,3163.0,1831.0,10426.0,10426.0,10820.0,10820.0,20037.0,26462.0,13616.0,13616.0,27726.0,8580.0,8580.0,8580.0,8580.0,8580.0,8580.0,8580.0,8580.0,8580.0,8580.0,10009.0,10009.0,1985.0,1985.0,27788.0,90390.0,7802.0,7802.0,65184.0,23047.0,23047.0,9366.0,15104.0,1265.0,3923.0,2272.0,220.0,7827.0,7827.0,5069.0,5069.0,5069.0,5069.0,5069.0,5069.0,5069.0,5069.0,5069.0,1583.0,1907.0,637.0,637.0,2314.0,4587.0,49270.0,3477.0,3477.0,3477.0,3477.0,3477.0,25554.0,25554.0,25554.0,25554.0,25554.0,44174.0,68263.0,1680.0,9325.0,9325.0,9325.0,9325.0,4725.0,4725.0,4725.0,2580.0,3536.0,1789.0,12361.0,24327.0,53535.0,858.0,53549.0,106658.0,23358.0,23358.0,4633.0,13061.0,13061.0,2774.0,440.0,2023.0,3207.0,3207.0,3207.0,3207.0,3207.0,803.0,45368.0,48326.0,23308.0,23308.0,23308.0,23308.0,23308.0,23308.0,9289.0,9289.0,9289.0,7368.0,7368.0,4028.0,4247.0,4247.0,22641.0,22641.0,22641.0,22641.0,1655.0,7861.0,2744.0,1201.0,1201.0,1201.0,1201.0,1201.0,807.0,2663.0,3428.0,2876.0,3601.0,7058.0,10795.0,20153.0,1204.0,44608.0,51448.0,15424.0,25554.0,26490.0,26490.0,26490.0,77899.0,5487.0,3503.0,11550.0,9030.0,35965.0,52375.0,7508.0,7508.0,7508.0,6169.0,7034.0,11034.0,11034.0,1904.0,3319.0,3319.0,11128.0,11128.0,11128.0,11128.0,5977.0,94196.0,4360.0,438.0,29673.0,29673.0,29673.0,29673.0,29673.0,5956.0,6108.0,4585.0,41567.0,53024.0,5492.0,9292.0,3341.0,7497.0,7497.0,13779.0,31125.0,6669.0,17044.0,1302.0,14331.0,14331.0,14331.0,14331.0],\"yaxis\":\"y\",\"type\":\"scatter\"},{\"hovertemplate\":\"Genre=Fiction<br>Price (USD)=%{x}<br># of Reviews=%{y}<extra></extra>\",\"legendgroup\":\"Fiction\",\"marker\":{\"color\":\"rgb(221,132,82)\",\"symbol\":\"circle\"},\"mode\":\"markers\",\"name\":\"Fiction\",\"orientation\":\"v\",\"showlegend\":true,\"x\":[22.0,7.48,6.0,11.0,30.0,15.0,8.0,8.0,5.0,14.0,14.0,13.0,17.0,13.0,7.49,13.0,5.0,5.0,5.0,5.36,0.0,13.58,11.0,11.0,11.0,4.0,8.0,11.0,11.0,4.0,8.0,4.0,5.0,5.0,5.0,5.0,0.0,15.0,22.0,15.0,15.0,6.0,13.0,12.0,6.0,8.0,4.0,4.0,8.0,8.0,6.0,6.0,6.62,20.0,12.01,7.0,18.0,8.0,8.0,15.0,7.0,11.0,14.0,14.0,32.0,0.0,5.0,5.0,5.0,4.0,4.0,4.0,4.0,4.0,6.0,19.0,18.0,9.0,10.0,10.0,9.0,5.0,5.0,5.0,7.0,7.0,14.0,10.62,30.0,12.0,18.0,30.0,22.0,52.0,6.0,6.0,5.0,1.0,4.31,7.0,4.0,4.0,4.0,4.14,9.0,14.0,20.0,10.26,0.0,12.0,13.0,10.0,0.0,12.0,10.0,7.0,5.0,5.0,13.0,8.0,8.0,8.0,14.4,10.0,8.0,8.0,8.0,8.0,8.0,8.0,8.0,8.0,8.48,7.0,12.0,13.0,11.0,9.0,6.0,8.49,2.0,27.0,27.0,27.0,9.0,4.0,12.0,12.0,12.0,12.0,10.0,8.0,25.0,6.0,18.0,39.0,13.99,10.0,10.0,14.0,9.0,11.0,6.0,6.0,8.0,8.0,12.0,13.0,9.0,9.0,9.0,7.0,11.0,13.0,13.0,7.0,13.0,13.79,0.0,18.0,7.0,14.0,14.0,9.0,16.0,2.0,2.0,5.0,5.0,20.0,20.0,7.0,7.0,7.0,14.0,10.0,7.0,13.0,11.0,6.0,6.0,8.0,7.0,9.58,14.0,14.0,8.0,8.0,30.0,30.0,7.0,7.0,13.09,20.0,18.0,14.0,19.0,10.0,9.0,8.0,8.0,13.29,11.0,11.0,16.0,5.0,5.0,18.0,18.0,12.0,12.0,9.42,8.0,8.0,0.0,14.0,15.0,10.0,7.0,10.0,6.0,82.0,12.0,16.0,5.0,5.0,5.0,5.0,5.0,5.0,5.0,10.0,10.0,10.0,10.0,8.55,4.0,4.0,5.0,8.37,9.0,0.0,0.0,0.0,0.0,7.0,21.0,9.0,5.0,20.0,7.0,42.0,12.0,5.98,14.0,13.0,13.0,15.0,9.0,13.0,15.0,9.0,9.0,9.0,9.0,9.0,8.0],\"xaxis\":\"x\",\"y\":[2052.0,70425.0,21424.0,12643.0,19735.0,19699.0,23848.0,23848.0,5153.0,36348.0,36348.0,6310.0,41716.0,12159.0,19470.0,9769.0,14344.0,14344.0,25321.0,45919.0,4505.0,4153.0,22614.0,22614.0,22614.0,20705.0,6143.0,4866.0,4866.0,1541.0,1924.0,2094.0,10922.0,10922.0,10922.0,10922.0,6812.0,3837.0,6540.0,27098.0,27098.0,17684.0,15845.0,3181.0,5062.0,4786.0,7235.0,7235.0,12619.0,9089.0,31045.0,5470.0,22196.0,5118.0,63421.0,5505.0,5505.0,10721.0,10721.0,4370.0,23631.0,20262.0,47265.0,47265.0,13964.0,3642.0,5594.0,5594.0,5594.0,14038.0,14038.0,14038.0,14038.0,14038.0,23356.0,14982.0,52777.0,9568.0,57271.0,57271.0,57271.0,8837.0,8837.0,8837.0,7038.0,7038.0,25624.0,22383.0,19622.0,23973.0,7758.0,3146.0,10052.0,13471.0,17538.0,29121.0,19988.0,24356.0,58200.0,1320.0,16643.0,16643.0,39063.0,68304.0,7153.0,29651.0,5299.0,141748.0,978.0,4748.0,11881.0,1467.0,1884.0,25706.0,43514.0,8491.0,18613.0,18613.0,64215.0,26741.0,26741.0,26741.0,60070.0,5680.0,21834.0,21834.0,21834.0,21834.0,21834.0,21834.0,21834.0,21834.0,41796.0,6169.0,4519.0,18904.0,21930.0,12643.0,12852.0,21271.0,548.0,16990.0,16990.0,16990.0,3503.0,4757.0,22536.0,22536.0,7150.0,3836.0,3619.0,45485.0,973.0,9382.0,23114.0,35799.0,91743.0,11813.0,11813.0,37173.0,11668.0,6600.0,23148.0,23148.0,8081.0,8081.0,9372.0,3523.0,8922.0,8922.0,8922.0,26047.0,1859.0,50482.0,50482.0,50482.0,50482.0,117146.0,5836.0,79446.0,79446.0,7747.0,7747.0,7251.0,7251.0,10559.0,10559.0,5249.0,5249.0,33844.0,33844.0,11616.0,11616.0,11616.0,13609.0,8587.0,29442.0,11098.0,9947.0,13871.0,13871.0,13871.0,13871.0,15399.0,6982.0,32122.0,32122.0,32122.0,16949.0,16949.0,4628.0,4628.0,107449.0,5396.0,6222.0,4506.0,8747.0,6247.0,39459.0,10101.0,5898.0,193482.0,49288.0,49288.0,3759.0,9784.0,9784.0,10191.0,14493.0,2186.0,2091.0,111053.0,19720.0,19720.0,2122.0,27536.0,61060.0,4290.0,6377.0,1463.0,3759.0,3801.0,3796.0,42235.0,19546.0,19546.0,19546.0,19546.0,19546.0,19546.0,19546.0,8842.0,8842.0,8842.0,8842.0,24189.0,30183.0,30183.0,51255.0,31272.0,7932.0,26234.0,26234.0,26234.0,26234.0,26234.0,2282.0,11676.0,2586.0,6740.0,25510.0,3829.0,8958.0,41127.0,1873.0,14705.0,8170.0,87841.0,120727.0,9967.0,10760.0,21625.0,21625.0,21625.0,21625.0,21625.0,9413.0],\"yaxis\":\"y\",\"type\":\"scatter\"}],                        {\"template\":{\"data\":{\"barpolar\":[{\"marker\":{\"line\":{\"color\":\"rgb(234,234,242)\",\"width\":0.5},\"pattern\":{\"fillmode\":\"overlay\",\"size\":10,\"solidity\":0.2}},\"type\":\"barpolar\"}],\"bar\":[{\"error_x\":{\"color\":\"rgb(36,36,36)\"},\"error_y\":{\"color\":\"rgb(36,36,36)\"},\"marker\":{\"line\":{\"color\":\"rgb(234,234,242)\",\"width\":0.5},\"pattern\":{\"fillmode\":\"overlay\",\"size\":10,\"solidity\":0.2}},\"type\":\"bar\"}],\"carpet\":[{\"aaxis\":{\"endlinecolor\":\"rgb(36,36,36)\",\"gridcolor\":\"white\",\"linecolor\":\"white\",\"minorgridcolor\":\"white\",\"startlinecolor\":\"rgb(36,36,36)\"},\"baxis\":{\"endlinecolor\":\"rgb(36,36,36)\",\"gridcolor\":\"white\",\"linecolor\":\"white\",\"minorgridcolor\":\"white\",\"startlinecolor\":\"rgb(36,36,36)\"},\"type\":\"carpet\"}],\"choropleth\":[{\"colorbar\":{\"outlinewidth\":0,\"tickcolor\":\"rgb(36,36,36)\",\"ticklen\":8,\"ticks\":\"outside\",\"tickwidth\":2},\"type\":\"choropleth\"}],\"contourcarpet\":[{\"colorbar\":{\"outlinewidth\":0,\"tickcolor\":\"rgb(36,36,36)\",\"ticklen\":8,\"ticks\":\"outside\",\"tickwidth\":2},\"type\":\"contourcarpet\"}],\"contour\":[{\"colorbar\":{\"outlinewidth\":0,\"tickcolor\":\"rgb(36,36,36)\",\"ticklen\":8,\"ticks\":\"outside\",\"tickwidth\":2},\"colorscale\":[[0.0,\"rgb(2,4,25)\"],[0.06274509803921569,\"rgb(24,15,41)\"],[0.12549019607843137,\"rgb(47,23,57)\"],[0.18823529411764706,\"rgb(71,28,72)\"],[0.25098039215686274,\"rgb(97,30,82)\"],[0.3137254901960784,\"rgb(123,30,89)\"],[0.3764705882352941,\"rgb(150,27,91)\"],[0.4392156862745098,\"rgb(177,22,88)\"],[0.5019607843137255,\"rgb(203,26,79)\"],[0.5647058823529412,\"rgb(223,47,67)\"],[0.6274509803921569,\"rgb(236,76,61)\"],[0.6901960784313725,\"rgb(242,107,73)\"],[0.7529411764705882,\"rgb(244,135,95)\"],[0.8156862745098039,\"rgb(245,162,122)\"],[0.8784313725490196,\"rgb(246,188,153)\"],[0.9411764705882353,\"rgb(247,212,187)\"],[1.0,\"rgb(250,234,220)\"]],\"type\":\"contour\"}],\"heatmapgl\":[{\"colorbar\":{\"outlinewidth\":0,\"tickcolor\":\"rgb(36,36,36)\",\"ticklen\":8,\"ticks\":\"outside\",\"tickwidth\":2},\"colorscale\":[[0.0,\"rgb(2,4,25)\"],[0.06274509803921569,\"rgb(24,15,41)\"],[0.12549019607843137,\"rgb(47,23,57)\"],[0.18823529411764706,\"rgb(71,28,72)\"],[0.25098039215686274,\"rgb(97,30,82)\"],[0.3137254901960784,\"rgb(123,30,89)\"],[0.3764705882352941,\"rgb(150,27,91)\"],[0.4392156862745098,\"rgb(177,22,88)\"],[0.5019607843137255,\"rgb(203,26,79)\"],[0.5647058823529412,\"rgb(223,47,67)\"],[0.6274509803921569,\"rgb(236,76,61)\"],[0.6901960784313725,\"rgb(242,107,73)\"],[0.7529411764705882,\"rgb(244,135,95)\"],[0.8156862745098039,\"rgb(245,162,122)\"],[0.8784313725490196,\"rgb(246,188,153)\"],[0.9411764705882353,\"rgb(247,212,187)\"],[1.0,\"rgb(250,234,220)\"]],\"type\":\"heatmapgl\"}],\"heatmap\":[{\"colorbar\":{\"outlinewidth\":0,\"tickcolor\":\"rgb(36,36,36)\",\"ticklen\":8,\"ticks\":\"outside\",\"tickwidth\":2},\"colorscale\":[[0.0,\"rgb(2,4,25)\"],[0.06274509803921569,\"rgb(24,15,41)\"],[0.12549019607843137,\"rgb(47,23,57)\"],[0.18823529411764706,\"rgb(71,28,72)\"],[0.25098039215686274,\"rgb(97,30,82)\"],[0.3137254901960784,\"rgb(123,30,89)\"],[0.3764705882352941,\"rgb(150,27,91)\"],[0.4392156862745098,\"rgb(177,22,88)\"],[0.5019607843137255,\"rgb(203,26,79)\"],[0.5647058823529412,\"rgb(223,47,67)\"],[0.6274509803921569,\"rgb(236,76,61)\"],[0.6901960784313725,\"rgb(242,107,73)\"],[0.7529411764705882,\"rgb(244,135,95)\"],[0.8156862745098039,\"rgb(245,162,122)\"],[0.8784313725490196,\"rgb(246,188,153)\"],[0.9411764705882353,\"rgb(247,212,187)\"],[1.0,\"rgb(250,234,220)\"]],\"type\":\"heatmap\"}],\"histogram2dcontour\":[{\"colorbar\":{\"outlinewidth\":0,\"tickcolor\":\"rgb(36,36,36)\",\"ticklen\":8,\"ticks\":\"outside\",\"tickwidth\":2},\"colorscale\":[[0.0,\"rgb(2,4,25)\"],[0.06274509803921569,\"rgb(24,15,41)\"],[0.12549019607843137,\"rgb(47,23,57)\"],[0.18823529411764706,\"rgb(71,28,72)\"],[0.25098039215686274,\"rgb(97,30,82)\"],[0.3137254901960784,\"rgb(123,30,89)\"],[0.3764705882352941,\"rgb(150,27,91)\"],[0.4392156862745098,\"rgb(177,22,88)\"],[0.5019607843137255,\"rgb(203,26,79)\"],[0.5647058823529412,\"rgb(223,47,67)\"],[0.6274509803921569,\"rgb(236,76,61)\"],[0.6901960784313725,\"rgb(242,107,73)\"],[0.7529411764705882,\"rgb(244,135,95)\"],[0.8156862745098039,\"rgb(245,162,122)\"],[0.8784313725490196,\"rgb(246,188,153)\"],[0.9411764705882353,\"rgb(247,212,187)\"],[1.0,\"rgb(250,234,220)\"]],\"type\":\"histogram2dcontour\"}],\"histogram2d\":[{\"colorbar\":{\"outlinewidth\":0,\"tickcolor\":\"rgb(36,36,36)\",\"ticklen\":8,\"ticks\":\"outside\",\"tickwidth\":2},\"colorscale\":[[0.0,\"rgb(2,4,25)\"],[0.06274509803921569,\"rgb(24,15,41)\"],[0.12549019607843137,\"rgb(47,23,57)\"],[0.18823529411764706,\"rgb(71,28,72)\"],[0.25098039215686274,\"rgb(97,30,82)\"],[0.3137254901960784,\"rgb(123,30,89)\"],[0.3764705882352941,\"rgb(150,27,91)\"],[0.4392156862745098,\"rgb(177,22,88)\"],[0.5019607843137255,\"rgb(203,26,79)\"],[0.5647058823529412,\"rgb(223,47,67)\"],[0.6274509803921569,\"rgb(236,76,61)\"],[0.6901960784313725,\"rgb(242,107,73)\"],[0.7529411764705882,\"rgb(244,135,95)\"],[0.8156862745098039,\"rgb(245,162,122)\"],[0.8784313725490196,\"rgb(246,188,153)\"],[0.9411764705882353,\"rgb(247,212,187)\"],[1.0,\"rgb(250,234,220)\"]],\"type\":\"histogram2d\"}],\"histogram\":[{\"marker\":{\"pattern\":{\"fillmode\":\"overlay\",\"size\":10,\"solidity\":0.2}},\"type\":\"histogram\"}],\"mesh3d\":[{\"colorbar\":{\"outlinewidth\":0,\"tickcolor\":\"rgb(36,36,36)\",\"ticklen\":8,\"ticks\":\"outside\",\"tickwidth\":2},\"type\":\"mesh3d\"}],\"parcoords\":[{\"line\":{\"colorbar\":{\"outlinewidth\":0,\"tickcolor\":\"rgb(36,36,36)\",\"ticklen\":8,\"ticks\":\"outside\",\"tickwidth\":2}},\"type\":\"parcoords\"}],\"pie\":[{\"automargin\":true,\"type\":\"pie\"}],\"scatter3d\":[{\"line\":{\"colorbar\":{\"outlinewidth\":0,\"tickcolor\":\"rgb(36,36,36)\",\"ticklen\":8,\"ticks\":\"outside\",\"tickwidth\":2}},\"marker\":{\"colorbar\":{\"outlinewidth\":0,\"tickcolor\":\"rgb(36,36,36)\",\"ticklen\":8,\"ticks\":\"outside\",\"tickwidth\":2}},\"type\":\"scatter3d\"}],\"scattercarpet\":[{\"marker\":{\"colorbar\":{\"outlinewidth\":0,\"tickcolor\":\"rgb(36,36,36)\",\"ticklen\":8,\"ticks\":\"outside\",\"tickwidth\":2}},\"type\":\"scattercarpet\"}],\"scattergeo\":[{\"marker\":{\"colorbar\":{\"outlinewidth\":0,\"tickcolor\":\"rgb(36,36,36)\",\"ticklen\":8,\"ticks\":\"outside\",\"tickwidth\":2}},\"type\":\"scattergeo\"}],\"scattergl\":[{\"marker\":{\"colorbar\":{\"outlinewidth\":0,\"tickcolor\":\"rgb(36,36,36)\",\"ticklen\":8,\"ticks\":\"outside\",\"tickwidth\":2}},\"type\":\"scattergl\"}],\"scattermapbox\":[{\"marker\":{\"colorbar\":{\"outlinewidth\":0,\"tickcolor\":\"rgb(36,36,36)\",\"ticklen\":8,\"ticks\":\"outside\",\"tickwidth\":2}},\"type\":\"scattermapbox\"}],\"scatterpolargl\":[{\"marker\":{\"colorbar\":{\"outlinewidth\":0,\"tickcolor\":\"rgb(36,36,36)\",\"ticklen\":8,\"ticks\":\"outside\",\"tickwidth\":2}},\"type\":\"scatterpolargl\"}],\"scatterpolar\":[{\"marker\":{\"colorbar\":{\"outlinewidth\":0,\"tickcolor\":\"rgb(36,36,36)\",\"ticklen\":8,\"ticks\":\"outside\",\"tickwidth\":2}},\"type\":\"scatterpolar\"}],\"scatter\":[{\"fillpattern\":{\"fillmode\":\"overlay\",\"size\":10,\"solidity\":0.2},\"type\":\"scatter\"}],\"scatterternary\":[{\"marker\":{\"colorbar\":{\"outlinewidth\":0,\"tickcolor\":\"rgb(36,36,36)\",\"ticklen\":8,\"ticks\":\"outside\",\"tickwidth\":2}},\"type\":\"scatterternary\"}],\"surface\":[{\"colorbar\":{\"outlinewidth\":0,\"tickcolor\":\"rgb(36,36,36)\",\"ticklen\":8,\"ticks\":\"outside\",\"tickwidth\":2},\"colorscale\":[[0.0,\"rgb(2,4,25)\"],[0.06274509803921569,\"rgb(24,15,41)\"],[0.12549019607843137,\"rgb(47,23,57)\"],[0.18823529411764706,\"rgb(71,28,72)\"],[0.25098039215686274,\"rgb(97,30,82)\"],[0.3137254901960784,\"rgb(123,30,89)\"],[0.3764705882352941,\"rgb(150,27,91)\"],[0.4392156862745098,\"rgb(177,22,88)\"],[0.5019607843137255,\"rgb(203,26,79)\"],[0.5647058823529412,\"rgb(223,47,67)\"],[0.6274509803921569,\"rgb(236,76,61)\"],[0.6901960784313725,\"rgb(242,107,73)\"],[0.7529411764705882,\"rgb(244,135,95)\"],[0.8156862745098039,\"rgb(245,162,122)\"],[0.8784313725490196,\"rgb(246,188,153)\"],[0.9411764705882353,\"rgb(247,212,187)\"],[1.0,\"rgb(250,234,220)\"]],\"type\":\"surface\"}],\"table\":[{\"cells\":{\"fill\":{\"color\":\"rgb(231,231,240)\"},\"line\":{\"color\":\"white\"}},\"header\":{\"fill\":{\"color\":\"rgb(183,183,191)\"},\"line\":{\"color\":\"white\"}},\"type\":\"table\"}]},\"layout\":{\"annotationdefaults\":{\"arrowcolor\":\"rgb(67,103,167)\"},\"autotypenumbers\":\"strict\",\"coloraxis\":{\"colorbar\":{\"outlinewidth\":0,\"tickcolor\":\"rgb(36,36,36)\",\"ticklen\":8,\"ticks\":\"outside\",\"tickwidth\":2}},\"colorscale\":{\"sequential\":[[0.0,\"rgb(2,4,25)\"],[0.06274509803921569,\"rgb(24,15,41)\"],[0.12549019607843137,\"rgb(47,23,57)\"],[0.18823529411764706,\"rgb(71,28,72)\"],[0.25098039215686274,\"rgb(97,30,82)\"],[0.3137254901960784,\"rgb(123,30,89)\"],[0.3764705882352941,\"rgb(150,27,91)\"],[0.4392156862745098,\"rgb(177,22,88)\"],[0.5019607843137255,\"rgb(203,26,79)\"],[0.5647058823529412,\"rgb(223,47,67)\"],[0.6274509803921569,\"rgb(236,76,61)\"],[0.6901960784313725,\"rgb(242,107,73)\"],[0.7529411764705882,\"rgb(244,135,95)\"],[0.8156862745098039,\"rgb(245,162,122)\"],[0.8784313725490196,\"rgb(246,188,153)\"],[0.9411764705882353,\"rgb(247,212,187)\"],[1.0,\"rgb(250,234,220)\"]],\"sequentialminus\":[[0.0,\"rgb(2,4,25)\"],[0.06274509803921569,\"rgb(24,15,41)\"],[0.12549019607843137,\"rgb(47,23,57)\"],[0.18823529411764706,\"rgb(71,28,72)\"],[0.25098039215686274,\"rgb(97,30,82)\"],[0.3137254901960784,\"rgb(123,30,89)\"],[0.3764705882352941,\"rgb(150,27,91)\"],[0.4392156862745098,\"rgb(177,22,88)\"],[0.5019607843137255,\"rgb(203,26,79)\"],[0.5647058823529412,\"rgb(223,47,67)\"],[0.6274509803921569,\"rgb(236,76,61)\"],[0.6901960784313725,\"rgb(242,107,73)\"],[0.7529411764705882,\"rgb(244,135,95)\"],[0.8156862745098039,\"rgb(245,162,122)\"],[0.8784313725490196,\"rgb(246,188,153)\"],[0.9411764705882353,\"rgb(247,212,187)\"],[1.0,\"rgb(250,234,220)\"]]},\"colorway\":[\"rgb(76,114,176)\",\"rgb(221,132,82)\",\"rgb(85,168,104)\",\"rgb(196,78,82)\",\"rgb(129,114,179)\",\"rgb(147,120,96)\",\"rgb(218,139,195)\",\"rgb(140,140,140)\",\"rgb(204,185,116)\",\"rgb(100,181,205)\"],\"font\":{\"color\":\"rgb(36,36,36)\"},\"geo\":{\"bgcolor\":\"white\",\"lakecolor\":\"white\",\"landcolor\":\"rgb(234,234,242)\",\"showlakes\":true,\"showland\":true,\"subunitcolor\":\"white\"},\"hoverlabel\":{\"align\":\"left\"},\"hovermode\":\"closest\",\"paper_bgcolor\":\"white\",\"plot_bgcolor\":\"rgb(234,234,242)\",\"polar\":{\"angularaxis\":{\"gridcolor\":\"white\",\"linecolor\":\"white\",\"showgrid\":true,\"ticks\":\"\"},\"bgcolor\":\"rgb(234,234,242)\",\"radialaxis\":{\"gridcolor\":\"white\",\"linecolor\":\"white\",\"showgrid\":true,\"ticks\":\"\"}},\"scene\":{\"xaxis\":{\"backgroundcolor\":\"rgb(234,234,242)\",\"gridcolor\":\"white\",\"gridwidth\":2,\"linecolor\":\"white\",\"showbackground\":true,\"showgrid\":true,\"ticks\":\"\",\"zerolinecolor\":\"white\"},\"yaxis\":{\"backgroundcolor\":\"rgb(234,234,242)\",\"gridcolor\":\"white\",\"gridwidth\":2,\"linecolor\":\"white\",\"showbackground\":true,\"showgrid\":true,\"ticks\":\"\",\"zerolinecolor\":\"white\"},\"zaxis\":{\"backgroundcolor\":\"rgb(234,234,242)\",\"gridcolor\":\"white\",\"gridwidth\":2,\"linecolor\":\"white\",\"showbackground\":true,\"showgrid\":true,\"ticks\":\"\",\"zerolinecolor\":\"white\"}},\"shapedefaults\":{\"fillcolor\":\"rgb(67,103,167)\",\"line\":{\"width\":0},\"opacity\":0.5},\"ternary\":{\"aaxis\":{\"gridcolor\":\"white\",\"linecolor\":\"white\",\"showgrid\":true,\"ticks\":\"\"},\"baxis\":{\"gridcolor\":\"white\",\"linecolor\":\"white\",\"showgrid\":true,\"ticks\":\"\"},\"bgcolor\":\"rgb(234,234,242)\",\"caxis\":{\"gridcolor\":\"white\",\"linecolor\":\"white\",\"showgrid\":true,\"ticks\":\"\"}},\"xaxis\":{\"automargin\":true,\"gridcolor\":\"white\",\"linecolor\":\"white\",\"showgrid\":true,\"ticks\":\"\",\"title\":{\"standoff\":15},\"zerolinecolor\":\"white\"},\"yaxis\":{\"automargin\":true,\"gridcolor\":\"white\",\"linecolor\":\"white\",\"showgrid\":true,\"ticks\":\"\",\"title\":{\"standoff\":15},\"zerolinecolor\":\"white\"}}},\"xaxis\":{\"anchor\":\"y\",\"domain\":[0.0,1.0],\"title\":{\"text\":\"Price (USD)\"}},\"yaxis\":{\"anchor\":\"x\",\"domain\":[0.0,1.0],\"title\":{\"text\":\"# of Reviews\"}},\"legend\":{\"title\":{\"text\":\"Genre\"},\"tracegroupgap\":0},\"title\":{\"text\":\"Number of Reviews by Book Price<br><sup>Amazon Bestseller List 2009 to Present</sup>\"}},                        {\"responsive\": true}                    ).then(function(){\n",
       "                            \n",
       "var gd = document.getElementById('a6beee6b-e71f-439c-8d75-39c09a716c3e');\n",
       "var x = new MutationObserver(function (mutations, observer) {{\n",
       "        var display = window.getComputedStyle(gd).display;\n",
       "        if (!display || display === 'none') {{\n",
       "            console.log([gd, 'removed!']);\n",
       "            Plotly.purge(gd);\n",
       "            observer.disconnect();\n",
       "        }}\n",
       "}});\n",
       "\n",
       "// Listen for the removal of the full notebook cells\n",
       "var notebookContainer = gd.closest('#notebook-container');\n",
       "if (notebookContainer) {{\n",
       "    x.observe(notebookContainer, {childList: true});\n",
       "}}\n",
       "\n",
       "// Listen for the clearing of the current output cell\n",
       "var outputEl = gd.closest('.output');\n",
       "if (outputEl) {{\n",
       "    x.observe(outputEl, {childList: true});\n",
       "}}\n",
       "\n",
       "                        })                };                });            </script>        </div>"
      ]
     },
     "metadata": {},
     "output_type": "display_data"
    }
   ],
   "source": [
    "fig = px.scatter(books, \n",
    "                 x='Price',\n",
    "                 y='Reviews',\n",
    "                 title=\"Number of Reviews by Book Price<br><sup>Amazon Bestseller List 2009 to Present</sup>\",\n",
    "                 labels={'Reviews': '# of Reviews', 'Price': 'Price (USD)'},\n",
    "                 color='Genre',\n",
    "                 template='seaborn'\n",
    "                )\n",
    "fig.show()"
   ]
  },
  {
   "cell_type": "code",
   "execution_count": 55,
   "id": "97eea195",
   "metadata": {},
   "outputs": [
    {
     "data": {
      "application/vnd.plotly.v1+json": {
       "config": {
        "plotlyServerURL": "https://plot.ly"
       },
       "data": [
        {
         "hovertemplate": "Genre=Non Fiction<br>Price (USD)=%{x}<br># of Reviews=%{y}<extra></extra>",
         "legendgroup": "Non Fiction",
         "marker": {
          "color": "#636efa",
          "symbol": "circle"
         },
         "mode": "markers",
         "name": "Non Fiction",
         "orientation": "v",
         "showlegend": true,
         "type": "scatter",
         "x": [
          8,
          15,
          12,
          3,
          2,
          23,
          32,
          17,
          4,
          6,
          6,
          8,
          13,
          12.52,
          9,
          5,
          9,
          17.78,
          12,
          11.98,
          14,
          5,
          11,
          24,
          21,
          11,
          11,
          10,
          15,
          13,
          13,
          18,
          8,
          8,
          6.99,
          4,
          18,
          28,
          19,
          14.34,
          16,
          14,
          14,
          14,
          4,
          5,
          8.99,
          10,
          13,
          17,
          15,
          105,
          105,
          5,
          6,
          5,
          16,
          1,
          14,
          9,
          9,
          15,
          15,
          11,
          9,
          2,
          6,
          4,
          4,
          4,
          4,
          4,
          9,
          9,
          20,
          16,
          14,
          12,
          12,
          12,
          11,
          6,
          6,
          14,
          14,
          14,
          14,
          10,
          18,
          15.98,
          7,
          54,
          11,
          9,
          4,
          10,
          10,
          14,
          14,
          22,
          13,
          11,
          11,
          11,
          11,
          11,
          10.58,
          16,
          5,
          15,
          15,
          17,
          17,
          7,
          9,
          6.99,
          21,
          13,
          13,
          12,
          8,
          8,
          8,
          8,
          8,
          8,
          17,
          12,
          25,
          10,
          10,
          6,
          5,
          6,
          8,
          4,
          4,
          4,
          4,
          4,
          4,
          4,
          4,
          13,
          21,
          6,
          15,
          18,
          15,
          13,
          17,
          16,
          20,
          11,
          27,
          8,
          8,
          8,
          6,
          10,
          10,
          10,
          21,
          15,
          4.07,
          16,
          11,
          9,
          14,
          22,
          13,
          13,
          9,
          20,
          20,
          5,
          5,
          14.16,
          10,
          10,
          10,
          26,
          46,
          46,
          46,
          46,
          46,
          46,
          46,
          46,
          46,
          46,
          20,
          7,
          9,
          9,
          15,
          15.49,
          20,
          20,
          4.79,
          6,
          6,
          9,
          9.59,
          11,
          16,
          6,
          17,
          20,
          20,
          17,
          17,
          17,
          17,
          17,
          17,
          17,
          17,
          17,
          18,
          13,
          20,
          20,
          22,
          21,
          11.6,
          28,
          28,
          28,
          28,
          28,
          8,
          8,
          8,
          8,
          8,
          8,
          7.57,
          12,
          24,
          24,
          24,
          24,
          16,
          16,
          16,
          9,
          17,
          14,
          12,
          8,
          11.4,
          53,
          15,
          10.35,
          12,
          12,
          21,
          6,
          6,
          0,
          11,
          15,
          6,
          6,
          6,
          6,
          6,
          9,
          6,
          7.74,
          6,
          6,
          6,
          6,
          6,
          6,
          13,
          9,
          9,
          7,
          7,
          9,
          13,
          13,
          11,
          11,
          11,
          11,
          13,
          5,
          12,
          40,
          40,
          40,
          40,
          40,
          36,
          17,
          14,
          21,
          18,
          17,
          21,
          19.42,
          14,
          12,
          10.34,
          19,
          17.99,
          15,
          15,
          15,
          14.8,
          9,
          9,
          10,
          10,
          7,
          5.06,
          16,
          16,
          16,
          16,
          15,
          19,
          19,
          23,
          11,
          11,
          23,
          23,
          23,
          23,
          12,
          17,
          21,
          15,
          16,
          16,
          16,
          13,
          16,
          11,
          4,
          9,
          15,
          14.89,
          18,
          17,
          9,
          6,
          6,
          14,
          10,
          12,
          18,
          11,
          8,
          8,
          8,
          8
         ],
         "xaxis": "x",
         "y": [
          17350,
          18979,
          7665,
          5983,
          460,
          83212,
          4149,
          5013,
          2313,
          2925,
          2951,
          2426,
          9198,
          33712,
          15921,
          798,
          9374,
          13893,
          29634,
          104159,
          491,
          5360,
          1909,
          1296,
          615,
          61133,
          61133,
          99498,
          11113,
          10070,
          10070,
          3729,
          471,
          26423,
          75520,
          10369,
          16244,
          2884,
          21967,
          40535,
          4761,
          1542,
          1542,
          1542,
          4022,
          3871,
          35003,
          1329,
          4642,
          2137,
          1651,
          6679,
          6679,
          7955,
          37,
          2134,
          2525,
          720,
          956,
          6346,
          6346,
          28729,
          28729,
          45351,
          5413,
          6042,
          13677,
          17323,
          17323,
          17323,
          17323,
          17323,
          1555,
          1215,
          408,
          4799,
          12879,
          7660,
          22288,
          22288,
          1365,
          1636,
          10141,
          3457,
          3457,
          3457,
          3457,
          5972,
          26740,
          58357,
          5476,
          5867,
          4148,
          3564,
          1930,
          15779,
          15779,
          15526,
          15526,
          3776,
          19555,
          25001,
          25001,
          25001,
          25001,
          25001,
          70752,
          5272,
          14128,
          3490,
          3490,
          2812,
          4896,
          9737,
          20485,
          31640,
          4571,
          7396,
          7396,
          7062,
          19576,
          19576,
          19576,
          19576,
          19576,
          19576,
          8393,
          11391,
          8634,
          9342,
          9342,
          10927,
          5235,
          8916,
          2507,
          3673,
          3673,
          3673,
          6990,
          6990,
          6990,
          6990,
          6990,
          6132,
          3014,
          7550,
          3828,
          2752,
          20153,
          1649,
          16515,
          9867,
          1386,
          10199,
          2926,
          17739,
          17739,
          17739,
          3113,
          5542,
          5542,
          5542,
          11769,
          45694,
          75486,
          5347,
          7866,
          5178,
          8093,
          3192,
          3163,
          3163,
          1831,
          10426,
          10426,
          10820,
          10820,
          20037,
          26462,
          13616,
          13616,
          27726,
          8580,
          8580,
          8580,
          8580,
          8580,
          8580,
          8580,
          8580,
          8580,
          8580,
          10009,
          10009,
          1985,
          1985,
          27788,
          90390,
          7802,
          7802,
          65184,
          23047,
          23047,
          9366,
          15104,
          1265,
          3923,
          2272,
          220,
          7827,
          7827,
          5069,
          5069,
          5069,
          5069,
          5069,
          5069,
          5069,
          5069,
          5069,
          1583,
          1907,
          637,
          637,
          2314,
          4587,
          49270,
          3477,
          3477,
          3477,
          3477,
          3477,
          25554,
          25554,
          25554,
          25554,
          25554,
          44174,
          68263,
          1680,
          9325,
          9325,
          9325,
          9325,
          4725,
          4725,
          4725,
          2580,
          3536,
          1789,
          12361,
          24327,
          53535,
          858,
          53549,
          106658,
          23358,
          23358,
          4633,
          13061,
          13061,
          2774,
          440,
          2023,
          3207,
          3207,
          3207,
          3207,
          3207,
          803,
          45368,
          48326,
          23308,
          23308,
          23308,
          23308,
          23308,
          23308,
          9289,
          9289,
          9289,
          7368,
          7368,
          4028,
          4247,
          4247,
          22641,
          22641,
          22641,
          22641,
          1655,
          7861,
          2744,
          1201,
          1201,
          1201,
          1201,
          1201,
          807,
          2663,
          3428,
          2876,
          3601,
          7058,
          10795,
          20153,
          1204,
          44608,
          51448,
          15424,
          25554,
          26490,
          26490,
          26490,
          77899,
          5487,
          3503,
          11550,
          9030,
          35965,
          52375,
          7508,
          7508,
          7508,
          6169,
          7034,
          11034,
          11034,
          1904,
          3319,
          3319,
          11128,
          11128,
          11128,
          11128,
          5977,
          94196,
          4360,
          438,
          29673,
          29673,
          29673,
          29673,
          29673,
          5956,
          6108,
          4585,
          41567,
          53024,
          5492,
          9292,
          3341,
          7497,
          7497,
          13779,
          31125,
          6669,
          17044,
          1302,
          14331,
          14331,
          14331,
          14331
         ],
         "yaxis": "y"
        },
        {
         "hovertemplate": "Genre=Fiction<br>Price (USD)=%{x}<br># of Reviews=%{y}<extra></extra>",
         "legendgroup": "Fiction",
         "marker": {
          "color": "#EF553B",
          "symbol": "circle"
         },
         "mode": "markers",
         "name": "Fiction",
         "orientation": "v",
         "showlegend": true,
         "type": "scatter",
         "x": [
          22,
          7.48,
          6,
          11,
          30,
          15,
          8,
          8,
          5,
          14,
          14,
          13,
          17,
          13,
          7.49,
          13,
          5,
          5,
          5,
          5.36,
          0,
          13.58,
          11,
          11,
          11,
          4,
          8,
          11,
          11,
          4,
          8,
          4,
          5,
          5,
          5,
          5,
          0,
          15,
          22,
          15,
          15,
          6,
          13,
          12,
          6,
          8,
          4,
          4,
          8,
          8,
          6,
          6,
          6.62,
          20,
          12.01,
          7,
          18,
          8,
          8,
          15,
          7,
          11,
          14,
          14,
          32,
          0,
          5,
          5,
          5,
          4,
          4,
          4,
          4,
          4,
          6,
          19,
          18,
          9,
          10,
          10,
          9,
          5,
          5,
          5,
          7,
          7,
          14,
          10.62,
          30,
          12,
          18,
          30,
          22,
          52,
          6,
          6,
          5,
          1,
          4.31,
          7,
          4,
          4,
          4,
          4.14,
          9,
          14,
          20,
          10.26,
          0,
          12,
          13,
          10,
          0,
          12,
          10,
          7,
          5,
          5,
          13,
          8,
          8,
          8,
          14.4,
          10,
          8,
          8,
          8,
          8,
          8,
          8,
          8,
          8,
          8.48,
          7,
          12,
          13,
          11,
          9,
          6,
          8.49,
          2,
          27,
          27,
          27,
          9,
          4,
          12,
          12,
          12,
          12,
          10,
          8,
          25,
          6,
          18,
          39,
          13.99,
          10,
          10,
          14,
          9,
          11,
          6,
          6,
          8,
          8,
          12,
          13,
          9,
          9,
          9,
          7,
          11,
          13,
          13,
          7,
          13,
          13.79,
          0,
          18,
          7,
          14,
          14,
          9,
          16,
          2,
          2,
          5,
          5,
          20,
          20,
          7,
          7,
          7,
          14,
          10,
          7,
          13,
          11,
          6,
          6,
          8,
          7,
          9.58,
          14,
          14,
          8,
          8,
          30,
          30,
          7,
          7,
          13.09,
          20,
          18,
          14,
          19,
          10,
          9,
          8,
          8,
          13.29,
          11,
          11,
          16,
          5,
          5,
          18,
          18,
          12,
          12,
          9.42,
          8,
          8,
          0,
          14,
          15,
          10,
          7,
          10,
          6,
          82,
          12,
          16,
          5,
          5,
          5,
          5,
          5,
          5,
          5,
          10,
          10,
          10,
          10,
          8.55,
          4,
          4,
          5,
          8.37,
          9,
          0,
          0,
          0,
          0,
          7,
          21,
          9,
          5,
          20,
          7,
          42,
          12,
          5.98,
          14,
          13,
          13,
          15,
          9,
          13,
          15,
          9,
          9,
          9,
          9,
          9,
          8
         ],
         "xaxis": "x",
         "y": [
          2052,
          70425,
          21424,
          12643,
          19735,
          19699,
          23848,
          23848,
          5153,
          36348,
          36348,
          6310,
          41716,
          12159,
          19470,
          9769,
          14344,
          14344,
          25321,
          45919,
          4505,
          4153,
          22614,
          22614,
          22614,
          20705,
          6143,
          4866,
          4866,
          1541,
          1924,
          2094,
          10922,
          10922,
          10922,
          10922,
          6812,
          3837,
          6540,
          27098,
          27098,
          17684,
          15845,
          3181,
          5062,
          4786,
          7235,
          7235,
          12619,
          9089,
          31045,
          5470,
          22196,
          5118,
          63421,
          5505,
          5505,
          10721,
          10721,
          4370,
          23631,
          20262,
          47265,
          47265,
          13964,
          3642,
          5594,
          5594,
          5594,
          14038,
          14038,
          14038,
          14038,
          14038,
          23356,
          14982,
          52777,
          9568,
          57271,
          57271,
          57271,
          8837,
          8837,
          8837,
          7038,
          7038,
          25624,
          22383,
          19622,
          23973,
          7758,
          3146,
          10052,
          13471,
          17538,
          29121,
          19988,
          24356,
          58200,
          1320,
          16643,
          16643,
          39063,
          68304,
          7153,
          29651,
          5299,
          141748,
          978,
          4748,
          11881,
          1467,
          1884,
          25706,
          43514,
          8491,
          18613,
          18613,
          64215,
          26741,
          26741,
          26741,
          60070,
          5680,
          21834,
          21834,
          21834,
          21834,
          21834,
          21834,
          21834,
          21834,
          41796,
          6169,
          4519,
          18904,
          21930,
          12643,
          12852,
          21271,
          548,
          16990,
          16990,
          16990,
          3503,
          4757,
          22536,
          22536,
          7150,
          3836,
          3619,
          45485,
          973,
          9382,
          23114,
          35799,
          91743,
          11813,
          11813,
          37173,
          11668,
          6600,
          23148,
          23148,
          8081,
          8081,
          9372,
          3523,
          8922,
          8922,
          8922,
          26047,
          1859,
          50482,
          50482,
          50482,
          50482,
          117146,
          5836,
          79446,
          79446,
          7747,
          7747,
          7251,
          7251,
          10559,
          10559,
          5249,
          5249,
          33844,
          33844,
          11616,
          11616,
          11616,
          13609,
          8587,
          29442,
          11098,
          9947,
          13871,
          13871,
          13871,
          13871,
          15399,
          6982,
          32122,
          32122,
          32122,
          16949,
          16949,
          4628,
          4628,
          107449,
          5396,
          6222,
          4506,
          8747,
          6247,
          39459,
          10101,
          5898,
          193482,
          49288,
          49288,
          3759,
          9784,
          9784,
          10191,
          14493,
          2186,
          2091,
          111053,
          19720,
          19720,
          2122,
          27536,
          61060,
          4290,
          6377,
          1463,
          3759,
          3801,
          3796,
          42235,
          19546,
          19546,
          19546,
          19546,
          19546,
          19546,
          19546,
          8842,
          8842,
          8842,
          8842,
          24189,
          30183,
          30183,
          51255,
          31272,
          7932,
          26234,
          26234,
          26234,
          26234,
          26234,
          2282,
          11676,
          2586,
          6740,
          25510,
          3829,
          8958,
          41127,
          1873,
          14705,
          8170,
          87841,
          120727,
          9967,
          10760,
          21625,
          21625,
          21625,
          21625,
          21625,
          9413
         ],
         "yaxis": "y"
        }
       ],
       "layout": {
        "legend": {
         "title": {
          "text": "Genre"
         },
         "tracegroupgap": 0
        },
        "template": {
         "data": {
          "bar": [
           {
            "error_x": {
             "color": "#f2f5fa"
            },
            "error_y": {
             "color": "#f2f5fa"
            },
            "marker": {
             "line": {
              "color": "rgb(17,17,17)",
              "width": 0.5
             },
             "pattern": {
              "fillmode": "overlay",
              "size": 10,
              "solidity": 0.2
             }
            },
            "type": "bar"
           }
          ],
          "barpolar": [
           {
            "marker": {
             "line": {
              "color": "rgb(17,17,17)",
              "width": 0.5
             },
             "pattern": {
              "fillmode": "overlay",
              "size": 10,
              "solidity": 0.2
             }
            },
            "type": "barpolar"
           }
          ],
          "carpet": [
           {
            "aaxis": {
             "endlinecolor": "#A2B1C6",
             "gridcolor": "#506784",
             "linecolor": "#506784",
             "minorgridcolor": "#506784",
             "startlinecolor": "#A2B1C6"
            },
            "baxis": {
             "endlinecolor": "#A2B1C6",
             "gridcolor": "#506784",
             "linecolor": "#506784",
             "minorgridcolor": "#506784",
             "startlinecolor": "#A2B1C6"
            },
            "type": "carpet"
           }
          ],
          "choropleth": [
           {
            "colorbar": {
             "outlinewidth": 0,
             "ticks": ""
            },
            "type": "choropleth"
           }
          ],
          "contour": [
           {
            "colorbar": {
             "outlinewidth": 0,
             "ticks": ""
            },
            "colorscale": [
             [
              0,
              "#0d0887"
             ],
             [
              0.1111111111111111,
              "#46039f"
             ],
             [
              0.2222222222222222,
              "#7201a8"
             ],
             [
              0.3333333333333333,
              "#9c179e"
             ],
             [
              0.4444444444444444,
              "#bd3786"
             ],
             [
              0.5555555555555556,
              "#d8576b"
             ],
             [
              0.6666666666666666,
              "#ed7953"
             ],
             [
              0.7777777777777778,
              "#fb9f3a"
             ],
             [
              0.8888888888888888,
              "#fdca26"
             ],
             [
              1,
              "#f0f921"
             ]
            ],
            "type": "contour"
           }
          ],
          "contourcarpet": [
           {
            "colorbar": {
             "outlinewidth": 0,
             "ticks": ""
            },
            "type": "contourcarpet"
           }
          ],
          "heatmap": [
           {
            "colorbar": {
             "outlinewidth": 0,
             "ticks": ""
            },
            "colorscale": [
             [
              0,
              "#0d0887"
             ],
             [
              0.1111111111111111,
              "#46039f"
             ],
             [
              0.2222222222222222,
              "#7201a8"
             ],
             [
              0.3333333333333333,
              "#9c179e"
             ],
             [
              0.4444444444444444,
              "#bd3786"
             ],
             [
              0.5555555555555556,
              "#d8576b"
             ],
             [
              0.6666666666666666,
              "#ed7953"
             ],
             [
              0.7777777777777778,
              "#fb9f3a"
             ],
             [
              0.8888888888888888,
              "#fdca26"
             ],
             [
              1,
              "#f0f921"
             ]
            ],
            "type": "heatmap"
           }
          ],
          "heatmapgl": [
           {
            "colorbar": {
             "outlinewidth": 0,
             "ticks": ""
            },
            "colorscale": [
             [
              0,
              "#0d0887"
             ],
             [
              0.1111111111111111,
              "#46039f"
             ],
             [
              0.2222222222222222,
              "#7201a8"
             ],
             [
              0.3333333333333333,
              "#9c179e"
             ],
             [
              0.4444444444444444,
              "#bd3786"
             ],
             [
              0.5555555555555556,
              "#d8576b"
             ],
             [
              0.6666666666666666,
              "#ed7953"
             ],
             [
              0.7777777777777778,
              "#fb9f3a"
             ],
             [
              0.8888888888888888,
              "#fdca26"
             ],
             [
              1,
              "#f0f921"
             ]
            ],
            "type": "heatmapgl"
           }
          ],
          "histogram": [
           {
            "marker": {
             "pattern": {
              "fillmode": "overlay",
              "size": 10,
              "solidity": 0.2
             }
            },
            "type": "histogram"
           }
          ],
          "histogram2d": [
           {
            "colorbar": {
             "outlinewidth": 0,
             "ticks": ""
            },
            "colorscale": [
             [
              0,
              "#0d0887"
             ],
             [
              0.1111111111111111,
              "#46039f"
             ],
             [
              0.2222222222222222,
              "#7201a8"
             ],
             [
              0.3333333333333333,
              "#9c179e"
             ],
             [
              0.4444444444444444,
              "#bd3786"
             ],
             [
              0.5555555555555556,
              "#d8576b"
             ],
             [
              0.6666666666666666,
              "#ed7953"
             ],
             [
              0.7777777777777778,
              "#fb9f3a"
             ],
             [
              0.8888888888888888,
              "#fdca26"
             ],
             [
              1,
              "#f0f921"
             ]
            ],
            "type": "histogram2d"
           }
          ],
          "histogram2dcontour": [
           {
            "colorbar": {
             "outlinewidth": 0,
             "ticks": ""
            },
            "colorscale": [
             [
              0,
              "#0d0887"
             ],
             [
              0.1111111111111111,
              "#46039f"
             ],
             [
              0.2222222222222222,
              "#7201a8"
             ],
             [
              0.3333333333333333,
              "#9c179e"
             ],
             [
              0.4444444444444444,
              "#bd3786"
             ],
             [
              0.5555555555555556,
              "#d8576b"
             ],
             [
              0.6666666666666666,
              "#ed7953"
             ],
             [
              0.7777777777777778,
              "#fb9f3a"
             ],
             [
              0.8888888888888888,
              "#fdca26"
             ],
             [
              1,
              "#f0f921"
             ]
            ],
            "type": "histogram2dcontour"
           }
          ],
          "mesh3d": [
           {
            "colorbar": {
             "outlinewidth": 0,
             "ticks": ""
            },
            "type": "mesh3d"
           }
          ],
          "parcoords": [
           {
            "line": {
             "colorbar": {
              "outlinewidth": 0,
              "ticks": ""
             }
            },
            "type": "parcoords"
           }
          ],
          "pie": [
           {
            "automargin": true,
            "type": "pie"
           }
          ],
          "scatter": [
           {
            "marker": {
             "line": {
              "color": "#283442"
             }
            },
            "type": "scatter"
           }
          ],
          "scatter3d": [
           {
            "line": {
             "colorbar": {
              "outlinewidth": 0,
              "ticks": ""
             }
            },
            "marker": {
             "colorbar": {
              "outlinewidth": 0,
              "ticks": ""
             }
            },
            "type": "scatter3d"
           }
          ],
          "scattercarpet": [
           {
            "marker": {
             "colorbar": {
              "outlinewidth": 0,
              "ticks": ""
             }
            },
            "type": "scattercarpet"
           }
          ],
          "scattergeo": [
           {
            "marker": {
             "colorbar": {
              "outlinewidth": 0,
              "ticks": ""
             }
            },
            "type": "scattergeo"
           }
          ],
          "scattergl": [
           {
            "marker": {
             "line": {
              "color": "#283442"
             }
            },
            "type": "scattergl"
           }
          ],
          "scattermapbox": [
           {
            "marker": {
             "colorbar": {
              "outlinewidth": 0,
              "ticks": ""
             }
            },
            "type": "scattermapbox"
           }
          ],
          "scatterpolar": [
           {
            "marker": {
             "colorbar": {
              "outlinewidth": 0,
              "ticks": ""
             }
            },
            "type": "scatterpolar"
           }
          ],
          "scatterpolargl": [
           {
            "marker": {
             "colorbar": {
              "outlinewidth": 0,
              "ticks": ""
             }
            },
            "type": "scatterpolargl"
           }
          ],
          "scatterternary": [
           {
            "marker": {
             "colorbar": {
              "outlinewidth": 0,
              "ticks": ""
             }
            },
            "type": "scatterternary"
           }
          ],
          "surface": [
           {
            "colorbar": {
             "outlinewidth": 0,
             "ticks": ""
            },
            "colorscale": [
             [
              0,
              "#0d0887"
             ],
             [
              0.1111111111111111,
              "#46039f"
             ],
             [
              0.2222222222222222,
              "#7201a8"
             ],
             [
              0.3333333333333333,
              "#9c179e"
             ],
             [
              0.4444444444444444,
              "#bd3786"
             ],
             [
              0.5555555555555556,
              "#d8576b"
             ],
             [
              0.6666666666666666,
              "#ed7953"
             ],
             [
              0.7777777777777778,
              "#fb9f3a"
             ],
             [
              0.8888888888888888,
              "#fdca26"
             ],
             [
              1,
              "#f0f921"
             ]
            ],
            "type": "surface"
           }
          ],
          "table": [
           {
            "cells": {
             "fill": {
              "color": "#506784"
             },
             "line": {
              "color": "rgb(17,17,17)"
             }
            },
            "header": {
             "fill": {
              "color": "#2a3f5f"
             },
             "line": {
              "color": "rgb(17,17,17)"
             }
            },
            "type": "table"
           }
          ]
         },
         "layout": {
          "annotationdefaults": {
           "arrowcolor": "#f2f5fa",
           "arrowhead": 0,
           "arrowwidth": 1
          },
          "autotypenumbers": "strict",
          "coloraxis": {
           "colorbar": {
            "outlinewidth": 0,
            "ticks": ""
           }
          },
          "colorscale": {
           "diverging": [
            [
             0,
             "#8e0152"
            ],
            [
             0.1,
             "#c51b7d"
            ],
            [
             0.2,
             "#de77ae"
            ],
            [
             0.3,
             "#f1b6da"
            ],
            [
             0.4,
             "#fde0ef"
            ],
            [
             0.5,
             "#f7f7f7"
            ],
            [
             0.6,
             "#e6f5d0"
            ],
            [
             0.7,
             "#b8e186"
            ],
            [
             0.8,
             "#7fbc41"
            ],
            [
             0.9,
             "#4d9221"
            ],
            [
             1,
             "#276419"
            ]
           ],
           "sequential": [
            [
             0,
             "#0d0887"
            ],
            [
             0.1111111111111111,
             "#46039f"
            ],
            [
             0.2222222222222222,
             "#7201a8"
            ],
            [
             0.3333333333333333,
             "#9c179e"
            ],
            [
             0.4444444444444444,
             "#bd3786"
            ],
            [
             0.5555555555555556,
             "#d8576b"
            ],
            [
             0.6666666666666666,
             "#ed7953"
            ],
            [
             0.7777777777777778,
             "#fb9f3a"
            ],
            [
             0.8888888888888888,
             "#fdca26"
            ],
            [
             1,
             "#f0f921"
            ]
           ],
           "sequentialminus": [
            [
             0,
             "#0d0887"
            ],
            [
             0.1111111111111111,
             "#46039f"
            ],
            [
             0.2222222222222222,
             "#7201a8"
            ],
            [
             0.3333333333333333,
             "#9c179e"
            ],
            [
             0.4444444444444444,
             "#bd3786"
            ],
            [
             0.5555555555555556,
             "#d8576b"
            ],
            [
             0.6666666666666666,
             "#ed7953"
            ],
            [
             0.7777777777777778,
             "#fb9f3a"
            ],
            [
             0.8888888888888888,
             "#fdca26"
            ],
            [
             1,
             "#f0f921"
            ]
           ]
          },
          "colorway": [
           "#636efa",
           "#EF553B",
           "#00cc96",
           "#ab63fa",
           "#FFA15A",
           "#19d3f3",
           "#FF6692",
           "#B6E880",
           "#FF97FF",
           "#FECB52"
          ],
          "font": {
           "color": "#f2f5fa"
          },
          "geo": {
           "bgcolor": "rgb(17,17,17)",
           "lakecolor": "rgb(17,17,17)",
           "landcolor": "rgb(17,17,17)",
           "showlakes": true,
           "showland": true,
           "subunitcolor": "#506784"
          },
          "hoverlabel": {
           "align": "left"
          },
          "hovermode": "closest",
          "mapbox": {
           "style": "dark"
          },
          "paper_bgcolor": "rgb(17,17,17)",
          "plot_bgcolor": "rgb(17,17,17)",
          "polar": {
           "angularaxis": {
            "gridcolor": "#506784",
            "linecolor": "#506784",
            "ticks": ""
           },
           "bgcolor": "rgb(17,17,17)",
           "radialaxis": {
            "gridcolor": "#506784",
            "linecolor": "#506784",
            "ticks": ""
           }
          },
          "scene": {
           "xaxis": {
            "backgroundcolor": "rgb(17,17,17)",
            "gridcolor": "#506784",
            "gridwidth": 2,
            "linecolor": "#506784",
            "showbackground": true,
            "ticks": "",
            "zerolinecolor": "#C8D4E3"
           },
           "yaxis": {
            "backgroundcolor": "rgb(17,17,17)",
            "gridcolor": "#506784",
            "gridwidth": 2,
            "linecolor": "#506784",
            "showbackground": true,
            "ticks": "",
            "zerolinecolor": "#C8D4E3"
           },
           "zaxis": {
            "backgroundcolor": "rgb(17,17,17)",
            "gridcolor": "#506784",
            "gridwidth": 2,
            "linecolor": "#506784",
            "showbackground": true,
            "ticks": "",
            "zerolinecolor": "#C8D4E3"
           }
          },
          "shapedefaults": {
           "line": {
            "color": "#f2f5fa"
           }
          },
          "sliderdefaults": {
           "bgcolor": "#C8D4E3",
           "bordercolor": "rgb(17,17,17)",
           "borderwidth": 1,
           "tickwidth": 0
          },
          "ternary": {
           "aaxis": {
            "gridcolor": "#506784",
            "linecolor": "#506784",
            "ticks": ""
           },
           "baxis": {
            "gridcolor": "#506784",
            "linecolor": "#506784",
            "ticks": ""
           },
           "bgcolor": "rgb(17,17,17)",
           "caxis": {
            "gridcolor": "#506784",
            "linecolor": "#506784",
            "ticks": ""
           }
          },
          "title": {
           "x": 0.05
          },
          "updatemenudefaults": {
           "bgcolor": "#506784",
           "borderwidth": 0
          },
          "xaxis": {
           "automargin": true,
           "gridcolor": "#283442",
           "linecolor": "#506784",
           "ticks": "",
           "title": {
            "standoff": 15
           },
           "zerolinecolor": "#283442",
           "zerolinewidth": 2
          },
          "yaxis": {
           "automargin": true,
           "gridcolor": "#283442",
           "linecolor": "#506784",
           "ticks": "",
           "title": {
            "standoff": 15
           },
           "zerolinecolor": "#283442",
           "zerolinewidth": 2
          }
         }
        },
        "title": {
         "text": "Number of Reviews by Book Price<br><sup>Amazon Bestseller List 2009 to Present</sup>"
        },
        "xaxis": {
         "anchor": "y",
         "domain": [
          0,
          1
         ],
         "title": {
          "text": "Price (USD)"
         }
        },
        "yaxis": {
         "anchor": "x",
         "domain": [
          0,
          1
         ],
         "title": {
          "text": "# of Reviews"
         }
        }
       }
      },
      "text/html": [
       "<div>                            <div id=\"c53d8b25-a183-4a4d-9d07-ec4698d74ec3\" class=\"plotly-graph-div\" style=\"height:525px; width:100%;\"></div>            <script type=\"text/javascript\">                require([\"plotly\"], function(Plotly) {                    window.PLOTLYENV=window.PLOTLYENV || {};                                    if (document.getElementById(\"c53d8b25-a183-4a4d-9d07-ec4698d74ec3\")) {                    Plotly.newPlot(                        \"c53d8b25-a183-4a4d-9d07-ec4698d74ec3\",                        [{\"hovertemplate\":\"Genre=Non Fiction<br>Price (USD)=%{x}<br># of Reviews=%{y}<extra></extra>\",\"legendgroup\":\"Non Fiction\",\"marker\":{\"color\":\"#636efa\",\"symbol\":\"circle\"},\"mode\":\"markers\",\"name\":\"Non Fiction\",\"orientation\":\"v\",\"showlegend\":true,\"x\":[8.0,15.0,12.0,3.0,2.0,23.0,32.0,17.0,4.0,6.0,6.0,8.0,13.0,12.52,9.0,5.0,9.0,17.78,12.0,11.98,14.0,5.0,11.0,24.0,21.0,11.0,11.0,10.0,15.0,13.0,13.0,18.0,8.0,8.0,6.99,4.0,18.0,28.0,19.0,14.34,16.0,14.0,14.0,14.0,4.0,5.0,8.99,10.0,13.0,17.0,15.0,105.0,105.0,5.0,6.0,5.0,16.0,1.0,14.0,9.0,9.0,15.0,15.0,11.0,9.0,2.0,6.0,4.0,4.0,4.0,4.0,4.0,9.0,9.0,20.0,16.0,14.0,12.0,12.0,12.0,11.0,6.0,6.0,14.0,14.0,14.0,14.0,10.0,18.0,15.98,7.0,54.0,11.0,9.0,4.0,10.0,10.0,14.0,14.0,22.0,13.0,11.0,11.0,11.0,11.0,11.0,10.58,16.0,5.0,15.0,15.0,17.0,17.0,7.0,9.0,6.99,21.0,13.0,13.0,12.0,8.0,8.0,8.0,8.0,8.0,8.0,17.0,12.0,25.0,10.0,10.0,6.0,5.0,6.0,8.0,4.0,4.0,4.0,4.0,4.0,4.0,4.0,4.0,13.0,21.0,6.0,15.0,18.0,15.0,13.0,17.0,16.0,20.0,11.0,27.0,8.0,8.0,8.0,6.0,10.0,10.0,10.0,21.0,15.0,4.07,16.0,11.0,9.0,14.0,22.0,13.0,13.0,9.0,20.0,20.0,5.0,5.0,14.16,10.0,10.0,10.0,26.0,46.0,46.0,46.0,46.0,46.0,46.0,46.0,46.0,46.0,46.0,20.0,7.0,9.0,9.0,15.0,15.49,20.0,20.0,4.79,6.0,6.0,9.0,9.59,11.0,16.0,6.0,17.0,20.0,20.0,17.0,17.0,17.0,17.0,17.0,17.0,17.0,17.0,17.0,18.0,13.0,20.0,20.0,22.0,21.0,11.6,28.0,28.0,28.0,28.0,28.0,8.0,8.0,8.0,8.0,8.0,8.0,7.57,12.0,24.0,24.0,24.0,24.0,16.0,16.0,16.0,9.0,17.0,14.0,12.0,8.0,11.4,53.0,15.0,10.35,12.0,12.0,21.0,6.0,6.0,0.0,11.0,15.0,6.0,6.0,6.0,6.0,6.0,9.0,6.0,7.74,6.0,6.0,6.0,6.0,6.0,6.0,13.0,9.0,9.0,7.0,7.0,9.0,13.0,13.0,11.0,11.0,11.0,11.0,13.0,5.0,12.0,40.0,40.0,40.0,40.0,40.0,36.0,17.0,14.0,21.0,18.0,17.0,21.0,19.42,14.0,12.0,10.34,19.0,17.99,15.0,15.0,15.0,14.8,9.0,9.0,10.0,10.0,7.0,5.06,16.0,16.0,16.0,16.0,15.0,19.0,19.0,23.0,11.0,11.0,23.0,23.0,23.0,23.0,12.0,17.0,21.0,15.0,16.0,16.0,16.0,13.0,16.0,11.0,4.0,9.0,15.0,14.89,18.0,17.0,9.0,6.0,6.0,14.0,10.0,12.0,18.0,11.0,8.0,8.0,8.0,8.0],\"xaxis\":\"x\",\"y\":[17350.0,18979.0,7665.0,5983.0,460.0,83212.0,4149.0,5013.0,2313.0,2925.0,2951.0,2426.0,9198.0,33712.0,15921.0,798.0,9374.0,13893.0,29634.0,104159.0,491.0,5360.0,1909.0,1296.0,615.0,61133.0,61133.0,99498.0,11113.0,10070.0,10070.0,3729.0,471.0,26423.0,75520.0,10369.0,16244.0,2884.0,21967.0,40535.0,4761.0,1542.0,1542.0,1542.0,4022.0,3871.0,35003.0,1329.0,4642.0,2137.0,1651.0,6679.0,6679.0,7955.0,37.0,2134.0,2525.0,720.0,956.0,6346.0,6346.0,28729.0,28729.0,45351.0,5413.0,6042.0,13677.0,17323.0,17323.0,17323.0,17323.0,17323.0,1555.0,1215.0,408.0,4799.0,12879.0,7660.0,22288.0,22288.0,1365.0,1636.0,10141.0,3457.0,3457.0,3457.0,3457.0,5972.0,26740.0,58357.0,5476.0,5867.0,4148.0,3564.0,1930.0,15779.0,15779.0,15526.0,15526.0,3776.0,19555.0,25001.0,25001.0,25001.0,25001.0,25001.0,70752.0,5272.0,14128.0,3490.0,3490.0,2812.0,4896.0,9737.0,20485.0,31640.0,4571.0,7396.0,7396.0,7062.0,19576.0,19576.0,19576.0,19576.0,19576.0,19576.0,8393.0,11391.0,8634.0,9342.0,9342.0,10927.0,5235.0,8916.0,2507.0,3673.0,3673.0,3673.0,6990.0,6990.0,6990.0,6990.0,6990.0,6132.0,3014.0,7550.0,3828.0,2752.0,20153.0,1649.0,16515.0,9867.0,1386.0,10199.0,2926.0,17739.0,17739.0,17739.0,3113.0,5542.0,5542.0,5542.0,11769.0,45694.0,75486.0,5347.0,7866.0,5178.0,8093.0,3192.0,3163.0,3163.0,1831.0,10426.0,10426.0,10820.0,10820.0,20037.0,26462.0,13616.0,13616.0,27726.0,8580.0,8580.0,8580.0,8580.0,8580.0,8580.0,8580.0,8580.0,8580.0,8580.0,10009.0,10009.0,1985.0,1985.0,27788.0,90390.0,7802.0,7802.0,65184.0,23047.0,23047.0,9366.0,15104.0,1265.0,3923.0,2272.0,220.0,7827.0,7827.0,5069.0,5069.0,5069.0,5069.0,5069.0,5069.0,5069.0,5069.0,5069.0,1583.0,1907.0,637.0,637.0,2314.0,4587.0,49270.0,3477.0,3477.0,3477.0,3477.0,3477.0,25554.0,25554.0,25554.0,25554.0,25554.0,44174.0,68263.0,1680.0,9325.0,9325.0,9325.0,9325.0,4725.0,4725.0,4725.0,2580.0,3536.0,1789.0,12361.0,24327.0,53535.0,858.0,53549.0,106658.0,23358.0,23358.0,4633.0,13061.0,13061.0,2774.0,440.0,2023.0,3207.0,3207.0,3207.0,3207.0,3207.0,803.0,45368.0,48326.0,23308.0,23308.0,23308.0,23308.0,23308.0,23308.0,9289.0,9289.0,9289.0,7368.0,7368.0,4028.0,4247.0,4247.0,22641.0,22641.0,22641.0,22641.0,1655.0,7861.0,2744.0,1201.0,1201.0,1201.0,1201.0,1201.0,807.0,2663.0,3428.0,2876.0,3601.0,7058.0,10795.0,20153.0,1204.0,44608.0,51448.0,15424.0,25554.0,26490.0,26490.0,26490.0,77899.0,5487.0,3503.0,11550.0,9030.0,35965.0,52375.0,7508.0,7508.0,7508.0,6169.0,7034.0,11034.0,11034.0,1904.0,3319.0,3319.0,11128.0,11128.0,11128.0,11128.0,5977.0,94196.0,4360.0,438.0,29673.0,29673.0,29673.0,29673.0,29673.0,5956.0,6108.0,4585.0,41567.0,53024.0,5492.0,9292.0,3341.0,7497.0,7497.0,13779.0,31125.0,6669.0,17044.0,1302.0,14331.0,14331.0,14331.0,14331.0],\"yaxis\":\"y\",\"type\":\"scatter\"},{\"hovertemplate\":\"Genre=Fiction<br>Price (USD)=%{x}<br># of Reviews=%{y}<extra></extra>\",\"legendgroup\":\"Fiction\",\"marker\":{\"color\":\"#EF553B\",\"symbol\":\"circle\"},\"mode\":\"markers\",\"name\":\"Fiction\",\"orientation\":\"v\",\"showlegend\":true,\"x\":[22.0,7.48,6.0,11.0,30.0,15.0,8.0,8.0,5.0,14.0,14.0,13.0,17.0,13.0,7.49,13.0,5.0,5.0,5.0,5.36,0.0,13.58,11.0,11.0,11.0,4.0,8.0,11.0,11.0,4.0,8.0,4.0,5.0,5.0,5.0,5.0,0.0,15.0,22.0,15.0,15.0,6.0,13.0,12.0,6.0,8.0,4.0,4.0,8.0,8.0,6.0,6.0,6.62,20.0,12.01,7.0,18.0,8.0,8.0,15.0,7.0,11.0,14.0,14.0,32.0,0.0,5.0,5.0,5.0,4.0,4.0,4.0,4.0,4.0,6.0,19.0,18.0,9.0,10.0,10.0,9.0,5.0,5.0,5.0,7.0,7.0,14.0,10.62,30.0,12.0,18.0,30.0,22.0,52.0,6.0,6.0,5.0,1.0,4.31,7.0,4.0,4.0,4.0,4.14,9.0,14.0,20.0,10.26,0.0,12.0,13.0,10.0,0.0,12.0,10.0,7.0,5.0,5.0,13.0,8.0,8.0,8.0,14.4,10.0,8.0,8.0,8.0,8.0,8.0,8.0,8.0,8.0,8.48,7.0,12.0,13.0,11.0,9.0,6.0,8.49,2.0,27.0,27.0,27.0,9.0,4.0,12.0,12.0,12.0,12.0,10.0,8.0,25.0,6.0,18.0,39.0,13.99,10.0,10.0,14.0,9.0,11.0,6.0,6.0,8.0,8.0,12.0,13.0,9.0,9.0,9.0,7.0,11.0,13.0,13.0,7.0,13.0,13.79,0.0,18.0,7.0,14.0,14.0,9.0,16.0,2.0,2.0,5.0,5.0,20.0,20.0,7.0,7.0,7.0,14.0,10.0,7.0,13.0,11.0,6.0,6.0,8.0,7.0,9.58,14.0,14.0,8.0,8.0,30.0,30.0,7.0,7.0,13.09,20.0,18.0,14.0,19.0,10.0,9.0,8.0,8.0,13.29,11.0,11.0,16.0,5.0,5.0,18.0,18.0,12.0,12.0,9.42,8.0,8.0,0.0,14.0,15.0,10.0,7.0,10.0,6.0,82.0,12.0,16.0,5.0,5.0,5.0,5.0,5.0,5.0,5.0,10.0,10.0,10.0,10.0,8.55,4.0,4.0,5.0,8.37,9.0,0.0,0.0,0.0,0.0,7.0,21.0,9.0,5.0,20.0,7.0,42.0,12.0,5.98,14.0,13.0,13.0,15.0,9.0,13.0,15.0,9.0,9.0,9.0,9.0,9.0,8.0],\"xaxis\":\"x\",\"y\":[2052.0,70425.0,21424.0,12643.0,19735.0,19699.0,23848.0,23848.0,5153.0,36348.0,36348.0,6310.0,41716.0,12159.0,19470.0,9769.0,14344.0,14344.0,25321.0,45919.0,4505.0,4153.0,22614.0,22614.0,22614.0,20705.0,6143.0,4866.0,4866.0,1541.0,1924.0,2094.0,10922.0,10922.0,10922.0,10922.0,6812.0,3837.0,6540.0,27098.0,27098.0,17684.0,15845.0,3181.0,5062.0,4786.0,7235.0,7235.0,12619.0,9089.0,31045.0,5470.0,22196.0,5118.0,63421.0,5505.0,5505.0,10721.0,10721.0,4370.0,23631.0,20262.0,47265.0,47265.0,13964.0,3642.0,5594.0,5594.0,5594.0,14038.0,14038.0,14038.0,14038.0,14038.0,23356.0,14982.0,52777.0,9568.0,57271.0,57271.0,57271.0,8837.0,8837.0,8837.0,7038.0,7038.0,25624.0,22383.0,19622.0,23973.0,7758.0,3146.0,10052.0,13471.0,17538.0,29121.0,19988.0,24356.0,58200.0,1320.0,16643.0,16643.0,39063.0,68304.0,7153.0,29651.0,5299.0,141748.0,978.0,4748.0,11881.0,1467.0,1884.0,25706.0,43514.0,8491.0,18613.0,18613.0,64215.0,26741.0,26741.0,26741.0,60070.0,5680.0,21834.0,21834.0,21834.0,21834.0,21834.0,21834.0,21834.0,21834.0,41796.0,6169.0,4519.0,18904.0,21930.0,12643.0,12852.0,21271.0,548.0,16990.0,16990.0,16990.0,3503.0,4757.0,22536.0,22536.0,7150.0,3836.0,3619.0,45485.0,973.0,9382.0,23114.0,35799.0,91743.0,11813.0,11813.0,37173.0,11668.0,6600.0,23148.0,23148.0,8081.0,8081.0,9372.0,3523.0,8922.0,8922.0,8922.0,26047.0,1859.0,50482.0,50482.0,50482.0,50482.0,117146.0,5836.0,79446.0,79446.0,7747.0,7747.0,7251.0,7251.0,10559.0,10559.0,5249.0,5249.0,33844.0,33844.0,11616.0,11616.0,11616.0,13609.0,8587.0,29442.0,11098.0,9947.0,13871.0,13871.0,13871.0,13871.0,15399.0,6982.0,32122.0,32122.0,32122.0,16949.0,16949.0,4628.0,4628.0,107449.0,5396.0,6222.0,4506.0,8747.0,6247.0,39459.0,10101.0,5898.0,193482.0,49288.0,49288.0,3759.0,9784.0,9784.0,10191.0,14493.0,2186.0,2091.0,111053.0,19720.0,19720.0,2122.0,27536.0,61060.0,4290.0,6377.0,1463.0,3759.0,3801.0,3796.0,42235.0,19546.0,19546.0,19546.0,19546.0,19546.0,19546.0,19546.0,8842.0,8842.0,8842.0,8842.0,24189.0,30183.0,30183.0,51255.0,31272.0,7932.0,26234.0,26234.0,26234.0,26234.0,26234.0,2282.0,11676.0,2586.0,6740.0,25510.0,3829.0,8958.0,41127.0,1873.0,14705.0,8170.0,87841.0,120727.0,9967.0,10760.0,21625.0,21625.0,21625.0,21625.0,21625.0,9413.0],\"yaxis\":\"y\",\"type\":\"scatter\"}],                        {\"template\":{\"data\":{\"barpolar\":[{\"marker\":{\"line\":{\"color\":\"rgb(17,17,17)\",\"width\":0.5},\"pattern\":{\"fillmode\":\"overlay\",\"size\":10,\"solidity\":0.2}},\"type\":\"barpolar\"}],\"bar\":[{\"error_x\":{\"color\":\"#f2f5fa\"},\"error_y\":{\"color\":\"#f2f5fa\"},\"marker\":{\"line\":{\"color\":\"rgb(17,17,17)\",\"width\":0.5},\"pattern\":{\"fillmode\":\"overlay\",\"size\":10,\"solidity\":0.2}},\"type\":\"bar\"}],\"carpet\":[{\"aaxis\":{\"endlinecolor\":\"#A2B1C6\",\"gridcolor\":\"#506784\",\"linecolor\":\"#506784\",\"minorgridcolor\":\"#506784\",\"startlinecolor\":\"#A2B1C6\"},\"baxis\":{\"endlinecolor\":\"#A2B1C6\",\"gridcolor\":\"#506784\",\"linecolor\":\"#506784\",\"minorgridcolor\":\"#506784\",\"startlinecolor\":\"#A2B1C6\"},\"type\":\"carpet\"}],\"choropleth\":[{\"colorbar\":{\"outlinewidth\":0,\"ticks\":\"\"},\"type\":\"choropleth\"}],\"contourcarpet\":[{\"colorbar\":{\"outlinewidth\":0,\"ticks\":\"\"},\"type\":\"contourcarpet\"}],\"contour\":[{\"colorbar\":{\"outlinewidth\":0,\"ticks\":\"\"},\"colorscale\":[[0.0,\"#0d0887\"],[0.1111111111111111,\"#46039f\"],[0.2222222222222222,\"#7201a8\"],[0.3333333333333333,\"#9c179e\"],[0.4444444444444444,\"#bd3786\"],[0.5555555555555556,\"#d8576b\"],[0.6666666666666666,\"#ed7953\"],[0.7777777777777778,\"#fb9f3a\"],[0.8888888888888888,\"#fdca26\"],[1.0,\"#f0f921\"]],\"type\":\"contour\"}],\"heatmapgl\":[{\"colorbar\":{\"outlinewidth\":0,\"ticks\":\"\"},\"colorscale\":[[0.0,\"#0d0887\"],[0.1111111111111111,\"#46039f\"],[0.2222222222222222,\"#7201a8\"],[0.3333333333333333,\"#9c179e\"],[0.4444444444444444,\"#bd3786\"],[0.5555555555555556,\"#d8576b\"],[0.6666666666666666,\"#ed7953\"],[0.7777777777777778,\"#fb9f3a\"],[0.8888888888888888,\"#fdca26\"],[1.0,\"#f0f921\"]],\"type\":\"heatmapgl\"}],\"heatmap\":[{\"colorbar\":{\"outlinewidth\":0,\"ticks\":\"\"},\"colorscale\":[[0.0,\"#0d0887\"],[0.1111111111111111,\"#46039f\"],[0.2222222222222222,\"#7201a8\"],[0.3333333333333333,\"#9c179e\"],[0.4444444444444444,\"#bd3786\"],[0.5555555555555556,\"#d8576b\"],[0.6666666666666666,\"#ed7953\"],[0.7777777777777778,\"#fb9f3a\"],[0.8888888888888888,\"#fdca26\"],[1.0,\"#f0f921\"]],\"type\":\"heatmap\"}],\"histogram2dcontour\":[{\"colorbar\":{\"outlinewidth\":0,\"ticks\":\"\"},\"colorscale\":[[0.0,\"#0d0887\"],[0.1111111111111111,\"#46039f\"],[0.2222222222222222,\"#7201a8\"],[0.3333333333333333,\"#9c179e\"],[0.4444444444444444,\"#bd3786\"],[0.5555555555555556,\"#d8576b\"],[0.6666666666666666,\"#ed7953\"],[0.7777777777777778,\"#fb9f3a\"],[0.8888888888888888,\"#fdca26\"],[1.0,\"#f0f921\"]],\"type\":\"histogram2dcontour\"}],\"histogram2d\":[{\"colorbar\":{\"outlinewidth\":0,\"ticks\":\"\"},\"colorscale\":[[0.0,\"#0d0887\"],[0.1111111111111111,\"#46039f\"],[0.2222222222222222,\"#7201a8\"],[0.3333333333333333,\"#9c179e\"],[0.4444444444444444,\"#bd3786\"],[0.5555555555555556,\"#d8576b\"],[0.6666666666666666,\"#ed7953\"],[0.7777777777777778,\"#fb9f3a\"],[0.8888888888888888,\"#fdca26\"],[1.0,\"#f0f921\"]],\"type\":\"histogram2d\"}],\"histogram\":[{\"marker\":{\"pattern\":{\"fillmode\":\"overlay\",\"size\":10,\"solidity\":0.2}},\"type\":\"histogram\"}],\"mesh3d\":[{\"colorbar\":{\"outlinewidth\":0,\"ticks\":\"\"},\"type\":\"mesh3d\"}],\"parcoords\":[{\"line\":{\"colorbar\":{\"outlinewidth\":0,\"ticks\":\"\"}},\"type\":\"parcoords\"}],\"pie\":[{\"automargin\":true,\"type\":\"pie\"}],\"scatter3d\":[{\"line\":{\"colorbar\":{\"outlinewidth\":0,\"ticks\":\"\"}},\"marker\":{\"colorbar\":{\"outlinewidth\":0,\"ticks\":\"\"}},\"type\":\"scatter3d\"}],\"scattercarpet\":[{\"marker\":{\"colorbar\":{\"outlinewidth\":0,\"ticks\":\"\"}},\"type\":\"scattercarpet\"}],\"scattergeo\":[{\"marker\":{\"colorbar\":{\"outlinewidth\":0,\"ticks\":\"\"}},\"type\":\"scattergeo\"}],\"scattergl\":[{\"marker\":{\"line\":{\"color\":\"#283442\"}},\"type\":\"scattergl\"}],\"scattermapbox\":[{\"marker\":{\"colorbar\":{\"outlinewidth\":0,\"ticks\":\"\"}},\"type\":\"scattermapbox\"}],\"scatterpolargl\":[{\"marker\":{\"colorbar\":{\"outlinewidth\":0,\"ticks\":\"\"}},\"type\":\"scatterpolargl\"}],\"scatterpolar\":[{\"marker\":{\"colorbar\":{\"outlinewidth\":0,\"ticks\":\"\"}},\"type\":\"scatterpolar\"}],\"scatter\":[{\"marker\":{\"line\":{\"color\":\"#283442\"}},\"type\":\"scatter\"}],\"scatterternary\":[{\"marker\":{\"colorbar\":{\"outlinewidth\":0,\"ticks\":\"\"}},\"type\":\"scatterternary\"}],\"surface\":[{\"colorbar\":{\"outlinewidth\":0,\"ticks\":\"\"},\"colorscale\":[[0.0,\"#0d0887\"],[0.1111111111111111,\"#46039f\"],[0.2222222222222222,\"#7201a8\"],[0.3333333333333333,\"#9c179e\"],[0.4444444444444444,\"#bd3786\"],[0.5555555555555556,\"#d8576b\"],[0.6666666666666666,\"#ed7953\"],[0.7777777777777778,\"#fb9f3a\"],[0.8888888888888888,\"#fdca26\"],[1.0,\"#f0f921\"]],\"type\":\"surface\"}],\"table\":[{\"cells\":{\"fill\":{\"color\":\"#506784\"},\"line\":{\"color\":\"rgb(17,17,17)\"}},\"header\":{\"fill\":{\"color\":\"#2a3f5f\"},\"line\":{\"color\":\"rgb(17,17,17)\"}},\"type\":\"table\"}]},\"layout\":{\"annotationdefaults\":{\"arrowcolor\":\"#f2f5fa\",\"arrowhead\":0,\"arrowwidth\":1},\"autotypenumbers\":\"strict\",\"coloraxis\":{\"colorbar\":{\"outlinewidth\":0,\"ticks\":\"\"}},\"colorscale\":{\"diverging\":[[0,\"#8e0152\"],[0.1,\"#c51b7d\"],[0.2,\"#de77ae\"],[0.3,\"#f1b6da\"],[0.4,\"#fde0ef\"],[0.5,\"#f7f7f7\"],[0.6,\"#e6f5d0\"],[0.7,\"#b8e186\"],[0.8,\"#7fbc41\"],[0.9,\"#4d9221\"],[1,\"#276419\"]],\"sequential\":[[0.0,\"#0d0887\"],[0.1111111111111111,\"#46039f\"],[0.2222222222222222,\"#7201a8\"],[0.3333333333333333,\"#9c179e\"],[0.4444444444444444,\"#bd3786\"],[0.5555555555555556,\"#d8576b\"],[0.6666666666666666,\"#ed7953\"],[0.7777777777777778,\"#fb9f3a\"],[0.8888888888888888,\"#fdca26\"],[1.0,\"#f0f921\"]],\"sequentialminus\":[[0.0,\"#0d0887\"],[0.1111111111111111,\"#46039f\"],[0.2222222222222222,\"#7201a8\"],[0.3333333333333333,\"#9c179e\"],[0.4444444444444444,\"#bd3786\"],[0.5555555555555556,\"#d8576b\"],[0.6666666666666666,\"#ed7953\"],[0.7777777777777778,\"#fb9f3a\"],[0.8888888888888888,\"#fdca26\"],[1.0,\"#f0f921\"]]},\"colorway\":[\"#636efa\",\"#EF553B\",\"#00cc96\",\"#ab63fa\",\"#FFA15A\",\"#19d3f3\",\"#FF6692\",\"#B6E880\",\"#FF97FF\",\"#FECB52\"],\"font\":{\"color\":\"#f2f5fa\"},\"geo\":{\"bgcolor\":\"rgb(17,17,17)\",\"lakecolor\":\"rgb(17,17,17)\",\"landcolor\":\"rgb(17,17,17)\",\"showlakes\":true,\"showland\":true,\"subunitcolor\":\"#506784\"},\"hoverlabel\":{\"align\":\"left\"},\"hovermode\":\"closest\",\"mapbox\":{\"style\":\"dark\"},\"paper_bgcolor\":\"rgb(17,17,17)\",\"plot_bgcolor\":\"rgb(17,17,17)\",\"polar\":{\"angularaxis\":{\"gridcolor\":\"#506784\",\"linecolor\":\"#506784\",\"ticks\":\"\"},\"bgcolor\":\"rgb(17,17,17)\",\"radialaxis\":{\"gridcolor\":\"#506784\",\"linecolor\":\"#506784\",\"ticks\":\"\"}},\"scene\":{\"xaxis\":{\"backgroundcolor\":\"rgb(17,17,17)\",\"gridcolor\":\"#506784\",\"gridwidth\":2,\"linecolor\":\"#506784\",\"showbackground\":true,\"ticks\":\"\",\"zerolinecolor\":\"#C8D4E3\"},\"yaxis\":{\"backgroundcolor\":\"rgb(17,17,17)\",\"gridcolor\":\"#506784\",\"gridwidth\":2,\"linecolor\":\"#506784\",\"showbackground\":true,\"ticks\":\"\",\"zerolinecolor\":\"#C8D4E3\"},\"zaxis\":{\"backgroundcolor\":\"rgb(17,17,17)\",\"gridcolor\":\"#506784\",\"gridwidth\":2,\"linecolor\":\"#506784\",\"showbackground\":true,\"ticks\":\"\",\"zerolinecolor\":\"#C8D4E3\"}},\"shapedefaults\":{\"line\":{\"color\":\"#f2f5fa\"}},\"sliderdefaults\":{\"bgcolor\":\"#C8D4E3\",\"bordercolor\":\"rgb(17,17,17)\",\"borderwidth\":1,\"tickwidth\":0},\"ternary\":{\"aaxis\":{\"gridcolor\":\"#506784\",\"linecolor\":\"#506784\",\"ticks\":\"\"},\"baxis\":{\"gridcolor\":\"#506784\",\"linecolor\":\"#506784\",\"ticks\":\"\"},\"bgcolor\":\"rgb(17,17,17)\",\"caxis\":{\"gridcolor\":\"#506784\",\"linecolor\":\"#506784\",\"ticks\":\"\"}},\"title\":{\"x\":0.05},\"updatemenudefaults\":{\"bgcolor\":\"#506784\",\"borderwidth\":0},\"xaxis\":{\"automargin\":true,\"gridcolor\":\"#283442\",\"linecolor\":\"#506784\",\"ticks\":\"\",\"title\":{\"standoff\":15},\"zerolinecolor\":\"#283442\",\"zerolinewidth\":2},\"yaxis\":{\"automargin\":true,\"gridcolor\":\"#283442\",\"linecolor\":\"#506784\",\"ticks\":\"\",\"title\":{\"standoff\":15},\"zerolinecolor\":\"#283442\",\"zerolinewidth\":2}}},\"xaxis\":{\"anchor\":\"y\",\"domain\":[0.0,1.0],\"title\":{\"text\":\"Price (USD)\"}},\"yaxis\":{\"anchor\":\"x\",\"domain\":[0.0,1.0],\"title\":{\"text\":\"# of Reviews\"}},\"legend\":{\"title\":{\"text\":\"Genre\"},\"tracegroupgap\":0},\"title\":{\"text\":\"Number of Reviews by Book Price<br><sup>Amazon Bestseller List 2009 to Present</sup>\"}},                        {\"responsive\": true}                    ).then(function(){\n",
       "                            \n",
       "var gd = document.getElementById('c53d8b25-a183-4a4d-9d07-ec4698d74ec3');\n",
       "var x = new MutationObserver(function (mutations, observer) {{\n",
       "        var display = window.getComputedStyle(gd).display;\n",
       "        if (!display || display === 'none') {{\n",
       "            console.log([gd, 'removed!']);\n",
       "            Plotly.purge(gd);\n",
       "            observer.disconnect();\n",
       "        }}\n",
       "}});\n",
       "\n",
       "// Listen for the removal of the full notebook cells\n",
       "var notebookContainer = gd.closest('#notebook-container');\n",
       "if (notebookContainer) {{\n",
       "    x.observe(notebookContainer, {childList: true});\n",
       "}}\n",
       "\n",
       "// Listen for the clearing of the current output cell\n",
       "var outputEl = gd.closest('.output');\n",
       "if (outputEl) {{\n",
       "    x.observe(outputEl, {childList: true});\n",
       "}}\n",
       "\n",
       "                        })                };                });            </script>        </div>"
      ]
     },
     "metadata": {},
     "output_type": "display_data"
    }
   ],
   "source": [
    "fig = px.scatter(books, \n",
    "                 x='Price',\n",
    "                 y='Reviews',\n",
    "                 title=\"Number of Reviews by Book Price<br><sup>Amazon Bestseller List 2009 to Present</sup>\",\n",
    "                 labels={'Reviews': '# of Reviews', 'Price': 'Price (USD)'},\n",
    "                 color='Genre',\n",
    "                 template='plotly_dark'\n",
    "                )\n",
    "fig.show()"
   ]
  },
  {
   "cell_type": "markdown",
   "id": "5eb25f88",
   "metadata": {},
   "source": [
    "## Geographical Scatterplot"
   ]
  },
  {
   "cell_type": "code",
   "execution_count": 42,
   "id": "10b1fbd6",
   "metadata": {},
   "outputs": [],
   "source": [
    "heavy = pd.read_csv('data/heavy_meteorites.csv')"
   ]
  },
  {
   "cell_type": "code",
   "execution_count": 48,
   "id": "57027c2d",
   "metadata": {},
   "outputs": [
    {
     "data": {
      "application/vnd.plotly.v1+json": {
       "config": {
        "plotlyServerURL": "https://plot.ly"
       },
       "data": [
        {
         "customdata": [
          [
           "Abee",
           1952
          ],
          [
           "Alfianello",
           1883
          ],
          [
           "Allende",
           1969
          ],
          [
           "Bjurböle",
           1899
          ],
          [
           "Boguslavka",
           1916
          ],
          [
           "Bruderheim",
           1960
          ],
          [
           "Bur-Gheluai",
           1919
          ],
          [
           "Chelyabinsk",
           2013
          ],
          [
           "Chergach ",
           2007
          ],
          [
           "Colby (Wisconsin)",
           1917
          ],
          [
           "Djati-Pengilon",
           1884
          ],
          [
           "Dong Ujimqin Qi",
           1995
          ],
          [
           "Elbogen",
           1399
          ],
          [
           "Ensisheim",
           1491
          ],
          [
           "Estherville",
           1879
          ],
          [
           "Forest City",
           1890
          ],
          [
           "Glasatovo",
           1918
          ],
          [
           "Gujba",
           1984
          ],
          [
           "Holbrook",
           1912
          ],
          [
           "Homestead",
           1875
          ],
          [
           "Jianshi",
           1890
          ],
          [
           "Jilin",
           1976
          ],
          [
           "Juancheng",
           1997
          ],
          [
           "Kainsaz",
           1937
          ],
          [
           "Kesen",
           1850
          ],
          [
           "Kidairat",
           1983
          ],
          [
           "Knyahinya",
           1866
          ],
          [
           "Kunashak",
           1949
          ],
          [
           "Kunya-Urgench",
           1998
          ],
          [
           "Mbale",
           1992
          ],
          [
           "Millbillillie",
           1960
          ],
          [
           "Mocs",
           1882
          ],
          [
           "Molina",
           1858
          ],
          [
           "Montferré",
           1923
          ],
          [
           "Mount Tazerzait",
           1991
          ],
          [
           "Murchison",
           1969
          ],
          [
           "New Concord",
           1860
          ],
          [
           "Norton County",
           1948
          ],
          [
           "Ochansk",
           1887
          ],
          [
           "Olivenza",
           1924
          ],
          [
           "Omolon",
           1981
          ],
          [
           "Paragould",
           1930
          ],
          [
           "Paranaiba",
           1956
          ],
          [
           "Pultusk",
           1868
          ],
          [
           "Putinga",
           1937
          ],
          [
           "Saint-Séverin",
           1966
          ],
          [
           "Saratov",
           1918
          ],
          [
           "Sevrukovo",
           1874
          ],
          [
           "Sikhote-Alin",
           1947
          ],
          [
           "Sterlitamak",
           1990
          ],
          [
           "Suizhou",
           1986
          ],
          [
           "Sulagiri",
           2008
          ],
          [
           "Tamdakht",
           2008
          ],
          [
           "Tenham",
           1879
          ],
          [
           "Udei Station",
           1927
          ],
          [
           "Weston",
           1807
          ],
          [
           "Wiluna",
           1967
          ],
          [
           "Yardymly",
           1959
          ],
          [
           "Zag",
           1998
          ],
          [
           "Zhovtnevyi",
           1938
          ]
         ],
         "geo": "geo",
         "hovertemplate": "fall=Fell<br>mass=%{marker.size}<br>reclat=%{lat}<br>reclong=%{lon}<br>name=%{customdata[0]}<br>year=%{customdata[1]}<extra></extra>",
         "lat": [
          54.21667,
          45.26667,
          26.96667,
          60.4,
          44.55,
          53.9,
          5,
          54.81667,
          23.69639,
          44.9,
          -7.5,
          45.5,
          50.18333,
          47.86667,
          43.41667,
          43.25,
          57.35,
          11.49167,
          34.9,
          41.8,
          30.80833,
          44.05,
          35.5,
          55.43333,
          38.98333,
          14,
          48.9,
          55.78333,
          42.25,
          1.06667,
          -26.45,
          46.8,
          38.11667,
          43.39056,
          18.7,
          -36.61667,
          40,
          39.68333,
          57.78333,
          38.71667,
          64.02,
          36.06667,
          -19.13333,
          52.76667,
          -29.03333,
          45.3,
          52.55,
          50.61667,
          46.16,
          53.66667,
          31.61667,
          12.66667,
          31.16333,
          -25.73333,
          7.95,
          41.266667,
          -26.59278,
          38.93333,
          27.33333,
          47.58333
         ],
         "legendgroup": "Fell",
         "lon": [
          -113,
          10.15,
          -105.31667,
          25.8,
          131.63333,
          -112.88333,
          48,
          61.11667,
          -5.01472,
          -90.28333,
          111.5,
          119.03333,
          12.73333,
          7.35,
          -94.83333,
          -93.66667,
          37.61667,
          11.65833,
          -110.18333,
          -91.86667,
          109.5,
          126.16667,
          115.41667,
          53.25,
          141.61667,
          28,
          22.4,
          61.36667,
          59.2,
          34.16667,
          120.36667,
          24.03333,
          -1.16667,
          1.9625,
          4.8,
          145.2,
          -81.76667,
          -99.86667,
          55.26667,
          -7.06667,
          161.80833,
          -90.5,
          -51.66667,
          21.26667,
          -53.05,
          0.23333,
          46.55,
          36.6,
          134.65333,
          55.98333,
          113.46667,
          78.03333,
          -7.015,
          142.95,
          8.08333,
          -73.266667,
          120.32833,
          48.25,
          -9.33333,
          37.25
         ],
         "marker": {
          "color": "#636efa",
          "size": [
           107000,
           228000,
           2000000,
           330000,
           256000,
           303000,
           120000,
           100000,
           100000,
           104000,
           166000,
           128800,
           107000,
           127000,
           320000,
           152000,
           152000,
           100000,
           220000,
           230000,
           600000,
           4000000,
           100000,
           200000,
           135000,
           100000,
           500000,
           200000,
           1100000,
           150000,
           330000,
           300000,
           144000,
           149000,
           110000,
           100000,
           230000,
           1100000,
           500000,
           150000,
           250000,
           408000,
           100000,
           250000,
           300000,
           271000,
           200000,
           101000,
           23000000,
           325000,
           260000,
           110000,
           100000,
           160000,
           103000,
           150000,
           150000,
           150200,
           175000,
           107000
          ],
          "sizemode": "area",
          "sizeref": 150000,
          "symbol": "circle"
         },
         "mode": "markers",
         "name": "Fell",
         "showlegend": true,
         "type": "scattergeo"
        },
        {
         "customdata": [
          [
           "Acuña",
           1981
          ],
          [
           "Admire",
           1881
          ],
          [
           "Adzhi-Bogdo (iron)",
           1952
          ],
          [
           "Agoudal",
           2000
          ],
          [
           "Al Haggounia 001",
           2006
          ],
          [
           "Alkhamasin",
           1973
          ],
          [
           "Allan Hills A76009",
           1976
          ],
          [
           "Anyujskij",
           1981
          ],
          [
           "Araslanovo",
           1973
          ],
          [
           "Arispe",
           1896
          ],
          [
           "Armanty",
           1898
          ],
          [
           "Augustinovka",
           1890
          ],
          [
           "Babb's Mill (Blake's Iron)",
           1876
          ],
          [
           "Bacubirito",
           1863
          ],
          [
           "Barratta",
           1845
          ],
          [
           "Bear Creek",
           1866
          ],
          [
           "Bencubbin",
           1930
          ],
          [
           "Bendegó",
           1784
          ],
          [
           "Bilibino",
           1981
          ],
          [
           "Bitburg",
           1805
          ],
          [
           "Bluff (a)",
           1878
          ],
          [
           "Bondoc",
           1956
          ],
          [
           "Bou Azarif",
           2010
          ],
          [
           "Boxhole",
           1937
          ],
          [
           "Brahin",
           1810
          ],
          [
           "Brainard",
           1978
          ],
          [
           "Brenham",
           1882
          ],
          [
           "Budulan",
           1962
          ],
          [
           "Buenaventura",
           1969
          ],
          [
           "Bur-Abor",
           1997
          ],
          [
           "Camp Wood",
           null
          ],
          [
           "Campinorte",
           1992
          ],
          [
           "Campo del Cielo",
           1575
          ],
          [
           "Canyon Diablo",
           1891
          ],
          [
           "Cape of Good Hope",
           1793
          ],
          [
           "Cape York",
           1818
          ],
          [
           "Caperr",
           1869
          ],
          [
           "Carbo",
           1923
          ],
          [
           "Carnegie",
           1963
          ],
          [
           "Carthage",
           1840
          ],
          [
           "Casas Grandes",
           1867
          ],
          [
           "Charcas",
           1804
          ],
          [
           "Chebankol",
           1938
          ],
          [
           "Chico",
           1954
          ],
          [
           "Chinga",
           1913
          ],
          [
           "Chupaderos",
           1852
          ],
          [
           "Cleveland",
           1860
          ],
          [
           "Clovis (no. 1)",
           1961
          ],
          [
           "Coahuila",
           1837
          ],
          [
           "Colomera",
           1912
          ],
          [
           "Cook 001",
           1989
          ],
          [
           "Cook 007",
           1989
          ],
          [
           "Cosby's Creek",
           1837
          ],
          [
           "Cranbourne",
           1854
          ],
          [
           "Dalgety Downs",
           1941
          ],
          [
           "Davis Mountains",
           1903
          ],
          [
           "Derrick Peak A78009",
           1978
          ],
          [
           "Dhofar 005",
           2000
          ],
          [
           "Dhofar 020",
           2000
          ],
          [
           "Dimitrovgrad",
           1949
          ],
          [
           "Dimmitt",
           1942
          ],
          [
           "Drum Mountains",
           1944
          ],
          [
           "Duketon",
           1948
          ],
          [
           "Durango",
           1804
          ],
          [
           "El Hammami",
           1997
          ],
          [
           "El Sampal",
           1973
          ],
          [
           "El Timbu",
           1942
          ],
          [
           "Madoc",
           1854
          ],
          [
           "Magura",
           1840
          ],
          [
           "Manlai",
           1954
          ],
          [
           "Mbosi",
           1930
          ],
          [
           "McKinney",
           1870
          ],
          [
           "Miles",
           1992
          ],
          [
           "Molong",
           1912
          ],
          [
           "Mont Dieu",
           1994
          ],
          [
           "Morasko",
           1914
          ],
          [
           "Morito",
           1600
          ],
          [
           "Morland",
           1890
          ],
          [
           "Moshesh",
           null
          ],
          [
           "Mount Dooling",
           1909
          ],
          [
           "Mount Edith",
           1913
          ],
          [
           "Mount Joy",
           1887
          ],
          [
           "Mount Padbury",
           1964
          ],
          [
           "Mount Vernon",
           1868
          ],
          [
           "Mundrabilla",
           1911
          ],
          [
           "Muonionalusta",
           1906
          ],
          [
           "Murnpeowie",
           1909
          ],
          [
           "Nantan",
           1958
          ],
          [
           "Navajo",
           1921
          ],
          [
           "Netschaëvo",
           1846
          ],
          [
           "North Chile",
           1875
          ],
          [
           "Northwest Africa 1172",
           2000
          ],
          [
           "Northwest Africa 1430",
           2001
          ],
          [
           "Northwest Africa 2239",
           2002
          ],
          [
           "Northwest Africa 2924",
           2005
          ],
          [
           "Northwest Africa 2965",
           2005
          ],
          [
           "Northwest Africa 4037",
           2005
          ],
          [
           "Northwest Africa 4502",
           2005
          ],
          [
           "Northwest Africa 4528",
           2006
          ],
          [
           "Northwest Africa 4544",
           2006
          ],
          [
           "Northwest Africa 4561",
           2006
          ],
          [
           "Northwest Africa 5940",
           2009
          ],
          [
           "Northwest Africa 6947",
           2011
          ],
          [
           "Northwest Africa 869",
           2000
          ],
          [
           "Nova Petropolis",
           1967
          ],
          [
           "Oakley (iron)",
           1926
          ],
          [
           "Odessa (iron)",
           1922
          ],
          [
           "Old Woman",
           1976
          ],
          [
           "Orange River (iron)",
           1855
          ],
          [
           "Owasco",
           1984
          ],
          [
           "Owens Valley",
           1913
          ],
          [
           "Ozona",
           1929
          ],
          [
           "Pallasovka",
           1990
          ],
          [
           "Paneth's Iron",
           1873
          ],
          [
           "Para de Minas",
           1934
          ],
          [
           "Patos de Minas (octahedrite)",
           1925
          ],
          [
           "Pei Xian",
           1917
          ],
          [
           "Pierceville (iron)",
           1917
          ],
          [
           "Plainview (1917)",
           1917
          ],
          [
           "Porto Alegre",
           2005
          ],
          [
           "Potter",
           1941
          ],
          [
           "Prambanan",
           1797
          ],
          [
           "Qijiaojing",
           2003
          ],
          [
           "Esquel",
           1951
          ],
          [
           "Estacado",
           1883
          ],
          [
           "Etosha",
           1970
          ],
          [
           "Etter",
           1965
          ],
          [
           "Faith",
           1952
          ],
          [
           "Faucett",
           1966
          ],
          [
           "Florey",
           1978
          ],
          [
           "Franconia",
           2002
          ],
          [
           "Fukang",
           2000
          ],
          [
           "Garabato",
           1995
          ],
          [
           "Gebel Kamil",
           2009
          ],
          [
           "Ghubara",
           1954
          ],
          [
           "Gibeon",
           1836
          ],
          [
           "Gilgoin",
           1889
          ],
          [
           "Gladstone (iron)",
           1915
          ],
          [
           "Glorieta Mountain",
           1884
          ],
          [
           "Goose Lake",
           1938
          ],
          [
           "Grant",
           1929
          ],
          [
           "Gressk",
           1955
          ],
          [
           "Guanghua",
           1932
          ],
          [
           "Guffey",
           1907
          ],
          [
           "Guixi",
           null
          ],
          [
           "Gundaring",
           1937
          ],
          [
           "Haig",
           1951
          ],
          [
           "Henbury",
           1931
          ],
          [
           "Hoba",
           1920
          ],
          [
           "Huckitta",
           1924
          ],
          [
           "Hugoton",
           1927
          ],
          [
           "Huizopa",
           1907
          ],
          [
           "Ider",
           1957
          ],
          [
           "Imilac",
           1822
          ],
          [
           "Iron Creek",
           1869
          ],
          [
           "Itapuranga",
           null
          ],
          [
           "Jalu",
           2000
          ],
          [
           "Jepara",
           2008
          ],
          [
           "Jiddat al Harasis 055",
           2004
          ],
          [
           "Jiddat al Harasis 073",
           2002
          ],
          [
           "Jiddat al Harasis 091",
           2002
          ],
          [
           "Juncal",
           1866
          ],
          [
           "Karavannoe",
           null
          ],
          [
           "Kenton County",
           1889
          ],
          [
           "Keyes",
           1939
          ],
          [
           "Kimble County",
           1918
          ],
          [
           "Knowles",
           1903
          ],
          [
           "Kokstad",
           1884
          ],
          [
           "Korra Korrabes",
           1996
          ],
          [
           "Kouga Mountains",
           1903
          ],
          [
           "Krasnojarsk",
           1749
          ],
          [
           "La Caille",
           1828
          ],
          [
           "Lake Murray",
           1933
          ],
          [
           "Lenarto",
           1814
          ],
          [
           "Lewis Cliff 85320",
           1985
          ],
          [
           "Liangcheng",
           1959
          ],
          [
           "Long Island",
           1891
          ],
          [
           "Longchang",
           1781
          ],
          [
           "Longtian",
           1991
          ],
          [
           "Los Sauces",
           1937
          ],
          [
           "Lutschaunig's Stone",
           1861
          ],
          [
           "Quinn Canyon",
           1908
          ],
          [
           "Rateldraai",
           1909
          ],
          [
           "Red River",
           1808
          ],
          [
           "Retuerta del Bullaque",
           1980
          ],
          [
           "Rifle",
           1948
          ],
          [
           "Rio Limay",
           1995
          ],
          [
           "Sacramento Mountains",
           1890
          ],
          [
           "Sahara 02500",
           2001
          ],
          [
           "Saint-Aubin",
           1968
          ],
          [
           "Sanclerlandia",
           1971
          ],
          [
           "Santa Apolonia",
           1872
          ],
          [
           "Santa Catharina",
           1875
          ],
          [
           "Santa Luzia",
           1921
          ],
          [
           "Santa Rosa",
           1810
          ],
          [
           "Santiago Papasquiero",
           1958
          ],
          [
           "São Julião de Moreira",
           1883
          ],
          [
           "Sardis",
           1940
          ],
          [
           "Sayh al Uhaymir 001",
           2000
          ],
          [
           "Scurry",
           1937
          ],
          [
           "Seeläsgen",
           1847
          ],
          [
           "Selma",
           1906
          ],
          [
           "Seymchan",
           1967
          ],
          [
           "Shangdu",
           1957
          ],
          [
           "South Dahna",
           1957
          ],
          [
           "Ssyromolotovo",
           1873
          ],
          [
           "St. Genevieve County",
           1888
          ],
          [
           "Tafassasset",
           2000
          ],
          [
           "Tamarugal",
           1903
          ],
          [
           "Tambo Quemado",
           1950
          ],
          [
           "Tamentit",
           1864
          ],
          [
           "Tamir-Tsetserleg",
           1956
          ],
          [
           "Tanokami Mountain",
           1885
          ],
          [
           "Tianlin",
           1956
          ],
          [
           "Tiberrhamine",
           1967
          ],
          [
           "Tishomingo",
           1965
          ],
          [
           "Toluca",
           1776
          ],
          [
           "Travis County (a)",
           1889
          ],
          [
           "Trenton",
           1858
          ],
          [
           "Tres Castillos",
           1992
          ],
          [
           "Tres Estacas",
           1968
          ],
          [
           "Tsarev",
           1968
          ],
          [
           "Tucson",
           1850
          ],
          [
           "Uegit",
           1921
          ],
          [
           "Vaca Muerta",
           1861
          ],
          [
           "Wabar",
           1863
          ],
          [
           "Wallapai",
           1927
          ],
          [
           "Wichita County",
           1836
          ],
          [
           "Wildara",
           1968
          ],
          [
           "Willamette",
           1902
          ],
          [
           "Wolf Creek",
           1947
          ],
          [
           "Xifu",
           2004
          ],
          [
           "Yanhuitlan",
           1825
          ],
          [
           "Yenberrie",
           1918
          ],
          [
           "Yingde",
           1964
          ],
          [
           "Youanmi",
           1917
          ],
          [
           "Youndegin",
           1884
          ],
          [
           "Youxi",
           2006
          ],
          [
           "Ysleta",
           1914
          ],
          [
           "Zacatecas (1792)",
           1792
          ],
          [
           "Zaragoza",
           null
          ],
          [
           "Zerhamra",
           1967
          ],
          [
           "Zhaoping",
           1983
          ],
          [
           "Zhigansk",
           1966
          ],
          [
           "Zhongxiang",
           1981
          ],
          [
           "Madoc",
           1854
          ],
          [
           "Magura",
           1840
          ],
          [
           "Manlai",
           1954
          ],
          [
           "Mbosi",
           1930
          ],
          [
           "McKinney",
           1870
          ],
          [
           "Miles",
           1992
          ],
          [
           "Molong",
           1912
          ],
          [
           "Mont Dieu",
           1994
          ],
          [
           "Morasko",
           1914
          ],
          [
           "Morito",
           1600
          ],
          [
           "Morland",
           1890
          ],
          [
           "Moshesh",
           null
          ],
          [
           "Mount Dooling",
           1909
          ],
          [
           "Mount Edith",
           1913
          ],
          [
           "Mount Joy",
           1887
          ],
          [
           "Mount Padbury",
           1964
          ],
          [
           "Mount Vernon",
           1868
          ],
          [
           "Mundrabilla",
           1911
          ],
          [
           "Muonionalusta",
           1906
          ],
          [
           "Murnpeowie",
           1909
          ],
          [
           "Nantan",
           1958
          ],
          [
           "Navajo",
           1921
          ],
          [
           "Netschaëvo",
           1846
          ],
          [
           "North Chile",
           1875
          ],
          [
           "Northwest Africa 1172",
           2000
          ],
          [
           "Northwest Africa 1430",
           2001
          ],
          [
           "Northwest Africa 2239",
           2002
          ],
          [
           "Northwest Africa 2924",
           2005
          ],
          [
           "Northwest Africa 2965",
           2005
          ],
          [
           "Northwest Africa 4037",
           2005
          ],
          [
           "Northwest Africa 4502",
           2005
          ],
          [
           "Northwest Africa 4528",
           2006
          ],
          [
           "Northwest Africa 4544",
           2006
          ],
          [
           "Northwest Africa 4561",
           2006
          ],
          [
           "Northwest Africa 5940",
           2009
          ],
          [
           "Northwest Africa 6947",
           2011
          ],
          [
           "Northwest Africa 869",
           2000
          ],
          [
           "Nova Petropolis",
           1967
          ],
          [
           "Oakley (iron)",
           1926
          ],
          [
           "Odessa (iron)",
           1922
          ],
          [
           "Old Woman",
           1976
          ],
          [
           "Orange River (iron)",
           1855
          ],
          [
           "Owasco",
           1984
          ],
          [
           "Owens Valley",
           1913
          ],
          [
           "Ozona",
           1929
          ],
          [
           "Pallasovka",
           1990
          ],
          [
           "Paneth's Iron",
           1873
          ],
          [
           "Para de Minas",
           1934
          ],
          [
           "Patos de Minas (octahedrite)",
           1925
          ],
          [
           "Pei Xian",
           1917
          ],
          [
           "Pierceville (iron)",
           1917
          ],
          [
           "Plainview (1917)",
           1917
          ],
          [
           "Porto Alegre",
           2005
          ],
          [
           "Potter",
           1941
          ],
          [
           "Prambanan",
           1797
          ],
          [
           "Qijiaojing",
           2003
          ],
          [
           "Quinn Canyon",
           1908
          ],
          [
           "Rateldraai",
           1909
          ],
          [
           "Red River",
           1808
          ],
          [
           "Retuerta del Bullaque",
           1980
          ],
          [
           "Rifle",
           1948
          ],
          [
           "Rio Limay",
           1995
          ],
          [
           "Sacramento Mountains",
           1890
          ],
          [
           "Sahara 02500",
           2001
          ],
          [
           "Saint-Aubin",
           1968
          ],
          [
           "Sanclerlandia",
           1971
          ],
          [
           "Santa Apolonia",
           1872
          ],
          [
           "Santa Catharina",
           1875
          ],
          [
           "Santa Luzia",
           1921
          ],
          [
           "Santa Rosa",
           1810
          ],
          [
           "Santiago Papasquiero",
           1958
          ],
          [
           "São Julião de Moreira",
           1883
          ],
          [
           "Sardis",
           1940
          ],
          [
           "Sayh al Uhaymir 001",
           2000
          ],
          [
           "Scurry",
           1937
          ],
          [
           "Seeläsgen",
           1847
          ],
          [
           "Selma",
           1906
          ],
          [
           "Seymchan",
           1967
          ],
          [
           "Shangdu",
           1957
          ],
          [
           "South Dahna",
           1957
          ],
          [
           "Ssyromolotovo",
           1873
          ],
          [
           "St. Genevieve County",
           1888
          ],
          [
           "Tafassasset",
           2000
          ],
          [
           "Tamarugal",
           1903
          ],
          [
           "Tambo Quemado",
           1950
          ],
          [
           "Tamentit",
           1864
          ],
          [
           "Tamir-Tsetserleg",
           1956
          ],
          [
           "Tanokami Mountain",
           1885
          ],
          [
           "Tianlin",
           1956
          ],
          [
           "Tiberrhamine",
           1967
          ],
          [
           "Tishomingo",
           1965
          ],
          [
           "Toluca",
           1776
          ],
          [
           "Travis County (a)",
           1889
          ],
          [
           "Trenton",
           1858
          ],
          [
           "Tres Castillos",
           1992
          ],
          [
           "Tres Estacas",
           1968
          ],
          [
           "Tsarev",
           1968
          ],
          [
           "Tucson",
           1850
          ],
          [
           "Uegit",
           1921
          ],
          [
           "Vaca Muerta",
           1861
          ],
          [
           "Wabar",
           1863
          ],
          [
           "Wallapai",
           1927
          ],
          [
           "Wichita County",
           1836
          ],
          [
           "Wildara",
           1968
          ],
          [
           "Willamette",
           1902
          ],
          [
           "Wolf Creek",
           1947
          ],
          [
           "Xifu",
           2004
          ],
          [
           "Yanhuitlan",
           1825
          ],
          [
           "Yenberrie",
           1918
          ],
          [
           "Yingde",
           1964
          ],
          [
           "Youanmi",
           1917
          ],
          [
           "Youndegin",
           1884
          ],
          [
           "Youxi",
           2006
          ],
          [
           "Ysleta",
           1914
          ],
          [
           "Zacatecas (1792)",
           1792
          ],
          [
           "Zaragoza",
           null
          ],
          [
           "Zerhamra",
           1967
          ],
          [
           "Zhaoping",
           1983
          ],
          [
           "Zhigansk",
           1966
          ],
          [
           "Zhongxiang",
           1981
          ]
         ],
         "geo": "geo",
         "hovertemplate": "fall=Found<br>mass=%{marker.size}<br>reclat=%{lat}<br>reclong=%{lon}<br>name=%{customdata[0]}<br>year=%{customdata[1]}<extra></extra>",
         "lat": [
          29.31667,
          38.7,
          44.86667,
          31.98457,
          27.5,
          20.6,
          -76.71667,
          66.9,
          55.14167,
          30.33333,
          47,
          48.06667,
          36.3,
          26.2,
          -35.3,
          39.6,
          -30.75,
          -10.11667,
          67.3,
          49.96667,
          29.87861,
          13.51667,
          31.15643,
          -22.61667,
          52.5,
          41.15333,
          37.5825,
          50.56667,
          29.8,
          3.98333,
          29.7725,
          -14.258,
          -27.46667,
          35.05,
          -33.5,
          76.13333,
          -45.28333,
          29.66667,
          35.16667,
          36.26667,
          30.4,
          23.08333,
          53.66667,
          36.5,
          51.05833,
          27,
          34.88333,
          34.3,
          28.7,
          37.43333,
          -30.33333,
          -30.61667,
          35.78333,
          -38.1,
          -25.33333,
          30.75,
          -80.06667,
          18.16667,
          19.03333,
          43.04639,
          34.58333,
          39.5,
          -27.5,
          null,
          23.28333,
          -44.53333,
          -33.11667,
          44.5,
          49.33333,
          44.33333,
          -9.11667,
          33.18333,
          -27.83333,
          -33.28333,
          49.55,
          52.46667,
          27.05,
          39.33333,
          -30.1,
          -29.45,
          -22.5,
          39.78333,
          -25.66667,
          36.93333,
          -30.78333,
          67.8,
          -29.58333,
          25.1,
          35.33333,
          54.23333,
          -23,
          null,
          null,
          null,
          null,
          null,
          null,
          0,
          null,
          null,
          null,
          0,
          0,
          null,
          -29.43333,
          42.33333,
          31.71667,
          34.46667,
          -30,
          41.2,
          37.46667,
          30.73333,
          49.86667,
          null,
          -19.86667,
          -18.58333,
          34.7,
          37.86667,
          34.11667,
          -30.03306,
          41.23333,
          -7.56667,
          43.75,
          -42.9,
          33.9,
          -18.5,
          35.98333,
          45.33333,
          39.61667,
          32.5225,
          34.71637,
          44.43333,
          -28.86667,
          22.01833,
          19.22778,
          -25.5,
          -30.38333,
          -23.9,
          35.6,
          41.98,
          35.16667,
          53.23333,
          32.4,
          38.76667,
          28.28333,
          -33.3,
          -31.38333,
          -24.56667,
          -19.58333,
          -22.36667,
          37.2,
          28.9,
          34.68333,
          -24.20333,
          53,
          -15.58333,
          27.95833,
          -6.6,
          19.65167,
          19.7,
          19.69362,
          -26,
          57.78117,
          38.81667,
          36.71667,
          30.41667,
          36.9,
          -30.55,
          -25.2,
          -33.61667,
          54.9,
          43.73333,
          34.1,
          49,
          -84.26223,
          40.5,
          39.93333,
          29.3,
          27.35,
          -29.41667,
          -27,
          38.08333,
          -28.83333,
          32,
          39.45889,
          38.51667,
          -39.85,
          32.91667,
          null,
          48.48333,
          -16.21667,
          19.21667,
          -26.21667,
          -16.26667,
          5.91667,
          24.5,
          41.76611,
          32.94889,
          20.51667,
          32.5,
          52.26667,
          32.4,
          62.9,
          42.5,
          22.56667,
          58.61667,
          37.96667,
          20.76333,
          -20.8,
          -14.66667,
          27.71667,
          47.45,
          34.91667,
          24.3,
          28.11667,
          34.25,
          19.56667,
          30.3,
          43.36667,
          29.47,
          null,
          48.7,
          31.85,
          3.81667,
          -25.75,
          21.49972,
          35.8,
          34.06667,
          -28.23333,
          45.36667,
          -19.3,
          36.3,
          17.53333,
          -14.25,
          24.2,
          -29.5,
          -32.1,
          26.06,
          31.65,
          22.81667,
          41.65,
          29.85861,
          24.23333,
          68,
          31.2,
          44.5,
          49.33333,
          44.33333,
          -9.11667,
          33.18333,
          -27.83333,
          -33.28333,
          49.55,
          52.46667,
          27.05,
          39.33333,
          -30.1,
          -29.45,
          -22.5,
          39.78333,
          -25.66667,
          36.93333,
          -30.78333,
          67.8,
          -29.58333,
          25.1,
          35.33333,
          54.23333,
          -23,
          null,
          null,
          null,
          null,
          null,
          null,
          0,
          null,
          null,
          null,
          0,
          0,
          null,
          -29.43333,
          42.33333,
          31.71667,
          34.46667,
          -30,
          41.2,
          37.46667,
          30.73333,
          49.86667,
          null,
          -19.86667,
          -18.58333,
          34.7,
          37.86667,
          34.11667,
          -30.03306,
          41.23333,
          -7.56667,
          43.75,
          38.08333,
          -28.83333,
          32,
          39.45889,
          38.51667,
          -39.85,
          32.91667,
          null,
          48.48333,
          -16.21667,
          19.21667,
          -26.21667,
          -16.26667,
          5.91667,
          24.5,
          41.76611,
          32.94889,
          20.51667,
          32.5,
          52.26667,
          32.4,
          62.9,
          42.5,
          22.56667,
          58.61667,
          37.96667,
          20.76333,
          -20.8,
          -14.66667,
          27.71667,
          47.45,
          34.91667,
          24.3,
          28.11667,
          34.25,
          19.56667,
          30.3,
          43.36667,
          29.47,
          null,
          48.7,
          31.85,
          3.81667,
          -25.75,
          21.49972,
          35.8,
          34.06667,
          -28.23333,
          45.36667,
          -19.3,
          36.3,
          17.53333,
          -14.25,
          24.2,
          -29.5,
          -32.1,
          26.06,
          31.65,
          22.81667,
          41.65,
          29.85861,
          24.23333,
          68,
          31.2
         ],
         "legendgroup": "Found",
         "lon": [
          -100.96667,
          -96.1,
          95.41667,
          -5.51528,
          -12.5,
          44.88333,
          159.66667,
          164.2,
          48.2,
          -109.98333,
          88,
          35.08333,
          -82.88333,
          -107.83333,
          144.56667,
          -105.3,
          117.78333,
          -39.2,
          160.8,
          6.53333,
          -96.87222,
          122.45,
          -5.15262,
          135.2,
          30.33333,
          -96.955,
          -99.16361,
          114.9,
          -107.55,
          41.65,
          -99.875,
          -49.15917,
          -60.58333,
          -111.03333,
          26,
          -64.93333,
          -70.48333,
          -111.5,
          -98.64389,
          -85.98333,
          -107.8,
          -101.01667,
          88,
          -104.2,
          94.4,
          -105.1,
          -84.78333,
          -103.13472,
          -102.73333,
          -3.65,
          130.53333,
          130.41667,
          -83.25,
          145.3,
          116.18333,
          -104.25,
          156.38333,
          54.16667,
          54.51667,
          22.86389,
          -102.16667,
          -112.9,
          122.36667,
          null,
          -10.81667,
          -70.36667,
          -60.96667,
          -77.46667,
          19.48333,
          106.5,
          33.06667,
          -96.71667,
          150.33333,
          148.88333,
          4.86667,
          16.9,
          -105.43333,
          -100.06667,
          28.71667,
          119.71667,
          116.16667,
          -77.21667,
          118.1,
          -87.4,
          127.55,
          23.1,
          139.9,
          107.7,
          -109.5,
          35.15,
          -69,
          null,
          null,
          null,
          null,
          null,
          null,
          0,
          null,
          null,
          null,
          0,
          0,
          null,
          -50.91667,
          -113.7,
          -102.4,
          -115.23333,
          25,
          -103.68333,
          -118,
          -101.3,
          46.61167,
          null,
          -44.61667,
          -46.53333,
          117,
          -100.66667,
          -101.78333,
          -51.23,
          -103.3,
          110.83333,
          92.91667,
          -71.33333,
          -101.75,
          16,
          -101.9,
          -102.08333,
          -94.86667,
          -102.705,
          -114.22197,
          87.63333,
          -60.2,
          26.08778,
          56.14278,
          18,
          147.2,
          151.3,
          -105.8,
          -120.54167,
          -107.88333,
          27.33333,
          111.7,
          -105.51667,
          117.18333,
          117.66667,
          125.63333,
          133.16667,
          17.91667,
          135.76667,
          -101.35,
          -108.56667,
          -85.65,
          -68.80667,
          -112,
          -50.15,
          21.68333,
          110.73333,
          55.69,
          55.73333,
          56.65432,
          -69.25,
          47.67967,
          -84.6,
          -102.5,
          -99.4,
          -100.21667,
          29.41667,
          18.08333,
          24,
          91.8,
          6.78333,
          -97,
          21,
          161.41628,
          112.5,
          -99.6,
          105.3,
          108.5,
          -66.85,
          -70,
          -115.53333,
          21.13333,
          -95,
          -4.3775,
          -107.83333,
          -69.48333,
          -104.66667,
          null,
          3.58333,
          -50.3,
          -98.3,
          -48.6,
          -47.95,
          -73,
          -106,
          -8.58361,
          -81.865,
          56.66667,
          -101,
          15.55,
          -87,
          152.43333,
          114,
          48.3,
          98.93333,
          -90.31667,
          10.44167,
          -69.66667,
          -74.5,
          -0.25,
          101.47917,
          135.96667,
          106.1,
          0.53333,
          -96.68333,
          -99.56667,
          -97.7,
          -88.13333,
          -105.8,
          null,
          45.7,
          -110.96667,
          43.33333,
          -70.5,
          50.47222,
          -113.7,
          -98.91667,
          120.85,
          -122.58333,
          127.76667,
          120.48333,
          -97.35,
          132.01667,
          113.4,
          118.75,
          117.71667,
          118.01,
          -106.18333,
          -102.56667,
          -0.86667,
          -2.645,
          111.18333,
          128.3,
          112.5,
          -77.46667,
          19.48333,
          106.5,
          33.06667,
          -96.71667,
          150.33333,
          148.88333,
          4.86667,
          16.9,
          -105.43333,
          -100.06667,
          28.71667,
          119.71667,
          116.16667,
          -77.21667,
          118.1,
          -87.4,
          127.55,
          23.1,
          139.9,
          107.7,
          -109.5,
          35.15,
          -69,
          null,
          null,
          null,
          null,
          null,
          null,
          0,
          null,
          null,
          null,
          0,
          0,
          null,
          -50.91667,
          -113.7,
          -102.4,
          -115.23333,
          25,
          -103.68333,
          -118,
          -101.3,
          46.61167,
          null,
          -44.61667,
          -46.53333,
          117,
          -100.66667,
          -101.78333,
          -51.23,
          -103.3,
          110.83333,
          92.91667,
          -115.53333,
          21.13333,
          -95,
          -4.3775,
          -107.83333,
          -69.48333,
          -104.66667,
          null,
          3.58333,
          -50.3,
          -98.3,
          -48.6,
          -47.95,
          -73,
          -106,
          -8.58361,
          -81.865,
          56.66667,
          -101,
          15.55,
          -87,
          152.43333,
          114,
          48.3,
          98.93333,
          -90.31667,
          10.44167,
          -69.66667,
          -74.5,
          -0.25,
          101.47917,
          135.96667,
          106.1,
          0.53333,
          -96.68333,
          -99.56667,
          -97.7,
          -88.13333,
          -105.8,
          null,
          45.7,
          -110.96667,
          43.33333,
          -70.5,
          50.47222,
          -113.7,
          -98.91667,
          120.85,
          -122.58333,
          127.76667,
          120.48333,
          -97.35,
          132.01667,
          113.4,
          118.75,
          117.71667,
          118.01,
          -106.18333,
          -102.56667,
          -0.86667,
          -2.645,
          111.18333,
          128.3,
          112.5
         ],
         "marker": {
          "color": "#EF553B",
          "size": [
           217700,
           180000,
           582000,
           100000,
           3000000,
           1200000,
           407000,
           100000,
           132000,
           683000,
           28000000,
           400000,
           136000,
           22000000,
           200000,
           227000,
           118000,
           5360000,
           1000000,
           1500000,
           153300,
           888600,
           100000,
           500000,
           823000,
           138300,
           4300000,
           100000,
           113600,
           290000,
           148000,
           2000000,
           50000000,
           30000000,
           136000,
           58200000,
           113900,
           454000,
           132700,
           127000,
           1545000,
           1400000,
           127760,
           104800,
           209400,
           24300000,
           115000,
           283000,
           2100000,
           134000,
           105000,
           100000,
           960000,
           8600000,
           257000,
           689000,
           138100,
           125500,
           256000,
           100000,
           200000,
           529000,
           118300,
           164000,
           240000,
           142000,
           500000,
           168000,
           150000,
           166800,
           16000000,
           150000,
           265000,
           104000,
           360000,
           290000,
           10100000,
           295000,
           200000,
           734000,
           326000,
           384000,
           272000,
           159000,
           24000000,
           230000,
           1143000,
           9500000,
           2184000,
           250000,
           300000,
           120000,
           113000,
           100000,
           180000,
           100000,
           300000,
           100000,
           239976,
           200000,
           200000,
           151000,
           115777,
           2000000,
           305000,
           111000,
           1600000,
           2753000,
           148800,
           168400,
           192800,
           127500,
           198000,
           150000,
           116300,
           200000,
           400000,
           100000,
           700000,
           200000,
           261000,
           500000,
           160000,
           755000,
           290000,
           110700,
           450000,
           105000,
           100000,
           110800,
           100000,
           1003000,
           160000,
           1600000,
           1750000,
           26000000,
           147000,
           736600,
           148000,
           1169500,
           525000,
           303000,
           190000,
           309000,
           220000,
           112500,
           503000,
           2000000,
           60000000,
           2300000,
           350000,
           140000,
           140000,
           920000,
           175000,
           628000,
           150000,
           499500,
           200000,
           550000,
           123374,
           104000,
           132000,
           194000,
           142000,
           153800,
           161000,
           341000,
           140000,
           1173000,
           700000,
           626000,
           270000,
           108500,
           110224,
           200000,
           564000,
           158500,
           350000,
           997000,
           100000,
           1450000,
           549000,
           800000,
           100000,
           102700,
           280000,
           237200,
           410850,
           472000,
           279000,
           1316000,
           7000000,
           1918000,
           825000,
           119500,
           162000,
           800000,
           450000,
           118000,
           102000,
           140600,
           323300,
           247000,
           275000,
           217000,
           244500,
           114000,
           320000,
           141000,
           510000,
           173000,
           174000,
           300000,
           107000,
           260000,
           3000000,
           175400,
           505000,
           150000,
           150000,
           1225300,
           975000,
           252000,
           3828000,
           2550000,
           430000,
           145000,
           500000,
           15500000,
           760000,
           3000000,
           421000,
           132000,
           3000000,
           118400,
           3800000,
           218000,
           140700,
           1000000,
           162000,
           630000,
           2000000,
           900000,
           100000,
           168000,
           150000,
           166800,
           16000000,
           150000,
           265000,
           104000,
           360000,
           290000,
           10100000,
           295000,
           200000,
           734000,
           326000,
           384000,
           272000,
           159000,
           24000000,
           230000,
           1143000,
           9500000,
           2184000,
           250000,
           300000,
           120000,
           113000,
           100000,
           180000,
           100000,
           300000,
           100000,
           239976,
           200000,
           200000,
           151000,
           115777,
           2000000,
           305000,
           111000,
           1600000,
           2753000,
           148800,
           168400,
           192800,
           127500,
           198000,
           150000,
           116300,
           200000,
           400000,
           100000,
           700000,
           200000,
           261000,
           500000,
           160000,
           1450000,
           549000,
           800000,
           100000,
           102700,
           280000,
           237200,
           410850,
           472000,
           279000,
           1316000,
           7000000,
           1918000,
           825000,
           119500,
           162000,
           800000,
           450000,
           118000,
           102000,
           140600,
           323300,
           247000,
           275000,
           217000,
           244500,
           114000,
           320000,
           141000,
           510000,
           173000,
           174000,
           300000,
           107000,
           260000,
           3000000,
           175400,
           505000,
           150000,
           150000,
           1225300,
           975000,
           252000,
           3828000,
           2550000,
           430000,
           145000,
           500000,
           15500000,
           760000,
           3000000,
           421000,
           132000,
           3000000,
           118400,
           3800000,
           218000,
           140700,
           1000000,
           162000,
           630000,
           2000000,
           900000,
           100000
          ],
          "sizemode": "area",
          "sizeref": 150000,
          "symbol": "circle"
         },
         "mode": "markers",
         "name": "Found",
         "showlegend": true,
         "type": "scattergeo"
        }
       ],
       "layout": {
        "geo": {
         "center": {},
         "domain": {
          "x": [
           0,
           1
          ],
          "y": [
           0,
           1
          ]
         }
        },
        "legend": {
         "itemsizing": "constant",
         "title": {
          "text": "fall"
         },
         "tracegroupgap": 0
        },
        "template": {
         "data": {
          "bar": [
           {
            "error_x": {
             "color": "#f2f5fa"
            },
            "error_y": {
             "color": "#f2f5fa"
            },
            "marker": {
             "line": {
              "color": "rgb(17,17,17)",
              "width": 0.5
             },
             "pattern": {
              "fillmode": "overlay",
              "size": 10,
              "solidity": 0.2
             }
            },
            "type": "bar"
           }
          ],
          "barpolar": [
           {
            "marker": {
             "line": {
              "color": "rgb(17,17,17)",
              "width": 0.5
             },
             "pattern": {
              "fillmode": "overlay",
              "size": 10,
              "solidity": 0.2
             }
            },
            "type": "barpolar"
           }
          ],
          "carpet": [
           {
            "aaxis": {
             "endlinecolor": "#A2B1C6",
             "gridcolor": "#506784",
             "linecolor": "#506784",
             "minorgridcolor": "#506784",
             "startlinecolor": "#A2B1C6"
            },
            "baxis": {
             "endlinecolor": "#A2B1C6",
             "gridcolor": "#506784",
             "linecolor": "#506784",
             "minorgridcolor": "#506784",
             "startlinecolor": "#A2B1C6"
            },
            "type": "carpet"
           }
          ],
          "choropleth": [
           {
            "colorbar": {
             "outlinewidth": 0,
             "ticks": ""
            },
            "type": "choropleth"
           }
          ],
          "contour": [
           {
            "colorbar": {
             "outlinewidth": 0,
             "ticks": ""
            },
            "colorscale": [
             [
              0,
              "#0d0887"
             ],
             [
              0.1111111111111111,
              "#46039f"
             ],
             [
              0.2222222222222222,
              "#7201a8"
             ],
             [
              0.3333333333333333,
              "#9c179e"
             ],
             [
              0.4444444444444444,
              "#bd3786"
             ],
             [
              0.5555555555555556,
              "#d8576b"
             ],
             [
              0.6666666666666666,
              "#ed7953"
             ],
             [
              0.7777777777777778,
              "#fb9f3a"
             ],
             [
              0.8888888888888888,
              "#fdca26"
             ],
             [
              1,
              "#f0f921"
             ]
            ],
            "type": "contour"
           }
          ],
          "contourcarpet": [
           {
            "colorbar": {
             "outlinewidth": 0,
             "ticks": ""
            },
            "type": "contourcarpet"
           }
          ],
          "heatmap": [
           {
            "colorbar": {
             "outlinewidth": 0,
             "ticks": ""
            },
            "colorscale": [
             [
              0,
              "#0d0887"
             ],
             [
              0.1111111111111111,
              "#46039f"
             ],
             [
              0.2222222222222222,
              "#7201a8"
             ],
             [
              0.3333333333333333,
              "#9c179e"
             ],
             [
              0.4444444444444444,
              "#bd3786"
             ],
             [
              0.5555555555555556,
              "#d8576b"
             ],
             [
              0.6666666666666666,
              "#ed7953"
             ],
             [
              0.7777777777777778,
              "#fb9f3a"
             ],
             [
              0.8888888888888888,
              "#fdca26"
             ],
             [
              1,
              "#f0f921"
             ]
            ],
            "type": "heatmap"
           }
          ],
          "heatmapgl": [
           {
            "colorbar": {
             "outlinewidth": 0,
             "ticks": ""
            },
            "colorscale": [
             [
              0,
              "#0d0887"
             ],
             [
              0.1111111111111111,
              "#46039f"
             ],
             [
              0.2222222222222222,
              "#7201a8"
             ],
             [
              0.3333333333333333,
              "#9c179e"
             ],
             [
              0.4444444444444444,
              "#bd3786"
             ],
             [
              0.5555555555555556,
              "#d8576b"
             ],
             [
              0.6666666666666666,
              "#ed7953"
             ],
             [
              0.7777777777777778,
              "#fb9f3a"
             ],
             [
              0.8888888888888888,
              "#fdca26"
             ],
             [
              1,
              "#f0f921"
             ]
            ],
            "type": "heatmapgl"
           }
          ],
          "histogram": [
           {
            "marker": {
             "pattern": {
              "fillmode": "overlay",
              "size": 10,
              "solidity": 0.2
             }
            },
            "type": "histogram"
           }
          ],
          "histogram2d": [
           {
            "colorbar": {
             "outlinewidth": 0,
             "ticks": ""
            },
            "colorscale": [
             [
              0,
              "#0d0887"
             ],
             [
              0.1111111111111111,
              "#46039f"
             ],
             [
              0.2222222222222222,
              "#7201a8"
             ],
             [
              0.3333333333333333,
              "#9c179e"
             ],
             [
              0.4444444444444444,
              "#bd3786"
             ],
             [
              0.5555555555555556,
              "#d8576b"
             ],
             [
              0.6666666666666666,
              "#ed7953"
             ],
             [
              0.7777777777777778,
              "#fb9f3a"
             ],
             [
              0.8888888888888888,
              "#fdca26"
             ],
             [
              1,
              "#f0f921"
             ]
            ],
            "type": "histogram2d"
           }
          ],
          "histogram2dcontour": [
           {
            "colorbar": {
             "outlinewidth": 0,
             "ticks": ""
            },
            "colorscale": [
             [
              0,
              "#0d0887"
             ],
             [
              0.1111111111111111,
              "#46039f"
             ],
             [
              0.2222222222222222,
              "#7201a8"
             ],
             [
              0.3333333333333333,
              "#9c179e"
             ],
             [
              0.4444444444444444,
              "#bd3786"
             ],
             [
              0.5555555555555556,
              "#d8576b"
             ],
             [
              0.6666666666666666,
              "#ed7953"
             ],
             [
              0.7777777777777778,
              "#fb9f3a"
             ],
             [
              0.8888888888888888,
              "#fdca26"
             ],
             [
              1,
              "#f0f921"
             ]
            ],
            "type": "histogram2dcontour"
           }
          ],
          "mesh3d": [
           {
            "colorbar": {
             "outlinewidth": 0,
             "ticks": ""
            },
            "type": "mesh3d"
           }
          ],
          "parcoords": [
           {
            "line": {
             "colorbar": {
              "outlinewidth": 0,
              "ticks": ""
             }
            },
            "type": "parcoords"
           }
          ],
          "pie": [
           {
            "automargin": true,
            "type": "pie"
           }
          ],
          "scatter": [
           {
            "marker": {
             "line": {
              "color": "#283442"
             }
            },
            "type": "scatter"
           }
          ],
          "scatter3d": [
           {
            "line": {
             "colorbar": {
              "outlinewidth": 0,
              "ticks": ""
             }
            },
            "marker": {
             "colorbar": {
              "outlinewidth": 0,
              "ticks": ""
             }
            },
            "type": "scatter3d"
           }
          ],
          "scattercarpet": [
           {
            "marker": {
             "colorbar": {
              "outlinewidth": 0,
              "ticks": ""
             }
            },
            "type": "scattercarpet"
           }
          ],
          "scattergeo": [
           {
            "marker": {
             "colorbar": {
              "outlinewidth": 0,
              "ticks": ""
             }
            },
            "type": "scattergeo"
           }
          ],
          "scattergl": [
           {
            "marker": {
             "line": {
              "color": "#283442"
             }
            },
            "type": "scattergl"
           }
          ],
          "scattermapbox": [
           {
            "marker": {
             "colorbar": {
              "outlinewidth": 0,
              "ticks": ""
             }
            },
            "type": "scattermapbox"
           }
          ],
          "scatterpolar": [
           {
            "marker": {
             "colorbar": {
              "outlinewidth": 0,
              "ticks": ""
             }
            },
            "type": "scatterpolar"
           }
          ],
          "scatterpolargl": [
           {
            "marker": {
             "colorbar": {
              "outlinewidth": 0,
              "ticks": ""
             }
            },
            "type": "scatterpolargl"
           }
          ],
          "scatterternary": [
           {
            "marker": {
             "colorbar": {
              "outlinewidth": 0,
              "ticks": ""
             }
            },
            "type": "scatterternary"
           }
          ],
          "surface": [
           {
            "colorbar": {
             "outlinewidth": 0,
             "ticks": ""
            },
            "colorscale": [
             [
              0,
              "#0d0887"
             ],
             [
              0.1111111111111111,
              "#46039f"
             ],
             [
              0.2222222222222222,
              "#7201a8"
             ],
             [
              0.3333333333333333,
              "#9c179e"
             ],
             [
              0.4444444444444444,
              "#bd3786"
             ],
             [
              0.5555555555555556,
              "#d8576b"
             ],
             [
              0.6666666666666666,
              "#ed7953"
             ],
             [
              0.7777777777777778,
              "#fb9f3a"
             ],
             [
              0.8888888888888888,
              "#fdca26"
             ],
             [
              1,
              "#f0f921"
             ]
            ],
            "type": "surface"
           }
          ],
          "table": [
           {
            "cells": {
             "fill": {
              "color": "#506784"
             },
             "line": {
              "color": "rgb(17,17,17)"
             }
            },
            "header": {
             "fill": {
              "color": "#2a3f5f"
             },
             "line": {
              "color": "rgb(17,17,17)"
             }
            },
            "type": "table"
           }
          ]
         },
         "layout": {
          "annotationdefaults": {
           "arrowcolor": "#f2f5fa",
           "arrowhead": 0,
           "arrowwidth": 1
          },
          "autotypenumbers": "strict",
          "coloraxis": {
           "colorbar": {
            "outlinewidth": 0,
            "ticks": ""
           }
          },
          "colorscale": {
           "diverging": [
            [
             0,
             "#8e0152"
            ],
            [
             0.1,
             "#c51b7d"
            ],
            [
             0.2,
             "#de77ae"
            ],
            [
             0.3,
             "#f1b6da"
            ],
            [
             0.4,
             "#fde0ef"
            ],
            [
             0.5,
             "#f7f7f7"
            ],
            [
             0.6,
             "#e6f5d0"
            ],
            [
             0.7,
             "#b8e186"
            ],
            [
             0.8,
             "#7fbc41"
            ],
            [
             0.9,
             "#4d9221"
            ],
            [
             1,
             "#276419"
            ]
           ],
           "sequential": [
            [
             0,
             "#0d0887"
            ],
            [
             0.1111111111111111,
             "#46039f"
            ],
            [
             0.2222222222222222,
             "#7201a8"
            ],
            [
             0.3333333333333333,
             "#9c179e"
            ],
            [
             0.4444444444444444,
             "#bd3786"
            ],
            [
             0.5555555555555556,
             "#d8576b"
            ],
            [
             0.6666666666666666,
             "#ed7953"
            ],
            [
             0.7777777777777778,
             "#fb9f3a"
            ],
            [
             0.8888888888888888,
             "#fdca26"
            ],
            [
             1,
             "#f0f921"
            ]
           ],
           "sequentialminus": [
            [
             0,
             "#0d0887"
            ],
            [
             0.1111111111111111,
             "#46039f"
            ],
            [
             0.2222222222222222,
             "#7201a8"
            ],
            [
             0.3333333333333333,
             "#9c179e"
            ],
            [
             0.4444444444444444,
             "#bd3786"
            ],
            [
             0.5555555555555556,
             "#d8576b"
            ],
            [
             0.6666666666666666,
             "#ed7953"
            ],
            [
             0.7777777777777778,
             "#fb9f3a"
            ],
            [
             0.8888888888888888,
             "#fdca26"
            ],
            [
             1,
             "#f0f921"
            ]
           ]
          },
          "colorway": [
           "#636efa",
           "#EF553B",
           "#00cc96",
           "#ab63fa",
           "#FFA15A",
           "#19d3f3",
           "#FF6692",
           "#B6E880",
           "#FF97FF",
           "#FECB52"
          ],
          "font": {
           "color": "#f2f5fa"
          },
          "geo": {
           "bgcolor": "rgb(17,17,17)",
           "lakecolor": "rgb(17,17,17)",
           "landcolor": "rgb(17,17,17)",
           "showlakes": true,
           "showland": true,
           "subunitcolor": "#506784"
          },
          "hoverlabel": {
           "align": "left"
          },
          "hovermode": "closest",
          "mapbox": {
           "style": "dark"
          },
          "paper_bgcolor": "rgb(17,17,17)",
          "plot_bgcolor": "rgb(17,17,17)",
          "polar": {
           "angularaxis": {
            "gridcolor": "#506784",
            "linecolor": "#506784",
            "ticks": ""
           },
           "bgcolor": "rgb(17,17,17)",
           "radialaxis": {
            "gridcolor": "#506784",
            "linecolor": "#506784",
            "ticks": ""
           }
          },
          "scene": {
           "xaxis": {
            "backgroundcolor": "rgb(17,17,17)",
            "gridcolor": "#506784",
            "gridwidth": 2,
            "linecolor": "#506784",
            "showbackground": true,
            "ticks": "",
            "zerolinecolor": "#C8D4E3"
           },
           "yaxis": {
            "backgroundcolor": "rgb(17,17,17)",
            "gridcolor": "#506784",
            "gridwidth": 2,
            "linecolor": "#506784",
            "showbackground": true,
            "ticks": "",
            "zerolinecolor": "#C8D4E3"
           },
           "zaxis": {
            "backgroundcolor": "rgb(17,17,17)",
            "gridcolor": "#506784",
            "gridwidth": 2,
            "linecolor": "#506784",
            "showbackground": true,
            "ticks": "",
            "zerolinecolor": "#C8D4E3"
           }
          },
          "shapedefaults": {
           "line": {
            "color": "#f2f5fa"
           }
          },
          "sliderdefaults": {
           "bgcolor": "#C8D4E3",
           "bordercolor": "rgb(17,17,17)",
           "borderwidth": 1,
           "tickwidth": 0
          },
          "ternary": {
           "aaxis": {
            "gridcolor": "#506784",
            "linecolor": "#506784",
            "ticks": ""
           },
           "baxis": {
            "gridcolor": "#506784",
            "linecolor": "#506784",
            "ticks": ""
           },
           "bgcolor": "rgb(17,17,17)",
           "caxis": {
            "gridcolor": "#506784",
            "linecolor": "#506784",
            "ticks": ""
           }
          },
          "title": {
           "x": 0.05
          },
          "updatemenudefaults": {
           "bgcolor": "#506784",
           "borderwidth": 0
          },
          "xaxis": {
           "automargin": true,
           "gridcolor": "#283442",
           "linecolor": "#506784",
           "ticks": "",
           "title": {
            "standoff": 15
           },
           "zerolinecolor": "#283442",
           "zerolinewidth": 2
          },
          "yaxis": {
           "automargin": true,
           "gridcolor": "#283442",
           "linecolor": "#506784",
           "ticks": "",
           "title": {
            "standoff": 15
           },
           "zerolinecolor": "#283442",
           "zerolinewidth": 2
          }
         }
        },
        "title": {
         "text": "Meteorite Landings"
        }
       }
      },
      "text/html": [
       "<div>                            <div id=\"503d3f99-9065-4f9e-bc08-1dac81ded3e1\" class=\"plotly-graph-div\" style=\"height:525px; width:100%;\"></div>            <script type=\"text/javascript\">                require([\"plotly\"], function(Plotly) {                    window.PLOTLYENV=window.PLOTLYENV || {};                                    if (document.getElementById(\"503d3f99-9065-4f9e-bc08-1dac81ded3e1\")) {                    Plotly.newPlot(                        \"503d3f99-9065-4f9e-bc08-1dac81ded3e1\",                        [{\"customdata\":[[\"Abee\",1952.0],[\"Alfianello\",1883.0],[\"Allende\",1969.0],[\"Bjurb\\u00f6le\",1899.0],[\"Boguslavka\",1916.0],[\"Bruderheim\",1960.0],[\"Bur-Gheluai\",1919.0],[\"Chelyabinsk\",2013.0],[\"Chergach \",2007.0],[\"Colby (Wisconsin)\",1917.0],[\"Djati-Pengilon\",1884.0],[\"Dong Ujimqin Qi\",1995.0],[\"Elbogen\",1399.0],[\"Ensisheim\",1491.0],[\"Estherville\",1879.0],[\"Forest City\",1890.0],[\"Glasatovo\",1918.0],[\"Gujba\",1984.0],[\"Holbrook\",1912.0],[\"Homestead\",1875.0],[\"Jianshi\",1890.0],[\"Jilin\",1976.0],[\"Juancheng\",1997.0],[\"Kainsaz\",1937.0],[\"Kesen\",1850.0],[\"Kidairat\",1983.0],[\"Knyahinya\",1866.0],[\"Kunashak\",1949.0],[\"Kunya-Urgench\",1998.0],[\"Mbale\",1992.0],[\"Millbillillie\",1960.0],[\"Mocs\",1882.0],[\"Molina\",1858.0],[\"Montferr\\u00e9\",1923.0],[\"Mount Tazerzait\",1991.0],[\"Murchison\",1969.0],[\"New Concord\",1860.0],[\"Norton County\",1948.0],[\"Ochansk\",1887.0],[\"Olivenza\",1924.0],[\"Omolon\",1981.0],[\"Paragould\",1930.0],[\"Paranaiba\",1956.0],[\"Pultusk\",1868.0],[\"Putinga\",1937.0],[\"Saint-S\\u00e9verin\",1966.0],[\"Saratov\",1918.0],[\"Sevrukovo\",1874.0],[\"Sikhote-Alin\",1947.0],[\"Sterlitamak\",1990.0],[\"Suizhou\",1986.0],[\"Sulagiri\",2008.0],[\"Tamdakht\",2008.0],[\"Tenham\",1879.0],[\"Udei Station\",1927.0],[\"Weston\",1807.0],[\"Wiluna\",1967.0],[\"Yardymly\",1959.0],[\"Zag\",1998.0],[\"Zhovtnevyi\",1938.0]],\"geo\":\"geo\",\"hovertemplate\":\"fall=Fell<br>mass=%{marker.size}<br>reclat=%{lat}<br>reclong=%{lon}<br>name=%{customdata[0]}<br>year=%{customdata[1]}<extra></extra>\",\"lat\":[54.21667,45.26667,26.96667,60.4,44.55,53.9,5.0,54.81667,23.69639,44.9,-7.5,45.5,50.18333,47.86667,43.41667,43.25,57.35,11.49167,34.9,41.8,30.80833,44.05,35.5,55.43333,38.98333,14.0,48.9,55.78333,42.25,1.06667,-26.45,46.8,38.11667,43.39056,18.7,-36.61667,40.0,39.68333,57.78333,38.71667,64.02,36.06667,-19.13333,52.76667,-29.03333,45.3,52.55,50.61667,46.16,53.66667,31.61667,12.66667,31.16333,-25.73333,7.95,41.266667,-26.59278,38.93333,27.33333,47.58333],\"legendgroup\":\"Fell\",\"lon\":[-113.0,10.15,-105.31667,25.8,131.63333,-112.88333,48.0,61.11667,-5.01472,-90.28333,111.5,119.03333,12.73333,7.35,-94.83333,-93.66667,37.61667,11.65833,-110.18333,-91.86667,109.5,126.16667,115.41667,53.25,141.61667,28.0,22.4,61.36667,59.2,34.16667,120.36667,24.03333,-1.16667,1.9625,4.8,145.2,-81.76667,-99.86667,55.26667,-7.06667,161.80833,-90.5,-51.66667,21.26667,-53.05,0.23333,46.55,36.6,134.65333,55.98333,113.46667,78.03333,-7.015,142.95,8.08333,-73.266667,120.32833,48.25,-9.33333,37.25],\"marker\":{\"color\":\"#636efa\",\"size\":[107000,228000,2000000,330000,256000,303000,120000,100000,100000,104000,166000,128800,107000,127000,320000,152000,152000,100000,220000,230000,600000,4000000,100000,200000,135000,100000,500000,200000,1100000,150000,330000,300000,144000,149000,110000,100000,230000,1100000,500000,150000,250000,408000,100000,250000,300000,271000,200000,101000,23000000,325000,260000,110000,100000,160000,103000,150000,150000,150200,175000,107000],\"sizemode\":\"area\",\"sizeref\":150000.0,\"symbol\":\"circle\"},\"mode\":\"markers\",\"name\":\"Fell\",\"showlegend\":true,\"type\":\"scattergeo\"},{\"customdata\":[[\"Acu\\u00f1a\",1981.0],[\"Admire\",1881.0],[\"Adzhi-Bogdo (iron)\",1952.0],[\"Agoudal\",2000.0],[\"Al Haggounia 001\",2006.0],[\"Alkhamasin\",1973.0],[\"Allan Hills A76009\",1976.0],[\"Anyujskij\",1981.0],[\"Araslanovo\",1973.0],[\"Arispe\",1896.0],[\"Armanty\",1898.0],[\"Augustinovka\",1890.0],[\"Babb's Mill (Blake's Iron)\",1876.0],[\"Bacubirito\",1863.0],[\"Barratta\",1845.0],[\"Bear Creek\",1866.0],[\"Bencubbin\",1930.0],[\"Bendeg\\u00f3\",1784.0],[\"Bilibino\",1981.0],[\"Bitburg\",1805.0],[\"Bluff (a)\",1878.0],[\"Bondoc\",1956.0],[\"Bou Azarif\",2010.0],[\"Boxhole\",1937.0],[\"Brahin\",1810.0],[\"Brainard\",1978.0],[\"Brenham\",1882.0],[\"Budulan\",1962.0],[\"Buenaventura\",1969.0],[\"Bur-Abor\",1997.0],[\"Camp Wood\",null],[\"Campinorte\",1992.0],[\"Campo del Cielo\",1575.0],[\"Canyon Diablo\",1891.0],[\"Cape of Good Hope\",1793.0],[\"Cape York\",1818.0],[\"Caperr\",1869.0],[\"Carbo\",1923.0],[\"Carnegie\",1963.0],[\"Carthage\",1840.0],[\"Casas Grandes\",1867.0],[\"Charcas\",1804.0],[\"Chebankol\",1938.0],[\"Chico\",1954.0],[\"Chinga\",1913.0],[\"Chupaderos\",1852.0],[\"Cleveland\",1860.0],[\"Clovis (no. 1)\",1961.0],[\"Coahuila\",1837.0],[\"Colomera\",1912.0],[\"Cook 001\",1989.0],[\"Cook 007\",1989.0],[\"Cosby's Creek\",1837.0],[\"Cranbourne\",1854.0],[\"Dalgety Downs\",1941.0],[\"Davis Mountains\",1903.0],[\"Derrick Peak A78009\",1978.0],[\"Dhofar 005\",2000.0],[\"Dhofar 020\",2000.0],[\"Dimitrovgrad\",1949.0],[\"Dimmitt\",1942.0],[\"Drum Mountains\",1944.0],[\"Duketon\",1948.0],[\"Durango\",1804.0],[\"El Hammami\",1997.0],[\"El Sampal\",1973.0],[\"El Timbu\",1942.0],[\"Madoc\",1854.0],[\"Magura\",1840.0],[\"Manlai\",1954.0],[\"Mbosi\",1930.0],[\"McKinney\",1870.0],[\"Miles\",1992.0],[\"Molong\",1912.0],[\"Mont Dieu\",1994.0],[\"Morasko\",1914.0],[\"Morito\",1600.0],[\"Morland\",1890.0],[\"Moshesh\",null],[\"Mount Dooling\",1909.0],[\"Mount Edith\",1913.0],[\"Mount Joy\",1887.0],[\"Mount Padbury\",1964.0],[\"Mount Vernon\",1868.0],[\"Mundrabilla\",1911.0],[\"Muonionalusta\",1906.0],[\"Murnpeowie\",1909.0],[\"Nantan\",1958.0],[\"Navajo\",1921.0],[\"Netscha\\u00ebvo\",1846.0],[\"North Chile\",1875.0],[\"Northwest Africa 1172\",2000.0],[\"Northwest Africa 1430\",2001.0],[\"Northwest Africa 2239\",2002.0],[\"Northwest Africa 2924\",2005.0],[\"Northwest Africa 2965\",2005.0],[\"Northwest Africa 4037\",2005.0],[\"Northwest Africa 4502\",2005.0],[\"Northwest Africa 4528\",2006.0],[\"Northwest Africa 4544\",2006.0],[\"Northwest Africa 4561\",2006.0],[\"Northwest Africa 5940\",2009.0],[\"Northwest Africa 6947\",2011.0],[\"Northwest Africa 869\",2000.0],[\"Nova Petropolis\",1967.0],[\"Oakley (iron)\",1926.0],[\"Odessa (iron)\",1922.0],[\"Old Woman\",1976.0],[\"Orange River (iron)\",1855.0],[\"Owasco\",1984.0],[\"Owens Valley\",1913.0],[\"Ozona\",1929.0],[\"Pallasovka\",1990.0],[\"Paneth's Iron\",1873.0],[\"Para de Minas\",1934.0],[\"Patos de Minas (octahedrite)\",1925.0],[\"Pei Xian\",1917.0],[\"Pierceville (iron)\",1917.0],[\"Plainview (1917)\",1917.0],[\"Porto Alegre\",2005.0],[\"Potter\",1941.0],[\"Prambanan\",1797.0],[\"Qijiaojing\",2003.0],[\"Esquel\",1951.0],[\"Estacado\",1883.0],[\"Etosha\",1970.0],[\"Etter\",1965.0],[\"Faith\",1952.0],[\"Faucett\",1966.0],[\"Florey\",1978.0],[\"Franconia\",2002.0],[\"Fukang\",2000.0],[\"Garabato\",1995.0],[\"Gebel Kamil\",2009.0],[\"Ghubara\",1954.0],[\"Gibeon\",1836.0],[\"Gilgoin\",1889.0],[\"Gladstone (iron)\",1915.0],[\"Glorieta Mountain\",1884.0],[\"Goose Lake\",1938.0],[\"Grant\",1929.0],[\"Gressk\",1955.0],[\"Guanghua\",1932.0],[\"Guffey\",1907.0],[\"Guixi\",null],[\"Gundaring\",1937.0],[\"Haig\",1951.0],[\"Henbury\",1931.0],[\"Hoba\",1920.0],[\"Huckitta\",1924.0],[\"Hugoton\",1927.0],[\"Huizopa\",1907.0],[\"Ider\",1957.0],[\"Imilac\",1822.0],[\"Iron Creek\",1869.0],[\"Itapuranga\",null],[\"Jalu\",2000.0],[\"Jepara\",2008.0],[\"Jiddat al Harasis 055\",2004.0],[\"Jiddat al Harasis 073\",2002.0],[\"Jiddat al Harasis 091\",2002.0],[\"Juncal\",1866.0],[\"Karavannoe\",null],[\"Kenton County\",1889.0],[\"Keyes\",1939.0],[\"Kimble County\",1918.0],[\"Knowles\",1903.0],[\"Kokstad\",1884.0],[\"Korra Korrabes\",1996.0],[\"Kouga Mountains\",1903.0],[\"Krasnojarsk\",1749.0],[\"La Caille\",1828.0],[\"Lake Murray\",1933.0],[\"Lenarto\",1814.0],[\"Lewis Cliff 85320\",1985.0],[\"Liangcheng\",1959.0],[\"Long Island\",1891.0],[\"Longchang\",1781.0],[\"Longtian\",1991.0],[\"Los Sauces\",1937.0],[\"Lutschaunig's Stone\",1861.0],[\"Quinn Canyon\",1908.0],[\"Rateldraai\",1909.0],[\"Red River\",1808.0],[\"Retuerta del Bullaque\",1980.0],[\"Rifle\",1948.0],[\"Rio Limay\",1995.0],[\"Sacramento Mountains\",1890.0],[\"Sahara 02500\",2001.0],[\"Saint-Aubin\",1968.0],[\"Sanclerlandia\",1971.0],[\"Santa Apolonia\",1872.0],[\"Santa Catharina\",1875.0],[\"Santa Luzia\",1921.0],[\"Santa Rosa\",1810.0],[\"Santiago Papasquiero\",1958.0],[\"S\\u00e3o Juli\\u00e3o de Moreira\",1883.0],[\"Sardis\",1940.0],[\"Sayh al Uhaymir 001\",2000.0],[\"Scurry\",1937.0],[\"Seel\\u00e4sgen\",1847.0],[\"Selma\",1906.0],[\"Seymchan\",1967.0],[\"Shangdu\",1957.0],[\"South Dahna\",1957.0],[\"Ssyromolotovo\",1873.0],[\"St. Genevieve County\",1888.0],[\"Tafassasset\",2000.0],[\"Tamarugal\",1903.0],[\"Tambo Quemado\",1950.0],[\"Tamentit\",1864.0],[\"Tamir-Tsetserleg\",1956.0],[\"Tanokami Mountain\",1885.0],[\"Tianlin\",1956.0],[\"Tiberrhamine\",1967.0],[\"Tishomingo\",1965.0],[\"Toluca\",1776.0],[\"Travis County (a)\",1889.0],[\"Trenton\",1858.0],[\"Tres Castillos\",1992.0],[\"Tres Estacas\",1968.0],[\"Tsarev\",1968.0],[\"Tucson\",1850.0],[\"Uegit\",1921.0],[\"Vaca Muerta\",1861.0],[\"Wabar\",1863.0],[\"Wallapai\",1927.0],[\"Wichita County\",1836.0],[\"Wildara\",1968.0],[\"Willamette\",1902.0],[\"Wolf Creek\",1947.0],[\"Xifu\",2004.0],[\"Yanhuitlan\",1825.0],[\"Yenberrie\",1918.0],[\"Yingde\",1964.0],[\"Youanmi\",1917.0],[\"Youndegin\",1884.0],[\"Youxi\",2006.0],[\"Ysleta\",1914.0],[\"Zacatecas (1792)\",1792.0],[\"Zaragoza\",null],[\"Zerhamra\",1967.0],[\"Zhaoping\",1983.0],[\"Zhigansk\",1966.0],[\"Zhongxiang\",1981.0],[\"Madoc\",1854.0],[\"Magura\",1840.0],[\"Manlai\",1954.0],[\"Mbosi\",1930.0],[\"McKinney\",1870.0],[\"Miles\",1992.0],[\"Molong\",1912.0],[\"Mont Dieu\",1994.0],[\"Morasko\",1914.0],[\"Morito\",1600.0],[\"Morland\",1890.0],[\"Moshesh\",null],[\"Mount Dooling\",1909.0],[\"Mount Edith\",1913.0],[\"Mount Joy\",1887.0],[\"Mount Padbury\",1964.0],[\"Mount Vernon\",1868.0],[\"Mundrabilla\",1911.0],[\"Muonionalusta\",1906.0],[\"Murnpeowie\",1909.0],[\"Nantan\",1958.0],[\"Navajo\",1921.0],[\"Netscha\\u00ebvo\",1846.0],[\"North Chile\",1875.0],[\"Northwest Africa 1172\",2000.0],[\"Northwest Africa 1430\",2001.0],[\"Northwest Africa 2239\",2002.0],[\"Northwest Africa 2924\",2005.0],[\"Northwest Africa 2965\",2005.0],[\"Northwest Africa 4037\",2005.0],[\"Northwest Africa 4502\",2005.0],[\"Northwest Africa 4528\",2006.0],[\"Northwest Africa 4544\",2006.0],[\"Northwest Africa 4561\",2006.0],[\"Northwest Africa 5940\",2009.0],[\"Northwest Africa 6947\",2011.0],[\"Northwest Africa 869\",2000.0],[\"Nova Petropolis\",1967.0],[\"Oakley (iron)\",1926.0],[\"Odessa (iron)\",1922.0],[\"Old Woman\",1976.0],[\"Orange River (iron)\",1855.0],[\"Owasco\",1984.0],[\"Owens Valley\",1913.0],[\"Ozona\",1929.0],[\"Pallasovka\",1990.0],[\"Paneth's Iron\",1873.0],[\"Para de Minas\",1934.0],[\"Patos de Minas (octahedrite)\",1925.0],[\"Pei Xian\",1917.0],[\"Pierceville (iron)\",1917.0],[\"Plainview (1917)\",1917.0],[\"Porto Alegre\",2005.0],[\"Potter\",1941.0],[\"Prambanan\",1797.0],[\"Qijiaojing\",2003.0],[\"Quinn Canyon\",1908.0],[\"Rateldraai\",1909.0],[\"Red River\",1808.0],[\"Retuerta del Bullaque\",1980.0],[\"Rifle\",1948.0],[\"Rio Limay\",1995.0],[\"Sacramento Mountains\",1890.0],[\"Sahara 02500\",2001.0],[\"Saint-Aubin\",1968.0],[\"Sanclerlandia\",1971.0],[\"Santa Apolonia\",1872.0],[\"Santa Catharina\",1875.0],[\"Santa Luzia\",1921.0],[\"Santa Rosa\",1810.0],[\"Santiago Papasquiero\",1958.0],[\"S\\u00e3o Juli\\u00e3o de Moreira\",1883.0],[\"Sardis\",1940.0],[\"Sayh al Uhaymir 001\",2000.0],[\"Scurry\",1937.0],[\"Seel\\u00e4sgen\",1847.0],[\"Selma\",1906.0],[\"Seymchan\",1967.0],[\"Shangdu\",1957.0],[\"South Dahna\",1957.0],[\"Ssyromolotovo\",1873.0],[\"St. Genevieve County\",1888.0],[\"Tafassasset\",2000.0],[\"Tamarugal\",1903.0],[\"Tambo Quemado\",1950.0],[\"Tamentit\",1864.0],[\"Tamir-Tsetserleg\",1956.0],[\"Tanokami Mountain\",1885.0],[\"Tianlin\",1956.0],[\"Tiberrhamine\",1967.0],[\"Tishomingo\",1965.0],[\"Toluca\",1776.0],[\"Travis County (a)\",1889.0],[\"Trenton\",1858.0],[\"Tres Castillos\",1992.0],[\"Tres Estacas\",1968.0],[\"Tsarev\",1968.0],[\"Tucson\",1850.0],[\"Uegit\",1921.0],[\"Vaca Muerta\",1861.0],[\"Wabar\",1863.0],[\"Wallapai\",1927.0],[\"Wichita County\",1836.0],[\"Wildara\",1968.0],[\"Willamette\",1902.0],[\"Wolf Creek\",1947.0],[\"Xifu\",2004.0],[\"Yanhuitlan\",1825.0],[\"Yenberrie\",1918.0],[\"Yingde\",1964.0],[\"Youanmi\",1917.0],[\"Youndegin\",1884.0],[\"Youxi\",2006.0],[\"Ysleta\",1914.0],[\"Zacatecas (1792)\",1792.0],[\"Zaragoza\",null],[\"Zerhamra\",1967.0],[\"Zhaoping\",1983.0],[\"Zhigansk\",1966.0],[\"Zhongxiang\",1981.0]],\"geo\":\"geo\",\"hovertemplate\":\"fall=Found<br>mass=%{marker.size}<br>reclat=%{lat}<br>reclong=%{lon}<br>name=%{customdata[0]}<br>year=%{customdata[1]}<extra></extra>\",\"lat\":[29.31667,38.7,44.86667,31.98457,27.5,20.6,-76.71667,66.9,55.14167,30.33333,47.0,48.06667,36.3,26.2,-35.3,39.6,-30.75,-10.11667,67.3,49.96667,29.87861,13.51667,31.15643,-22.61667,52.5,41.15333,37.5825,50.56667,29.8,3.98333,29.7725,-14.258,-27.46667,35.05,-33.5,76.13333,-45.28333,29.66667,35.16667,36.26667,30.4,23.08333,53.66667,36.5,51.05833,27.0,34.88333,34.3,28.7,37.43333,-30.33333,-30.61667,35.78333,-38.1,-25.33333,30.75,-80.06667,18.16667,19.03333,43.04639,34.58333,39.5,-27.5,null,23.28333,-44.53333,-33.11667,44.5,49.33333,44.33333,-9.11667,33.18333,-27.83333,-33.28333,49.55,52.46667,27.05,39.33333,-30.1,-29.45,-22.5,39.78333,-25.66667,36.93333,-30.78333,67.8,-29.58333,25.1,35.33333,54.23333,-23.0,null,null,null,null,null,null,0.0,null,null,null,0.0,0.0,null,-29.43333,42.33333,31.71667,34.46667,-30.0,41.2,37.46667,30.73333,49.86667,null,-19.86667,-18.58333,34.7,37.86667,34.11667,-30.03306,41.23333,-7.56667,43.75,-42.9,33.9,-18.5,35.98333,45.33333,39.61667,32.5225,34.71637,44.43333,-28.86667,22.01833,19.22778,-25.5,-30.38333,-23.9,35.6,41.98,35.16667,53.23333,32.4,38.76667,28.28333,-33.3,-31.38333,-24.56667,-19.58333,-22.36667,37.2,28.9,34.68333,-24.20333,53.0,-15.58333,27.95833,-6.6,19.65167,19.7,19.69362,-26.0,57.78117,38.81667,36.71667,30.41667,36.9,-30.55,-25.2,-33.61667,54.9,43.73333,34.1,49.0,-84.26223,40.5,39.93333,29.3,27.35,-29.41667,-27.0,38.08333,-28.83333,32.0,39.45889,38.51667,-39.85,32.91667,null,48.48333,-16.21667,19.21667,-26.21667,-16.26667,5.91667,24.5,41.76611,32.94889,20.51667,32.5,52.26667,32.4,62.9,42.5,22.56667,58.61667,37.96667,20.76333,-20.8,-14.66667,27.71667,47.45,34.91667,24.3,28.11667,34.25,19.56667,30.3,43.36667,29.47,null,48.7,31.85,3.81667,-25.75,21.49972,35.8,34.06667,-28.23333,45.36667,-19.3,36.3,17.53333,-14.25,24.2,-29.5,-32.1,26.06,31.65,22.81667,41.65,29.85861,24.23333,68.0,31.2,44.5,49.33333,44.33333,-9.11667,33.18333,-27.83333,-33.28333,49.55,52.46667,27.05,39.33333,-30.1,-29.45,-22.5,39.78333,-25.66667,36.93333,-30.78333,67.8,-29.58333,25.1,35.33333,54.23333,-23.0,null,null,null,null,null,null,0.0,null,null,null,0.0,0.0,null,-29.43333,42.33333,31.71667,34.46667,-30.0,41.2,37.46667,30.73333,49.86667,null,-19.86667,-18.58333,34.7,37.86667,34.11667,-30.03306,41.23333,-7.56667,43.75,38.08333,-28.83333,32.0,39.45889,38.51667,-39.85,32.91667,null,48.48333,-16.21667,19.21667,-26.21667,-16.26667,5.91667,24.5,41.76611,32.94889,20.51667,32.5,52.26667,32.4,62.9,42.5,22.56667,58.61667,37.96667,20.76333,-20.8,-14.66667,27.71667,47.45,34.91667,24.3,28.11667,34.25,19.56667,30.3,43.36667,29.47,null,48.7,31.85,3.81667,-25.75,21.49972,35.8,34.06667,-28.23333,45.36667,-19.3,36.3,17.53333,-14.25,24.2,-29.5,-32.1,26.06,31.65,22.81667,41.65,29.85861,24.23333,68.0,31.2],\"legendgroup\":\"Found\",\"lon\":[-100.96667,-96.1,95.41667,-5.51528,-12.5,44.88333,159.66667,164.2,48.2,-109.98333,88.0,35.08333,-82.88333,-107.83333,144.56667,-105.3,117.78333,-39.2,160.8,6.53333,-96.87222,122.45,-5.15262,135.2,30.33333,-96.955,-99.16361,114.9,-107.55,41.65,-99.875,-49.15917,-60.58333,-111.03333,26.0,-64.93333,-70.48333,-111.5,-98.64389,-85.98333,-107.8,-101.01667,88.0,-104.2,94.4,-105.1,-84.78333,-103.13472,-102.73333,-3.65,130.53333,130.41667,-83.25,145.3,116.18333,-104.25,156.38333,54.16667,54.51667,22.86389,-102.16667,-112.9,122.36667,null,-10.81667,-70.36667,-60.96667,-77.46667,19.48333,106.5,33.06667,-96.71667,150.33333,148.88333,4.86667,16.9,-105.43333,-100.06667,28.71667,119.71667,116.16667,-77.21667,118.1,-87.4,127.55,23.1,139.9,107.7,-109.5,35.15,-69.0,null,null,null,null,null,null,0.0,null,null,null,0.0,0.0,null,-50.91667,-113.7,-102.4,-115.23333,25.0,-103.68333,-118.0,-101.3,46.61167,null,-44.61667,-46.53333,117.0,-100.66667,-101.78333,-51.23,-103.3,110.83333,92.91667,-71.33333,-101.75,16.0,-101.9,-102.08333,-94.86667,-102.705,-114.22197,87.63333,-60.2,26.08778,56.14278,18.0,147.2,151.3,-105.8,-120.54167,-107.88333,27.33333,111.7,-105.51667,117.18333,117.66667,125.63333,133.16667,17.91667,135.76667,-101.35,-108.56667,-85.65,-68.80667,-112.0,-50.15,21.68333,110.73333,55.69,55.73333,56.65432,-69.25,47.67967,-84.6,-102.5,-99.4,-100.21667,29.41667,18.08333,24.0,91.8,6.78333,-97.0,21.0,161.41628,112.5,-99.6,105.3,108.5,-66.85,-70.0,-115.53333,21.13333,-95.0,-4.3775,-107.83333,-69.48333,-104.66667,null,3.58333,-50.3,-98.3,-48.6,-47.95,-73.0,-106.0,-8.58361,-81.865,56.66667,-101.0,15.55,-87.0,152.43333,114.0,48.3,98.93333,-90.31667,10.44167,-69.66667,-74.5,-0.25,101.47917,135.96667,106.1,0.53333,-96.68333,-99.56667,-97.7,-88.13333,-105.8,null,45.7,-110.96667,43.33333,-70.5,50.47222,-113.7,-98.91667,120.85,-122.58333,127.76667,120.48333,-97.35,132.01667,113.4,118.75,117.71667,118.01,-106.18333,-102.56667,-0.86667,-2.645,111.18333,128.3,112.5,-77.46667,19.48333,106.5,33.06667,-96.71667,150.33333,148.88333,4.86667,16.9,-105.43333,-100.06667,28.71667,119.71667,116.16667,-77.21667,118.1,-87.4,127.55,23.1,139.9,107.7,-109.5,35.15,-69.0,null,null,null,null,null,null,0.0,null,null,null,0.0,0.0,null,-50.91667,-113.7,-102.4,-115.23333,25.0,-103.68333,-118.0,-101.3,46.61167,null,-44.61667,-46.53333,117.0,-100.66667,-101.78333,-51.23,-103.3,110.83333,92.91667,-115.53333,21.13333,-95.0,-4.3775,-107.83333,-69.48333,-104.66667,null,3.58333,-50.3,-98.3,-48.6,-47.95,-73.0,-106.0,-8.58361,-81.865,56.66667,-101.0,15.55,-87.0,152.43333,114.0,48.3,98.93333,-90.31667,10.44167,-69.66667,-74.5,-0.25,101.47917,135.96667,106.1,0.53333,-96.68333,-99.56667,-97.7,-88.13333,-105.8,null,45.7,-110.96667,43.33333,-70.5,50.47222,-113.7,-98.91667,120.85,-122.58333,127.76667,120.48333,-97.35,132.01667,113.4,118.75,117.71667,118.01,-106.18333,-102.56667,-0.86667,-2.645,111.18333,128.3,112.5],\"marker\":{\"color\":\"#EF553B\",\"size\":[217700,180000,582000,100000,3000000,1200000,407000,100000,132000,683000,28000000,400000,136000,22000000,200000,227000,118000,5360000,1000000,1500000,153300,888600,100000,500000,823000,138300,4300000,100000,113600,290000,148000,2000000,50000000,30000000,136000,58200000,113900,454000,132700,127000,1545000,1400000,127760,104800,209400,24300000,115000,283000,2100000,134000,105000,100000,960000,8600000,257000,689000,138100,125500,256000,100000,200000,529000,118300,164000,240000,142000,500000,168000,150000,166800,16000000,150000,265000,104000,360000,290000,10100000,295000,200000,734000,326000,384000,272000,159000,24000000,230000,1143000,9500000,2184000,250000,300000,120000,113000,100000,180000,100000,300000,100000,239976,200000,200000,151000,115777,2000000,305000,111000,1600000,2753000,148800,168400,192800,127500,198000,150000,116300,200000,400000,100000,700000,200000,261000,500000,160000,755000,290000,110700,450000,105000,100000,110800,100000,1003000,160000,1600000,1750000,26000000,147000,736600,148000,1169500,525000,303000,190000,309000,220000,112500,503000,2000000,60000000,2300000,350000,140000,140000,920000,175000,628000,150000,499500,200000,550000,123374,104000,132000,194000,142000,153800,161000,341000,140000,1173000,700000,626000,270000,108500,110224,200000,564000,158500,350000,997000,100000,1450000,549000,800000,100000,102700,280000,237200,410850,472000,279000,1316000,7000000,1918000,825000,119500,162000,800000,450000,118000,102000,140600,323300,247000,275000,217000,244500,114000,320000,141000,510000,173000,174000,300000,107000,260000,3000000,175400,505000,150000,150000,1225300,975000,252000,3828000,2550000,430000,145000,500000,15500000,760000,3000000,421000,132000,3000000,118400,3800000,218000,140700,1000000,162000,630000,2000000,900000,100000,168000,150000,166800,16000000,150000,265000,104000,360000,290000,10100000,295000,200000,734000,326000,384000,272000,159000,24000000,230000,1143000,9500000,2184000,250000,300000,120000,113000,100000,180000,100000,300000,100000,239976,200000,200000,151000,115777,2000000,305000,111000,1600000,2753000,148800,168400,192800,127500,198000,150000,116300,200000,400000,100000,700000,200000,261000,500000,160000,1450000,549000,800000,100000,102700,280000,237200,410850,472000,279000,1316000,7000000,1918000,825000,119500,162000,800000,450000,118000,102000,140600,323300,247000,275000,217000,244500,114000,320000,141000,510000,173000,174000,300000,107000,260000,3000000,175400,505000,150000,150000,1225300,975000,252000,3828000,2550000,430000,145000,500000,15500000,760000,3000000,421000,132000,3000000,118400,3800000,218000,140700,1000000,162000,630000,2000000,900000,100000],\"sizemode\":\"area\",\"sizeref\":150000.0,\"symbol\":\"circle\"},\"mode\":\"markers\",\"name\":\"Found\",\"showlegend\":true,\"type\":\"scattergeo\"}],                        {\"template\":{\"data\":{\"barpolar\":[{\"marker\":{\"line\":{\"color\":\"rgb(17,17,17)\",\"width\":0.5},\"pattern\":{\"fillmode\":\"overlay\",\"size\":10,\"solidity\":0.2}},\"type\":\"barpolar\"}],\"bar\":[{\"error_x\":{\"color\":\"#f2f5fa\"},\"error_y\":{\"color\":\"#f2f5fa\"},\"marker\":{\"line\":{\"color\":\"rgb(17,17,17)\",\"width\":0.5},\"pattern\":{\"fillmode\":\"overlay\",\"size\":10,\"solidity\":0.2}},\"type\":\"bar\"}],\"carpet\":[{\"aaxis\":{\"endlinecolor\":\"#A2B1C6\",\"gridcolor\":\"#506784\",\"linecolor\":\"#506784\",\"minorgridcolor\":\"#506784\",\"startlinecolor\":\"#A2B1C6\"},\"baxis\":{\"endlinecolor\":\"#A2B1C6\",\"gridcolor\":\"#506784\",\"linecolor\":\"#506784\",\"minorgridcolor\":\"#506784\",\"startlinecolor\":\"#A2B1C6\"},\"type\":\"carpet\"}],\"choropleth\":[{\"colorbar\":{\"outlinewidth\":0,\"ticks\":\"\"},\"type\":\"choropleth\"}],\"contourcarpet\":[{\"colorbar\":{\"outlinewidth\":0,\"ticks\":\"\"},\"type\":\"contourcarpet\"}],\"contour\":[{\"colorbar\":{\"outlinewidth\":0,\"ticks\":\"\"},\"colorscale\":[[0.0,\"#0d0887\"],[0.1111111111111111,\"#46039f\"],[0.2222222222222222,\"#7201a8\"],[0.3333333333333333,\"#9c179e\"],[0.4444444444444444,\"#bd3786\"],[0.5555555555555556,\"#d8576b\"],[0.6666666666666666,\"#ed7953\"],[0.7777777777777778,\"#fb9f3a\"],[0.8888888888888888,\"#fdca26\"],[1.0,\"#f0f921\"]],\"type\":\"contour\"}],\"heatmapgl\":[{\"colorbar\":{\"outlinewidth\":0,\"ticks\":\"\"},\"colorscale\":[[0.0,\"#0d0887\"],[0.1111111111111111,\"#46039f\"],[0.2222222222222222,\"#7201a8\"],[0.3333333333333333,\"#9c179e\"],[0.4444444444444444,\"#bd3786\"],[0.5555555555555556,\"#d8576b\"],[0.6666666666666666,\"#ed7953\"],[0.7777777777777778,\"#fb9f3a\"],[0.8888888888888888,\"#fdca26\"],[1.0,\"#f0f921\"]],\"type\":\"heatmapgl\"}],\"heatmap\":[{\"colorbar\":{\"outlinewidth\":0,\"ticks\":\"\"},\"colorscale\":[[0.0,\"#0d0887\"],[0.1111111111111111,\"#46039f\"],[0.2222222222222222,\"#7201a8\"],[0.3333333333333333,\"#9c179e\"],[0.4444444444444444,\"#bd3786\"],[0.5555555555555556,\"#d8576b\"],[0.6666666666666666,\"#ed7953\"],[0.7777777777777778,\"#fb9f3a\"],[0.8888888888888888,\"#fdca26\"],[1.0,\"#f0f921\"]],\"type\":\"heatmap\"}],\"histogram2dcontour\":[{\"colorbar\":{\"outlinewidth\":0,\"ticks\":\"\"},\"colorscale\":[[0.0,\"#0d0887\"],[0.1111111111111111,\"#46039f\"],[0.2222222222222222,\"#7201a8\"],[0.3333333333333333,\"#9c179e\"],[0.4444444444444444,\"#bd3786\"],[0.5555555555555556,\"#d8576b\"],[0.6666666666666666,\"#ed7953\"],[0.7777777777777778,\"#fb9f3a\"],[0.8888888888888888,\"#fdca26\"],[1.0,\"#f0f921\"]],\"type\":\"histogram2dcontour\"}],\"histogram2d\":[{\"colorbar\":{\"outlinewidth\":0,\"ticks\":\"\"},\"colorscale\":[[0.0,\"#0d0887\"],[0.1111111111111111,\"#46039f\"],[0.2222222222222222,\"#7201a8\"],[0.3333333333333333,\"#9c179e\"],[0.4444444444444444,\"#bd3786\"],[0.5555555555555556,\"#d8576b\"],[0.6666666666666666,\"#ed7953\"],[0.7777777777777778,\"#fb9f3a\"],[0.8888888888888888,\"#fdca26\"],[1.0,\"#f0f921\"]],\"type\":\"histogram2d\"}],\"histogram\":[{\"marker\":{\"pattern\":{\"fillmode\":\"overlay\",\"size\":10,\"solidity\":0.2}},\"type\":\"histogram\"}],\"mesh3d\":[{\"colorbar\":{\"outlinewidth\":0,\"ticks\":\"\"},\"type\":\"mesh3d\"}],\"parcoords\":[{\"line\":{\"colorbar\":{\"outlinewidth\":0,\"ticks\":\"\"}},\"type\":\"parcoords\"}],\"pie\":[{\"automargin\":true,\"type\":\"pie\"}],\"scatter3d\":[{\"line\":{\"colorbar\":{\"outlinewidth\":0,\"ticks\":\"\"}},\"marker\":{\"colorbar\":{\"outlinewidth\":0,\"ticks\":\"\"}},\"type\":\"scatter3d\"}],\"scattercarpet\":[{\"marker\":{\"colorbar\":{\"outlinewidth\":0,\"ticks\":\"\"}},\"type\":\"scattercarpet\"}],\"scattergeo\":[{\"marker\":{\"colorbar\":{\"outlinewidth\":0,\"ticks\":\"\"}},\"type\":\"scattergeo\"}],\"scattergl\":[{\"marker\":{\"line\":{\"color\":\"#283442\"}},\"type\":\"scattergl\"}],\"scattermapbox\":[{\"marker\":{\"colorbar\":{\"outlinewidth\":0,\"ticks\":\"\"}},\"type\":\"scattermapbox\"}],\"scatterpolargl\":[{\"marker\":{\"colorbar\":{\"outlinewidth\":0,\"ticks\":\"\"}},\"type\":\"scatterpolargl\"}],\"scatterpolar\":[{\"marker\":{\"colorbar\":{\"outlinewidth\":0,\"ticks\":\"\"}},\"type\":\"scatterpolar\"}],\"scatter\":[{\"marker\":{\"line\":{\"color\":\"#283442\"}},\"type\":\"scatter\"}],\"scatterternary\":[{\"marker\":{\"colorbar\":{\"outlinewidth\":0,\"ticks\":\"\"}},\"type\":\"scatterternary\"}],\"surface\":[{\"colorbar\":{\"outlinewidth\":0,\"ticks\":\"\"},\"colorscale\":[[0.0,\"#0d0887\"],[0.1111111111111111,\"#46039f\"],[0.2222222222222222,\"#7201a8\"],[0.3333333333333333,\"#9c179e\"],[0.4444444444444444,\"#bd3786\"],[0.5555555555555556,\"#d8576b\"],[0.6666666666666666,\"#ed7953\"],[0.7777777777777778,\"#fb9f3a\"],[0.8888888888888888,\"#fdca26\"],[1.0,\"#f0f921\"]],\"type\":\"surface\"}],\"table\":[{\"cells\":{\"fill\":{\"color\":\"#506784\"},\"line\":{\"color\":\"rgb(17,17,17)\"}},\"header\":{\"fill\":{\"color\":\"#2a3f5f\"},\"line\":{\"color\":\"rgb(17,17,17)\"}},\"type\":\"table\"}]},\"layout\":{\"annotationdefaults\":{\"arrowcolor\":\"#f2f5fa\",\"arrowhead\":0,\"arrowwidth\":1},\"autotypenumbers\":\"strict\",\"coloraxis\":{\"colorbar\":{\"outlinewidth\":0,\"ticks\":\"\"}},\"colorscale\":{\"diverging\":[[0,\"#8e0152\"],[0.1,\"#c51b7d\"],[0.2,\"#de77ae\"],[0.3,\"#f1b6da\"],[0.4,\"#fde0ef\"],[0.5,\"#f7f7f7\"],[0.6,\"#e6f5d0\"],[0.7,\"#b8e186\"],[0.8,\"#7fbc41\"],[0.9,\"#4d9221\"],[1,\"#276419\"]],\"sequential\":[[0.0,\"#0d0887\"],[0.1111111111111111,\"#46039f\"],[0.2222222222222222,\"#7201a8\"],[0.3333333333333333,\"#9c179e\"],[0.4444444444444444,\"#bd3786\"],[0.5555555555555556,\"#d8576b\"],[0.6666666666666666,\"#ed7953\"],[0.7777777777777778,\"#fb9f3a\"],[0.8888888888888888,\"#fdca26\"],[1.0,\"#f0f921\"]],\"sequentialminus\":[[0.0,\"#0d0887\"],[0.1111111111111111,\"#46039f\"],[0.2222222222222222,\"#7201a8\"],[0.3333333333333333,\"#9c179e\"],[0.4444444444444444,\"#bd3786\"],[0.5555555555555556,\"#d8576b\"],[0.6666666666666666,\"#ed7953\"],[0.7777777777777778,\"#fb9f3a\"],[0.8888888888888888,\"#fdca26\"],[1.0,\"#f0f921\"]]},\"colorway\":[\"#636efa\",\"#EF553B\",\"#00cc96\",\"#ab63fa\",\"#FFA15A\",\"#19d3f3\",\"#FF6692\",\"#B6E880\",\"#FF97FF\",\"#FECB52\"],\"font\":{\"color\":\"#f2f5fa\"},\"geo\":{\"bgcolor\":\"rgb(17,17,17)\",\"lakecolor\":\"rgb(17,17,17)\",\"landcolor\":\"rgb(17,17,17)\",\"showlakes\":true,\"showland\":true,\"subunitcolor\":\"#506784\"},\"hoverlabel\":{\"align\":\"left\"},\"hovermode\":\"closest\",\"mapbox\":{\"style\":\"dark\"},\"paper_bgcolor\":\"rgb(17,17,17)\",\"plot_bgcolor\":\"rgb(17,17,17)\",\"polar\":{\"angularaxis\":{\"gridcolor\":\"#506784\",\"linecolor\":\"#506784\",\"ticks\":\"\"},\"bgcolor\":\"rgb(17,17,17)\",\"radialaxis\":{\"gridcolor\":\"#506784\",\"linecolor\":\"#506784\",\"ticks\":\"\"}},\"scene\":{\"xaxis\":{\"backgroundcolor\":\"rgb(17,17,17)\",\"gridcolor\":\"#506784\",\"gridwidth\":2,\"linecolor\":\"#506784\",\"showbackground\":true,\"ticks\":\"\",\"zerolinecolor\":\"#C8D4E3\"},\"yaxis\":{\"backgroundcolor\":\"rgb(17,17,17)\",\"gridcolor\":\"#506784\",\"gridwidth\":2,\"linecolor\":\"#506784\",\"showbackground\":true,\"ticks\":\"\",\"zerolinecolor\":\"#C8D4E3\"},\"zaxis\":{\"backgroundcolor\":\"rgb(17,17,17)\",\"gridcolor\":\"#506784\",\"gridwidth\":2,\"linecolor\":\"#506784\",\"showbackground\":true,\"ticks\":\"\",\"zerolinecolor\":\"#C8D4E3\"}},\"shapedefaults\":{\"line\":{\"color\":\"#f2f5fa\"}},\"sliderdefaults\":{\"bgcolor\":\"#C8D4E3\",\"bordercolor\":\"rgb(17,17,17)\",\"borderwidth\":1,\"tickwidth\":0},\"ternary\":{\"aaxis\":{\"gridcolor\":\"#506784\",\"linecolor\":\"#506784\",\"ticks\":\"\"},\"baxis\":{\"gridcolor\":\"#506784\",\"linecolor\":\"#506784\",\"ticks\":\"\"},\"bgcolor\":\"rgb(17,17,17)\",\"caxis\":{\"gridcolor\":\"#506784\",\"linecolor\":\"#506784\",\"ticks\":\"\"}},\"title\":{\"x\":0.05},\"updatemenudefaults\":{\"bgcolor\":\"#506784\",\"borderwidth\":0},\"xaxis\":{\"automargin\":true,\"gridcolor\":\"#283442\",\"linecolor\":\"#506784\",\"ticks\":\"\",\"title\":{\"standoff\":15},\"zerolinecolor\":\"#283442\",\"zerolinewidth\":2},\"yaxis\":{\"automargin\":true,\"gridcolor\":\"#283442\",\"linecolor\":\"#506784\",\"ticks\":\"\",\"title\":{\"standoff\":15},\"zerolinecolor\":\"#283442\",\"zerolinewidth\":2}}},\"geo\":{\"domain\":{\"x\":[0.0,1.0],\"y\":[0.0,1.0]},\"center\":{}},\"legend\":{\"title\":{\"text\":\"fall\"},\"tracegroupgap\":0,\"itemsizing\":\"constant\"},\"title\":{\"text\":\"Meteorite Landings\"}},                        {\"responsive\": true}                    ).then(function(){\n",
       "                            \n",
       "var gd = document.getElementById('503d3f99-9065-4f9e-bc08-1dac81ded3e1');\n",
       "var x = new MutationObserver(function (mutations, observer) {{\n",
       "        var display = window.getComputedStyle(gd).display;\n",
       "        if (!display || display === 'none') {{\n",
       "            console.log([gd, 'removed!']);\n",
       "            Plotly.purge(gd);\n",
       "            observer.disconnect();\n",
       "        }}\n",
       "}});\n",
       "\n",
       "// Listen for the removal of the full notebook cells\n",
       "var notebookContainer = gd.closest('#notebook-container');\n",
       "if (notebookContainer) {{\n",
       "    x.observe(notebookContainer, {childList: true});\n",
       "}}\n",
       "\n",
       "// Listen for the clearing of the current output cell\n",
       "var outputEl = gd.closest('.output');\n",
       "if (outputEl) {{\n",
       "    x.observe(outputEl, {childList: true});\n",
       "}}\n",
       "\n",
       "                        })                };                });            </script>        </div>"
      ]
     },
     "metadata": {},
     "output_type": "display_data"
    }
   ],
   "source": [
    "fig = px.scatter_geo(heavy,\n",
    "                    lat='reclat',\n",
    "                    lon='reclong',\n",
    "                    title='Meteorite Landings',\n",
    "                    color = 'fall',\n",
    "                    template='plotly_dark',\n",
    "                    size='mass',\n",
    "                    hover_data=['name','year'])\n",
    "fig.show()"
   ]
  },
  {
   "cell_type": "code",
   "execution_count": 51,
   "id": "7403876b",
   "metadata": {},
   "outputs": [
    {
     "data": {
      "text/html": [
       "<div>\n",
       "<style scoped>\n",
       "    .dataframe tbody tr th:only-of-type {\n",
       "        vertical-align: middle;\n",
       "    }\n",
       "\n",
       "    .dataframe tbody tr th {\n",
       "        vertical-align: top;\n",
       "    }\n",
       "\n",
       "    .dataframe thead th {\n",
       "        text-align: right;\n",
       "    }\n",
       "</style>\n",
       "<table border=\"1\" class=\"dataframe\">\n",
       "  <thead>\n",
       "    <tr style=\"text-align: right;\">\n",
       "      <th></th>\n",
       "      <th>year</th>\n",
       "      <th>fall</th>\n",
       "      <th>mass</th>\n",
       "    </tr>\n",
       "  </thead>\n",
       "  <tbody>\n",
       "    <tr>\n",
       "      <th>0</th>\n",
       "      <td>1990-01-01</td>\n",
       "      <td>Fell</td>\n",
       "      <td>44276.325000</td>\n",
       "    </tr>\n",
       "    <tr>\n",
       "      <th>1</th>\n",
       "      <td>1990-01-01</td>\n",
       "      <td>Found</td>\n",
       "      <td>508.334716</td>\n",
       "    </tr>\n",
       "    <tr>\n",
       "      <th>2</th>\n",
       "      <td>1991-01-01</td>\n",
       "      <td>Fell</td>\n",
       "      <td>27186.140000</td>\n",
       "    </tr>\n",
       "    <tr>\n",
       "      <th>3</th>\n",
       "      <td>1991-01-01</td>\n",
       "      <td>Found</td>\n",
       "      <td>708.811344</td>\n",
       "    </tr>\n",
       "    <tr>\n",
       "      <th>4</th>\n",
       "      <td>1992-01-01</td>\n",
       "      <td>Fell</td>\n",
       "      <td>56316.666667</td>\n",
       "    </tr>\n",
       "    <tr>\n",
       "      <th>5</th>\n",
       "      <td>1992-01-01</td>\n",
       "      <td>Found</td>\n",
       "      <td>7191.786377</td>\n",
       "    </tr>\n",
       "    <tr>\n",
       "      <th>6</th>\n",
       "      <td>1993-01-01</td>\n",
       "      <td>Fell</td>\n",
       "      <td>14866.500000</td>\n",
       "    </tr>\n",
       "    <tr>\n",
       "      <th>7</th>\n",
       "      <td>1993-01-01</td>\n",
       "      <td>Found</td>\n",
       "      <td>100.885063</td>\n",
       "    </tr>\n",
       "    <tr>\n",
       "      <th>8</th>\n",
       "      <td>1994-01-01</td>\n",
       "      <td>Fell</td>\n",
       "      <td>15751.500000</td>\n",
       "    </tr>\n",
       "    <tr>\n",
       "      <th>9</th>\n",
       "      <td>1994-01-01</td>\n",
       "      <td>Found</td>\n",
       "      <td>837.276032</td>\n",
       "    </tr>\n",
       "    <tr>\n",
       "      <th>10</th>\n",
       "      <td>1995-01-01</td>\n",
       "      <td>Fell</td>\n",
       "      <td>22923.333333</td>\n",
       "    </tr>\n",
       "    <tr>\n",
       "      <th>11</th>\n",
       "      <td>1995-01-01</td>\n",
       "      <td>Found</td>\n",
       "      <td>2622.111298</td>\n",
       "    </tr>\n",
       "    <tr>\n",
       "      <th>12</th>\n",
       "      <td>1996-01-01</td>\n",
       "      <td>Fell</td>\n",
       "      <td>11199.860000</td>\n",
       "    </tr>\n",
       "    <tr>\n",
       "      <th>13</th>\n",
       "      <td>1996-01-01</td>\n",
       "      <td>Found</td>\n",
       "      <td>605.017684</td>\n",
       "    </tr>\n",
       "    <tr>\n",
       "      <th>14</th>\n",
       "      <td>1997-01-01</td>\n",
       "      <td>Fell</td>\n",
       "      <td>34284.933333</td>\n",
       "    </tr>\n",
       "    <tr>\n",
       "      <th>15</th>\n",
       "      <td>1997-01-01</td>\n",
       "      <td>Found</td>\n",
       "      <td>450.130419</td>\n",
       "    </tr>\n",
       "    <tr>\n",
       "      <th>16</th>\n",
       "      <td>1998-01-01</td>\n",
       "      <td>Fell</td>\n",
       "      <td>153396.677778</td>\n",
       "    </tr>\n",
       "    <tr>\n",
       "      <th>17</th>\n",
       "      <td>1998-01-01</td>\n",
       "      <td>Found</td>\n",
       "      <td>204.701481</td>\n",
       "    </tr>\n",
       "    <tr>\n",
       "      <th>18</th>\n",
       "      <td>1999-01-01</td>\n",
       "      <td>Fell</td>\n",
       "      <td>5345.057143</td>\n",
       "    </tr>\n",
       "    <tr>\n",
       "      <th>19</th>\n",
       "      <td>1999-01-01</td>\n",
       "      <td>Found</td>\n",
       "      <td>439.551518</td>\n",
       "    </tr>\n",
       "    <tr>\n",
       "      <th>20</th>\n",
       "      <td>2000-01-01</td>\n",
       "      <td>Fell</td>\n",
       "      <td>5444.333333</td>\n",
       "    </tr>\n",
       "    <tr>\n",
       "      <th>21</th>\n",
       "      <td>2000-01-01</td>\n",
       "      <td>Found</td>\n",
       "      <td>3102.472150</td>\n",
       "    </tr>\n",
       "    <tr>\n",
       "      <th>22</th>\n",
       "      <td>2001-01-01</td>\n",
       "      <td>Fell</td>\n",
       "      <td>9900.000000</td>\n",
       "    </tr>\n",
       "    <tr>\n",
       "      <th>23</th>\n",
       "      <td>2001-01-01</td>\n",
       "      <td>Found</td>\n",
       "      <td>1145.000331</td>\n",
       "    </tr>\n",
       "    <tr>\n",
       "      <th>24</th>\n",
       "      <td>2002-01-01</td>\n",
       "      <td>Fell</td>\n",
       "      <td>15332.000000</td>\n",
       "    </tr>\n",
       "    <tr>\n",
       "      <th>25</th>\n",
       "      <td>2002-01-01</td>\n",
       "      <td>Found</td>\n",
       "      <td>1121.862487</td>\n",
       "    </tr>\n",
       "    <tr>\n",
       "      <th>26</th>\n",
       "      <td>2003-01-01</td>\n",
       "      <td>Fell</td>\n",
       "      <td>9217.433333</td>\n",
       "    </tr>\n",
       "    <tr>\n",
       "      <th>27</th>\n",
       "      <td>2003-01-01</td>\n",
       "      <td>Found</td>\n",
       "      <td>569.529541</td>\n",
       "    </tr>\n",
       "    <tr>\n",
       "      <th>28</th>\n",
       "      <td>2004-01-01</td>\n",
       "      <td>Fell</td>\n",
       "      <td>5978.166667</td>\n",
       "    </tr>\n",
       "    <tr>\n",
       "      <th>29</th>\n",
       "      <td>2004-01-01</td>\n",
       "      <td>Found</td>\n",
       "      <td>2664.456096</td>\n",
       "    </tr>\n",
       "    <tr>\n",
       "      <th>30</th>\n",
       "      <td>2005-01-01</td>\n",
       "      <td>Found</td>\n",
       "      <td>2172.607052</td>\n",
       "    </tr>\n",
       "    <tr>\n",
       "      <th>31</th>\n",
       "      <td>2006-01-01</td>\n",
       "      <td>Fell</td>\n",
       "      <td>8844.600000</td>\n",
       "    </tr>\n",
       "    <tr>\n",
       "      <th>32</th>\n",
       "      <td>2006-01-01</td>\n",
       "      <td>Found</td>\n",
       "      <td>2254.657648</td>\n",
       "    </tr>\n",
       "    <tr>\n",
       "      <th>33</th>\n",
       "      <td>2007-01-01</td>\n",
       "      <td>Fell</td>\n",
       "      <td>21944.801250</td>\n",
       "    </tr>\n",
       "    <tr>\n",
       "      <th>34</th>\n",
       "      <td>2007-01-01</td>\n",
       "      <td>Found</td>\n",
       "      <td>455.864494</td>\n",
       "    </tr>\n",
       "    <tr>\n",
       "      <th>35</th>\n",
       "      <td>2008-01-01</td>\n",
       "      <td>Fell</td>\n",
       "      <td>30941.444444</td>\n",
       "    </tr>\n",
       "    <tr>\n",
       "      <th>36</th>\n",
       "      <td>2008-01-01</td>\n",
       "      <td>Found</td>\n",
       "      <td>1318.879697</td>\n",
       "    </tr>\n",
       "    <tr>\n",
       "      <th>37</th>\n",
       "      <td>2009-01-01</td>\n",
       "      <td>Fell</td>\n",
       "      <td>3109.310000</td>\n",
       "    </tr>\n",
       "    <tr>\n",
       "      <th>38</th>\n",
       "      <td>2009-01-01</td>\n",
       "      <td>Found</td>\n",
       "      <td>981.739115</td>\n",
       "    </tr>\n",
       "    <tr>\n",
       "      <th>39</th>\n",
       "      <td>2010-01-01</td>\n",
       "      <td>Fell</td>\n",
       "      <td>2056.373333</td>\n",
       "    </tr>\n",
       "    <tr>\n",
       "      <th>40</th>\n",
       "      <td>2010-01-01</td>\n",
       "      <td>Found</td>\n",
       "      <td>613.864229</td>\n",
       "    </tr>\n",
       "    <tr>\n",
       "      <th>41</th>\n",
       "      <td>2011-01-01</td>\n",
       "      <td>Fell</td>\n",
       "      <td>6466.250000</td>\n",
       "    </tr>\n",
       "    <tr>\n",
       "      <th>42</th>\n",
       "      <td>2011-01-01</td>\n",
       "      <td>Found</td>\n",
       "      <td>1107.750283</td>\n",
       "    </tr>\n",
       "    <tr>\n",
       "      <th>43</th>\n",
       "      <td>2012-01-01</td>\n",
       "      <td>Fell</td>\n",
       "      <td>1946.250000</td>\n",
       "    </tr>\n",
       "    <tr>\n",
       "      <th>44</th>\n",
       "      <td>2012-01-01</td>\n",
       "      <td>Found</td>\n",
       "      <td>970.307352</td>\n",
       "    </tr>\n",
       "  </tbody>\n",
       "</table>\n",
       "</div>"
      ],
      "text/plain": [
       "          year   fall           mass\n",
       "0   1990-01-01   Fell   44276.325000\n",
       "1   1990-01-01  Found     508.334716\n",
       "2   1991-01-01   Fell   27186.140000\n",
       "3   1991-01-01  Found     708.811344\n",
       "4   1992-01-01   Fell   56316.666667\n",
       "5   1992-01-01  Found    7191.786377\n",
       "6   1993-01-01   Fell   14866.500000\n",
       "7   1993-01-01  Found     100.885063\n",
       "8   1994-01-01   Fell   15751.500000\n",
       "9   1994-01-01  Found     837.276032\n",
       "10  1995-01-01   Fell   22923.333333\n",
       "11  1995-01-01  Found    2622.111298\n",
       "12  1996-01-01   Fell   11199.860000\n",
       "13  1996-01-01  Found     605.017684\n",
       "14  1997-01-01   Fell   34284.933333\n",
       "15  1997-01-01  Found     450.130419\n",
       "16  1998-01-01   Fell  153396.677778\n",
       "17  1998-01-01  Found     204.701481\n",
       "18  1999-01-01   Fell    5345.057143\n",
       "19  1999-01-01  Found     439.551518\n",
       "20  2000-01-01   Fell    5444.333333\n",
       "21  2000-01-01  Found    3102.472150\n",
       "22  2001-01-01   Fell    9900.000000\n",
       "23  2001-01-01  Found    1145.000331\n",
       "24  2002-01-01   Fell   15332.000000\n",
       "25  2002-01-01  Found    1121.862487\n",
       "26  2003-01-01   Fell    9217.433333\n",
       "27  2003-01-01  Found     569.529541\n",
       "28  2004-01-01   Fell    5978.166667\n",
       "29  2004-01-01  Found    2664.456096\n",
       "30  2005-01-01  Found    2172.607052\n",
       "31  2006-01-01   Fell    8844.600000\n",
       "32  2006-01-01  Found    2254.657648\n",
       "33  2007-01-01   Fell   21944.801250\n",
       "34  2007-01-01  Found     455.864494\n",
       "35  2008-01-01   Fell   30941.444444\n",
       "36  2008-01-01  Found    1318.879697\n",
       "37  2009-01-01   Fell    3109.310000\n",
       "38  2009-01-01  Found     981.739115\n",
       "39  2010-01-01   Fell    2056.373333\n",
       "40  2010-01-01  Found     613.864229\n",
       "41  2011-01-01   Fell    6466.250000\n",
       "42  2011-01-01  Found    1107.750283\n",
       "43  2012-01-01   Fell    1946.250000\n",
       "44  2012-01-01  Found     970.307352"
      ]
     },
     "execution_count": 51,
     "metadata": {},
     "output_type": "execute_result"
    }
   ],
   "source": [
    "mass = pd.read_csv('data/average_meteorite_mass.csv')\n",
    "mass"
   ]
  },
  {
   "cell_type": "code",
   "execution_count": null,
   "id": "6168be7d",
   "metadata": {},
   "outputs": [],
   "source": []
  }
 ],
 "metadata": {
  "kernelspec": {
   "display_name": "Python 3 (ipykernel)",
   "language": "python",
   "name": "python3"
  },
  "language_info": {
   "codemirror_mode": {
    "name": "ipython",
    "version": 3
   },
   "file_extension": ".py",
   "mimetype": "text/x-python",
   "name": "python",
   "nbconvert_exporter": "python",
   "pygments_lexer": "ipython3",
   "version": "3.7.11"
  }
 },
 "nbformat": 4,
 "nbformat_minor": 5
}
